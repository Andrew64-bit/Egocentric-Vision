{
 "cells": [
  {
   "cell_type": "code",
   "execution_count": 1,
   "metadata": {},
   "outputs": [],
   "source": [
    "import subprocess\n",
    "import os"
   ]
  },
  {
   "cell_type": "code",
   "execution_count": null,
   "metadata": {},
   "outputs": [],
   "source": [
    "from transformers import ViTConfig, ViTModel"
   ]
  },
  {
   "cell_type": "markdown",
   "metadata": {},
   "source": [
    "# Training MLP"
   ]
  },
  {
   "cell_type": "markdown",
   "metadata": {},
   "source": [
    "### Training"
   ]
  },
  {
   "cell_type": "code",
   "execution_count": null,
   "metadata": {},
   "outputs": [],
   "source": [
    "command = [\n",
    "    'python', 'train_final_classifier.py',\n",
    "    'model=MLP',\n",
    "    'name=final_classifierMLP',\n",
    "    'logname=I3D_10_dense_D1',\n",
    "    'action=train',\n",
    "    'features_file=./saved_features/saved_feat_I3D_10_dense_D1'\n",
    "]\n",
    "\n",
    "# Esegui il comando\n",
    "result = subprocess.run(command, capture_output=True, text=True)\n",
    "\n",
    "# Stampa l'output e l'errore\n",
    "print('Output:', result.stdout)\n",
    "print('Error:', result.stderr)\n",
    "\n",
    "# Verifica il codice di uscita\n",
    "if result.returncode != 0:\n",
    "    print(f'Command failed with return code {result.returncode}')"
   ]
  },
  {
   "cell_type": "markdown",
   "metadata": {},
   "source": [
    "### Evaluation"
   ]
  },
  {
   "cell_type": "code",
   "execution_count": null,
   "metadata": {},
   "outputs": [],
   "source": [
    "command = [\n",
    "    'python', 'eval_final_classifier.py',\n",
    "    'model=MLP',\n",
    "    'name=final_evaluationMLP',\n",
    "    'logname=I3D_10_dense_D1',\n",
    "    'action=test',\n",
    "    'features_file=./saved_features/saved_feat_I3D_10_dense_D1',\n",
    "    'epoch=50'\n",
    "]\n",
    "\n",
    "# Esegui il comando\n",
    "result = subprocess.run(command, capture_output=True, text=True)\n",
    "\n",
    "# Stampa l'output e l'errore\n",
    "print('Output:', result.stdout)\n",
    "print('Error:', result.stderr)\n",
    "\n",
    "# Verifica il codice di uscita\n",
    "if result.returncode != 0:\n",
    "    print(f'Command failed with return code {result.returncode}')"
   ]
  },
  {
   "cell_type": "markdown",
   "metadata": {},
   "source": [
    "# Training MLP with Dropout"
   ]
  },
  {
   "cell_type": "code",
   "execution_count": null,
   "metadata": {},
   "outputs": [],
   "source": [
    "command = [\n",
    "    'python', 'train_final_classifier.py',\n",
    "    'model=MLPWithDropout',\n",
    "    'name=final_classifierMLPDropout',\n",
    "    'logname=I3D_10_dense_D1',\n",
    "    'action=train',\n",
    "    'features_file=./saved_features/saved_feat_I3D_10_dense_D1'\n",
    "]\n",
    "\n",
    "# Esegui il comando\n",
    "result = subprocess.run(command, capture_output=True, text=True)\n",
    "\n",
    "# Stampa l'output e l'errore\n",
    "print('Output:', result.stdout)\n",
    "print('Error:', result.stderr)\n",
    "\n",
    "# Verifica il codice di uscita\n",
    "if result.returncode != 0:\n",
    "    print(f'Command failed with return code {result.returncode}')"
   ]
  },
  {
   "cell_type": "code",
   "execution_count": null,
   "metadata": {},
   "outputs": [],
   "source": [
    "command = [\n",
    "    'python', 'eval_final_classifier.py',\n",
    "    'model=MLPWithDropout',\n",
    "    'name=final_evaluationMLPDropout',\n",
    "    'logname=I3D_10_dense_D1',\n",
    "    'action=test',\n",
    "    'features_file=./saved_features/saved_feat_I3D_10_dense_D1',\n",
    "    'epoch=50'\n",
    "]\n",
    "\n",
    "# Esegui il comando\n",
    "result = subprocess.run(command, capture_output=True, text=True)\n",
    "\n",
    "# Stampa l'output e l'errore\n",
    "print('Output:', result.stdout)\n",
    "print('Error:', result.stderr)\n",
    "\n",
    "# Verifica il codice di uscita\n",
    "if result.returncode != 0:\n",
    "    print(f'Command failed with return code {result.returncode}')"
   ]
  },
  {
   "cell_type": "markdown",
   "metadata": {},
   "source": [
    "# Transformer\n"
   ]
  },
  {
   "cell_type": "code",
   "execution_count": null,
   "metadata": {},
   "outputs": [],
   "source": [
    "!pip3 install transformers"
   ]
  },
  {
   "cell_type": "code",
   "execution_count": null,
   "metadata": {},
   "outputs": [],
   "source": [
    "command = [\n",
    "    'python', 'train_final_classifier.py',\n",
    "    'model=TransformerClassifier',\n",
    "    'name=final_classifierTransformer',\n",
    "    'logname=I3D_10_dense_D1',\n",
    "    'action=train',\n",
    "    'features_file=./saved_features/saved_feat_I3D_10_dense_D1'\n",
    "]\n",
    "\n",
    "# Esegui il comando\n",
    "result = subprocess.run(command, capture_output=True, text=True)\n",
    "\n",
    "# Stampa l'output e l'errore\n",
    "print('Output:', result.stdout)\n",
    "print('Error:', result.stderr)\n",
    "\n",
    "# Verifica il codice di uscita\n",
    "if result.returncode != 0:\n",
    "    print(f'Command failed with return code {result.returncode}')"
   ]
  },
  {
   "cell_type": "code",
   "execution_count": null,
   "metadata": {},
   "outputs": [],
   "source": [
    "command = [\n",
    "    'python', 'eval_final_classifier.py',\n",
    "    'model=Transformer',\n",
    "    'name=final_evaluationTransformer',\n",
    "    'logname=I3D_10_dense_D1',\n",
    "    'action=test',\n",
    "    'features_file=./saved_features/saved_feat_I3D_10_dense_D1',\n",
    "    'epoch=50'\n",
    "]\n",
    "\n",
    "# Esegui il comando\n",
    "result = subprocess.run(command, capture_output=True, text=True)\n",
    "\n",
    "# Stampa l'output e l'errore\n",
    "print('Output:', result.stdout)\n",
    "print('Error:', result.stderr)\n",
    "\n",
    "# Verifica il codice di uscita\n",
    "if result.returncode != 0:\n",
    "    print(f'Command failed with return code {result.returncode}')"
   ]
  },
  {
   "cell_type": "markdown",
   "metadata": {},
   "source": [
    "## LSTM"
   ]
  },
  {
   "cell_type": "code",
   "execution_count": 3,
   "metadata": {},
   "outputs": [],
   "source": [
    "command = [\n",
    "    'python', 'train_final_classifier.py',\n",
    "    'model=LSTMClassifier',\n",
    "    'name=final_classifierLSTM',\n",
    "    'logname=I3D_10_dense_D1',\n",
    "    'action=train',\n",
    "    'features_file=./saved_features/saved_feat_I3D_10_dense_D1'\n",
    "]\n",
    "\n",
    "# Esegui il comando\n",
    "result = subprocess.run(command, capture_output=True, text=True)\n",
    "\n",
    "# Stampa l'output e l'errore\n",
    "print('Output:', result.stdout)\n",
    "print('Error:', result.stderr)\n",
    "\n",
    "# Verifica il codice di uscita\n",
    "if result.returncode != 0:\n",
    "    print(f'Command failed with return code {result.returncode}')"
   ]
  },
  {
   "cell_type": "code",
   "execution_count": 4,
   "metadata": {},
   "outputs": [
    {
     "name": "stdout",
     "output_type": "stream",
     "text": [
      "Output: \n",
      "Error: c:\\Users\\iplov\\miniconda3\\envs\\aml_ego\\Lib\\site-packages\\torch\\nn\\modules\\rnn.py:83: UserWarning: dropout option adds dropout after all but last recurrent layer, so non-zero dropout expects num_layers greater than 1, but got dropout=0.5 and num_layers=1\n",
      "  warnings.warn(\"dropout option adds dropout after all but last \"\n",
      "\u001b[32m2024-06-01 18:51:19\u001b[0m \u001b[34mLOG\u001b[0m \u001b[1;30mINFO\u001b[0m Model: LSTMClassifier(\n",
      "  (lstm): LSTM(1024, 128, batch_first=True, dropout=0.5)\n",
      "  (dropout): Dropout(p=0.5, inplace=False)\n",
      "  (fc): Linear(in_features=128, out_features=8, bias=True)\n",
      ")\n",
      "\u001b[32m2024-06-01 18:51:19\u001b[0m \u001b[34mLOG\u001b[0m \u001b[1;30mINFO\u001b[0m Test Dataset Size: 435\n",
      "\n",
      "  0%|          | 0/435 [00:00<?, ?it/s]\n",
      "  0%|          | 1/435 [00:47<5:43:56, 47.55s/it]\n",
      "  6%|▋         | 28/435 [00:47<08:10,  1.21s/it] \n",
      " 13%|█▎        | 58/435 [00:47<02:59,  2.10it/s]\n",
      " 20%|██        | 87/435 [00:47<01:30,  3.84it/s]\n",
      " 26%|██▌       | 114/435 [00:47<00:52,  6.11it/s]\n",
      " 33%|███▎      | 145/435 [00:48<00:29,  9.77it/s]\n",
      " 40%|███▉      | 173/435 [00:48<00:18, 14.34it/s]\n",
      " 46%|████▌     | 200/435 [00:48<00:11, 20.30it/s]\n",
      " 53%|█████▎    | 230/435 [00:48<00:06, 29.39it/s]\n",
      " 62%|██████▏   | 268/435 [00:48<00:03, 44.92it/s]\n",
      " 73%|███████▎  | 317/435 [00:48<00:01, 71.35it/s]\n",
      " 84%|████████▍ | 366/435 [00:48<00:00, 104.16it/s]\n",
      " 94%|█████████▍| 408/435 [00:48<00:00, 135.95it/s]\n",
      "100%|██████████| 435/435 [00:50<00:00,  8.62it/s] \n",
      "\u001b[32m2024-06-01 18:52:10\u001b[0m \u001b[34mLOG\u001b[0m \u001b[1;30mINFO\u001b[0m Test Loss: 1.8268858763941929, Test Accuracy: 0.5701149702072144\n",
      "\n"
     ]
    }
   ],
   "source": [
    "command = [\n",
    "    'python', 'eval_final_classifier.py',\n",
    "    'model=LSTMClassifier',\n",
    "    'name=final_evaluationLSTM',\n",
    "    'logname=I3D_10_dense_D1',\n",
    "    'action=test',\n",
    "    'features_file=./saved_features/saved_feat_I3D_10_dense_D1',\n",
    "    'epoch=30'\n",
    "]\n",
    "\n",
    "# Esegui il comando\n",
    "result = subprocess.run(command, capture_output=True, text=True)\n",
    "\n",
    "# Stampa l'output e l'errore\n",
    "print('Output:', result.stdout)\n",
    "print('Error:', result.stderr)\n",
    "\n",
    "# Verifica il codice di uscita\n",
    "if result.returncode != 0:\n",
    "    print(f'Command failed with return code {result.returncode}')"
   ]
  },
  {
   "cell_type": "markdown",
   "metadata": {},
   "source": [
    "# TRN "
   ]
  },
  {
   "cell_type": "code",
   "execution_count": 2,
   "metadata": {},
   "outputs": [],
   "source": [
    "command = [\n",
    "    'python', 'train_final_classifier.py',\n",
    "    'model=TRNClassifier',\n",
    "    'name=final_classifierTRN',\n",
    "    'logname=I3D_25_dense_D1',\n",
    "    'action=train',\n",
    "    'features_file=./saved_features/saved_feat_I3D_25_dense_D1'\n",
    "]\n",
    "\n",
    "# Esegui il comando\n",
    "result = subprocess.run(command, capture_output=True, text=True)\n",
    "\n",
    "# Stampa l'output e l'errore\n",
    "print('Output:', result.stdout)\n",
    "print('Error:', result.stderr)\n",
    "\n",
    "# Verifica il codice di uscita\n",
    "if result.returncode != 0:\n",
    "    print(f'Command failed with return code {result.returncode}')"
   ]
  },
  {
   "cell_type": "code",
   "execution_count": null,
   "metadata": {},
   "outputs": [],
   "source": [
    "command = [\n",
    "    'python', 'eval_final_classifier.py',\n",
    "    'model=TRNClassifier',\n",
    "    'name=final_evaluationTRN',\n",
    "    'logname=I3D_25_dense_D1',\n",
    "    'action=test',\n",
    "    'features_file=./saved_features/saved_feat_I3D_25_dense_D1',\n",
    "    'epoch=50'\n",
    "]\n",
    "\n",
    "# Esegui il comando\n",
    "result = subprocess.run(command, capture_output=True, text=True)\n",
    "\n",
    "# Stampa l'output e l'errore\n",
    "print('Output:', result.stdout)\n",
    "print('Error:', result.stderr)\n",
    "\n",
    "# Verifica il codice di uscita\n",
    "if result.returncode != 0:\n",
    "    print(f'Command failed with return code {result.returncode}')"
   ]
  }
 ],
 "metadata": {
  "kernelspec": {
   "display_name": "Python 3 (ipykernel)",
   "language": "python",
   "name": "python3"
  },
  "language_info": {
   "codemirror_mode": {
    "name": "ipython",
    "version": 3
   },
   "file_extension": ".py",
   "mimetype": "text/x-python",
   "name": "python",
   "nbconvert_exporter": "python",
   "pygments_lexer": "ipython3",
   "version": "3.11.9"
  }
 },
 "nbformat": 4,
 "nbformat_minor": 4
}
