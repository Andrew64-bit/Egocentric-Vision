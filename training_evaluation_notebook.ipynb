{
 "cells": [
  {
   "cell_type": "code",
   "execution_count": 11,
   "metadata": {},
   "outputs": [],
   "source": [
    "import subprocess\n",
    "import os"
   ]
  },
  {
   "cell_type": "code",
   "execution_count": null,
   "metadata": {},
   "outputs": [],
   "source": [
    "from transformers import ViTConfig, ViTModel"
   ]
  },
  {
   "cell_type": "markdown",
   "metadata": {},
   "source": [
    "# Training MLP"
   ]
  },
  {
   "cell_type": "markdown",
   "metadata": {},
   "source": [
    "### Training"
   ]
  },
  {
   "cell_type": "code",
   "execution_count": null,
   "metadata": {},
   "outputs": [],
   "source": [
    "command = [\n",
    "    'python', 'train_final_classifier.py',\n",
    "    'model=MLP',\n",
    "    'name=final_classifierMLP',\n",
    "    'logname=I3D_10_dense_D1',\n",
    "    'action=train',\n",
    "    'features_file=./saved_features/saved_feat_I3D_10_dense_D1'\n",
    "]\n",
    "\n",
    "# Esegui il comando\n",
    "result = subprocess.run(command, capture_output=True, text=True)\n",
    "\n",
    "# Stampa l'output e l'errore\n",
    "print('Output:', result.stdout)\n",
    "print('Error:', result.stderr)\n",
    "\n",
    "# Verifica il codice di uscita\n",
    "if result.returncode != 0:\n",
    "    print(f'Command failed with return code {result.returncode}')"
   ]
  },
  {
   "cell_type": "markdown",
   "metadata": {},
   "source": [
    "### Evaluation"
   ]
  },
  {
   "cell_type": "code",
   "execution_count": null,
   "metadata": {},
   "outputs": [],
   "source": [
    "command = [\n",
    "    'python', 'eval_final_classifier.py',\n",
    "    'model=MLP',\n",
    "    'name=final_evaluationMLP',\n",
    "    'logname=I3D_10_dense_D1',\n",
    "    'action=test',\n",
    "    'features_file=./saved_features/saved_feat_I3D_10_dense_D1'\n",
    "]\n",
    "\n",
    "# Esegui il comando\n",
    "result = subprocess.run(command, capture_output=True, text=True)\n",
    "\n",
    "# Stampa l'output e l'errore\n",
    "print('Output:', result.stdout)\n",
    "print('Error:', result.stderr)\n",
    "\n",
    "# Verifica il codice di uscita\n",
    "if result.returncode != 0:\n",
    "    print(f'Command failed with return code {result.returncode}')"
   ]
  },
  {
   "cell_type": "markdown",
   "metadata": {},
   "source": [
    "# Training MLP with Dropout"
   ]
  },
  {
   "cell_type": "code",
   "execution_count": null,
   "metadata": {},
   "outputs": [],
   "source": [
    "command = [\n",
    "    'python', 'train_final_classifier.py',\n",
    "    'model=MLPWithDropout',\n",
    "    'name=final_classifierMLPDropout',\n",
    "    'logname=I3D_10_dense_D1',\n",
    "    'action=train',\n",
    "    'features_file=./saved_features/saved_feat_I3D_10_dense_D1'\n",
    "]\n",
    "\n",
    "# Esegui il comando\n",
    "result = subprocess.run(command, capture_output=True, text=True)\n",
    "\n",
    "# Stampa l'output e l'errore\n",
    "print('Output:', result.stdout)\n",
    "print('Error:', result.stderr)\n",
    "\n",
    "# Verifica il codice di uscita\n",
    "if result.returncode != 0:\n",
    "    print(f'Command failed with return code {result.returncode}')"
   ]
  },
  {
   "cell_type": "code",
   "execution_count": null,
   "metadata": {},
   "outputs": [],
   "source": [
    "command = [\n",
    "    'python', 'eval_final_classifier.py',\n",
    "    'model=MLPWithDropout',\n",
    "    'name=final_evaluationMLPDropout',\n",
    "    'logname=I3D_10_dense_D1',\n",
    "    'action=test',\n",
    "    'features_file=./saved_features/saved_feat_I3D_10_dense_D1'\n",
    "]\n",
    "\n",
    "# Esegui il comando\n",
    "result = subprocess.run(command, capture_output=True, text=True)\n",
    "\n",
    "# Stampa l'output e l'errore\n",
    "print('Output:', result.stdout)\n",
    "print('Error:', result.stderr)\n",
    "\n",
    "# Verifica il codice di uscita\n",
    "if result.returncode != 0:\n",
    "    print(f'Command failed with return code {result.returncode}')"
   ]
  },
  {
   "cell_type": "markdown",
   "metadata": {},
   "source": [
    "# Transformer\n"
   ]
  },
  {
   "cell_type": "code",
   "execution_count": null,
   "metadata": {},
   "outputs": [],
   "source": [
    "!pip3 install transformers"
   ]
  },
  {
   "cell_type": "code",
   "execution_count": 33,
   "metadata": {},
   "outputs": [
    {
     "ename": "KeyboardInterrupt",
     "evalue": "",
     "output_type": "error",
     "traceback": [
      "\u001b[0;31m---------------------------------------------------------------------------\u001b[0m",
      "\u001b[0;31mKeyboardInterrupt\u001b[0m                         Traceback (most recent call last)",
      "Cell \u001b[0;32mIn[33], line 11\u001b[0m\n\u001b[1;32m      1\u001b[0m command \u001b[38;5;241m=\u001b[39m [\n\u001b[1;32m      2\u001b[0m     \u001b[38;5;124m'\u001b[39m\u001b[38;5;124mpython\u001b[39m\u001b[38;5;124m'\u001b[39m, \u001b[38;5;124m'\u001b[39m\u001b[38;5;124mtrain_final_classifier.py\u001b[39m\u001b[38;5;124m'\u001b[39m,\n\u001b[1;32m      3\u001b[0m     \u001b[38;5;124m'\u001b[39m\u001b[38;5;124mmodel=TransformerClassifier\u001b[39m\u001b[38;5;124m'\u001b[39m,\n\u001b[0;32m   (...)\u001b[0m\n\u001b[1;32m      7\u001b[0m     \u001b[38;5;124m'\u001b[39m\u001b[38;5;124mfeatures_file=./saved_features/saved_feat_I3D_25_dense_D1\u001b[39m\u001b[38;5;124m'\u001b[39m\n\u001b[1;32m      8\u001b[0m ]\n\u001b[1;32m     10\u001b[0m \u001b[38;5;66;03m# Esegui il comando\u001b[39;00m\n\u001b[0;32m---> 11\u001b[0m result \u001b[38;5;241m=\u001b[39m \u001b[43msubprocess\u001b[49m\u001b[38;5;241;43m.\u001b[39;49m\u001b[43mrun\u001b[49m\u001b[43m(\u001b[49m\u001b[43mcommand\u001b[49m\u001b[43m,\u001b[49m\u001b[43m \u001b[49m\u001b[43mcapture_output\u001b[49m\u001b[38;5;241;43m=\u001b[39;49m\u001b[38;5;28;43;01mTrue\u001b[39;49;00m\u001b[43m,\u001b[49m\u001b[43m \u001b[49m\u001b[43mtext\u001b[49m\u001b[38;5;241;43m=\u001b[39;49m\u001b[38;5;28;43;01mTrue\u001b[39;49;00m\u001b[43m)\u001b[49m\n\u001b[1;32m     13\u001b[0m \u001b[38;5;66;03m# Stampa l'output e l'errore\u001b[39;00m\n\u001b[1;32m     14\u001b[0m \u001b[38;5;28mprint\u001b[39m(\u001b[38;5;124m'\u001b[39m\u001b[38;5;124mOutput:\u001b[39m\u001b[38;5;124m'\u001b[39m, result\u001b[38;5;241m.\u001b[39mstdout)\n",
      "File \u001b[0;32m~/GithubProjects/Multimodal-Egocentric-Action-Recognition/env/lib/python3.8/subprocess.py:495\u001b[0m, in \u001b[0;36mrun\u001b[0;34m(input, capture_output, timeout, check, *popenargs, **kwargs)\u001b[0m\n\u001b[1;32m    493\u001b[0m \u001b[38;5;28;01mwith\u001b[39;00m Popen(\u001b[38;5;241m*\u001b[39mpopenargs, \u001b[38;5;241m*\u001b[39m\u001b[38;5;241m*\u001b[39mkwargs) \u001b[38;5;28;01mas\u001b[39;00m process:\n\u001b[1;32m    494\u001b[0m     \u001b[38;5;28;01mtry\u001b[39;00m:\n\u001b[0;32m--> 495\u001b[0m         stdout, stderr \u001b[38;5;241m=\u001b[39m \u001b[43mprocess\u001b[49m\u001b[38;5;241;43m.\u001b[39;49m\u001b[43mcommunicate\u001b[49m\u001b[43m(\u001b[49m\u001b[38;5;28;43minput\u001b[39;49m\u001b[43m,\u001b[49m\u001b[43m \u001b[49m\u001b[43mtimeout\u001b[49m\u001b[38;5;241;43m=\u001b[39;49m\u001b[43mtimeout\u001b[49m\u001b[43m)\u001b[49m\n\u001b[1;32m    496\u001b[0m     \u001b[38;5;28;01mexcept\u001b[39;00m TimeoutExpired \u001b[38;5;28;01mas\u001b[39;00m exc:\n\u001b[1;32m    497\u001b[0m         process\u001b[38;5;241m.\u001b[39mkill()\n",
      "File \u001b[0;32m~/GithubProjects/Multimodal-Egocentric-Action-Recognition/env/lib/python3.8/subprocess.py:1028\u001b[0m, in \u001b[0;36mPopen.communicate\u001b[0;34m(self, input, timeout)\u001b[0m\n\u001b[1;32m   1025\u001b[0m     endtime \u001b[38;5;241m=\u001b[39m \u001b[38;5;28;01mNone\u001b[39;00m\n\u001b[1;32m   1027\u001b[0m \u001b[38;5;28;01mtry\u001b[39;00m:\n\u001b[0;32m-> 1028\u001b[0m     stdout, stderr \u001b[38;5;241m=\u001b[39m \u001b[38;5;28;43mself\u001b[39;49m\u001b[38;5;241;43m.\u001b[39;49m\u001b[43m_communicate\u001b[49m\u001b[43m(\u001b[49m\u001b[38;5;28;43minput\u001b[39;49m\u001b[43m,\u001b[49m\u001b[43m \u001b[49m\u001b[43mendtime\u001b[49m\u001b[43m,\u001b[49m\u001b[43m \u001b[49m\u001b[43mtimeout\u001b[49m\u001b[43m)\u001b[49m\n\u001b[1;32m   1029\u001b[0m \u001b[38;5;28;01mexcept\u001b[39;00m \u001b[38;5;167;01mKeyboardInterrupt\u001b[39;00m:\n\u001b[1;32m   1030\u001b[0m     \u001b[38;5;66;03m# https://bugs.python.org/issue25942\u001b[39;00m\n\u001b[1;32m   1031\u001b[0m     \u001b[38;5;66;03m# See the detailed comment in .wait().\u001b[39;00m\n\u001b[1;32m   1032\u001b[0m     \u001b[38;5;28;01mif\u001b[39;00m timeout \u001b[38;5;129;01mis\u001b[39;00m \u001b[38;5;129;01mnot\u001b[39;00m \u001b[38;5;28;01mNone\u001b[39;00m:\n",
      "File \u001b[0;32m~/GithubProjects/Multimodal-Egocentric-Action-Recognition/env/lib/python3.8/subprocess.py:1884\u001b[0m, in \u001b[0;36mPopen._communicate\u001b[0;34m(self, input, endtime, orig_timeout)\u001b[0m\n\u001b[1;32m   1877\u001b[0m     \u001b[38;5;28mself\u001b[39m\u001b[38;5;241m.\u001b[39m_check_timeout(endtime, orig_timeout,\n\u001b[1;32m   1878\u001b[0m                         stdout, stderr,\n\u001b[1;32m   1879\u001b[0m                         skip_check_and_raise\u001b[38;5;241m=\u001b[39m\u001b[38;5;28;01mTrue\u001b[39;00m)\n\u001b[1;32m   1880\u001b[0m     \u001b[38;5;28;01mraise\u001b[39;00m \u001b[38;5;167;01mRuntimeError\u001b[39;00m(  \u001b[38;5;66;03m# Impossible :)\u001b[39;00m\n\u001b[1;32m   1881\u001b[0m         \u001b[38;5;124m'\u001b[39m\u001b[38;5;124m_check_timeout(..., skip_check_and_raise=True) \u001b[39m\u001b[38;5;124m'\u001b[39m\n\u001b[1;32m   1882\u001b[0m         \u001b[38;5;124m'\u001b[39m\u001b[38;5;124mfailed to raise TimeoutExpired.\u001b[39m\u001b[38;5;124m'\u001b[39m)\n\u001b[0;32m-> 1884\u001b[0m ready \u001b[38;5;241m=\u001b[39m \u001b[43mselector\u001b[49m\u001b[38;5;241;43m.\u001b[39;49m\u001b[43mselect\u001b[49m\u001b[43m(\u001b[49m\u001b[43mtimeout\u001b[49m\u001b[43m)\u001b[49m\n\u001b[1;32m   1885\u001b[0m \u001b[38;5;28mself\u001b[39m\u001b[38;5;241m.\u001b[39m_check_timeout(endtime, orig_timeout, stdout, stderr)\n\u001b[1;32m   1887\u001b[0m \u001b[38;5;66;03m# XXX Rewrite these to use non-blocking I/O on the file\u001b[39;00m\n\u001b[1;32m   1888\u001b[0m \u001b[38;5;66;03m# objects; they are no longer using C stdio!\u001b[39;00m\n",
      "File \u001b[0;32m~/GithubProjects/Multimodal-Egocentric-Action-Recognition/env/lib/python3.8/selectors.py:415\u001b[0m, in \u001b[0;36m_PollLikeSelector.select\u001b[0;34m(self, timeout)\u001b[0m\n\u001b[1;32m    413\u001b[0m ready \u001b[38;5;241m=\u001b[39m []\n\u001b[1;32m    414\u001b[0m \u001b[38;5;28;01mtry\u001b[39;00m:\n\u001b[0;32m--> 415\u001b[0m     fd_event_list \u001b[38;5;241m=\u001b[39m \u001b[38;5;28;43mself\u001b[39;49m\u001b[38;5;241;43m.\u001b[39;49m\u001b[43m_selector\u001b[49m\u001b[38;5;241;43m.\u001b[39;49m\u001b[43mpoll\u001b[49m\u001b[43m(\u001b[49m\u001b[43mtimeout\u001b[49m\u001b[43m)\u001b[49m\n\u001b[1;32m    416\u001b[0m \u001b[38;5;28;01mexcept\u001b[39;00m \u001b[38;5;167;01mInterruptedError\u001b[39;00m:\n\u001b[1;32m    417\u001b[0m     \u001b[38;5;28;01mreturn\u001b[39;00m ready\n",
      "\u001b[0;31mKeyboardInterrupt\u001b[0m: "
     ]
    }
   ],
   "source": [
    "command = [\n",
    "    'python', 'train_final_classifier.py',\n",
    "    'model=TransformerClassifier',\n",
    "    'name=final_classifierTransformer',\n",
    "    'logname=I3D_25_dense_D1',\n",
    "    'action=train',\n",
    "    'features_file=./saved_features/saved_feat_I3D_25_dense_D1'\n",
    "]\n",
    "\n",
    "# Esegui il comando\n",
    "result = subprocess.run(command, capture_output=True, text=True)\n",
    "\n",
    "# Stampa l'output e l'errore\n",
    "print('Output:', result.stdout)\n",
    "print('Error:', result.stderr)\n",
    "\n",
    "# Verifica il codice di uscita\n",
    "if result.returncode != 0:\n",
    "    print(f'Command failed with return code {result.returncode}')"
   ]
  },
  {
   "cell_type": "code",
   "execution_count": null,
   "metadata": {},
   "outputs": [],
   "source": [
    "command = [\n",
    "    'python', 'eval_final_classifier.py',\n",
    "    'model=Transformer',\n",
    "    'name=final_evaluationTransformer',\n",
    "    'logname=I3D_25_dense_D1',\n",
    "    'action=test',\n",
    "    'features_file=./saved_features/saved_feat_I3D_25_dense_D1'\n",
    "]\n",
    "\n",
    "# Esegui il comando\n",
    "result = subprocess.run(command, capture_output=True, text=True)\n",
    "\n",
    "# Stampa l'output e l'errore\n",
    "print('Output:', result.stdout)\n",
    "print('Error:', result.stderr)\n",
    "\n",
    "# Verifica il codice di uscita\n",
    "if result.returncode != 0:\n",
    "    print(f'Command failed with return code {result.returncode}')"
   ]
  },
  {
   "cell_type": "markdown",
   "metadata": {},
   "source": [
    "## LSTM"
   ]
  },
  {
   "cell_type": "code",
   "execution_count": 3,
   "metadata": {},
   "outputs": [],
   "source": [
    "command = [\n",
    "    'python', 'train_final_classifier.py',\n",
    "    'model=LSTMClassifier',\n",
    "    'name=final_classifierLSTM',\n",
    "    'logname=I3D_10_dense_D1',\n",
    "    'action=train',\n",
    "    'features_file=./saved_features/saved_feat_I3D_10_dense_D1'\n",
    "]\n",
    "\n",
    "# Esegui il comando\n",
    "result = subprocess.run(command, capture_output=True, text=True)\n",
    "\n",
    "# Stampa l'output e l'errore\n",
    "print('Output:', result.stdout)\n",
    "print('Error:', result.stderr)\n",
    "\n",
    "# Verifica il codice di uscita\n",
    "if result.returncode != 0:\n",
    "    print(f'Command failed with return code {result.returncode}')"
   ]
  },
  {
   "cell_type": "code",
   "execution_count": null,
   "metadata": {},
   "outputs": [],
   "source": [
    "command = [\n",
    "    'python', 'eval_final_classifier.py',\n",
    "    'model=LSTMClassifier',\n",
    "    'name=final_evaluationLSTM',\n",
    "    'logname=I3D_10_dense_D1',\n",
    "    'action=test',\n",
    "    'features_file=./saved_features/saved_feat_I3D_10_dense_D1'\n",
    "]\n",
    "\n",
    "# Esegui il comando\n",
    "result = subprocess.run(command, capture_output=True, text=True)\n",
    "\n",
    "# Stampa l'output e l'errore\n",
    "print('Output:', result.stdout)\n",
    "print('Error:', result.stderr)\n",
    "\n",
    "# Verifica il codice di uscita\n",
    "if result.returncode != 0:\n",
    "    print(f'Command failed with return code {result.returncode}')"
   ]
  },
  {
   "cell_type": "markdown",
   "metadata": {},
   "source": [
    "# Train Cross Modal Variational Auto Encoder (RGB to EMG)"
   ]
  },
  {
   "cell_type": "code",
   "execution_count": null,
   "metadata": {},
   "outputs": [],
   "source": [
    "command = [\n",
    "    'python', 'train_vae.py',\n",
    "    'name=CrossModal_VAE',\n",
    "    'logname=CrosModal_VAE_training',\n",
    "]\n",
    "\n",
    "# Esegui il comando\n",
    "result = subprocess.run(command, capture_output=True, text=True)\n",
    "\n",
    "# Stampa l'output e l'errore\n",
    "print('Output:', result.stdout)\n",
    "print('Error:', result.stderr)\n",
    "\n",
    "# Verifica il codice di uscita\n",
    "if result.returncode != 0:\n",
    "    print(f'Command failed with return code {result.returncode}')"
   ]
  }
 ],
 "metadata": {
  "kernelspec": {
   "display_name": "Python 3 (ipykernel)",
   "language": "python",
   "name": "python3"
  },
  "language_info": {
   "codemirror_mode": {
    "name": "ipython",
    "version": 3
   },
   "file_extension": ".py",
   "mimetype": "text/x-python",
   "name": "python",
   "nbconvert_exporter": "python",
   "pygments_lexer": "ipython3",
   "version": "3.11.9"
  }
 },
 "nbformat": 4,
 "nbformat_minor": 4
}
