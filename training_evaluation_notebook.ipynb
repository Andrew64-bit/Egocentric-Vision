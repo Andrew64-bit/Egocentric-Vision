{
 "cells": [
  {
   "cell_type": "code",
   "execution_count": null,
   "metadata": {},
   "outputs": [],
   "source": [
    "import subprocess\n",
    "import os"
   ]
  },
  {
   "cell_type": "markdown",
   "metadata": {},
   "source": [
    "# Training MLP"
   ]
  },
  {
   "cell_type": "markdown",
   "metadata": {},
   "source": [
    "### Training"
   ]
  },
  {
   "cell_type": "code",
   "execution_count": null,
   "metadata": {},
   "outputs": [],
   "source": [
    "command = [\n",
    "    'python', 'train_final_classifier.py',\n",
    "    'model=MLP',\n",
    "    'name=final_classifier',\n",
    "    'logname=I3D_10_dense_D1',\n",
    "    'action=train',\n",
    "]\n",
    "\n",
    "# Esegui il comando\n",
    "result = subprocess.run(command, capture_output=True, text=True)\n",
    "\n",
    "# Stampa l'output e l'errore\n",
    "print('Output:', result.stdout)\n",
    "print('Error:', result.stderr)\n",
    "\n",
    "# Verifica il codice di uscita\n",
    "if result.returncode != 0:\n",
    "    print(f'Command failed with return code {result.returncode}')"
   ]
  },
  {
   "cell_type": "markdown",
   "metadata": {},
   "source": [
    "### Evaluation"
   ]
  },
  {
   "cell_type": "code",
   "execution_count": null,
   "metadata": {},
   "outputs": [],
   "source": [
    "command = [\n",
    "    'python', 'train_final_classifier.py',\n",
    "    'model=MLP',\n",
    "    'name=final_evaluation',\n",
    "    'logname=I3D_10_dense_D1',\n",
    "    'action=test',\n",
    "]\n",
    "\n",
    "# Esegui il comando\n",
    "result = subprocess.run(command, capture_output=True, text=True)\n",
    "\n",
    "# Stampa l'output e l'errore\n",
    "print('Output:', result.stdout)\n",
    "print('Error:', result.stderr)\n",
    "\n",
    "# Verifica il codice di uscita\n",
    "if result.returncode != 0:\n",
    "    print(f'Command failed with return code {result.returncode}')"
   ]
  },
  {
   "cell_type": "markdown",
   "metadata": {},
   "source": [
    "# Training MLP with Dropout"
   ]
  },
  {
   "cell_type": "code",
   "execution_count": null,
   "metadata": {},
   "outputs": [],
   "source": [
    "command = [\n",
    "    'python', 'train_final_classifier.py',\n",
    "    'model=MLPWithDropout',\n",
    "    'name=final_classifier',\n",
    "    'logname=I3D_10_dense_D1',\n",
    "    'action=train',\n",
    "]\n",
    "\n",
    "# Esegui il comando\n",
    "result = subprocess.run(command, capture_output=True, text=True)\n",
    "\n",
    "# Stampa l'output e l'errore\n",
    "print('Output:', result.stdout)\n",
    "print('Error:', result.stderr)\n",
    "\n",
    "# Verifica il codice di uscita\n",
    "if result.returncode != 0:\n",
    "    print(f'Command failed with return code {result.returncode}')"
   ]
  },
  {
   "cell_type": "code",
   "execution_count": null,
   "metadata": {},
   "outputs": [],
   "source": [
    "command = [\n",
    "    'python', 'train_final_classifier.py',\n",
    "    'model=MLPWithDropout',\n",
    "    'name=final_evaluation',\n",
    "    'logname=I3D_10_dense_D1',\n",
    "    'action=test',\n",
    "]\n",
    "\n",
    "# Esegui il comando\n",
    "result = subprocess.run(command, capture_output=True, text=True)\n",
    "\n",
    "# Stampa l'output e l'errore\n",
    "print('Output:', result.stdout)\n",
    "print('Error:', result.stderr)\n",
    "\n",
    "# Verifica il codice di uscita\n",
    "if result.returncode != 0:\n",
    "    print(f'Command failed with return code {result.returncode}')"
   ]
  },
  {
   "cell_type": "markdown",
   "metadata": {},
   "source": [
    "# Transformer\n"
   ]
  },
  {
   "cell_type": "code",
   "execution_count": null,
   "metadata": {},
   "outputs": [],
   "source": [
    "command = [\n",
    "    'python', 'train_final_classifier.py',\n",
    "    'model=TransformerClassifier',\n",
    "    'name=final_classifier',\n",
    "    'logname=I3D_10_dense_D1',\n",
    "    'action=train',\n",
    "]\n",
    "\n",
    "# Esegui il comando\n",
    "result = subprocess.run(command, capture_output=True, text=True)\n",
    "\n",
    "# Stampa l'output e l'errore\n",
    "print('Output:', result.stdout)\n",
    "print('Error:', result.stderr)\n",
    "\n",
    "# Verifica il codice di uscita\n",
    "if result.returncode != 0:\n",
    "    print(f'Command failed with return code {result.returncode}')"
   ]
  },
  {
   "cell_type": "code",
   "execution_count": null,
   "metadata": {},
   "outputs": [],
   "source": [
    "command = [\n",
    "    'python', 'train_final_classifier.py',\n",
    "    'model=TransformerClassifier',\n",
    "    'name=final_evaluation',\n",
    "    'logname=I3D_10_dense_D1',\n",
    "    'action=test',\n",
    "]\n",
    "\n",
    "# Esegui il comando\n",
    "result = subprocess.run(command, capture_output=True, text=True)\n",
    "\n",
    "# Stampa l'output e l'errore\n",
    "print('Output:', result.stdout)\n",
    "print('Error:', result.stderr)\n",
    "\n",
    "# Verifica il codice di uscita\n",
    "if result.returncode != 0:\n",
    "    print(f'Command failed with return code {result.returncode}')"
   ]
  }
 ],
 "metadata": {
  "language_info": {
   "name": "python"
  }
 },
 "nbformat": 4,
 "nbformat_minor": 2
}
