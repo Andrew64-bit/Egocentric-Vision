{
 "cells": [
  {
   "cell_type": "markdown",
   "metadata": {},
   "source": [
    "## Features extraction"
   ]
  },
  {
   "cell_type": "code",
   "execution_count": null,
   "metadata": {},
   "outputs": [],
   "source": [
    "import numpy as np\n",
    "import pandas as pd\n",
    "import torch\n",
    "from sklearn.decomposition import PCA\n",
    "from sklearn.cluster import KMeans\n",
    "import matplotlib.pyplot as plt\n",
    "from sklearn.manifold import TSNE\n",
    "from matplotlib.colors import ListedColormap\n",
    "import plotly.express as px\n",
    "import subprocess\n",
    "import os"
   ]
  },
  {
   "cell_type": "code",
   "execution_count": null,
   "metadata": {},
   "outputs": [],
   "source": [
    "LABELS = [\n",
    "    \"get, take\",\n",
    "    \"place, place-on, place-back, put, put-back\",\n",
    "    \"open\",\n",
    "    \"close\",\n",
    "    \"clean, wipe-off, wipe, wash, rinse\",\n",
    "    \"cut, chop, slice\",\n",
    "    \"mix, mix-around, stir, whisk\",\n",
    "    \"pour\"\n",
    "]"
   ]
  },
  {
   "cell_type": "code",
   "execution_count": null,
   "metadata": {},
   "outputs": [],
   "source": [
    "if False:   \n",
    "\n",
    "    # Assicurati di essere nella directory corretta\n",
    "    os.chdir(\"C:/Users/iplov/Desktop/Advanced ML/Progetto/github andrew/Egocentric-Vision\")\n",
    "    # Comando da eseguire\n",
    "    command = [\n",
    "        'python', 'save_feat.py',\n",
    "        'config=configs/I3D_save_feat.yaml',\n",
    "        'dataset.shift=D1-D1',\n",
    "        'dataset.RGB.data_path=D:/ek_data/frames',\n",
    "        'save.dense_sampling.RGB=true',\n",
    "        'save.num_frames_per_clip.RGB=5',\n",
    "        'name=saved_feat_I3D_5_Dense'\n",
    "    ]\n",
    "\n",
    "    # Esegui il comando\n",
    "    result = subprocess.run(command, capture_output=True, text=True)\n",
    "\n",
    "    # Stampa l'output e l'errore\n",
    "    print('Output:', result.stdout)\n",
    "    #print('Error:', result.stderr)\n",
    "\n",
    "    # Verifica il codice di uscita\n",
    "    if result.returncode != 0:\n",
    "        print(f'Command failed with return code {result.returncode}')"
   ]
  },
  {
   "cell_type": "code",
   "execution_count": null,
   "metadata": {},
   "outputs": [],
   "source": [
    "# Assicurati di essere nella directory corretta\n",
    "os.chdir(\"C:/Users/iplov/Desktop/Advanced ML/Progetto/github andrew/Egocentric-Vision\")\n",
    "num_frames_list = [5,10,25]\n",
    "#DENSE\n",
    "if False:\n",
    "    for n in num_frames_list:\n",
    "        # Comando da eseguire\n",
    "        command = [\n",
    "            'python', 'save_feat.py',\n",
    "            'config=configs/I3D_save_feat.yaml',\n",
    "            'dataset.shift=D1-D1',\n",
    "            'dataset.RGB.data_path=D:/ek_data/frames',\n",
    "            'save.dense_sampling.RGB=true',\n",
    "            f'save.num_frames_per_clip.RGB={n}',\n",
    "            f'name=saved_feat_I3D_{n}_dense'\n",
    "        ]\n",
    "\n",
    "        # Esegui il comando\n",
    "        result = subprocess.run(command, capture_output=True, text=True)\n",
    "\n",
    "        # Stampa l'output e l'errore\n",
    "        print('Output:', result.stdout)\n",
    "        #print('Error:', result.stderr)\n",
    "\n",
    "        # Verifica il codice di uscita\n",
    "        if result.returncode != 0:\n",
    "            print(f'Command failed with return code {result.returncode}')\n",
    "\n",
    "    #UNIFORM\n",
    "    for n in num_frames_list:\n",
    "        print(f\"UNIFORM n = {n}\")\n",
    "        # Comando da eseguire\n",
    "        command = [\n",
    "            'python', 'save_feat.py',\n",
    "            'config=configs/I3D_save_feat.yaml',\n",
    "            'dataset.shift=D1-D1',\n",
    "            'dataset.RGB.data_path=D:/ek_data/frames',\n",
    "            'save.dense_sampling.RGB=false',\n",
    "            f'save.num_frames_per_clip.RGB={n}',\n",
    "            f'name=saved_feat_I3D_{n}_uniform'\n",
    "        ]\n",
    "\n",
    "        # Esegui il comando\n",
    "        result = subprocess.run(command, capture_output=True, text=True)\n",
    "\n",
    "        # Stampa l'output e l'errore\n",
    "        print('Output:', result.stdout)\n",
    "        #print('Error:', result.stderr)\n",
    "\n",
    "        # Verifica il codice di uscita\n",
    "        if result.returncode != 0:\n",
    "            print(f'Command failed with return code {result.returncode}')"
   ]
  },
  {
   "cell_type": "markdown",
   "metadata": {},
   "source": [
    "## Read extracted feature"
   ]
  },
  {
   "cell_type": "code",
   "execution_count": null,
   "metadata": {},
   "outputs": [],
   "source": [
    "features = pd.read_pickle(\"./saved_features/saved_feat_I3D_10_dense_D1_test.pkl\")\n",
    "#print(features['features'][0])\n",
    "print(len(features['features']))\n",
    "#print(features['features'][0]['features_RGB'])\n",
    "#print(features['features'][0]['label'])\n",
    "print(features['features'][0].keys())\n",
    "list_of_features = [np.mean(np.array(feature['features_RGB']),axis=0) for feature in features[\"features\"]]\n",
    "clips_feature = list_of_features\n",
    "labels = [feature['label'] for feature in features[\"features\"]]\n",
    "labels_extended = [label for label in labels for _ in range(5)]\n",
    "print(labels_extended[0:20])\n",
    "list_of_features = [np.array(f) for feature in features[\"features\"] for f in feature['features_RGB']]"
   ]
  },
  {
   "cell_type": "markdown",
   "metadata": {},
   "source": [
    "# K-Means"
   ]
  },
  {
   "cell_type": "code",
   "execution_count": null,
   "metadata": {},
   "outputs": [],
   "source": [
    "clips_feature_tensor = np.array(clips_feature)\n",
    "\n",
    "print(clips_feature_tensor.shape)"
   ]
  },
  {
   "cell_type": "markdown",
   "metadata": {},
   "source": [
    "## plot using TSNE 2D"
   ]
  },
  {
   "cell_type": "code",
   "execution_count": null,
   "metadata": {},
   "outputs": [],
   "source": [
    "#plot k-means labels\n",
    "kmeans = KMeans(n_clusters=8, random_state=0, n_init=\"auto\").fit(clips_feature_tensor)\n",
    "cmap = ListedColormap(['blue', 'orange', 'green', 'red', 'purple', 'gray', 'black', 'olive'])\n",
    "\n",
    "y_kmeans = kmeans.predict(clips_feature_tensor)\n",
    "\n",
    "tsne = TSNE(n_components=2, random_state=42)\n",
    "# Addestrare il modello e trasformare i dati\n",
    "X = tsne.fit_transform(clips_feature_tensor)\n",
    "# scatter plot of X values\n",
    "plt.figure(1)\n",
    "plt.scatter(X[:, 0], X[:, 1], c=y_kmeans,cmap=cmap, s=50)\n",
    "\n",
    "plt.show()\n",
    "\n",
    "\n",
    "#plot real labels\n",
    "cmap = ListedColormap(['gray', 'orange', 'black', 'red', 'green', 'olive', 'purple', 'blue'])\n",
    "legend_handles = [plt.Line2D([0], [0], marker='o', color='w', markerfacecolor=cmap(i),  markersize=10, label=desc) \n",
    "                for i, desc in enumerate(LABELS)]\n",
    "plt.figure(2)\n",
    "\n",
    "# scatter plot of X values\n",
    "plt.scatter(X[:, 0], X[:, 1], c=labels, cmap=cmap, s=50)\n",
    "# Add the legend\n",
    "plt.legend(handles=legend_handles, loc='upper left', bbox_to_anchor=(1, 1))\n",
    "\n",
    "\n",
    "plt.show()\n"
   ]
  },
  {
   "cell_type": "markdown",
   "metadata": {},
   "source": [
    "## plot using TSNE 3D"
   ]
  },
  {
   "cell_type": "code",
   "execution_count": null,
   "metadata": {},
   "outputs": [],
   "source": [
    "kmeans = KMeans(n_clusters=8, random_state=0, n_init=\"auto\").fit(clips_feature_tensor)\n",
    "cmap = ['blue', 'orange', 'green', 'red', 'purple', 'gray', 'black', 'olive']\n",
    "kmeans_color_map = {f\"{i}\": color for i, color in enumerate(cmap)}\n",
    "\n",
    "y_kmeans = kmeans.predict(clips_feature_tensor)\n",
    "\n",
    "tsne = TSNE(n_components=3, random_state=42)\n",
    "# Addestrare il modello e trasformare i dati\n",
    "X = tsne.fit_transform(clips_feature_tensor)\n",
    "# scatter plot of X values\n",
    "df = pd.DataFrame(X, columns=['x', 'y', 'z'])\n",
    "df['kmeans'] = y_kmeans.astype(str)\n",
    "df['labels'] = np.array(labels).astype(str)\n",
    "\n",
    "\n",
    "#plot label k_means\n",
    "fig = px.scatter_3d(df, x='x', y='y', z='z', color=\"kmeans\", color_discrete_map=kmeans_color_map, title=\"plot using k_means label\")\n",
    "fig.update_traces(marker_size=4)\n",
    "fig.show()\n",
    "\n",
    "cmap = ['blue', 'orange', 'black', 'red', 'green', 'gray', 'purple', 'olive']\n",
    "kmeans_color_map = {f\"{i}\": color for i, color in enumerate(cmap)}\n",
    "custom_legend = {f\"{i}\": label_name for i, label_name in enumerate(LABELS)}\n",
    "#plot real label\n",
    "fig = px.scatter_3d(df, x='x', y='y', z='z', color=\"labels\", color_discrete_map=kmeans_color_map, title=\"plot using real label\",labels=custom_legend)\n",
    "fig.update_traces(marker_size=4)\n",
    "fig.show()"
   ]
  },
  {
   "cell_type": "markdown",
   "metadata": {},
   "source": [
    "## TRAINING"
   ]
  },
  {
   "cell_type": "code",
   "execution_count": null,
   "metadata": {},
   "outputs": [],
   "source": [
    "\n",
    "command = [\n",
    "    'python', 'train_finalClassifier.py',\n",
    "    'name=final_classifier',\n",
    "    'logname=I3D_10_dense_D1',\n",
    "    'action=train',\n",
    "]\n",
    "\n",
    "# Esegui il comando\n",
    "result = subprocess.run(command, capture_output=True, text=True)\n",
    "\n",
    "# Stampa l'output e l'errore\n",
    "print('Output:', result.stdout)\n",
    "print('Error:', result.stderr)\n",
    "\n",
    "# Verifica il codice di uscita\n",
    "if result.returncode != 0:\n",
    "    print(f'Command failed with return code {result.returncode}')"
   ]
  }
 ],
 "metadata": {
  "kernelspec": {
   "display_name": "aml_ego",
   "language": "python",
   "name": "python3"
  },
  "language_info": {
   "codemirror_mode": {
    "name": "ipython",
    "version": 3
   },
   "file_extension": ".py",
   "mimetype": "text/x-python",
   "name": "python",
   "nbconvert_exporter": "python",
   "pygments_lexer": "ipython3",
   "version": "3.11.9"
  }
 },
 "nbformat": 4,
 "nbformat_minor": 4
}
