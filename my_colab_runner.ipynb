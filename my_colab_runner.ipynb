{
 "cells": [
  {
   "cell_type": "markdown",
   "metadata": {},
   "source": [
    "## Features extraction"
   ]
  },
  {
   "cell_type": "code",
   "execution_count": 2,
   "metadata": {},
   "outputs": [
    {
     "name": "stderr",
     "output_type": "stream",
     "text": [
      "c:\\Users\\iplov\\miniconda3\\envs\\aml_ego\\Lib\\site-packages\\tqdm\\auto.py:21: TqdmWarning: IProgress not found. Please update jupyter and ipywidgets. See https://ipywidgets.readthedocs.io/en/stable/user_install.html\n",
      "  from .autonotebook import tqdm as notebook_tqdm\n"
     ]
    }
   ],
   "source": [
    "import numpy as np\n",
    "import pandas as pd\n",
    "import torch\n",
    "from sklearn.decomposition import PCA\n",
    "from sklearn.cluster import KMeans\n",
    "from sklearn.cluster import DBSCAN\n",
    "import matplotlib.pyplot as plt\n",
    "from sklearn.manifold import TSNE\n",
    "from matplotlib.colors import ListedColormap\n",
    "import plotly.express as px\n",
    "import plotly.graph_objs as go\n",
    "import subprocess\n",
    "import os\n",
    "from umap.umap_ import UMAP\n"
   ]
  },
  {
   "cell_type": "code",
   "execution_count": 2,
   "metadata": {},
   "outputs": [],
   "source": [
    "LABELS = [\n",
    "    \"get, take\",\n",
    "    \"place, place-on, place-back, put, put-back\",\n",
    "    \"open\",\n",
    "    \"close\",\n",
    "    \"clean, wipe-off, wipe, wash, rinse\",\n",
    "    \"cut, chop, slice\",\n",
    "    \"mix, mix-around, stir, whisk\",\n",
    "    \"pour\"\n",
    "]"
   ]
  },
  {
   "cell_type": "code",
   "execution_count": 7,
   "metadata": {},
   "outputs": [],
   "source": [
    "if False:   \n",
    "\n",
    "    # Assicurati di essere nella directory corretta\n",
    "    os.chdir(\"C:/Users/iplov/Desktop/Advanced ML/Progetto/github andrew/Egocentric-Vision\")\n",
    "    # Comando da eseguire\n",
    "    command = [\n",
    "        'python', 'save_feat.py',\n",
    "        'config=configs/I3D_save_feat.yaml',\n",
    "        'dataset.shift=D1-D1',\n",
    "        'dataset.RGB.data_path=D:/ek_data/frames',\n",
    "        'save.dense_sampling.RGB=true',\n",
    "        'save.num_frames_per_clip.RGB=5',\n",
    "        'name=saved_feat_I3D_5_Dense'\n",
    "    ]\n",
    "\n",
    "    # Esegui il comando\n",
    "    result = subprocess.run(command, capture_output=True, text=True)\n",
    "\n",
    "    # Stampa l'output e l'errore\n",
    "    print('Output:', result.stdout)\n",
    "    #print('Error:', result.stderr)\n",
    "\n",
    "    # Verifica il codice di uscita\n",
    "    if result.returncode != 0:\n",
    "        print(f'Command failed with return code {result.returncode}')"
   ]
  },
  {
   "cell_type": "code",
   "execution_count": 8,
   "metadata": {},
   "outputs": [],
   "source": [
    "# Assicurati di essere nella directory corretta\n",
    "os.chdir(\"C:/Users/iplov/Desktop/Advanced ML/Progetto/github andrew/Egocentric-Vision\")\n",
    "num_frames_list = [5,10,25]\n",
    "#DENSE\n",
    "if False:\n",
    "    for n in num_frames_list:\n",
    "        # Comando da eseguire\n",
    "        command = [\n",
    "            'python', 'save_feat.py',\n",
    "            'config=configs/I3D_save_feat.yaml',\n",
    "            'dataset.shift=D1-D1',\n",
    "            'dataset.RGB.data_path=D:/ek_data/frames',\n",
    "            'save.dense_sampling.RGB=true',\n",
    "            f'save.num_frames_per_clip.RGB={n}',\n",
    "            f'name=saved_feat_I3D_{n}_dense'\n",
    "        ]\n",
    "\n",
    "        # Esegui il comando\n",
    "        result = subprocess.run(command, capture_output=True, text=True)\n",
    "\n",
    "        # Stampa l'output e l'errore\n",
    "        print('Output:', result.stdout)\n",
    "        #print('Error:', result.stderr)\n",
    "\n",
    "        # Verifica il codice di uscita\n",
    "        if result.returncode != 0:\n",
    "            print(f'Command failed with return code {result.returncode}')\n",
    "\n",
    "    #UNIFORM\n",
    "    for n in num_frames_list:\n",
    "        print(f\"UNIFORM n = {n}\")\n",
    "        # Comando da eseguire\n",
    "        command = [\n",
    "            'python', 'save_feat.py',\n",
    "            'config=configs/I3D_save_feat.yaml',\n",
    "            'dataset.shift=D1-D1',\n",
    "            'dataset.RGB.data_path=D:/ek_data/frames',\n",
    "            'save.dense_sampling.RGB=false',\n",
    "            f'save.num_frames_per_clip.RGB={n}',\n",
    "            f'name=saved_feat_I3D_{n}_uniform'\n",
    "        ]\n",
    "\n",
    "        # Esegui il comando\n",
    "        result = subprocess.run(command, capture_output=True, text=True)\n",
    "\n",
    "        # Stampa l'output e l'errore\n",
    "        print('Output:', result.stdout)\n",
    "        #print('Error:', result.stderr)\n",
    "\n",
    "        # Verifica il codice di uscita\n",
    "        if result.returncode != 0:\n",
    "            print(f'Command failed with return code {result.returncode}')"
   ]
  },
  {
   "cell_type": "markdown",
   "metadata": {},
   "source": [
    "### Extract train feature"
   ]
  },
  {
   "cell_type": "code",
   "execution_count": 1,
   "metadata": {},
   "outputs": [
    {
     "ename": "NameError",
     "evalue": "name 'os' is not defined",
     "output_type": "error",
     "traceback": [
      "\u001b[1;31m---------------------------------------------------------------------------\u001b[0m",
      "\u001b[1;31mNameError\u001b[0m                                 Traceback (most recent call last)",
      "Cell \u001b[1;32mIn[1], line 2\u001b[0m\n\u001b[0;32m      1\u001b[0m \u001b[38;5;66;03m# Assicurati di essere nella directory corretta\u001b[39;00m\n\u001b[1;32m----> 2\u001b[0m \u001b[43mos\u001b[49m\u001b[38;5;241m.\u001b[39mchdir(\u001b[38;5;124m\"\u001b[39m\u001b[38;5;124mC:/Users/iplov/Desktop/Advanced ML/Progetto/github andrew/Egocentric-Vision\u001b[39m\u001b[38;5;124m\"\u001b[39m)\n\u001b[0;32m      3\u001b[0m num_frames_list \u001b[38;5;241m=\u001b[39m [\u001b[38;5;241m5\u001b[39m,\u001b[38;5;241m10\u001b[39m,\u001b[38;5;241m25\u001b[39m]\n\u001b[0;32m      4\u001b[0m \u001b[38;5;66;03m#DENSE\u001b[39;00m\n",
      "\u001b[1;31mNameError\u001b[0m: name 'os' is not defined"
     ]
    }
   ],
   "source": [
    "# Assicurati di essere nella directory corretta\n",
    "os.chdir(\"C:/Users/iplov/Desktop/Advanced ML/Progetto/github andrew/Egocentric-Vision\")\n",
    "num_frames_list = [5,10,25]\n",
    "#DENSE\n",
    "if True:\n",
    "    for n in num_frames_list:\n",
    "        print(f\"DENSE n = {n}\")\n",
    "        # Comando da eseguire\n",
    "        command = [\n",
    "            'python', 'save_feat.py',\n",
    "            'config=configs/I3D_save_feat.yaml',\n",
    "            'dataset.shift=D1-D1',\n",
    "            'dataset.RGB.data_path=D:/ek_data/frames',\n",
    "            'save.dense_sampling.RGB=true',\n",
    "            f'save.num_frames_per_clip.RGB={n}',\n",
    "            f'name=saved_feat_I3D_{n}_dense',\n",
    "            'split=train'\n",
    "        ]\n",
    "\n",
    "        # Esegui il comando\n",
    "        result = subprocess.run(command, capture_output=True, text=True)\n",
    "\n",
    "        # Stampa l'output e l'errore\n",
    "        print('Output:', result.stdout)\n",
    "        print('Error:', result.stderr)\n",
    "\n",
    "        # Verifica il codice di uscita\n",
    "        if result.returncode != 0:\n",
    "            print(f'Command failed with return code {result.returncode}')\n",
    "\n",
    "        print(f\"UNIFORM n = {n}\")\n",
    "        # Comando da eseguire\n",
    "        command = [\n",
    "            'python', 'save_feat.py',\n",
    "            'config=configs/I3D_save_feat.yaml',\n",
    "            'dataset.shift=D1-D1',\n",
    "            'dataset.RGB.data_path=D:/ek_data/frames',\n",
    "            'save.dense_sampling.RGB=false',\n",
    "            f'save.num_frames_per_clip.RGB={n}',\n",
    "            f'name=saved_feat_I3D_{n}_uniform',\n",
    "            'split=train'\n",
    "        ]\n",
    "\n",
    "        # Esegui il comando\n",
    "        result = subprocess.run(command, capture_output=True, text=True)\n",
    "\n",
    "        # Stampa l'output e l'errore\n",
    "        print('Output:', result.stdout)\n",
    "        print('Error:', result.stderr)\n",
    "\n",
    "        # Verifica il codice di uscita\n",
    "        if result.returncode != 0:\n",
    "            print(f'Command failed with return code {result.returncode}')\n",
    "\n",
    "        "
   ]
  },
  {
   "cell_type": "markdown",
   "metadata": {},
   "source": [
    "## Read extracted feature"
   ]
  },
  {
   "cell_type": "code",
   "execution_count": 9,
   "metadata": {},
   "outputs": [
    {
     "name": "stdout",
     "output_type": "stream",
     "text": [
      "435\n",
      "dict_keys(['uid', 'video_name', 'features_RGB', 'label'])\n",
      "[0, 0, 0, 0, 0, 4, 4, 4, 4, 4, 7, 7, 7, 7, 7, 0, 0, 0, 0, 0]\n"
     ]
    }
   ],
   "source": [
    "features = pd.read_pickle(\"./saved_features/saved_feat_I3D_10_dense_D1_test.pkl\")\n",
    "#print(features['features'][0])\n",
    "print(len(features['features']))\n",
    "#print(features['features'][0]['features_RGB'])\n",
    "#print(features['features'][0]['label'])\n",
    "print(features['features'][0].keys())\n",
    "list_of_features = [np.mean(np.array(feature['features_RGB']),axis=0) for feature in features[\"features\"]]\n",
    "clips_feature = list_of_features\n",
    "labels = [feature['label'] for feature in features[\"features\"]]\n",
    "labels_extended = [label for label in labels for _ in range(5)]\n",
    "print(labels_extended[0:20])\n",
    "list_of_features = [np.array(f) for feature in features[\"features\"] for f in feature['features_RGB']]"
   ]
  },
  {
   "cell_type": "markdown",
   "metadata": {},
   "source": [
    "# K-Means"
   ]
  },
  {
   "cell_type": "code",
   "execution_count": 10,
   "metadata": {},
   "outputs": [
    {
     "name": "stdout",
     "output_type": "stream",
     "text": [
      "(435, 1024)\n"
     ]
    }
   ],
   "source": [
    "clips_feature_tensor = np.array(clips_feature)\n",
    "\n",
    "print(clips_feature_tensor.shape)"
   ]
  },
  {
   "cell_type": "markdown",
   "metadata": {},
   "source": [
    "## plot using TSNE 2D"
   ]
  },
  {
   "cell_type": "code",
   "execution_count": 11,
   "metadata": {},
   "outputs": [
    {
     "data": {
      "image/png": "[encoded data removed]",
      "text/plain": [
       "<Figure size 640x480 with 1 Axes>"
      ]
     },
     "metadata": {},
     "output_type": "display_data"
    },
    {
     "data": {
      "image/png": "[encoded data removed]",
      "text/plain": [
       "<Figure size 640x480 with 1 Axes>"
      ]
     },
     "metadata": {},
     "output_type": "display_data"
    }
   ],
   "source": [
    "#plot k-means labels\n",
    "kmeans = KMeans(n_clusters=8, random_state=0, n_init=\"auto\").fit(clips_feature_tensor)\n",
    "cmap = ListedColormap(['blue', 'orange', 'green', 'red', 'purple', 'gray', 'black', 'olive'])\n",
    "\n",
    "y_kmeans = kmeans.predict(clips_feature_tensor)\n",
    "\n",
    "tsne = TSNE(n_components=2, random_state=42)\n",
    "# Addestrare il modello e trasformare i dati\n",
    "X = tsne.fit_transform(clips_feature_tensor)\n",
    "# scatter plot of X values\n",
    "plt.figure(1)\n",
    "plt.scatter(X[:, 0], X[:, 1], c=y_kmeans,cmap=cmap, s=50)\n",
    "\n",
    "plt.show()\n",
    "\n",
    "#plot real labels\n",
    "cmap = ListedColormap(['gray', 'orange', 'black', 'red', 'green', 'olive', 'purple', 'blue'])\n",
    "legend_handles = [plt.Line2D([0], [0], marker='o', color='w', markerfacecolor=cmap(i),  markersize=10, label=desc) \n",
    "                for i, desc in enumerate(LABELS)]\n",
    "plt.figure(2)\n",
    "\n",
    "# scatter plot of X values\n",
    "plt.scatter(X[:, 0], X[:, 1], c=labels, cmap=cmap, s=50)\n",
    "# Add the legend\n",
    "plt.legend(handles=legend_handles, loc='upper left', bbox_to_anchor=(1, 1))\n",
    "\n",
    "\n",
    "plt.show()\n"
   ]
  },
  {
   "cell_type": "markdown",
   "metadata": {},
   "source": [
    "## plot using TSNE 3D"
   ]
  },
  {
   "cell_type": "code",
   "execution_count": 12,
   "metadata": {},
   "outputs": [
    {
     "data": {
      "application/vnd.plotly.v1+json": {
       "config": {
        "plotlyServerURL": "https://plot.ly"
       },
       "data": [
        {
         "hovertemplate": "kmeans=6<br>x=%{x}<br>y=%{y}<br>z=%{z}<extra></extra>",
         "legendgroup": "6",
         "marker": {
          "color": "black",
          "size": 4,
          "symbol": "circle"
         },
         "mode": "markers",
         "name": "6",
         "scene": "scene",
         "showlegend": true,
         "type": "scatter3d",
         "x": [
          6.273812294006348,
          27.5432186126709,
          21.94040870666504,
          10.469204902648926,
          23.328601837158203,
          35.10051727294922,
          16.06053352355957,
          -6.646435260772705,
          12.886306762695312,
          -1.244850993156433,
          28.878496170043945,
          12.507477760314941,
          -8.15756607055664,
          30.67903709411621,
          -14.093944549560547,
          4.380995750427246,
          4.748697757720947,
          32.154701232910156,
          -7.282603740692139,
          -5.706023216247559,
          7.8552374839782715,
          5.49275016784668,
          7.018773078918457,
          3.761570930480957,
          21.28483009338379,
          11.872722625732422,
          14.126524925231934,
          15.229511260986328,
          37.55720520019531,
          0.8853950500488281,
          17.142925262451172,
          -25.103988647460938,
          14.50248908996582,
          14.269145011901855,
          4.912926197052002,
          -3.0404562950134277,
          -1.5463634729385376,
          2.42818021774292,
          9.619892120361328,
          1.7393741607666016,
          27.235641479492188,
          25.416776657104492,
          25.19070053100586,
          34.38771057128906,
          19.544191360473633,
          17.596874237060547,
          26.624177932739258,
          5.851772785186768,
          21.452953338623047,
          7.352959156036377,
          27.22174835205078,
          18.366504669189453,
          23.876218795776367,
          34.09538650512695,
          24.77787208557129,
          4.5902323722839355,
          -13.666364669799805,
          16.45770835876465,
          16.54717254638672,
          9.978263854980469,
          12.395914077758789,
          7.277923583984375,
          25.913541793823242,
          25.69603729248047,
          26.615646362304688,
          21.18280029296875,
          23.902997970581055,
          11.541448593139648,
          -4.026986122131348,
          3.339404344558716,
          23.743610382080078,
          10.133257865905762,
          31.42957305908203,
          21.21122932434082,
          1.0078661441802979,
          23.269197463989258,
          2.9900588989257812,
          11.394607543945312,
          3.731480598449707,
          14.290974617004395,
          16.567541122436523,
          -11.125454902648926,
          6.533802032470703,
          -6.846492767333984,
          -4.348440647125244,
          -2.2626757621765137,
          12.470643043518066,
          13.502408981323242,
          16.545909881591797,
          21.035022735595703,
          23.15589714050293
         ],
         "y": [
          20.412208557128906,
          31.33500862121582,
          32.2894287109375,
          25.428985595703125,
          18.27073860168457,
          -2.1674931049346924,
          24.163759231567383,
          1.2747516632080078,
          22.05796241760254,
          2.6192626953125,
          24.013647079467773,
          -4.271246910095215,
          27.313261032104492,
          13.519233703613281,
          0.3578067421913147,
          14.023995399475098,
          18.537052154541016,
          -6.400001049041748,
          -3.684866189956665,
          -1.9263627529144287,
          3.6143128871917725,
          30.528263092041016,
          29.533493041992188,
          24.843395233154297,
          16.41486358642578,
          15.648170471191406,
          11.72734260559082,
          -0.21711166203022003,
          -1.0339159965515137,
          8.72105884552002,
          29.12188148498535,
          21.929170608520508,
          21.344331741333008,
          20.82086753845215,
          17.27153968811035,
          -7.220114231109619,
          -2.701028347015381,
          13.588288307189941,
          21.99863052368164,
          5.260537147521973,
          26.30178451538086,
          31.979503631591797,
          35.98300552368164,
          19.387338638305664,
          18.038063049316406,
          11.790898323059082,
          15.322815895080566,
          1.164236068725586,
          16.9909610748291,
          24.715778350830078,
          20.466590881347656,
          27.394638061523438,
          30.709272384643555,
          25.631237030029297,
          14.516937255859375,
          7.233954429626465,
          20.847583770751953,
          10.795079231262207,
          2.6245434284210205,
          11.71334457397461,
          14.577789306640625,
          7.317532539367676,
          20.77814483642578,
          17.81061553955078,
          14.140999794006348,
          -1.2893998622894287,
          9.93090534210205,
          4.0426106452941895,
          4.244377136230469,
          -3.458498239517212,
          8.996068954467773,
          -2.246075391769409,
          11.146223068237305,
          2.078198194503784,
          10.431290626525879,
          2.153226613998413,
          17.923460006713867,
          4.931055545806885,
          26.981794357299805,
          7.143869400024414,
          6.918047904968262,
          3.3338358402252197,
          13.930340766906738,
          21.718631744384766,
          23.229501724243164,
          20.210325241088867,
          5.234195232391357,
          8.722692489624023,
          2.817777156829834,
          4.722389221191406,
          -0.5955694317817688
         ],
         "z": [
          8.130939483642578,
          4.988700866699219,
          12.83226490020752,
          9.548898696899414,
          -3.409398078918457,
          17.915821075439453,
          24.80588150024414,
          25.316608428955078,
          20.64804458618164,
          29.879560470581055,
          22.79464340209961,
          10.75959587097168,
          29.67865753173828,
          22.93421173095703,
          -3.5190021991729736,
          3.0871262550354004,
          -0.5579557418823242,
          3.4659829139709473,
          16.477338790893555,
          10.89735221862793,
          24.55243682861328,
          1.9737070798873901,
          -2.925928831100464,
          -5.381961345672607,
          3.2014899253845215,
          6.069693088531494,
          30.555465698242188,
          23.76150131225586,
          1.0996086597442627,
          38.70423126220703,
          3.913267135620117,
          22.730920791625977,
          2.7900302410125732,
          -2.7392537593841553,
          34.68971252441406,
          41.08208465576172,
          40.53544998168945,
          40.264522552490234,
          27.916200637817383,
          22.7984676361084,
          3.0473177433013916,
          -9.845741271972656,
          -3.2728488445281982,
          3.0979316234588623,
          14.144781112670898,
          13.848018646240234,
          -8.312026023864746,
          -3.4680399894714355,
          20.59785270690918,
          34.70033264160156,
          15.406388282775879,
          14.548788070678711,
          -5.236573219299316,
          1.290913462638855,
          15.958151817321777,
          1.3486231565475464,
          29.793964385986328,
          0.44217923283576965,
          -0.4387998580932617,
          14.720499038696289,
          18.1931095123291,
          8.808372497558594,
          30.344831466674805,
          34.32418441772461,
          38.864749908447266,
          24.340862274169922,
          21.41399383544922,
          15.885834693908691,
          3.0227229595184326,
          21.9588680267334,
          0.45468786358833313,
          4.340482711791992,
          3.9104676246643066,
          7.130861759185791,
          23.9803524017334,
          12.0770845413208,
          17.309232711791992,
          0.9543107151985168,
          23.34821891784668,
          7.130487442016602,
          19.826171875,
          4.521999835968018,
          28.528867721557617,
          26.218454360961914,
          14.664094924926758,
          19.976640701293945,
          32.82624816894531,
          40.800086975097656,
          38.174652099609375,
          36.36639404296875,
          33.345890045166016
         ]
        },
        {
         "hovertemplate": "kmeans=0<br>x=%{x}<br>y=%{y}<br>z=%{z}<extra></extra>",
         "legendgroup": "0",
         "marker": {
          "color": "blue",
          "size": 4,
          "symbol": "circle"
         },
         "mode": "markers",
         "name": "0",
         "scene": "scene",
         "showlegend": true,
         "type": "scatter3d",
         "x": [
          -1.0415469408035278,
          -3.5783281326293945,
          -37.47148895263672,
          -37.72904968261719,
          -38.08272171020508,
          -14.34897232055664,
          -10.632256507873535,
          -8.494925498962402,
          -20.8632869720459,
          -10.1124849319458,
          -11.78859806060791,
          -33.129608154296875,
          -6.068104267120361,
          -28.651805877685547,
          -29.05045509338379,
          -33.70566940307617,
          -27.310714721679688,
          -22.00455665588379,
          -14.770406723022461,
          -26.56163215637207,
          -17.190744400024414,
          -28.688236236572266,
          -41.35188674926758,
          -30.3530216217041,
          -21.054901123046875,
          -19.03656768798828,
          -6.417511463165283,
          -17.104549407958984,
          -29.263410568237305,
          -21.396591186523438,
          -12.970587730407715,
          -33.147586822509766,
          -30.391695022583008,
          -0.1072671040892601,
          -16.28290367126465,
          -3.4176647663116455,
          -8.319917678833008,
          -25.88035774230957,
          -10.1004056930542,
          -3.131692886352539,
          -11.90233325958252,
          -26.113323211669922,
          -28.077592849731445,
          -29.72058868408203,
          -7.249711990356445,
          -11.244142532348633,
          -17.814563751220703,
          -14.67785358428955,
          -17.710002899169922,
          -6.553539752960205,
          -11.51154613494873,
          -15.986149787902832,
          -8.784192085266113,
          -5.7197771072387695,
          -8.854679107666016,
          -13.97702407836914
         ],
         "y": [
          38.92306900024414,
          41.13370895385742,
          19.409297943115234,
          15.791690826416016,
          10.972099304199219,
          28.821388244628906,
          36.145263671875,
          31.159557342529297,
          -10.414334297180176,
          47.31725311279297,
          42.35305404663086,
          16.887527465820312,
          -21.455244064331055,
          38.01499557495117,
          28.306594848632812,
          22.22542381286621,
          18.616331100463867,
          14.492549896240234,
          47.73664474487305,
          22.67661476135254,
          39.6631965637207,
          24.892515182495117,
          33.87620162963867,
          31.22636604309082,
          20.318023681640625,
          38.71613693237305,
          42.94450759887695,
          35.772518157958984,
          37.33298110961914,
          24.275911331176758,
          34.720428466796875,
          -5.481251239776611,
          37.67108154296875,
          30.22306251525879,
          22.85366439819336,
          41.56283187866211,
          39.205326080322266,
          33.23701477050781,
          27.81934356689453,
          31.141265869140625,
          42.641075134277344,
          37.324241638183594,
          38.95551300048828,
          28.57353973388672,
          34.533935546875,
          22.681005477905273,
          33.757965087890625,
          21.469013214111328,
          38.52067565917969,
          49.31675720214844,
          33.05771255493164,
          31.287841796875,
          45.29164123535156,
          46.71982955932617,
          29.68779754638672,
          30.768178939819336
         ],
         "z": [
          -7.684500217437744,
          -13.522693634033203,
          -5.085964202880859,
          -12.50010871887207,
          -5.611459732055664,
          5.876045227050781,
          1.6597166061401367,
          7.974997043609619,
          -13.439016342163086,
          20.913192749023438,
          20.313121795654297,
          6.627504348754883,
          28.182931900024414,
          12.496183395385742,
          8.550131797790527,
          -10.237336158752441,
          -5.01364803314209,
          -0.39697763323783875,
          7.230961322784424,
          -0.8312830328941345,
          -2.3434643745422363,
          -12.323981285095215,
          2.6369855403900146,
          -5.160199165344238,
          -4.731228828430176,
          12.04288387298584,
          -0.18426209688186646,
          16.55195426940918,
          -1.6219642162322998,
          -9.449316024780273,
          10.3202543258667,
          -9.226961135864258,
          5.803591728210449,
          -21.004541397094727,
          5.754919052124023,
          11.280137062072754,
          12.500565528869629,
          5.6971940994262695,
          0.9440385103225708,
          -17.13067626953125,
          -13.874495506286621,
          -19.096694946289062,
          -15.097034454345703,
          -19.24527931213379,
          16.252994537353516,
          -17.626155853271484,
          -3.788270950317383,
          -6.818081378936768,
          -8.216293334960938,
          -7.160933494567871,
          -28.352224349975586,
          -27.50804901123047,
          -8.534281730651855,
          -17.301097869873047,
          -6.804068565368652,
          -13.622659683227539
         ]
        },
        {
         "hovertemplate": "kmeans=2<br>x=%{x}<br>y=%{y}<br>z=%{z}<extra></extra>",
         "legendgroup": "2",
         "marker": {
          "color": "green",
          "size": 4,
          "symbol": "circle"
         },
         "mode": "markers",
         "name": "2",
         "scene": "scene",
         "showlegend": true,
         "type": "scatter3d",
         "x": [
          -28.20197105407715,
          -24.719024658203125,
          -25.43020248413086,
          -20.854040145874023,
          -21.029991149902344,
          -27.153871536254883,
          -39.56759262084961,
          -28.119590759277344,
          -26.679887771606445,
          -24.85194206237793,
          -31.32853126525879,
          -39.417076110839844,
          -38.56564712524414,
          -23.46753692626953,
          -18.134408950805664,
          -31.462745666503906,
          -32.678157806396484,
          -16.090373992919922,
          -19.78321075439453,
          -34.370887756347656,
          -38.817626953125
         ],
         "y": [
          61.1530647277832,
          49.297889709472656,
          56.51495361328125,
          51.92142105102539,
          49.598289489746094,
          52.98172378540039,
          38.535221099853516,
          44.4631233215332,
          46.26118087768555,
          39.46921157836914,
          54.08687973022461,
          52.84379577636719,
          47.07279586791992,
          53.587310791015625,
          49.84781265258789,
          49.93977355957031,
          55.61892318725586,
          56.07801055908203,
          57.32917022705078,
          49.87316131591797,
          48.82855987548828
         ],
         "z": [
          0.12721726298332214,
          -2.527482509613037,
          -4.599958896636963,
          11.77050495147705,
          7.022802352905273,
          2.6253068447113037,
          2.0900509357452393,
          4.01920747756958,
          -8.91022777557373,
          3.96737003326416,
          -10.685393333435059,
          -4.626697540283203,
          -6.439506530761719,
          -11.18742847442627,
          -10.5866117477417,
          -3.152866840362549,
          -1.4895246028900146,
          -3.0802512168884277,
          0.5930527448654175,
          5.559046268463135,
          2.24444842338562
         ]
        },
        {
         "hovertemplate": "kmeans=5<br>x=%{x}<br>y=%{y}<br>z=%{z}<extra></extra>",
         "legendgroup": "5",
         "marker": {
          "color": "gray",
          "size": 4,
          "symbol": "circle"
         },
         "mode": "markers",
         "name": "5",
         "scene": "scene",
         "showlegend": true,
         "type": "scatter3d",
         "x": [
          -34.70846939086914,
          -32.861087799072266,
          14.003262519836426,
          17.083669662475586,
          -2.907994508743286,
          -14.756455421447754,
          -30.566307067871094,
          13.23535442352295,
          -22.573007583618164,
          -20.621604919433594,
          -23.392635345458984,
          -32.0699462890625,
          15.528950691223145,
          -19.937137603759766,
          -1.6994357109069824,
          2.5867490768432617,
          5.5103440284729,
          -4.931920051574707,
          -2.7330715656280518,
          -15.282106399536133,
          13.9596529006958,
          19.28912353515625,
          -8.257046699523926,
          15.179168701171875,
          -18.25197982788086,
          -0.9160548448562622,
          -3.9299120903015137,
          5.3643975257873535,
          7.011159896850586,
          11.31338119506836,
          -3.723904848098755,
          -10.861952781677246,
          -6.8125176429748535,
          -13.302926063537598,
          -8.762238502502441,
          -4.702182769775391,
          -1.4445456266403198,
          -19.736684799194336,
          -11.379057884216309,
          -6.254985332489014,
          -35.944366455078125,
          3.2631821632385254,
          -26.608551025390625,
          -4.667409896850586,
          -27.498912811279297,
          -33.33295440673828,
          -37.740516662597656,
          -25.162303924560547,
          -24.925640106201172,
          10.345621109008789,
          -12.494894027709961,
          -4.140627861022949,
          8.288006782531738,
          3.447204113006592,
          -24.04659080505371,
          -14.736124992370605,
          3.4793710708618164,
          2.5710320472717285,
          -11.53817367553711,
          -24.353235244750977,
          -18.05039405822754,
          19.940690994262695,
          -15.067161560058594,
          -9.153318405151367,
          -15.65566635131836,
          5.10713529586792,
          17.21105194091797,
          -27.06128692626953,
          18.905241012573242,
          -3.9286255836486816,
          18.3706111907959,
          15.695585250854492,
          11.235437393188477,
          -7.9973883628845215,
          15.15565013885498,
          19.1896915435791,
          13.109516143798828,
          12.49606990814209,
          -14.847514152526855,
          -0.43763524293899536,
          5.006412506103516,
          8.95059871673584,
          -21.26034164428711,
          9.785477638244629,
          9.945839881896973,
          6.161369323730469,
          22.030242919921875,
          -14.363908767700195,
          2.63273024559021,
          -1.3580766916275024,
          4.433981418609619,
          20.048208236694336,
          15.356224060058594,
          -20.75006866455078,
          -18.620582580566406,
          10.473033905029297,
          7.354612827301025,
          6.127032279968262
         ],
         "y": [
          8.196840286254883,
          6.742075443267822,
          19.877704620361328,
          7.617380619049072,
          7.825580596923828,
          3.6068875789642334,
          6.439216613769531,
          8.333497047424316,
          7.837850093841553,
          2.164637565612793,
          20.32143783569336,
          2.4321863651275635,
          -0.7922332286834717,
          16.085634231567383,
          -12.949029922485352,
          -10.41559886932373,
          -5.801978588104248,
          17.269804000854492,
          -6.455904483795166,
          -8.605067253112793,
          -7.073988437652588,
          -8.25666618347168,
          8.379487037658691,
          0.5542264580726624,
          20.23193359375,
          12.44125747680664,
          6.145671367645264,
          5.684944152832031,
          1.4301904439926147,
          -11.057875633239746,
          19.8855037689209,
          5.25492525100708,
          15.114422798156738,
          16.031721115112305,
          15.839612007141113,
          17.925458908081055,
          -14.02387809753418,
          -7.54209566116333,
          4.398014545440674,
          6.099165916442871,
          -0.07756437361240387,
          12.603283882141113,
          15.711750984191895,
          19.42106819152832,
          5.9107232093811035,
          4.3235979080200195,
          7.686005115509033,
          6.285031795501709,
          7.592015266418457,
          37.5476188659668,
          13.340324401855469,
          -7.653990745544434,
          0.6532773375511169,
          -3.2497377395629883,
          15.236180305480957,
          16.236034393310547,
          -1.0571863651275635,
          12.074601173400879,
          20.614370346069336,
          0.10500431060791016,
          9.482586860656738,
          -32.23700714111328,
          6.966189384460449,
          16.023967742919922,
          11.146907806396484,
          -14.335317611694336,
          -12.40875244140625,
          16.107175827026367,
          -2.975414514541626,
          9.102209091186523,
          20.01275062561035,
          23.576278686523438,
          7.367446422576904,
          19.912689208984375,
          -10.876684188842773,
          -6.444648742675781,
          -8.119370460510254,
          -15.35482120513916,
          10.129216194152832,
          11.692218780517578,
          -6.448396682739258,
          -9.990534782409668,
          4.691923141479492,
          -6.343978404998779,
          -12.67447280883789,
          -11.13765811920166,
          -8.734484672546387,
          9.792530059814453,
          -2.71755313873291,
          -3.633699655532837,
          3.4035212993621826,
          -13.067781448364258,
          -21.93651008605957,
          10.196242332458496,
          12.507105827331543,
          -7.974368095397949,
          -7.738032341003418,
          -7.749386787414551
         ],
         "z": [
          -15.646210670471191,
          -6.049196720123291,
          -9.66500186920166,
          -11.782258033752441,
          18.514955520629883,
          20.530838012695312,
          -20.187992095947266,
          -17.89905548095703,
          36.262672424316406,
          38.33114242553711,
          34.747459411621094,
          20.321578979492188,
          -31.405954360961914,
          30.94914436340332,
          0.8749121427536011,
          -1.4312266111373901,
          1.474905252456665,
          -4.389228820800781,
          12.979317665100098,
          12.940993309020996,
          0.08803386241197586,
          0.6768916249275208,
          16.637155532836914,
          -23.788177490234375,
          -17.765649795532227,
          -23.123117446899414,
          -28.374692916870117,
          -24.351102828979492,
          -26.604270935058594,
          19.690187454223633,
          -14.793267250061035,
          -28.287851333618164,
          -12.331446647644043,
          -26.19190788269043,
          -20.48353385925293,
          -22.811031341552734,
          -35.99555206298828,
          19.692646026611328,
          -21.01988983154297,
          -22.03681755065918,
          10.868157386779785,
          -8.75727653503418,
          -29.465499877929688,
          5.040947437286377,
          21.90279197692871,
          15.120319366455078,
          17.821277618408203,
          16.863059997558594,
          9.459895133972168,
          21.844486236572266,
          -13.385765075683594,
          -11.864012718200684,
          -19.411848068237305,
          -23.99610710144043,
          -13.872379302978516,
          -5.787138938903809,
          9.42125129699707,
          -16.151565551757812,
          22.3784122467041,
          34.60975646972656,
          -17.856643676757812,
          -35.239715576171875,
          -13.532424926757812,
          26.125452041625977,
          27.66192626953125,
          11.23043155670166,
          -16.09386444091797,
          -21.083101272583008,
          -12.259806632995605,
          2.4463181495666504,
          -16.820362091064453,
          -14.098862648010254,
          -6.027411460876465,
          32.9676628112793,
          -23.144100189208984,
          -30.17711639404297,
          -18.220050811767578,
          -29.213651657104492,
          16.194698333740234,
          9.16800308227539,
          -36.99864959716797,
          -36.394081115722656,
          -15.992560386657715,
          -12.992865562438965,
          -9.194854736328125,
          -12.720667839050293,
          11.483242988586426,
          33.77628707885742,
          -42.6234130859375,
          -39.498443603515625,
          -37.7218132019043,
          18.794004440307617,
          -22.950149536132812,
          31.097862243652344,
          -8.875959396362305,
          34.10612106323242,
          28.66911506652832,
          20.28423309326172
         ]
        },
        {
         "hovertemplate": "kmeans=3<br>x=%{x}<br>y=%{y}<br>z=%{z}<extra></extra>",
         "legendgroup": "3",
         "marker": {
          "color": "red",
          "size": 4,
          "symbol": "circle"
         },
         "mode": "markers",
         "name": "3",
         "scene": "scene",
         "showlegend": true,
         "type": "scatter3d",
         "x": [
          -40.850318908691406,
          1.6404682397842407,
          -3.264432191848755,
          -20.154296875,
          -11.178786277770996,
          -14.284358978271484,
          29.60813331604004,
          32.572261810302734,
          27.561819076538086,
          -31.670852661132812,
          27.789823532104492,
          25.687150955200195,
          28.243202209472656,
          16.833370208740234,
          22.359722137451172,
          20.7907772064209,
          29.03202247619629,
          32.680362701416016,
          34.815162658691406,
          22.179927825927734,
          29.32634925842285,
          25.0695743560791,
          22.65625762939453,
          17.77103614807129,
          22.07568359375,
          1.87045156955719,
          4.129420757293701,
          15.454344749450684,
          22.189350128173828,
          34.0252799987793,
          28.431644439697266,
          27.473352432250977,
          9.405879974365234,
          23.660541534423828,
          15.78617000579834,
          38.2296028137207,
          41.43094253540039,
          11.363595008850098,
          32.58708190917969,
          37.33174133300781,
          34.021087646484375,
          8.138528823852539,
          25.340246200561523,
          11.88780403137207,
          35.80789566040039,
          2.493661642074585,
          20.346805572509766,
          17.076780319213867,
          5.840325832366943,
          15.104540824890137,
          2.0867435932159424,
          0.08928074687719345
         ],
         "y": [
          4.689864635467529,
          -43.02724838256836,
          -44.85501480102539,
          -32.73826217651367,
          -35.34828186035156,
          -39.06264114379883,
          0.7681792378425598,
          0.10493714362382889,
          5.285345554351807,
          33.39471435546875,
          -16.433717727661133,
          -28.641260147094727,
          -31.720165252685547,
          -37.145965576171875,
          -35.757022857666016,
          -34.25571823120117,
          -37.93178939819336,
          -33.38809585571289,
          -37.16622543334961,
          -19.868927001953125,
          -9.79628849029541,
          -10.986601829528809,
          -13.840533256530762,
          -19.410615921020508,
          -26.917325973510742,
          -14.607341766357422,
          -47.656333923339844,
          -32.84144592285156,
          -20.604843139648438,
          -20.770429611206055,
          -20.323488235473633,
          -25.0853271484375,
          -39.524314880371094,
          -24.23950958251953,
          -22.51641845703125,
          -21.774946212768555,
          -20.404159545898438,
          -7.046484470367432,
          -29.75288200378418,
          -34.41487121582031,
          -36.412654876708984,
          -29.68006134033203,
          -36.748779296875,
          -26.65725326538086,
          -25.746944427490234,
          -24.935853958129883,
          -46.78721618652344,
          -30.596181869506836,
          -16.53241729736328,
          -25.217018127441406,
          -30.75725746154785,
          -27.8294734954834
         ],
         "z": [
          -5.449746608734131,
          -24.01584815979004,
          -24.15266990661621,
          -20.744342803955078,
          -16.657854080200195,
          -22.28270721435547,
          -26.493410110473633,
          -20.996992111206055,
          -25.919025421142578,
          -24.922687530517578,
          -24.47208023071289,
          -21.419939041137695,
          -17.44767189025879,
          -25.620643615722656,
          -22.64011573791504,
          -29.347036361694336,
          -20.318876266479492,
          -22.800704956054688,
          -17.721771240234375,
          -16.9969425201416,
          -15.1887788772583,
          -19.831031799316406,
          -12.876383781433105,
          -12.651725769042969,
          -4.810730934143066,
          -24.02788543701172,
          -21.8778018951416,
          -6.0474748611450195,
          -0.9374202489852905,
          -16.144622802734375,
          -12.399898529052734,
          0.334980845451355,
          -23.63520050048828,
          -10.944969177246094,
          -5.426259517669678,
          -3.063055992126465,
          -6.442042350769043,
          -26.88350486755371,
          -8.908190727233887,
          -1.7897369861602783,
          -5.467843532562256,
          -16.88286018371582,
          -3.6108815670013428,
          -25.866600036621094,
          -23.507198333740234,
          -13.439483642578125,
          -23.36509132385254,
          -16.355295181274414,
          -18.5221004486084,
          -18.82162857055664,
          -22.4071102142334,
          -26.526208877563477
         ]
        },
        {
         "hovertemplate": "kmeans=1<br>x=%{x}<br>y=%{y}<br>z=%{z}<extra></extra>",
         "legendgroup": "1",
         "marker": {
          "color": "orange",
          "size": 4,
          "symbol": "circle"
         },
         "mode": "markers",
         "name": "1",
         "scene": "scene",
         "showlegend": true,
         "type": "scatter3d",
         "x": [
          -15.282340049743652,
          -11.843005180358887,
          -6.114789009094238,
          -4.813694477081299,
          -15.7593355178833,
          -19.503801345825195,
          -13.012598037719727,
          -11.662325859069824,
          -33.38402557373047,
          -28.484479904174805,
          -23.504507064819336,
          -14.664240837097168,
          -19.78108787536621,
          -7.858450889587402,
          -2.7658002376556396,
          -16.781110763549805,
          -12.451251983642578,
          -12.028023719787598,
          -23.647144317626953,
          -16.559919357299805,
          -20.297405242919922,
          -21.988033294677734,
          -21.0319881439209,
          -14.827118873596191,
          -25.424036026000977,
          -23.34571647644043,
          -19.018381118774414,
          -18.940738677978516,
          -23.422740936279297,
          -17.60516929626465,
          -22.426891326904297,
          -7.716263294219971,
          -12.515676498413086,
          -26.5389404296875,
          -15.179116249084473,
          -14.41915512084961,
          -7.595775604248047,
          -5.23886251449585,
          -34.48611068725586,
          2.427992820739746,
          -2.6214382648468018,
          -6.423418045043945,
          -7.344404697418213,
          0.2549101710319519,
          -0.4875553846359253,
          -14.456418991088867,
          -20.31075096130371,
          -7.095269680023193,
          -7.472372055053711,
          -5.383615493774414,
          -2.1384308338165283,
          -1.4755808115005493,
          -13.561238288879395,
          3.7813918590545654,
          -20.269216537475586,
          -5.4033203125,
          -2.2074291706085205,
          7.289623737335205,
          2.9258337020874023,
          8.988202095031738,
          -2.9632511138916016,
          11.737092971801758,
          -30.991962432861328,
          -5.371599197387695,
          12.823036193847656,
          14.420333862304688,
          8.455326080322266,
          5.487185955047607,
          5.518742561340332,
          7.195914268493652,
          11.617493629455566,
          7.259138107299805,
          1.2539148330688477,
          -3.2481753826141357,
          -9.808561325073242,
          14.662014961242676,
          6.436829566955566,
          14.349955558776855,
          20.48360252380371,
          19.24685287475586,
          17.722768783569336,
          24.023860931396484,
          3.871267557144165,
          1.7365316152572632,
          -2.831444263458252,
          4.443108081817627
         ],
         "y": [
          -3.9028985500335693,
          -8.425180435180664,
          41.971378326416016,
          5.444035530090332,
          -33.66929244995117,
          -35.86797332763672,
          -28.737382888793945,
          -18.890111923217773,
          -23.057052612304688,
          -22.895572662353516,
          -30.481155395507812,
          -15.60658073425293,
          -20.603906631469727,
          -15.432809829711914,
          -17.385061264038086,
          -14.231780052185059,
          -20.593994140625,
          -10.742867469787598,
          -16.657684326171875,
          -26.953472137451172,
          -28.461652755737305,
          -29.184093475341797,
          -24.729129791259766,
          -28.3363094329834,
          -29.095577239990234,
          -31.717695236206055,
          -19.567092895507812,
          -20.49336051940918,
          -23.999980926513672,
          -5.929373264312744,
          -3.513185977935791,
          -12.867048263549805,
          -12.026524543762207,
          -14.167877197265625,
          -19.807260513305664,
          -30.378875732421875,
          -20.782529830932617,
          -16.263092041015625,
          -6.9897050857543945,
          -44.44871520996094,
          -35.55397415161133,
          -5.40601921081543,
          -6.339225769042969,
          0.1160634309053421,
          -1.126409649848938,
          -23.042692184448242,
          -14.98793888092041,
          -20.026193618774414,
          -41.486541748046875,
          -37.076839447021484,
          -32.071659088134766,
          -41.37991714477539,
          -41.98832702636719,
          -36.987545013427734,
          -9.577940940856934,
          -28.97275733947754,
          -19.96761703491211,
          -28.62827491760254,
          -26.10541534423828,
          -24.45737075805664,
          -25.548412322998047,
          -31.182353973388672,
          -14.890478134155273,
          -33.801490783691406,
          -31.709430694580078,
          -28.872926712036133,
          -37.78776550292969,
          -40.783626556396484,
          -21.289081573486328,
          -26.035873413085938,
          -26.794471740722656,
          -30.200044631958008,
          -35.53883743286133,
          -38.20500946044922,
          -37.30608367919922,
          -24.208284378051758,
          -20.862146377563477,
          -21.007339477539062,
          -27.23702049255371,
          -32.13577651977539,
          -19.67305564880371,
          0.7675601840019226,
          -32.66633987426758,
          -31.924901962280273,
          -48.29436492919922,
          -21.529293060302734
         ],
         "z": [
          -8.6848726272583,
          -18.362213134765625,
          25.242427825927734,
          -4.82395076751709,
          10.896249771118164,
          14.760605812072754,
          10.386689186096191,
          -6.715149879455566,
          -3.996471643447876,
          -3.653453826904297,
          11.909802436828613,
          -0.6988630890846252,
          -2.1455841064453125,
          -2.553805351257324,
          -5.630727291107178,
          -7.462451457977295,
          2.826878786087036,
          -12.290558815002441,
          1.9600296020507812,
          -5.896509170532227,
          1.8483803272247314,
          -8.703601837158203,
          4.839258670806885,
          -12.47301197052002,
          -20.864978790283203,
          -15.87110710144043,
          -11.532943725585938,
          -18.708003997802734,
          15.326831817626953,
          9.418246269226074,
          6.345324516296387,
          8.481249809265137,
          27.637035369873047,
          -6.070854663848877,
          13.499714851379395,
          16.853410720825195,
          20.902389526367188,
          20.867658615112305,
          -13.581941604614258,
          -0.11410187184810638,
          30.198808670043945,
          -4.960963249206543,
          2.457440137863159,
          -13.263323783874512,
          -6.946013927459717,
          23.350374221801758,
          15.377765655517578,
          -16.569107055664062,
          -11.260086059570312,
          -5.004724025726318,
          -8.061946868896484,
          -7.297651290893555,
          -10.990510940551758,
          -10.511327743530273,
          -2.1604812145233154,
          -0.6190065741539001,
          7.626974582672119,
          -5.174428462982178,
          7.645092487335205,
          9.618979454040527,
          16.53678321838379,
          4.685536861419678,
          4.829473972320557,
          12.560019493103027,
          20.316871643066406,
          0.4839521646499634,
          8.769822120666504,
          17.611495971679688,
          19.40848731994629,
          17.20193862915039,
          24.470767974853516,
          23.83348274230957,
          23.30818748474121,
          7.229576110839844,
          19.598793029785156,
          16.147377014160156,
          29.37696075439453,
          6.485772609710693,
          5.843502044677734,
          8.340927124023438,
          -31.6118106842041,
          -2.9990944862365723,
          12.3510103225708,
          5.473146915435791,
          -6.777483940124512,
          0.6899237036705017
         ]
        },
        {
         "hovertemplate": "kmeans=7<br>x=%{x}<br>y=%{y}<br>z=%{z}<extra></extra>",
         "legendgroup": "7",
         "marker": {
          "color": "olive",
          "size": 4,
          "symbol": "circle"
         },
         "mode": "markers",
         "name": "7",
         "scene": "scene",
         "showlegend": true,
         "type": "scatter3d",
         "x": [
          -27.488088607788086,
          -30.19886589050293,
          -27.111343383789062,
          -31.718868255615234,
          -5.096466064453125,
          -17.27610969543457,
          -3.211008310317993,
          -4.982165336608887,
          -12.249083518981934,
          -13.650534629821777
         ],
         "y": [
          -44.624027252197266,
          -43.00523376464844,
          -38.22865295410156,
          -38.56059646606445,
          -40.22948455810547,
          -42.20848846435547,
          -48.935302734375,
          -45.726417541503906,
          -44.94718933105469,
          -48.092010498046875
         ],
         "z": [
          2.7919530868530273,
          -3.3922958374023438,
          -2.5522027015686035,
          0.2666686177253723,
          30.905044555664062,
          -6.851962089538574,
          12.791406631469727,
          15.96219539642334,
          8.701988220214844,
          5.351001262664795
         ]
        },
        {
         "hovertemplate": "kmeans=4<br>x=%{x}<br>y=%{y}<br>z=%{z}<extra></extra>",
         "legendgroup": "4",
         "marker": {
          "color": "purple",
          "size": 4,
          "symbol": "circle"
         },
         "mode": "markers",
         "name": "4",
         "scene": "scene",
         "showlegend": true,
         "type": "scatter3d",
         "x": [
          31.545957565307617,
          45.133155822753906,
          45.84737777709961,
          33.96841812133789,
          35.83860778808594,
          17.611995697021484,
          27.215877532958984,
          28.171560287475586,
          26.207021713256836,
          24.294696807861328,
          20.196916580200195,
          19.398412704467773,
          35.95567321777344,
          35.04051208496094,
          26.826473236083984,
          21.365917205810547,
          26.642702102661133,
          32.687538146972656,
          27.758045196533203,
          31.619932174682617,
          20.118986129760742
         ],
         "y": [
          -43.00019073486328,
          -32.91329574584961,
          -37.79986572265625,
          -43.74679946899414,
          -50.81477737426758,
          -40.77406692504883,
          -38.514869689941406,
          -45.95520782470703,
          -52.88765335083008,
          -49.896278381347656,
          -53.50060272216797,
          -49.02412796020508,
          -47.98504638671875,
          -42.297080993652344,
          -58.397438049316406,
          -57.1519775390625,
          -61.18547058105469,
          -58.32984161376953,
          -54.594112396240234,
          -53.019874572753906,
          -43.244354248046875
         ],
         "z": [
          -16.297508239746094,
          -11.70541000366211,
          -11.400619506835938,
          -9.811874389648438,
          -18.079082489013672,
          -5.426585674285889,
          -11.29297924041748,
          -4.6932830810546875,
          -2.462798833847046,
          -9.623326301574707,
          -6.32568883895874,
          -14.330541610717773,
          -1.1596612930297852,
          -0.07006558775901794,
          -7.55565071105957,
          -12.68515682220459,
          -13.700637817382812,
          -13.057035446166992,
          -15.786467552185059,
          -9.830231666564941,
          -15.91750431060791
         ]
        }
       ],
       "layout": {
        "legend": {
         "title": {
          "text": "kmeans"
         },
         "tracegroupgap": 0
        },
        "scene": {
         "domain": {
          "x": [
           0,
           1
          ],
          "y": [
           0,
           1
          ]
         },
         "xaxis": {
          "title": {
           "text": "x"
          }
         },
         "yaxis": {
          "title": {
           "text": "y"
          }
         },
         "zaxis": {
          "title": {
           "text": "z"
          }
         }
        },
        "template": {
         "data": {
          "bar": [
           {
            "error_x": {
             "color": "#2a3f5f"
            },
            "error_y": {
             "color": "#2a3f5f"
            },
            "marker": {
             "line": {
              "color": "#E5ECF6",
              "width": 0.5
             },
             "pattern": {
              "fillmode": "overlay",
              "size": 10,
              "solidity": 0.2
             }
            },
            "type": "bar"
           }
          ],
          "barpolar": [
           {
            "marker": {
             "line": {
              "color": "#E5ECF6",
              "width": 0.5
             },
             "pattern": {
              "fillmode": "overlay",
              "size": 10,
              "solidity": 0.2
             }
            },
            "type": "barpolar"
           }
          ],
          "carpet": [
           {
            "aaxis": {
             "endlinecolor": "#2a3f5f",
             "gridcolor": "white",
             "linecolor": "white",
             "minorgridcolor": "white",
             "startlinecolor": "#2a3f5f"
            },
            "baxis": {
             "endlinecolor": "#2a3f5f",
             "gridcolor": "white",
             "linecolor": "white",
             "minorgridcolor": "white",
             "startlinecolor": "#2a3f5f"
            },
            "type": "carpet"
           }
          ],
          "choropleth": [
           {
            "colorbar": {
             "outlinewidth": 0,
             "ticks": ""
            },
            "type": "choropleth"
           }
          ],
          "contour": [
           {
            "colorbar": {
             "outlinewidth": 0,
             "ticks": ""
            },
            "colorscale": [
             [
              0,
              "#0d0887"
             ],
             [
              0.1111111111111111,
              "#46039f"
             ],
             [
              0.2222222222222222,
              "#7201a8"
             ],
             [
              0.3333333333333333,
              "#9c179e"
             ],
             [
              0.4444444444444444,
              "#bd3786"
             ],
             [
              0.5555555555555556,
              "#d8576b"
             ],
             [
              0.6666666666666666,
              "#ed7953"
             ],
             [
              0.7777777777777778,
              "#fb9f3a"
             ],
             [
              0.8888888888888888,
              "#fdca26"
             ],
             [
              1,
              "#f0f921"
             ]
            ],
            "type": "contour"
           }
          ],
          "contourcarpet": [
           {
            "colorbar": {
             "outlinewidth": 0,
             "ticks": ""
            },
            "type": "contourcarpet"
           }
          ],
          "heatmap": [
           {
            "colorbar": {
             "outlinewidth": 0,
             "ticks": ""
            },
            "colorscale": [
             [
              0,
              "#0d0887"
             ],
             [
              0.1111111111111111,
              "#46039f"
             ],
             [
              0.2222222222222222,
              "#7201a8"
             ],
             [
              0.3333333333333333,
              "#9c179e"
             ],
             [
              0.4444444444444444,
              "#bd3786"
             ],
             [
              0.5555555555555556,
              "#d8576b"
             ],
             [
              0.6666666666666666,
              "#ed7953"
             ],
             [
              0.7777777777777778,
              "#fb9f3a"
             ],
             [
              0.8888888888888888,
              "#fdca26"
             ],
             [
              1,
              "#f0f921"
             ]
            ],
            "type": "heatmap"
           }
          ],
          "heatmapgl": [
           {
            "colorbar": {
             "outlinewidth": 0,
             "ticks": ""
            },
            "colorscale": [
             [
              0,
              "#0d0887"
             ],
             [
              0.1111111111111111,
              "#46039f"
             ],
             [
              0.2222222222222222,
              "#7201a8"
             ],
             [
              0.3333333333333333,
              "#9c179e"
             ],
             [
              0.4444444444444444,
              "#bd3786"
             ],
             [
              0.5555555555555556,
              "#d8576b"
             ],
             [
              0.6666666666666666,
              "#ed7953"
             ],
             [
              0.7777777777777778,
              "#fb9f3a"
             ],
             [
              0.8888888888888888,
              "#fdca26"
             ],
             [
              1,
              "#f0f921"
             ]
            ],
            "type": "heatmapgl"
           }
          ],
          "histogram": [
           {
            "marker": {
             "pattern": {
              "fillmode": "overlay",
              "size": 10,
              "solidity": 0.2
             }
            },
            "type": "histogram"
           }
          ],
          "histogram2d": [
           {
            "colorbar": {
             "outlinewidth": 0,
             "ticks": ""
            },
            "colorscale": [
             [
              0,
              "#0d0887"
             ],
             [
              0.1111111111111111,
              "#46039f"
             ],
             [
              0.2222222222222222,
              "#7201a8"
             ],
             [
              0.3333333333333333,
              "#9c179e"
             ],
             [
              0.4444444444444444,
              "#bd3786"
             ],
             [
              0.5555555555555556,
              "#d8576b"
             ],
             [
              0.6666666666666666,
              "#ed7953"
             ],
             [
              0.7777777777777778,
              "#fb9f3a"
             ],
             [
              0.8888888888888888,
              "#fdca26"
             ],
             [
              1,
              "#f0f921"
             ]
            ],
            "type": "histogram2d"
           }
          ],
          "histogram2dcontour": [
           {
            "colorbar": {
             "outlinewidth": 0,
             "ticks": ""
            },
            "colorscale": [
             [
              0,
              "#0d0887"
             ],
             [
              0.1111111111111111,
              "#46039f"
             ],
             [
              0.2222222222222222,
              "#7201a8"
             ],
             [
              0.3333333333333333,
              "#9c179e"
             ],
             [
              0.4444444444444444,
              "#bd3786"
             ],
             [
              0.5555555555555556,
              "#d8576b"
             ],
             [
              0.6666666666666666,
              "#ed7953"
             ],
             [
              0.7777777777777778,
              "#fb9f3a"
             ],
             [
              0.8888888888888888,
              "#fdca26"
             ],
             [
              1,
              "#f0f921"
             ]
            ],
            "type": "histogram2dcontour"
           }
          ],
          "mesh3d": [
           {
            "colorbar": {
             "outlinewidth": 0,
             "ticks": ""
            },
            "type": "mesh3d"
           }
          ],
          "parcoords": [
           {
            "line": {
             "colorbar": {
              "outlinewidth": 0,
              "ticks": ""
             }
            },
            "type": "parcoords"
           }
          ],
          "pie": [
           {
            "automargin": true,
            "type": "pie"
           }
          ],
          "scatter": [
           {
            "fillpattern": {
             "fillmode": "overlay",
             "size": 10,
             "solidity": 0.2
            },
            "type": "scatter"
           }
          ],
          "scatter3d": [
           {
            "line": {
             "colorbar": {
              "outlinewidth": 0,
              "ticks": ""
             }
            },
            "marker": {
             "colorbar": {
              "outlinewidth": 0,
              "ticks": ""
             }
            },
            "type": "scatter3d"
           }
          ],
          "scattercarpet": [
           {
            "marker": {
             "colorbar": {
              "outlinewidth": 0,
              "ticks": ""
             }
            },
            "type": "scattercarpet"
           }
          ],
          "scattergeo": [
           {
            "marker": {
             "colorbar": {
              "outlinewidth": 0,
              "ticks": ""
             }
            },
            "type": "scattergeo"
           }
          ],
          "scattergl": [
           {
            "marker": {
             "colorbar": {
              "outlinewidth": 0,
              "ticks": ""
             }
            },
            "type": "scattergl"
           }
          ],
          "scattermapbox": [
           {
            "marker": {
             "colorbar": {
              "outlinewidth": 0,
              "ticks": ""
             }
            },
            "type": "scattermapbox"
           }
          ],
          "scatterpolar": [
           {
            "marker": {
             "colorbar": {
              "outlinewidth": 0,
              "ticks": ""
             }
            },
            "type": "scatterpolar"
           }
          ],
          "scatterpolargl": [
           {
            "marker": {
             "colorbar": {
              "outlinewidth": 0,
              "ticks": ""
             }
            },
            "type": "scatterpolargl"
           }
          ],
          "scatterternary": [
           {
            "marker": {
             "colorbar": {
              "outlinewidth": 0,
              "ticks": ""
             }
            },
            "type": "scatterternary"
           }
          ],
          "surface": [
           {
            "colorbar": {
             "outlinewidth": 0,
             "ticks": ""
            },
            "colorscale": [
             [
              0,
              "#0d0887"
             ],
             [
              0.1111111111111111,
              "#46039f"
             ],
             [
              0.2222222222222222,
              "#7201a8"
             ],
             [
              0.3333333333333333,
              "#9c179e"
             ],
             [
              0.4444444444444444,
              "#bd3786"
             ],
             [
              0.5555555555555556,
              "#d8576b"
             ],
             [
              0.6666666666666666,
              "#ed7953"
             ],
             [
              0.7777777777777778,
              "#fb9f3a"
             ],
             [
              0.8888888888888888,
              "#fdca26"
             ],
             [
              1,
              "#f0f921"
             ]
            ],
            "type": "surface"
           }
          ],
          "table": [
           {
            "cells": {
             "fill": {
              "color": "#EBF0F8"
             },
             "line": {
              "color": "white"
             }
            },
            "header": {
             "fill": {
              "color": "#C8D4E3"
             },
             "line": {
              "color": "white"
             }
            },
            "type": "table"
           }
          ]
         },
         "layout": {
          "annotationdefaults": {
           "arrowcolor": "#2a3f5f",
           "arrowhead": 0,
           "arrowwidth": 1
          },
          "autotypenumbers": "strict",
          "coloraxis": {
           "colorbar": {
            "outlinewidth": 0,
            "ticks": ""
           }
          },
          "colorscale": {
           "diverging": [
            [
             0,
             "#8e0152"
            ],
            [
             0.1,
             "#c51b7d"
            ],
            [
             0.2,
             "#de77ae"
            ],
            [
             0.3,
             "#f1b6da"
            ],
            [
             0.4,
             "#fde0ef"
            ],
            [
             0.5,
             "#f7f7f7"
            ],
            [
             0.6,
             "#e6f5d0"
            ],
            [
             0.7,
             "#b8e186"
            ],
            [
             0.8,
             "#7fbc41"
            ],
            [
             0.9,
             "#4d9221"
            ],
            [
             1,
             "#276419"
            ]
           ],
           "sequential": [
            [
             0,
             "#0d0887"
            ],
            [
             0.1111111111111111,
             "#46039f"
            ],
            [
             0.2222222222222222,
             "#7201a8"
            ],
            [
             0.3333333333333333,
             "#9c179e"
            ],
            [
             0.4444444444444444,
             "#bd3786"
            ],
            [
             0.5555555555555556,
             "#d8576b"
            ],
            [
             0.6666666666666666,
             "#ed7953"
            ],
            [
             0.7777777777777778,
             "#fb9f3a"
            ],
            [
             0.8888888888888888,
             "#fdca26"
            ],
            [
             1,
             "#f0f921"
            ]
           ],
           "sequentialminus": [
            [
             0,
             "#0d0887"
            ],
            [
             0.1111111111111111,
             "#46039f"
            ],
            [
             0.2222222222222222,
             "#7201a8"
            ],
            [
             0.3333333333333333,
             "#9c179e"
            ],
            [
             0.4444444444444444,
             "#bd3786"
            ],
            [
             0.5555555555555556,
             "#d8576b"
            ],
            [
             0.6666666666666666,
             "#ed7953"
            ],
            [
             0.7777777777777778,
             "#fb9f3a"
            ],
            [
             0.8888888888888888,
             "#fdca26"
            ],
            [
             1,
             "#f0f921"
            ]
           ]
          },
          "colorway": [
           "#636efa",
           "#EF553B",
           "#00cc96",
           "#ab63fa",
           "#FFA15A",
           "#19d3f3",
           "#FF6692",
           "#B6E880",
           "#FF97FF",
           "#FECB52"
          ],
          "font": {
           "color": "#2a3f5f"
          },
          "geo": {
           "bgcolor": "white",
           "lakecolor": "white",
           "landcolor": "#E5ECF6",
           "showlakes": true,
           "showland": true,
           "subunitcolor": "white"
          },
          "hoverlabel": {
           "align": "left"
          },
          "hovermode": "closest",
          "mapbox": {
           "style": "light"
          },
          "paper_bgcolor": "white",
          "plot_bgcolor": "#E5ECF6",
          "polar": {
           "angularaxis": {
            "gridcolor": "white",
            "linecolor": "white",
            "ticks": ""
           },
           "bgcolor": "#E5ECF6",
           "radialaxis": {
            "gridcolor": "white",
            "linecolor": "white",
            "ticks": ""
           }
          },
          "scene": {
           "xaxis": {
            "backgroundcolor": "#E5ECF6",
            "gridcolor": "white",
            "gridwidth": 2,
            "linecolor": "white",
            "showbackground": true,
            "ticks": "",
            "zerolinecolor": "white"
           },
           "yaxis": {
            "backgroundcolor": "#E5ECF6",
            "gridcolor": "white",
            "gridwidth": 2,
            "linecolor": "white",
            "showbackground": true,
            "ticks": "",
            "zerolinecolor": "white"
           },
           "zaxis": {
            "backgroundcolor": "#E5ECF6",
            "gridcolor": "white",
            "gridwidth": 2,
            "linecolor": "white",
            "showbackground": true,
            "ticks": "",
            "zerolinecolor": "white"
           }
          },
          "shapedefaults": {
           "line": {
            "color": "#2a3f5f"
           }
          },
          "ternary": {
           "aaxis": {
            "gridcolor": "white",
            "linecolor": "white",
            "ticks": ""
           },
           "baxis": {
            "gridcolor": "white",
            "linecolor": "white",
            "ticks": ""
           },
           "bgcolor": "#E5ECF6",
           "caxis": {
            "gridcolor": "white",
            "linecolor": "white",
            "ticks": ""
           }
          },
          "title": {
           "x": 0.05
          },
          "xaxis": {
           "automargin": true,
           "gridcolor": "white",
           "linecolor": "white",
           "ticks": "",
           "title": {
            "standoff": 15
           },
           "zerolinecolor": "white",
           "zerolinewidth": 2
          },
          "yaxis": {
           "automargin": true,
           "gridcolor": "white",
           "linecolor": "white",
           "ticks": "",
           "title": {
            "standoff": 15
           },
           "zerolinecolor": "white",
           "zerolinewidth": 2
          }
         }
        },
        "title": {
         "text": "plot using k_means label"
        }
       }
      }
     },
     "metadata": {},
     "output_type": "display_data"
    },
    {
     "data": {
      "application/vnd.plotly.v1+json": {
       "config": {
        "plotlyServerURL": "https://plot.ly"
       },
       "data": [
        {
         "marker": {
          "color": "blue",
          "size": 4
         },
         "mode": "markers",
         "name": "get, take",
         "type": "scatter3d",
         "x": [
          6.273812294006348,
          -37.47148895263672,
          -34.70846939086914,
          -32.861087799072266,
          14.003262519836426,
          -6.646435260772705,
          -2.907994508743286,
          -14.756455421447754,
          1.6404682397842407,
          -3.264432191848755,
          -30.566307067871094,
          -4.813694477081299,
          -22.573007583618164,
          -20.621604919433594,
          -15.7593355178833,
          -19.503801345825195,
          -32.0699462890625,
          -19.937137603759766,
          -33.38402557373047,
          -28.484479904174805,
          2.5867490768432617,
          5.5103440284729,
          -20.8632869720459,
          -20.297405242919922,
          -21.0319881439209,
          -14.827118873596191,
          -23.34571647644043,
          7.018773078918457,
          -14.284358978271484,
          -7.716263294219971,
          11.872722625732422,
          -7.595775604248047,
          -33.70566940307617,
          15.179168701171875,
          -0.9160548448562622,
          5.3643975257873535,
          14.269145011901855,
          2.427992820739746,
          -1.5463634729385376,
          11.31338119506836,
          -10.861952781677246,
          -6.8125176429748535,
          -2.6214382648468018,
          -3.4176647663116455,
          -13.302926063537598,
          -8.762238502502441,
          -7.344404697418213,
          -10.1004056930542,
          -1.4445456266403198,
          -19.736684799194336,
          25.416776657104492,
          25.19070053100586,
          -11.379057884216309,
          -35.944366455078125,
          5.851772785186768,
          7.352959156036377,
          3.2631821632385254,
          -26.608551025390625,
          -4.667409896850586,
          -27.498912811279297,
          -37.740516662597656,
          -25.162303924560547,
          -12.494894027709961,
          4.5902323722839355,
          -11.244142532348633,
          -14.67785358428955,
          -7.095269680023193,
          3.4793710708618164,
          16.54717254638672,
          -24.353235244750977,
          -2.1384308338165283,
          -18.05039405822754,
          19.940690994262695,
          -15.067161560058594,
          -15.65566635131836,
          7.277923583984375,
          -1.4755808115005493,
          -13.561238288879395,
          3.7813918590545654,
          5.10713529586792,
          22.65625762939453,
          17.21105194091797,
          -15.986149787902832,
          17.77103614807129,
          1.87045156955719,
          4.129420757293701,
          14.420333862304688,
          8.455326080322266,
          5.487185955047607,
          7.195914268493652,
          -5.7197771072387695,
          7.259138107299805,
          -9.808561325073242,
          9.405879974365234,
          -3.9286255836486816,
          -4.026986122131348,
          18.3706111907959,
          14.349955558776855,
          19.24685287475586,
          31.42957305908203,
          13.109516143798828,
          17.722768783569336,
          12.49606990814209,
          -14.847514152526855,
          -0.43763524293899536,
          5.006412506103516,
          -21.26034164428711,
          1.7365316152572632,
          9.785477638244629,
          8.138528823852539,
          22.030242919921875,
          19.398412704467773,
          -14.363908767700195,
          -1.3580766916275024,
          -11.125454902648926,
          20.048208236694336,
          20.118986129760742,
          17.076780319213867,
          5.840325832366943,
          -20.75006866455078,
          2.0867435932159424,
          -4.348440647125244,
          -8.854679107666016,
          -13.97702407836914
         ],
         "y": [
          20.412208557128906,
          19.409297943115234,
          8.196840286254883,
          6.742075443267822,
          19.877704620361328,
          1.2747516632080078,
          7.825580596923828,
          3.6068875789642334,
          -43.02724838256836,
          -44.85501480102539,
          6.439216613769531,
          5.444035530090332,
          7.837850093841553,
          2.164637565612793,
          -33.66929244995117,
          -35.86797332763672,
          2.4321863651275635,
          16.085634231567383,
          -23.057052612304688,
          -22.895572662353516,
          -10.41559886932373,
          -5.801978588104248,
          -10.414334297180176,
          -28.461652755737305,
          -24.729129791259766,
          -28.3363094329834,
          -31.717695236206055,
          29.533493041992188,
          -39.06264114379883,
          -12.867048263549805,
          15.648170471191406,
          -20.782529830932617,
          22.22542381286621,
          0.5542264580726624,
          12.44125747680664,
          5.684944152832031,
          20.82086753845215,
          -44.44871520996094,
          -2.701028347015381,
          -11.057875633239746,
          5.25492525100708,
          15.114422798156738,
          -35.55397415161133,
          41.56283187866211,
          16.031721115112305,
          15.839612007141113,
          -6.339225769042969,
          27.81934356689453,
          -14.02387809753418,
          -7.54209566116333,
          31.979503631591797,
          35.98300552368164,
          4.398014545440674,
          -0.07756437361240387,
          1.164236068725586,
          24.715778350830078,
          12.603283882141113,
          15.711750984191895,
          19.42106819152832,
          5.9107232093811035,
          7.686005115509033,
          6.285031795501709,
          13.340324401855469,
          7.233954429626465,
          22.681005477905273,
          21.469013214111328,
          -20.026193618774414,
          -1.0571863651275635,
          2.6245434284210205,
          0.10500431060791016,
          -32.071659088134766,
          9.482586860656738,
          -32.23700714111328,
          6.966189384460449,
          11.146907806396484,
          7.317532539367676,
          -41.37991714477539,
          -41.98832702636719,
          -36.987545013427734,
          -14.335317611694336,
          -13.840533256530762,
          -12.40875244140625,
          31.287841796875,
          -19.410615921020508,
          -14.607341766357422,
          -47.656333923339844,
          -28.872926712036133,
          -37.78776550292969,
          -40.783626556396484,
          -26.035873413085938,
          46.71982955932617,
          -30.200044631958008,
          -37.30608367919922,
          -39.524314880371094,
          9.102209091186523,
          4.244377136230469,
          20.01275062561035,
          -21.007339477539062,
          -32.13577651977539,
          11.146223068237305,
          -8.119370460510254,
          -19.67305564880371,
          -15.35482120513916,
          10.129216194152832,
          11.692218780517578,
          -6.448396682739258,
          4.691923141479492,
          -31.924901962280273,
          -6.343978404998779,
          -29.68006134033203,
          -8.734484672546387,
          -49.02412796020508,
          9.792530059814453,
          -3.633699655532837,
          3.3338358402252197,
          -13.067781448364258,
          -43.244354248046875,
          -30.596181869506836,
          -16.53241729736328,
          10.196242332458496,
          -30.75725746154785,
          23.229501724243164,
          29.68779754638672,
          30.768178939819336
         ],
         "z": [
          8.130939483642578,
          -5.085964202880859,
          -15.646210670471191,
          -6.049196720123291,
          -9.66500186920166,
          25.316608428955078,
          18.514955520629883,
          20.530838012695312,
          -24.01584815979004,
          -24.15266990661621,
          -20.187992095947266,
          -4.82395076751709,
          36.262672424316406,
          38.33114242553711,
          10.896249771118164,
          14.760605812072754,
          20.321578979492188,
          30.94914436340332,
          -3.996471643447876,
          -3.653453826904297,
          -1.4312266111373901,
          1.474905252456665,
          -13.439016342163086,
          1.8483803272247314,
          4.839258670806885,
          -12.47301197052002,
          -15.87110710144043,
          -2.925928831100464,
          -22.28270721435547,
          8.481249809265137,
          6.069693088531494,
          20.902389526367188,
          -10.237336158752441,
          -23.788177490234375,
          -23.123117446899414,
          -24.351102828979492,
          -2.7392537593841553,
          -0.11410187184810638,
          40.53544998168945,
          19.690187454223633,
          -28.287851333618164,
          -12.331446647644043,
          30.198808670043945,
          11.280137062072754,
          -26.19190788269043,
          -20.48353385925293,
          2.457440137863159,
          0.9440385103225708,
          -35.99555206298828,
          19.692646026611328,
          -9.845741271972656,
          -3.2728488445281982,
          -21.01988983154297,
          10.868157386779785,
          -3.4680399894714355,
          34.70033264160156,
          -8.75727653503418,
          -29.465499877929688,
          5.040947437286377,
          21.90279197692871,
          17.821277618408203,
          16.863059997558594,
          -13.385765075683594,
          1.3486231565475464,
          -17.626155853271484,
          -6.818081378936768,
          -16.569107055664062,
          9.42125129699707,
          -0.4387998580932617,
          34.60975646972656,
          -8.061946868896484,
          -17.856643676757812,
          -35.239715576171875,
          -13.532424926757812,
          27.66192626953125,
          8.808372497558594,
          -7.297651290893555,
          -10.990510940551758,
          -10.511327743530273,
          11.23043155670166,
          -12.876383781433105,
          -16.09386444091797,
          -27.50804901123047,
          -12.651725769042969,
          -24.02788543701172,
          -21.8778018951416,
          0.4839521646499634,
          8.769822120666504,
          17.611495971679688,
          17.20193862915039,
          -17.301097869873047,
          23.83348274230957,
          19.598793029785156,
          -23.63520050048828,
          2.4463181495666504,
          3.0227229595184326,
          -16.820362091064453,
          6.485772609710693,
          8.340927124023438,
          3.9104676246643066,
          -18.220050811767578,
          -31.6118106842041,
          -29.213651657104492,
          16.194698333740234,
          9.16800308227539,
          -36.99864959716797,
          -15.992560386657715,
          5.473146915435791,
          -12.992865562438965,
          -16.88286018371582,
          11.483242988586426,
          -14.330541610717773,
          33.77628707885742,
          -39.498443603515625,
          4.521999835968018,
          18.794004440307617,
          -15.91750431060791,
          -16.355295181274414,
          -18.5221004486084,
          31.097862243652344,
          -22.4071102142334,
          14.664094924926758,
          -6.804068565368652,
          -13.622659683227539
         ]
        },
        {
         "marker": {
          "color": "orange",
          "size": 4
         },
         "mode": "markers",
         "name": "place, place-on, place-back, put, put-back",
         "type": "scatter3d",
         "x": [
          -38.08272171020508,
          -40.850318908691406,
          -15.282340049743652,
          35.10051727294922,
          17.083669662475586,
          -6.114789009094238,
          13.23535442352295,
          15.528950691223145,
          -11.662325859069824,
          -16.781110763549805,
          -4.931920051574707,
          4.748697757720947,
          -7.282603740692139,
          -5.706023216247559,
          -16.559919357299805,
          -21.988033294677734,
          -25.424036026000977,
          -20.154296875,
          -18.940738677978516,
          -15.282106399536133,
          13.9596529006958,
          19.28912353515625,
          -33.129608154296875,
          14.126524925231934,
          -26.5389404296875,
          -8.257046699523926,
          -5.23886251449585,
          -27.310714721679688,
          -22.00455665588379,
          -26.56163215637207,
          -30.3530216217041,
          -21.054901123046875,
          -21.396591186523438,
          -34.48611068725586,
          -25.103988647460938,
          -3.9299120903015137,
          7.011159896850586,
          -3.0404562950134277,
          -4.702182769775391,
          -6.254985332489014,
          17.596874237060547,
          -0.4875553846359253,
          -11.90233325958252,
          -29.72058868408203,
          23.876218795776367,
          -33.33295440673828,
          29.60813331604004,
          -24.925640106201172,
          27.561819076538086,
          8.288006782531738,
          -31.670852661132812,
          3.447204113006592,
          -24.04659080505371,
          -14.736124992370605,
          -5.383615493774414,
          25.687150955200195,
          20.7907772064209,
          29.03202247619629,
          32.680362701416016,
          34.815162658691406,
          22.179927825927734,
          25.0695743560791,
          26.615646362304688,
          -20.269216537475586,
          -2.2074291706085205,
          7.289623737335205,
          2.9258337020874023,
          -2.9632511138916016,
          -27.06128692626953,
          11.737092971801758,
          22.07568359375,
          18.905241012573242,
          15.454344749450684,
          5.518742561340332,
          22.189350128173828,
          28.431644439697266,
          27.473352432250977,
          15.695585250854492,
          11.235437393188477,
          -7.9973883628845215,
          23.660541534423828,
          15.78617000579834,
          15.15565013885498,
          1.0078661441802979,
          3.871267557144165,
          17.611995697021484,
          9.945839881896973,
          6.161369323730469,
          35.95567321777344,
          35.04051208496094,
          11.88780403137207,
          4.433981418609619,
          -2.831444263458252,
          6.533802032470703,
          20.346805572509766,
          15.356224060058594,
          15.104540824890137,
          4.443108081817627,
          0.08928074687719345,
          -18.620582580566406,
          12.470643043518066,
          13.502408981323242,
          7.354612827301025,
          16.545909881591797
         ],
         "y": [
          10.972099304199219,
          4.689864635467529,
          -3.9028985500335693,
          -2.1674931049346924,
          7.617380619049072,
          41.971378326416016,
          8.333497047424316,
          -0.7922332286834717,
          -18.890111923217773,
          -14.231780052185059,
          17.269804000854492,
          18.537052154541016,
          -3.684866189956665,
          -1.9263627529144287,
          -26.953472137451172,
          -29.184093475341797,
          -29.095577239990234,
          -32.73826217651367,
          -20.49336051940918,
          -8.605067253112793,
          -7.073988437652588,
          -8.25666618347168,
          16.887527465820312,
          11.72734260559082,
          -14.167877197265625,
          8.379487037658691,
          -16.263092041015625,
          18.616331100463867,
          14.492549896240234,
          22.67661476135254,
          31.22636604309082,
          20.318023681640625,
          24.275911331176758,
          -6.9897050857543945,
          21.929170608520508,
          6.145671367645264,
          1.4301904439926147,
          -7.220114231109619,
          17.925458908081055,
          6.099165916442871,
          11.790898323059082,
          -1.126409649848938,
          42.641075134277344,
          28.57353973388672,
          30.709272384643555,
          4.3235979080200195,
          0.7681792378425598,
          7.592015266418457,
          5.285345554351807,
          0.6532773375511169,
          33.39471435546875,
          -3.2497377395629883,
          15.236180305480957,
          16.236034393310547,
          -37.076839447021484,
          -28.641260147094727,
          -34.25571823120117,
          -37.93178939819336,
          -33.38809585571289,
          -37.16622543334961,
          -19.868927001953125,
          -10.986601829528809,
          14.140999794006348,
          -9.577940940856934,
          -19.96761703491211,
          -28.62827491760254,
          -26.10541534423828,
          -25.548412322998047,
          16.107175827026367,
          -31.182353973388672,
          -26.917325973510742,
          -2.975414514541626,
          -32.84144592285156,
          -21.289081573486328,
          -20.604843139648438,
          -20.323488235473633,
          -25.0853271484375,
          23.576278686523438,
          7.367446422576904,
          19.912689208984375,
          -24.23950958251953,
          -22.51641845703125,
          -10.876684188842773,
          10.431290626525879,
          -32.66633987426758,
          -40.77406692504883,
          -12.67447280883789,
          -11.13765811920166,
          -47.98504638671875,
          -42.297080993652344,
          -26.65725326538086,
          3.4035212993621826,
          -48.29436492919922,
          13.930340766906738,
          -46.78721618652344,
          -21.93651008605957,
          -25.217018127441406,
          -21.529293060302734,
          -27.8294734954834,
          12.507105827331543,
          5.234195232391357,
          8.722692489624023,
          -7.738032341003418,
          2.817777156829834
         ],
         "z": [
          -5.611459732055664,
          -5.449746608734131,
          -8.6848726272583,
          17.915821075439453,
          -11.782258033752441,
          25.242427825927734,
          -17.89905548095703,
          -31.405954360961914,
          -6.715149879455566,
          -7.462451457977295,
          -4.389228820800781,
          -0.5579557418823242,
          16.477338790893555,
          10.89735221862793,
          -5.896509170532227,
          -8.703601837158203,
          -20.864978790283203,
          -20.744342803955078,
          -18.708003997802734,
          12.940993309020996,
          0.08803386241197586,
          0.6768916249275208,
          6.627504348754883,
          30.555465698242188,
          -6.070854663848877,
          16.637155532836914,
          20.867658615112305,
          -5.01364803314209,
          -0.39697763323783875,
          -0.8312830328941345,
          -5.160199165344238,
          -4.731228828430176,
          -9.449316024780273,
          -13.581941604614258,
          22.730920791625977,
          -28.374692916870117,
          -26.604270935058594,
          41.08208465576172,
          -22.811031341552734,
          -22.03681755065918,
          13.848018646240234,
          -6.946013927459717,
          -13.874495506286621,
          -19.24527931213379,
          -5.236573219299316,
          15.120319366455078,
          -26.493410110473633,
          9.459895133972168,
          -25.919025421142578,
          -19.411848068237305,
          -24.922687530517578,
          -23.99610710144043,
          -13.872379302978516,
          -5.787138938903809,
          -5.004724025726318,
          -21.419939041137695,
          -29.347036361694336,
          -20.318876266479492,
          -22.800704956054688,
          -17.721771240234375,
          -16.9969425201416,
          -19.831031799316406,
          38.864749908447266,
          -2.1604812145233154,
          7.626974582672119,
          -5.174428462982178,
          7.645092487335205,
          16.53678321838379,
          -21.083101272583008,
          4.685536861419678,
          -4.810730934143066,
          -12.259806632995605,
          -6.0474748611450195,
          19.40848731994629,
          -0.9374202489852905,
          -12.399898529052734,
          0.334980845451355,
          -14.098862648010254,
          -6.027411460876465,
          32.9676628112793,
          -10.944969177246094,
          -5.426259517669678,
          -23.144100189208984,
          23.9803524017334,
          12.3510103225708,
          -5.426585674285889,
          -9.194854736328125,
          -12.720667839050293,
          -1.1596612930297852,
          -0.07006558775901794,
          -25.866600036621094,
          -37.7218132019043,
          -6.777483940124512,
          28.528867721557617,
          -23.36509132385254,
          -22.950149536132812,
          -18.82162857055664,
          0.6899237036705017,
          -26.526208877563477,
          -8.875959396362305,
          32.82624816894531,
          40.800086975097656,
          28.66911506652832,
          38.174652099609375
         ]
        },
        {
         "marker": {
          "color": "black",
          "size": 4
         },
         "mode": "markers",
         "name": "open",
         "type": "scatter3d",
         "x": [
          27.5432186126709,
          21.94040870666504,
          23.328601837158203,
          16.06053352355957,
          12.886306762695312,
          28.878496170043945,
          -8.15756607055664,
          30.67903709411621,
          -23.504507064819336,
          -1.6994357109069824,
          4.380995750427246,
          32.154701232910156,
          -19.018381118774414,
          5.49275016784668,
          -17.60516929626465,
          21.28483009338379,
          37.55720520019531,
          14.50248908996582,
          4.912926197052002,
          9.619892120361328,
          27.235641479492188,
          19.544191360473633,
          26.624177932739258,
          21.452953338623047,
          -14.456418991088867,
          27.22174835205078,
          18.366504669189453,
          24.77787208557129,
          -20.31075096130371,
          -13.666364669799805,
          16.45770835876465,
          -11.53817367553711,
          -9.153318405151367,
          9.978263854980469,
          12.395914077758789,
          25.913541793823242,
          25.69603729248047,
          23.902997970581055,
          11.541448593139648,
          23.743610382080078,
          20.48360252380371,
          19.1896915435791,
          21.21122932434082,
          2.9900588989257812,
          11.394607543945312,
          8.95059871673584,
          3.731480598449707,
          2.63273024559021,
          16.567541122436523,
          -6.846492767333984,
          -2.2626757621765137,
          10.473033905029297
         ],
         "y": [
          31.33500862121582,
          32.2894287109375,
          18.27073860168457,
          24.163759231567383,
          22.05796241760254,
          24.013647079467773,
          27.313261032104492,
          13.519233703613281,
          -30.481155395507812,
          -12.949029922485352,
          14.023995399475098,
          -6.400001049041748,
          -19.567092895507812,
          30.528263092041016,
          -5.929373264312744,
          16.41486358642578,
          -1.0339159965515137,
          21.344331741333008,
          17.27153968811035,
          21.99863052368164,
          26.30178451538086,
          18.038063049316406,
          15.322815895080566,
          16.9909610748291,
          -23.042692184448242,
          20.466590881347656,
          27.394638061523438,
          14.516937255859375,
          -14.98793888092041,
          20.847583770751953,
          10.795079231262207,
          20.614370346069336,
          16.023967742919922,
          11.71334457397461,
          14.577789306640625,
          20.77814483642578,
          17.81061553955078,
          9.93090534210205,
          4.0426106452941895,
          8.996068954467773,
          -27.23702049255371,
          -6.444648742675781,
          2.078198194503784,
          17.923460006713867,
          4.931055545806885,
          -9.990534782409668,
          26.981794357299805,
          -2.71755313873291,
          6.918047904968262,
          21.718631744384766,
          20.210325241088867,
          -7.974368095397949
         ],
         "z": [
          4.988700866699219,
          12.83226490020752,
          -3.409398078918457,
          24.80588150024414,
          20.64804458618164,
          22.79464340209961,
          29.67865753173828,
          22.93421173095703,
          11.909802436828613,
          0.8749121427536011,
          3.0871262550354004,
          3.4659829139709473,
          -11.532943725585938,
          1.9737070798873901,
          9.418246269226074,
          3.2014899253845215,
          1.0996086597442627,
          2.7900302410125732,
          34.68971252441406,
          27.916200637817383,
          3.0473177433013916,
          14.144781112670898,
          -8.312026023864746,
          20.59785270690918,
          23.350374221801758,
          15.406388282775879,
          14.548788070678711,
          15.958151817321777,
          15.377765655517578,
          29.793964385986328,
          0.44217923283576965,
          22.3784122467041,
          26.125452041625977,
          14.720499038696289,
          18.1931095123291,
          30.344831466674805,
          34.32418441772461,
          21.41399383544922,
          15.885834693908691,
          0.45468786358833313,
          5.843502044677734,
          -30.17711639404297,
          7.130861759185791,
          17.309232711791992,
          0.9543107151985168,
          -36.394081115722656,
          23.34821891784668,
          -42.6234130859375,
          19.826171875,
          26.218454360961914,
          19.976640701293945,
          34.10612106323242
         ]
        },
        {
         "marker": {
          "color": "red",
          "size": 4
         },
         "mode": "markers",
         "name": "close",
         "type": "scatter3d",
         "x": [
          10.469204902648926,
          -1.244850993156433,
          12.507477760314941,
          -23.392635345458984,
          -13.012598037719727,
          -2.7658002376556396,
          -12.451251983642578,
          -14.093944549560547,
          -2.7330715656280518,
          7.8552374839782715,
          3.761570930480957,
          -23.422740936279297,
          -22.426891326904297,
          -12.515676498413086,
          15.229511260986328,
          -15.179116249084473,
          -14.41915512084961,
          0.8853950500488281,
          -28.688236236572266,
          17.142925262451172,
          2.42818021774292,
          1.7393741607666016,
          34.38771057128906,
          34.09538650512695,
          10.345621109008789,
          2.5710320472717285,
          21.18280029296875,
          10.133257865905762,
          24.023860931396484,
          23.269197463989258,
          14.290974617004395,
          2.493661642074585,
          21.035022735595703,
          23.15589714050293
         ],
         "y": [
          25.428985595703125,
          2.6192626953125,
          -4.271246910095215,
          20.32143783569336,
          -28.737382888793945,
          -17.385061264038086,
          -20.593994140625,
          0.3578067421913147,
          -6.455904483795166,
          3.6143128871917725,
          24.843395233154297,
          -23.999980926513672,
          -3.513185977935791,
          -12.026524543762207,
          -0.21711166203022003,
          -19.807260513305664,
          -30.378875732421875,
          8.72105884552002,
          24.892515182495117,
          29.12188148498535,
          13.588288307189941,
          5.260537147521973,
          19.387338638305664,
          25.631237030029297,
          37.5476188659668,
          12.074601173400879,
          -1.2893998622894287,
          -2.246075391769409,
          0.7675601840019226,
          2.153226613998413,
          7.143869400024414,
          -24.935853958129883,
          4.722389221191406,
          -0.5955694317817688
         ],
         "z": [
          9.548898696899414,
          29.879560470581055,
          10.75959587097168,
          34.747459411621094,
          10.386689186096191,
          -5.630727291107178,
          2.826878786087036,
          -3.5190021991729736,
          12.979317665100098,
          24.55243682861328,
          -5.381961345672607,
          15.326831817626953,
          6.345324516296387,
          27.637035369873047,
          23.76150131225586,
          13.499714851379395,
          16.853410720825195,
          38.70423126220703,
          -12.323981285095215,
          3.913267135620117,
          40.264522552490234,
          22.7984676361084,
          3.0979316234588623,
          1.290913462638855,
          21.844486236572266,
          -16.151565551757812,
          24.340862274169922,
          4.340482711791992,
          -2.9990944862365723,
          12.0770845413208,
          7.130487442016602,
          -13.439483642578125,
          36.36639404296875,
          33.345890045166016
         ]
        },
        {
         "marker": {
          "color": "green",
          "size": 4
         },
         "mode": "markers",
         "name": "clean, wipe-off, wipe, wash, rinse",
         "type": "scatter3d",
         "x": [
          -1.0415469408035278,
          -28.20197105407715,
          -37.72904968261719,
          -24.719024658203125,
          -14.34897232055664,
          -10.632256507873535,
          -8.494925498962402,
          -25.43020248413086,
          -14.664240837097168,
          -19.78108787536621,
          -23.647144317626953,
          -10.1124849319458,
          -11.78859806060791,
          -6.068104267120361,
          -28.651805877685547,
          -29.05045509338379,
          -20.854040145874023,
          -21.029991149902344,
          -17.190744400024414,
          -27.153871536254883,
          -41.35188674926758,
          -39.56759262084961,
          -19.03656768798828,
          -28.119590759277344,
          -17.104549407958984,
          -26.679887771606445,
          -18.25197982788086,
          -29.263410568237305,
          -12.970587730407715,
          -33.147586822509766,
          -24.85194206237793,
          -30.391695022583008,
          -31.32853126525879,
          -3.723904848098755,
          -16.28290367126465,
          -8.319917678833008,
          -25.88035774230957,
          -39.417076110839844,
          -38.56564712524414,
          -23.46753692626953,
          -26.113323211669922,
          -28.077592849731445,
          -18.134408950805664,
          -7.249711990356445,
          32.572261810302734,
          -17.814563751220703,
          -31.462745666503906,
          -32.678157806396484,
          -17.710002899169922,
          -6.553539752960205,
          8.988202095031738,
          -11.51154613494873,
          -30.991962432861328,
          -8.784192085266113,
          -5.371599197387695,
          12.823036193847656,
          11.617493629455566,
          1.2539148330688477,
          -16.090373992919922,
          14.662014961242676,
          -19.78321075439453,
          6.436829566955566,
          3.339404344558716,
          -34.370887756347656,
          -38.817626953125,
          6.127032279968262
         ],
         "y": [
          38.92306900024414,
          61.1530647277832,
          15.791690826416016,
          49.297889709472656,
          28.821388244628906,
          36.145263671875,
          31.159557342529297,
          56.51495361328125,
          -15.60658073425293,
          -20.603906631469727,
          -16.657684326171875,
          47.31725311279297,
          42.35305404663086,
          -21.455244064331055,
          38.01499557495117,
          28.306594848632812,
          51.92142105102539,
          49.598289489746094,
          39.6631965637207,
          52.98172378540039,
          33.87620162963867,
          38.535221099853516,
          38.71613693237305,
          44.4631233215332,
          35.772518157958984,
          46.26118087768555,
          20.23193359375,
          37.33298110961914,
          34.720428466796875,
          -5.481251239776611,
          39.46921157836914,
          37.67108154296875,
          54.08687973022461,
          19.8855037689209,
          22.85366439819336,
          39.205326080322266,
          33.23701477050781,
          52.84379577636719,
          47.07279586791992,
          53.587310791015625,
          37.324241638183594,
          38.95551300048828,
          49.84781265258789,
          34.533935546875,
          0.10493714362382889,
          33.757965087890625,
          49.93977355957031,
          55.61892318725586,
          38.52067565917969,
          49.31675720214844,
          -24.45737075805664,
          33.05771255493164,
          -14.890478134155273,
          45.29164123535156,
          -33.801490783691406,
          -31.709430694580078,
          -26.794471740722656,
          -35.53883743286133,
          56.07801055908203,
          -24.208284378051758,
          57.32917022705078,
          -20.862146377563477,
          -3.458498239517212,
          49.87316131591797,
          48.82855987548828,
          -7.749386787414551
         ],
         "z": [
          -7.684500217437744,
          0.12721726298332214,
          -12.50010871887207,
          -2.527482509613037,
          5.876045227050781,
          1.6597166061401367,
          7.974997043609619,
          -4.599958896636963,
          -0.6988630890846252,
          -2.1455841064453125,
          1.9600296020507812,
          20.913192749023438,
          20.313121795654297,
          28.182931900024414,
          12.496183395385742,
          8.550131797790527,
          11.77050495147705,
          7.022802352905273,
          -2.3434643745422363,
          2.6253068447113037,
          2.6369855403900146,
          2.0900509357452393,
          12.04288387298584,
          4.01920747756958,
          16.55195426940918,
          -8.91022777557373,
          -17.765649795532227,
          -1.6219642162322998,
          10.3202543258667,
          -9.226961135864258,
          3.96737003326416,
          5.803591728210449,
          -10.685393333435059,
          -14.793267250061035,
          5.754919052124023,
          12.500565528869629,
          5.6971940994262695,
          -4.626697540283203,
          -6.439506530761719,
          -11.18742847442627,
          -19.096694946289062,
          -15.097034454345703,
          -10.5866117477417,
          16.252994537353516,
          -20.996992111206055,
          -3.788270950317383,
          -3.152866840362549,
          -1.4895246028900146,
          -8.216293334960938,
          -7.160933494567871,
          9.618979454040527,
          -28.352224349975586,
          4.829473972320557,
          -8.534281730651855,
          12.560019493103027,
          20.316871643066406,
          24.470767974853516,
          23.30818748474121,
          -3.0802512168884277,
          16.147377014160156,
          0.5930527448654175,
          29.37696075439453,
          21.9588680267334,
          5.559046268463135,
          2.24444842338562,
          20.28423309326172
         ]
        },
        {
         "marker": {
          "color": "olive",
          "size": 4
         },
         "mode": "markers",
         "name": "cut, chop, slice",
         "type": "scatter3d",
         "x": [
          -27.488088607788086,
          -30.19886589050293,
          -27.111343383789062,
          -31.718868255615234,
          -7.858450889587402,
          -5.096466064453125,
          -7.472372055053711,
          -17.27610969543457,
          -3.211008310317993,
          -4.982165336608887,
          -3.2481753826141357,
          -12.249083518981934,
          -13.650534629821777
         ],
         "y": [
          -44.624027252197266,
          -43.00523376464844,
          -38.22865295410156,
          -38.56059646606445,
          -15.432809829711914,
          -40.22948455810547,
          -41.486541748046875,
          -42.20848846435547,
          -48.935302734375,
          -45.726417541503906,
          -38.20500946044922,
          -44.94718933105469,
          -48.092010498046875
         ],
         "z": [
          2.7919530868530273,
          -3.3922958374023438,
          -2.5522027015686035,
          0.2666686177253723,
          -2.553805351257324,
          30.905044555664062,
          -11.260086059570312,
          -6.851962089538574,
          12.791406631469727,
          15.96219539642334,
          7.229576110839844,
          8.701988220214844,
          5.351001262664795
         ]
        },
        {
         "marker": {
          "color": "purple",
          "size": 4
         },
         "mode": "markers",
         "name": "mix, mix-around, stir, whisk",
         "type": "scatter3d",
         "x": [
          28.243202209472656,
          22.359722137451172,
          31.545957565307617,
          29.32634925842285,
          45.133155822753906,
          45.84737777709961,
          33.96841812133789,
          35.83860778808594,
          11.363595008850098,
          32.58708190917969,
          27.215877532958984,
          28.171560287475586,
          26.207021713256836,
          24.294696807861328,
          20.196916580200195,
          26.826473236083984,
          26.642702102661133,
          32.687538146972656,
          27.758045196533203,
          31.619932174682617
         ],
         "y": [
          -31.720165252685547,
          -35.757022857666016,
          -43.00019073486328,
          -9.79628849029541,
          -32.91329574584961,
          -37.79986572265625,
          -43.74679946899414,
          -50.81477737426758,
          -7.046484470367432,
          -29.75288200378418,
          -38.514869689941406,
          -45.95520782470703,
          -52.88765335083008,
          -49.896278381347656,
          -53.50060272216797,
          -58.397438049316406,
          -61.18547058105469,
          -58.32984161376953,
          -54.594112396240234,
          -53.019874572753906
         ],
         "z": [
          -17.44767189025879,
          -22.64011573791504,
          -16.297508239746094,
          -15.1887788772583,
          -11.70541000366211,
          -11.400619506835938,
          -9.811874389648438,
          -18.079082489013672,
          -26.88350486755371,
          -8.908190727233887,
          -11.29297924041748,
          -4.6932830810546875,
          -2.462798833847046,
          -9.623326301574707,
          -6.32568883895874,
          -7.55565071105957,
          -13.700637817382812,
          -13.057035446166992,
          -15.786467552185059,
          -9.830231666564941
         ]
        },
        {
         "marker": {
          "color": "gray",
          "size": 4
         },
         "mode": "markers",
         "name": "pour",
         "type": "scatter3d",
         "x": [
          -3.5783281326293945,
          -11.843005180358887,
          -12.028023719787598,
          -11.178786277770996,
          -14.770406723022461,
          -6.417511463165283,
          -0.1072671040892601,
          -6.423418045043945,
          -3.131692886352539,
          0.2549101710319519,
          -4.140627861022949,
          27.789823532104492,
          16.833370208740234,
          -5.4033203125,
          34.0252799987793,
          38.2296028137207,
          41.43094253540039,
          37.33174133300781,
          34.021087646484375,
          25.340246200561523,
          21.365917205810547,
          35.80789566040039
         ],
         "y": [
          41.13370895385742,
          -8.425180435180664,
          -10.742867469787598,
          -35.34828186035156,
          47.73664474487305,
          42.94450759887695,
          30.22306251525879,
          -5.40601921081543,
          31.141265869140625,
          0.1160634309053421,
          -7.653990745544434,
          -16.433717727661133,
          -37.145965576171875,
          -28.97275733947754,
          -20.770429611206055,
          -21.774946212768555,
          -20.404159545898438,
          -34.41487121582031,
          -36.412654876708984,
          -36.748779296875,
          -57.1519775390625,
          -25.746944427490234
         ],
         "z": [
          -13.522693634033203,
          -18.362213134765625,
          -12.290558815002441,
          -16.657854080200195,
          7.230961322784424,
          -0.18426209688186646,
          -21.004541397094727,
          -4.960963249206543,
          -17.13067626953125,
          -13.263323783874512,
          -11.864012718200684,
          -24.47208023071289,
          -25.620643615722656,
          -0.6190065741539001,
          -16.144622802734375,
          -3.063055992126465,
          -6.442042350769043,
          -1.7897369861602783,
          -5.467843532562256,
          -3.6108815670013428,
          -12.68515682220459,
          -23.507198333740234
         ]
        }
       ],
       "layout": {
        "template": {
         "data": {
          "bar": [
           {
            "error_x": {
             "color": "#2a3f5f"
            },
            "error_y": {
             "color": "#2a3f5f"
            },
            "marker": {
             "line": {
              "color": "#E5ECF6",
              "width": 0.5
             },
             "pattern": {
              "fillmode": "overlay",
              "size": 10,
              "solidity": 0.2
             }
            },
            "type": "bar"
           }
          ],
          "barpolar": [
           {
            "marker": {
             "line": {
              "color": "#E5ECF6",
              "width": 0.5
             },
             "pattern": {
              "fillmode": "overlay",
              "size": 10,
              "solidity": 0.2
             }
            },
            "type": "barpolar"
           }
          ],
          "carpet": [
           {
            "aaxis": {
             "endlinecolor": "#2a3f5f",
             "gridcolor": "white",
             "linecolor": "white",
             "minorgridcolor": "white",
             "startlinecolor": "#2a3f5f"
            },
            "baxis": {
             "endlinecolor": "#2a3f5f",
             "gridcolor": "white",
             "linecolor": "white",
             "minorgridcolor": "white",
             "startlinecolor": "#2a3f5f"
            },
            "type": "carpet"
           }
          ],
          "choropleth": [
           {
            "colorbar": {
             "outlinewidth": 0,
             "ticks": ""
            },
            "type": "choropleth"
           }
          ],
          "contour": [
           {
            "colorbar": {
             "outlinewidth": 0,
             "ticks": ""
            },
            "colorscale": [
             [
              0,
              "#0d0887"
             ],
             [
              0.1111111111111111,
              "#46039f"
             ],
             [
              0.2222222222222222,
              "#7201a8"
             ],
             [
              0.3333333333333333,
              "#9c179e"
             ],
             [
              0.4444444444444444,
              "#bd3786"
             ],
             [
              0.5555555555555556,
              "#d8576b"
             ],
             [
              0.6666666666666666,
              "#ed7953"
             ],
             [
              0.7777777777777778,
              "#fb9f3a"
             ],
             [
              0.8888888888888888,
              "#fdca26"
             ],
             [
              1,
              "#f0f921"
             ]
            ],
            "type": "contour"
           }
          ],
          "contourcarpet": [
           {
            "colorbar": {
             "outlinewidth": 0,
             "ticks": ""
            },
            "type": "contourcarpet"
           }
          ],
          "heatmap": [
           {
            "colorbar": {
             "outlinewidth": 0,
             "ticks": ""
            },
            "colorscale": [
             [
              0,
              "#0d0887"
             ],
             [
              0.1111111111111111,
              "#46039f"
             ],
             [
              0.2222222222222222,
              "#7201a8"
             ],
             [
              0.3333333333333333,
              "#9c179e"
             ],
             [
              0.4444444444444444,
              "#bd3786"
             ],
             [
              0.5555555555555556,
              "#d8576b"
             ],
             [
              0.6666666666666666,
              "#ed7953"
             ],
             [
              0.7777777777777778,
              "#fb9f3a"
             ],
             [
              0.8888888888888888,
              "#fdca26"
             ],
             [
              1,
              "#f0f921"
             ]
            ],
            "type": "heatmap"
           }
          ],
          "heatmapgl": [
           {
            "colorbar": {
             "outlinewidth": 0,
             "ticks": ""
            },
            "colorscale": [
             [
              0,
              "#0d0887"
             ],
             [
              0.1111111111111111,
              "#46039f"
             ],
             [
              0.2222222222222222,
              "#7201a8"
             ],
             [
              0.3333333333333333,
              "#9c179e"
             ],
             [
              0.4444444444444444,
              "#bd3786"
             ],
             [
              0.5555555555555556,
              "#d8576b"
             ],
             [
              0.6666666666666666,
              "#ed7953"
             ],
             [
              0.7777777777777778,
              "#fb9f3a"
             ],
             [
              0.8888888888888888,
              "#fdca26"
             ],
             [
              1,
              "#f0f921"
             ]
            ],
            "type": "heatmapgl"
           }
          ],
          "histogram": [
           {
            "marker": {
             "pattern": {
              "fillmode": "overlay",
              "size": 10,
              "solidity": 0.2
             }
            },
            "type": "histogram"
           }
          ],
          "histogram2d": [
           {
            "colorbar": {
             "outlinewidth": 0,
             "ticks": ""
            },
            "colorscale": [
             [
              0,
              "#0d0887"
             ],
             [
              0.1111111111111111,
              "#46039f"
             ],
             [
              0.2222222222222222,
              "#7201a8"
             ],
             [
              0.3333333333333333,
              "#9c179e"
             ],
             [
              0.4444444444444444,
              "#bd3786"
             ],
             [
              0.5555555555555556,
              "#d8576b"
             ],
             [
              0.6666666666666666,
              "#ed7953"
             ],
             [
              0.7777777777777778,
              "#fb9f3a"
             ],
             [
              0.8888888888888888,
              "#fdca26"
             ],
             [
              1,
              "#f0f921"
             ]
            ],
            "type": "histogram2d"
           }
          ],
          "histogram2dcontour": [
           {
            "colorbar": {
             "outlinewidth": 0,
             "ticks": ""
            },
            "colorscale": [
             [
              0,
              "#0d0887"
             ],
             [
              0.1111111111111111,
              "#46039f"
             ],
             [
              0.2222222222222222,
              "#7201a8"
             ],
             [
              0.3333333333333333,
              "#9c179e"
             ],
             [
              0.4444444444444444,
              "#bd3786"
             ],
             [
              0.5555555555555556,
              "#d8576b"
             ],
             [
              0.6666666666666666,
              "#ed7953"
             ],
             [
              0.7777777777777778,
              "#fb9f3a"
             ],
             [
              0.8888888888888888,
              "#fdca26"
             ],
             [
              1,
              "#f0f921"
             ]
            ],
            "type": "histogram2dcontour"
           }
          ],
          "mesh3d": [
           {
            "colorbar": {
             "outlinewidth": 0,
             "ticks": ""
            },
            "type": "mesh3d"
           }
          ],
          "parcoords": [
           {
            "line": {
             "colorbar": {
              "outlinewidth": 0,
              "ticks": ""
             }
            },
            "type": "parcoords"
           }
          ],
          "pie": [
           {
            "automargin": true,
            "type": "pie"
           }
          ],
          "scatter": [
           {
            "fillpattern": {
             "fillmode": "overlay",
             "size": 10,
             "solidity": 0.2
            },
            "type": "scatter"
           }
          ],
          "scatter3d": [
           {
            "line": {
             "colorbar": {
              "outlinewidth": 0,
              "ticks": ""
             }
            },
            "marker": {
             "colorbar": {
              "outlinewidth": 0,
              "ticks": ""
             }
            },
            "type": "scatter3d"
           }
          ],
          "scattercarpet": [
           {
            "marker": {
             "colorbar": {
              "outlinewidth": 0,
              "ticks": ""
             }
            },
            "type": "scattercarpet"
           }
          ],
          "scattergeo": [
           {
            "marker": {
             "colorbar": {
              "outlinewidth": 0,
              "ticks": ""
             }
            },
            "type": "scattergeo"
           }
          ],
          "scattergl": [
           {
            "marker": {
             "colorbar": {
              "outlinewidth": 0,
              "ticks": ""
             }
            },
            "type": "scattergl"
           }
          ],
          "scattermapbox": [
           {
            "marker": {
             "colorbar": {
              "outlinewidth": 0,
              "ticks": ""
             }
            },
            "type": "scattermapbox"
           }
          ],
          "scatterpolar": [
           {
            "marker": {
             "colorbar": {
              "outlinewidth": 0,
              "ticks": ""
             }
            },
            "type": "scatterpolar"
           }
          ],
          "scatterpolargl": [
           {
            "marker": {
             "colorbar": {
              "outlinewidth": 0,
              "ticks": ""
             }
            },
            "type": "scatterpolargl"
           }
          ],
          "scatterternary": [
           {
            "marker": {
             "colorbar": {
              "outlinewidth": 0,
              "ticks": ""
             }
            },
            "type": "scatterternary"
           }
          ],
          "surface": [
           {
            "colorbar": {
             "outlinewidth": 0,
             "ticks": ""
            },
            "colorscale": [
             [
              0,
              "#0d0887"
             ],
             [
              0.1111111111111111,
              "#46039f"
             ],
             [
              0.2222222222222222,
              "#7201a8"
             ],
             [
              0.3333333333333333,
              "#9c179e"
             ],
             [
              0.4444444444444444,
              "#bd3786"
             ],
             [
              0.5555555555555556,
              "#d8576b"
             ],
             [
              0.6666666666666666,
              "#ed7953"
             ],
             [
              0.7777777777777778,
              "#fb9f3a"
             ],
             [
              0.8888888888888888,
              "#fdca26"
             ],
             [
              1,
              "#f0f921"
             ]
            ],
            "type": "surface"
           }
          ],
          "table": [
           {
            "cells": {
             "fill": {
              "color": "#EBF0F8"
             },
             "line": {
              "color": "white"
             }
            },
            "header": {
             "fill": {
              "color": "#C8D4E3"
             },
             "line": {
              "color": "white"
             }
            },
            "type": "table"
           }
          ]
         },
         "layout": {
          "annotationdefaults": {
           "arrowcolor": "#2a3f5f",
           "arrowhead": 0,
           "arrowwidth": 1
          },
          "autotypenumbers": "strict",
          "coloraxis": {
           "colorbar": {
            "outlinewidth": 0,
            "ticks": ""
           }
          },
          "colorscale": {
           "diverging": [
            [
             0,
             "#8e0152"
            ],
            [
             0.1,
             "#c51b7d"
            ],
            [
             0.2,
             "#de77ae"
            ],
            [
             0.3,
             "#f1b6da"
            ],
            [
             0.4,
             "#fde0ef"
            ],
            [
             0.5,
             "#f7f7f7"
            ],
            [
             0.6,
             "#e6f5d0"
            ],
            [
             0.7,
             "#b8e186"
            ],
            [
             0.8,
             "#7fbc41"
            ],
            [
             0.9,
             "#4d9221"
            ],
            [
             1,
             "#276419"
            ]
           ],
           "sequential": [
            [
             0,
             "#0d0887"
            ],
            [
             0.1111111111111111,
             "#46039f"
            ],
            [
             0.2222222222222222,
             "#7201a8"
            ],
            [
             0.3333333333333333,
             "#9c179e"
            ],
            [
             0.4444444444444444,
             "#bd3786"
            ],
            [
             0.5555555555555556,
             "#d8576b"
            ],
            [
             0.6666666666666666,
             "#ed7953"
            ],
            [
             0.7777777777777778,
             "#fb9f3a"
            ],
            [
             0.8888888888888888,
             "#fdca26"
            ],
            [
             1,
             "#f0f921"
            ]
           ],
           "sequentialminus": [
            [
             0,
             "#0d0887"
            ],
            [
             0.1111111111111111,
             "#46039f"
            ],
            [
             0.2222222222222222,
             "#7201a8"
            ],
            [
             0.3333333333333333,
             "#9c179e"
            ],
            [
             0.4444444444444444,
             "#bd3786"
            ],
            [
             0.5555555555555556,
             "#d8576b"
            ],
            [
             0.6666666666666666,
             "#ed7953"
            ],
            [
             0.7777777777777778,
             "#fb9f3a"
            ],
            [
             0.8888888888888888,
             "#fdca26"
            ],
            [
             1,
             "#f0f921"
            ]
           ]
          },
          "colorway": [
           "#636efa",
           "#EF553B",
           "#00cc96",
           "#ab63fa",
           "#FFA15A",
           "#19d3f3",
           "#FF6692",
           "#B6E880",
           "#FF97FF",
           "#FECB52"
          ],
          "font": {
           "color": "#2a3f5f"
          },
          "geo": {
           "bgcolor": "white",
           "lakecolor": "white",
           "landcolor": "#E5ECF6",
           "showlakes": true,
           "showland": true,
           "subunitcolor": "white"
          },
          "hoverlabel": {
           "align": "left"
          },
          "hovermode": "closest",
          "mapbox": {
           "style": "light"
          },
          "paper_bgcolor": "white",
          "plot_bgcolor": "#E5ECF6",
          "polar": {
           "angularaxis": {
            "gridcolor": "white",
            "linecolor": "white",
            "ticks": ""
           },
           "bgcolor": "#E5ECF6",
           "radialaxis": {
            "gridcolor": "white",
            "linecolor": "white",
            "ticks": ""
           }
          },
          "scene": {
           "xaxis": {
            "backgroundcolor": "#E5ECF6",
            "gridcolor": "white",
            "gridwidth": 2,
            "linecolor": "white",
            "showbackground": true,
            "ticks": "",
            "zerolinecolor": "white"
           },
           "yaxis": {
            "backgroundcolor": "#E5ECF6",
            "gridcolor": "white",
            "gridwidth": 2,
            "linecolor": "white",
            "showbackground": true,
            "ticks": "",
            "zerolinecolor": "white"
           },
           "zaxis": {
            "backgroundcolor": "#E5ECF6",
            "gridcolor": "white",
            "gridwidth": 2,
            "linecolor": "white",
            "showbackground": true,
            "ticks": "",
            "zerolinecolor": "white"
           }
          },
          "shapedefaults": {
           "line": {
            "color": "#2a3f5f"
           }
          },
          "ternary": {
           "aaxis": {
            "gridcolor": "white",
            "linecolor": "white",
            "ticks": ""
           },
           "baxis": {
            "gridcolor": "white",
            "linecolor": "white",
            "ticks": ""
           },
           "bgcolor": "#E5ECF6",
           "caxis": {
            "gridcolor": "white",
            "linecolor": "white",
            "ticks": ""
           }
          },
          "title": {
           "x": 0.05
          },
          "xaxis": {
           "automargin": true,
           "gridcolor": "white",
           "linecolor": "white",
           "ticks": "",
           "title": {
            "standoff": 15
           },
           "zerolinecolor": "white",
           "zerolinewidth": 2
          },
          "yaxis": {
           "automargin": true,
           "gridcolor": "white",
           "linecolor": "white",
           "ticks": "",
           "title": {
            "standoff": 15
           },
           "zerolinecolor": "white",
           "zerolinewidth": 2
          }
         }
        }
       }
      }
     },
     "metadata": {},
     "output_type": "display_data"
    }
   ],
   "source": [
    "kmeans = KMeans(n_clusters=8, random_state=0, n_init=\"auto\").fit(clips_feature_tensor)\n",
    "cmap = ['blue', 'orange', 'green', 'red', 'purple', 'gray', 'black', 'olive']\n",
    "kmeans_color_map = {f\"{i}\": color for i, color in enumerate(cmap)}\n",
    "\n",
    "y_kmeans = kmeans.predict(clips_feature_tensor)\n",
    "\n",
    "tsne = TSNE(n_components=3, random_state=42)\n",
    "# Addestrare il modello e trasformare i dati\n",
    "X = tsne.fit_transform(clips_feature_tensor)\n",
    "# scatter plot of X values\n",
    "df = pd.DataFrame(X, columns=['x', 'y', 'z'])\n",
    "df['kmeans'] = y_kmeans.astype(str)\n",
    "df['labels'] = np.array(labels).astype(str)\n",
    "\n",
    "\n",
    "#plot label k_means\n",
    "fig = px.scatter_3d(df, x='x', y='y', z='z', color=\"kmeans\", color_discrete_map=kmeans_color_map, title=\"plot using k_means label\")\n",
    "fig.update_traces(marker_size=4)\n",
    "fig.show()\n",
    "\n",
    "\n",
    "cmap = ['blue', 'orange', 'black', 'red', 'green', 'olive', 'purple', 'gray']\n",
    "#plot real label\n",
    "fig = go.Figure()\n",
    "for i, label in enumerate(LABELS):\n",
    "    class_data = df[df['labels'] == str(i)]\n",
    "    fig.add_trace(go.Scatter3d(\n",
    "        x=class_data['x'], y=class_data['y'], z=class_data['z'],\n",
    "        mode='markers',\n",
    "        marker=dict(size=10, color=cmap[i]),\n",
    "        name=label\n",
    "    ))\n",
    "fig.update_traces(marker_size=4)\n",
    "fig.show()"
   ]
  },
  {
   "cell_type": "markdown",
   "metadata": {},
   "source": [
    "## UMAP 2D\n"
   ]
  },
  {
   "cell_type": "code",
   "execution_count": 13,
   "metadata": {},
   "outputs": [
    {
     "name": "stderr",
     "output_type": "stream",
     "text": [
      "c:\\Users\\iplov\\miniconda3\\envs\\aml_ego\\Lib\\site-packages\\umap\\umap_.py:1945: UserWarning:\n",
      "\n",
      "n_jobs value 1 overridden to 1 by setting random_state. Use no seed for parallelism.\n",
      "\n"
     ]
    },
    {
     "data": {
      "image/png": "[encoded data removed]",
      "text/plain": [
       "<Figure size 640x480 with 1 Axes>"
      ]
     },
     "metadata": {},
     "output_type": "display_data"
    },
    {
     "data": {
      "image/png": "[encoded data removed]",
      "text/plain": [
       "<Figure size 640x480 with 1 Axes>"
      ]
     },
     "metadata": {},
     "output_type": "display_data"
    }
   ],
   "source": [
    "umap_2d = UMAP(n_components=2, init='random', random_state=0)\n",
    "proj_2d = umap_2d.fit_transform(clips_feature_tensor)\n",
    "\n",
    "\n",
    "#plot k-means labels\n",
    "kmeans = KMeans(n_clusters=8, random_state=0, n_init=\"auto\").fit(clips_feature_tensor)\n",
    "cmap = ListedColormap(['blue', 'orange', 'green', 'red', 'purple', 'gray', 'black', 'olive'])\n",
    "\n",
    "y_kmeans = kmeans.predict(clips_feature_tensor)\n",
    "\n",
    "# scatter plot of X values\n",
    "plt.figure(1)\n",
    "plt.scatter(proj_2d[:, 0], proj_2d[:, 1], c=y_kmeans,cmap=cmap, s=50)\n",
    "\n",
    "plt.show()\n",
    "\n",
    "#plot real labels\n",
    "cmap = ListedColormap(['gray', 'orange', 'black', 'red', 'green', 'olive', 'purple', 'blue'])\n",
    "legend_handles = [plt.Line2D([0], [0], marker='o', color='w', markerfacecolor=cmap(i),  markersize=10, label=desc) \n",
    "                for i, desc in enumerate(LABELS)]\n",
    "plt.figure(2)\n",
    "\n",
    "# scatter plot of X values\n",
    "plt.scatter(proj_2d[:, 0], proj_2d[:, 1], c=labels, cmap=cmap, s=50)\n",
    "# Add the legend\n",
    "plt.legend(handles=legend_handles, loc='upper left', bbox_to_anchor=(1, 1))\n",
    "\n",
    "\n",
    "plt.show()\n"
   ]
  },
  {
   "cell_type": "markdown",
   "metadata": {},
   "source": [
    "## UMAP 3D"
   ]
  },
  {
   "cell_type": "code",
   "execution_count": 14,
   "metadata": {},
   "outputs": [
    {
     "name": "stderr",
     "output_type": "stream",
     "text": [
      "c:\\Users\\iplov\\miniconda3\\envs\\aml_ego\\Lib\\site-packages\\umap\\umap_.py:1945: UserWarning:\n",
      "\n",
      "n_jobs value 1 overridden to 1 by setting random_state. Use no seed for parallelism.\n",
      "\n"
     ]
    },
    {
     "data": {
      "application/vnd.plotly.v1+json": {
       "config": {
        "plotlyServerURL": "https://plot.ly"
       },
       "data": [
        {
         "hovertemplate": "kmeans=6<br>x=%{x}<br>y=%{y}<br>z=%{z}<extra></extra>",
         "legendgroup": "6",
         "marker": {
          "color": "black",
          "size": 5,
          "symbol": "circle"
         },
         "mode": "markers",
         "name": "6",
         "scene": "scene",
         "showlegend": true,
         "type": "scatter3d",
         "x": [
          7.275582313537598,
          7.674644470214844,
          7.832877159118652,
          7.405818462371826,
          7.520441055297852,
          7.1352643966674805,
          8.205126762390137,
          7.651198387145996,
          8.19272518157959,
          7.962827682495117,
          8.543601036071777,
          7.548131465911865,
          7.513309001922607,
          8.375688552856445,
          6.545857906341553,
          7.062314510345459,
          7.111633777618408,
          6.643999099731445,
          7.265190601348877,
          7.037441730499268,
          7.9794840812683105,
          7.203690052032471,
          7.2229719161987305,
          7.112044811248779,
          7.4557952880859375,
          7.2947282791137695,
          8.236281394958496,
          8.18732738494873,
          6.6504998207092285,
          8.287818908691406,
          7.76454496383667,
          7.240461349487305,
          7.578459739685059,
          7.047123908996582,
          8.39535140991211,
          7.39283561706543,
          7.686148643493652,
          8.383332252502441,
          8.346426010131836,
          8.034415245056152,
          7.660588264465332,
          7.310990333557129,
          7.382026672363281,
          7.657745361328125,
          8.271282196044922,
          8.045146942138672,
          7.4649739265441895,
          7.069042205810547,
          8.453865051269531,
          8.326805114746094,
          8.379454612731934,
          7.954102993011475,
          7.395381450653076,
          7.739772796630859,
          8.359833717346191,
          6.705575942993164,
          7.459251403808594,
          7.381666660308838,
          7.292840480804443,
          7.881731033325195,
          8.078827857971191,
          7.456355571746826,
          8.536697387695312,
          8.612236022949219,
          8.615039825439453,
          8.247112274169922,
          8.266705513000488,
          7.972136497497559,
          6.790055751800537,
          7.758688449859619,
          7.3505096435546875,
          7.300912857055664,
          7.470067501068115,
          7.550351619720459,
          8.094537734985352,
          7.930878639221191,
          7.831298351287842,
          7.206282138824463,
          7.777528285980225,
          7.512339115142822,
          8.179383277893066,
          6.842953681945801,
          8.262748718261719,
          7.620320796966553,
          7.825496196746826,
          7.906038761138916,
          8.123749732971191,
          8.341296195983887,
          8.390715599060059,
          8.351561546325684,
          8.384984970092773
         ],
         "y": [
          3.4258694648742676,
          3.5086615085601807,
          3.7210469245910645,
          3.614642858505249,
          3.19051194190979,
          3.559206008911133,
          3.62127947807312,
          4.116492748260498,
          3.551443099975586,
          4.116483688354492,
          3.446707010269165,
          3.0299994945526123,
          4.730434417724609,
          3.4184436798095703,
          2.601041078567505,
          3.4975812435150146,
          3.5618577003479004,
          3.3847293853759766,
          3.773573160171509,
          3.5989813804626465,
          3.833033800125122,
          3.797133207321167,
          3.761106014251709,
          3.6895840167999268,
          3.1411452293395996,
          3.4298386573791504,
          4.165465831756592,
          3.7134196758270264,
          3.3696672916412354,
          4.0221123695373535,
          3.719825029373169,
          3.814628839492798,
          3.5857131481170654,
          3.3280224800109863,
          3.971808433532715,
          3.609018325805664,
          3.8225715160369873,
          4.058534622192383,
          3.941406488418579,
          3.985891103744507,
          3.4047040939331055,
          3.4725584983825684,
          3.567620038986206,
          3.2625298500061035,
          3.3070011138916016,
          3.3330464363098145,
          3.131507396697998,
          2.8445370197296143,
          3.3795135021209717,
          3.961512804031372,
          3.4368653297424316,
          3.565964460372925,
          3.4937875270843506,
          3.2662625312805176,
          3.3595874309539795,
          3.3666746616363525,
          4.781168460845947,
          2.938127040863037,
          2.693638563156128,
          3.3439502716064453,
          3.3076388835906982,
          3.510324239730835,
          3.4653258323669434,
          3.7287111282348633,
          3.9990158081054688,
          3.7028391361236572,
          3.4537785053253174,
          3.4977688789367676,
          3.1482186317443848,
          4.119306564331055,
          2.784575939178467,
          2.733264446258545,
          2.8480417728424072,
          2.8172290325164795,
          4.12647008895874,
          3.0986216068267822,
          4.035620212554932,
          2.972963809967041,
          4.401681423187256,
          3.1489572525024414,
          3.477922201156616,
          3.035825729370117,
          4.063190460205078,
          4.6376051902771,
          4.128826141357422,
          4.14318323135376,
          4.377354621887207,
          4.38773775100708,
          4.36242151260376,
          4.267539024353027,
          4.2622785568237305
         ],
         "z": [
          -1.5913722515106201,
          -2.2583346366882324,
          -2.027611494064331,
          -2.0908119678497314,
          -1.673361897468567,
          -1.248538613319397,
          -1.6632826328277588,
          -0.7385051846504211,
          -1.6989599466323853,
          -0.8311886787414551,
          -1.7242300510406494,
          -1.1280549764633179,
          -2.1483099460601807,
          -1.610292911529541,
          -0.6624780297279358,
          -1.2237153053283691,
          -1.6355522871017456,
          -0.03537328541278839,
          -0.8657671213150024,
          -0.7057557702064514,
          -0.9010466933250427,
          -1.621568202972412,
          -1.5851001739501953,
          -1.5539494752883911,
          -1.5435959100723267,
          -1.529126763343811,
          -1.2001447677612305,
          -0.9842972159385681,
          0.09361493587493896,
          -0.8753190040588379,
          -1.8078216314315796,
          -2.2328438758850098,
          -1.7089234590530396,
          -1.7358547449111938,
          -1.0735019445419312,
          -0.8067787289619446,
          -0.8510801792144775,
          -0.9179388284683228,
          -1.5239393711090088,
          -0.7010769844055176,
          -2.2591958045959473,
          -2.2865214347839355,
          -2.34891676902771,
          -2.255185842514038,
          -1.5981205701828003,
          -1.436586856842041,
          -1.4835866689682007,
          -1.0763440132141113,
          -1.8094371557235718,
          -1.3660235404968262,
          -1.7279822826385498,
          -1.9745244979858398,
          -2.2978358268737793,
          -2.2969722747802734,
          -1.662758231163025,
          -1.0265635251998901,
          -2.0739758014678955,
          -1.203970193862915,
          -1.2494564056396484,
          -1.318336009979248,
          -1.5453473329544067,
          -0.9764920473098755,
          -1.6149884462356567,
          -1.3921635150909424,
          -1.225650429725647,
          -0.8729811906814575,
          -1.4864320755004883,
          -1.2843247652053833,
          -1.0138895511627197,
          -0.679810106754303,
          -1.5439130067825317,
          -1.3537412881851196,
          -1.6501519680023193,
          -1.0924769639968872,
          -0.6638396382331848,
          -0.9005751609802246,
          -1.3877395391464233,
          -1.1066330671310425,
          -1.944903016090393,
          -0.878926694393158,
          -1.1341304779052734,
          -0.8312335014343262,
          -1.0594494342803955,
          -2.0922865867614746,
          -1.445555329322815,
          -1.5738942623138428,
          -1.1596169471740723,
          -1.0727689266204834,
          -1.0229933261871338,
          -1.1107724905014038,
          -1.0384926795959473
         ]
        },
        {
         "hovertemplate": "kmeans=0<br>x=%{x}<br>y=%{y}<br>z=%{z}<extra></extra>",
         "legendgroup": "0",
         "marker": {
          "color": "blue",
          "size": 5,
          "symbol": "circle"
         },
         "mode": "markers",
         "name": "0",
         "scene": "scene",
         "showlegend": true,
         "type": "scatter3d",
         "x": [
          4.203342914581299,
          4.264443397521973,
          4.5410237312316895,
          4.720096111297607,
          4.904397010803223,
          4.287119388580322,
          4.2417683601379395,
          4.311008930206299,
          6.877280235290527,
          4.426175594329834,
          4.35561466217041,
          5.1766839027404785,
          6.411228656768799,
          3.48047137260437,
          3.5641417503356934,
          4.524170875549316,
          4.736478328704834,
          4.978647232055664,
          3.412541151046753,
          4.790797233581543,
          3.9191722869873047,
          4.425291061401367,
          3.4084391593933105,
          4.489774227142334,
          4.674188137054443,
          3.8297581672668457,
          4.1608567237854,
          3.9831624031066895,
          3.3863513469696045,
          4.595495223999023,
          4.086723804473877,
          4.993719100952148,
          3.394942045211792,
          4.974053859710693,
          4.575558185577393,
          4.9717183113098145,
          4.190674304962158,
          3.3625757694244385,
          4.6174798011779785,
          4.785374164581299,
          4.222603797912598,
          3.919062614440918,
          3.559363603591919,
          4.106318950653076,
          4.329700469970703,
          5.017786979675293,
          4.008650779724121,
          4.9280853271484375,
          3.9912168979644775,
          4.2957353591918945,
          4.632258415222168,
          4.576096057891846,
          4.101183891296387,
          4.280795574188232,
          4.615417003631592,
          4.80958890914917
         ],
         "y": [
          3.746838092803955,
          3.8246870040893555,
          4.1268229484558105,
          4.191488265991211,
          4.246707439422607,
          3.321662425994873,
          3.641339063644409,
          3.273237943649292,
          2.0236265659332275,
          2.750734567642212,
          2.8343875408172607,
          3.689054489135742,
          2.21661639213562,
          3.5650720596313477,
          3.6794307231903076,
          4.125152111053467,
          4.035905361175537,
          3.8974127769470215,
          3.742318868637085,
          4.117347717285156,
          3.909370183944702,
          4.083360195159912,
          3.650998592376709,
          4.427174091339111,
          4.067389965057373,
          3.271531343460083,
          3.792938709259033,
          3.133859395980835,
          3.679677963256836,
          4.1047258377075195,
          3.208794355392456,
          3.982913017272949,
          3.647345781326294,
          3.9624383449554443,
          3.492483377456665,
          3.591433048248291,
          3.155780553817749,
          3.654893636703491,
          3.501459836959839,
          3.897670030593872,
          3.887244939804077,
          4.082196235656738,
          4.013919353485107,
          4.1577067375183105,
          3.1128430366516113,
          4.537987232208252,
          3.9137027263641357,
          4.201963424682617,
          3.930999755859375,
          3.878279685974121,
          4.328073501586914,
          4.396926403045654,
          3.7030532360076904,
          3.8717775344848633,
          3.9018173217773438,
          4.210714817047119
         ],
         "z": [
          -1.6073123216629028,
          -1.8520069122314453,
          -0.7885812520980835,
          -0.7290425896644592,
          -0.40318459272384644,
          -1.4495134353637695,
          -1.5428845882415771,
          -1.4494074583053589,
          -0.1436856985092163,
          -1.331329345703125,
          -1.295378565788269,
          -0.8783093690872192,
          0.10699745267629623,
          -1.4268364906311035,
          -1.3327324390411377,
          -0.8368253707885742,
          -1.0753302574157715,
          -0.9728778600692749,
          -1.7902299165725708,
          -1.0011039972305298,
          -1.5601718425750732,
          -1.017876148223877,
          -1.3150408267974854,
          -0.7819948196411133,
          -1.1803921461105347,
          -1.4828368425369263,
          -1.5963107347488403,
          -1.4778506755828857,
          -1.4420862197875977,
          -1.1961153745651245,
          -1.4575542211532593,
          -0.5293254852294922,
          -1.4551337957382202,
          -1.4309546947479248,
          -1.2549093961715698,
          -0.7787516117095947,
          -1.3684170246124268,
          -1.5086565017700195,
          -1.4118337631225586,
          -1.495285987854004,
          -1.8473566770553589,
          -1.0185421705245972,
          -1.2630852460861206,
          -0.7681064009666443,
          -1.3741060495376587,
          -0.8899980187416077,
          -1.5661219358444214,
          -1.287896990776062,
          -1.6454579830169678,
          -1.7799760103225708,
          -1.3714913129806519,
          -1.1070454120635986,
          -1.850329875946045,
          -1.9347196817398071,
          -1.6681442260742188,
          -1.5610265731811523
         ]
        },
        {
         "hovertemplate": "kmeans=2<br>x=%{x}<br>y=%{y}<br>z=%{z}<extra></extra>",
         "legendgroup": "2",
         "marker": {
          "color": "green",
          "size": 5,
          "symbol": "circle"
         },
         "mode": "markers",
         "name": "2",
         "scene": "scene",
         "showlegend": true,
         "type": "scatter3d",
         "x": [
          2.603339433670044,
          2.7698423862457275,
          2.6096293926239014,
          3.4526610374450684,
          3.150184154510498,
          2.693450450897217,
          3.0754454135894775,
          3.0431768894195557,
          2.5544278621673584,
          3.2282965183258057,
          2.633044481277466,
          2.544832229614258,
          2.4727416038513184,
          2.6071407794952393,
          2.860386848449707,
          2.6323719024658203,
          2.5597383975982666,
          2.8036954402923584,
          2.7418694496154785,
          2.6990160942077637,
          2.489678144454956
         ],
         "y": [
          3.917813539505005,
          3.890195846557617,
          4.003235340118408,
          3.8488948345184326,
          3.7820682525634766,
          3.8936586380004883,
          3.7090892791748047,
          3.7388763427734375,
          4.041798114776611,
          3.627962589263916,
          3.835557699203491,
          3.7164320945739746,
          3.609245538711548,
          3.971757411956787,
          3.972785234451294,
          3.848165988922119,
          3.786515235900879,
          3.925870895385742,
          3.917524814605713,
          3.7372560501098633,
          3.61816668510437
         ],
         "z": [
          -2.298699140548706,
          -2.1357476711273193,
          -2.3676974773406982,
          -1.8226464986801147,
          -1.863145112991333,
          -2.1425654888153076,
          -1.6845393180847168,
          -1.787751317024231,
          -2.287662982940674,
          -1.6000422239303589,
          -2.186586618423462,
          -2.0569562911987305,
          -2.1108176708221436,
          -2.2917532920837402,
          -2.1988396644592285,
          -2.1949214935302734,
          -2.189814805984497,
          -2.1671037673950195,
          -2.1845366954803467,
          -1.901106357574463,
          -2.0874452590942383
         ]
        },
        {
         "hovertemplate": "kmeans=5<br>x=%{x}<br>y=%{y}<br>z=%{z}<extra></extra>",
         "legendgroup": "5",
         "marker": {
          "color": "gray",
          "size": 5,
          "symbol": "circle"
         },
         "mode": "markers",
         "name": "5",
         "scene": "scene",
         "showlegend": true,
         "type": "scatter3d",
         "x": [
          5.151334762573242,
          5.186413288116455,
          6.896453857421875,
          7.082071781158447,
          7.826373100280762,
          7.307344913482666,
          5.2839226722717285,
          5.804625988006592,
          7.067708492279053,
          6.998497009277344,
          7.163561820983887,
          6.818836688995361,
          5.579007148742676,
          7.1953277587890625,
          7.2361602783203125,
          7.2530598640441895,
          7.246663570404053,
          5.780138969421387,
          7.018754005432129,
          7.196599960327148,
          7.176564693450928,
          7.147985935211182,
          7.4250288009643555,
          5.529124736785889,
          5.059922695159912,
          5.599731922149658,
          5.673397541046143,
          5.551898002624512,
          5.543578624725342,
          6.673506736755371,
          5.399009704589844,
          5.710941791534424,
          5.613790512084961,
          5.388803958892822,
          5.355533123016357,
          5.41973876953125,
          6.888851642608643,
          7.270532131195068,
          5.77439022064209,
          5.684808254241943,
          6.763930320739746,
          6.564436912536621,
          5.274415493011475,
          7.716817378997803,
          6.850042819976807,
          6.793737411499023,
          6.885819911956787,
          6.758970737457275,
          6.634842872619629,
          7.856603622436523,
          5.708172798156738,
          5.471498012542725,
          5.826208114624023,
          5.781676769256592,
          5.171379089355469,
          5.063724994659424,
          7.1923346519470215,
          5.799248218536377,
          7.5218658447265625,
          6.955798149108887,
          5.653253555297852,
          5.862565040588379,
          5.642428398132324,
          7.5516839027404785,
          7.278010368347168,
          6.915457248687744,
          5.595298767089844,
          5.3238067626953125,
          6.028942108154297,
          6.642327785491943,
          7.029901027679443,
          7.063663482666016,
          7.081347942352295,
          7.590142250061035,
          5.662334442138672,
          5.585936069488525,
          5.643686771392822,
          5.982524871826172,
          7.407932758331299,
          6.899373531341553,
          6.474607467651367,
          6.286993503570557,
          5.663364887237549,
          6.004370212554932,
          5.970653533935547,
          6.051896095275879,
          7.058372974395752,
          7.173427581787109,
          6.6044721603393555,
          6.551363945007324,
          6.492592811584473,
          6.76838493347168,
          5.888235092163086,
          7.122699737548828,
          5.305306911468506,
          7.795297622680664,
          7.6148600578308105,
          6.813878059387207
         ],
         "y": [
          4.363752365112305,
          4.106691360473633,
          3.180294990539551,
          2.8232994079589844,
          4.029619216918945,
          4.327712535858154,
          4.519318103790283,
          4.170698165893555,
          5.117640495300293,
          5.199306011199951,
          4.7125468254089355,
          4.850030422210693,
          4.482030391693115,
          4.954596042633057,
          2.47324800491333,
          2.4241175651550293,
          2.4953742027282715,
          3.860722780227661,
          3.6129183769226074,
          3.2757046222686768,
          2.66552734375,
          2.722684144973755,
          4.278594493865967,
          4.371065616607666,
          4.44563627243042,
          4.470815181732178,
          4.669797420501709,
          4.440276145935059,
          4.331815242767334,
          3.883801221847534,
          4.349065780639648,
          4.661031246185303,
          4.2446441650390625,
          4.614831924438477,
          4.558013439178467,
          4.526935577392578,
          4.38016939163208,
          3.3541905879974365,
          4.676006317138672,
          4.752089500427246,
          4.909595012664795,
          3.9010512828826904,
          4.210231304168701,
          3.4865572452545166,
          4.9152512550354,
          4.886179447174072,
          4.9099040031433105,
          4.856269359588623,
          4.578933238983154,
          3.534327745437622,
          4.361625671386719,
          3.8072659969329834,
          4.330826759338379,
          4.271312236785889,
          4.4611382484436035,
          4.245348930358887,
          3.084200859069824,
          4.1839518547058105,
          4.7378387451171875,
          5.222817897796631,
          4.535907745361328,
          4.527337074279785,
          4.512505531311035,
          4.653058052062988,
          4.929995536804199,
          3.3927054405212402,
          3.9256744384765625,
          4.479800701141357,
          3.9846086502075195,
          3.658785820007324,
          2.817004919052124,
          2.8594186305999756,
          2.8387787342071533,
          4.668518543243408,
          4.239922523498535,
          4.37009859085083,
          4.016016006469727,
          4.2540154457092285,
          4.3478474617004395,
          3.697134017944336,
          4.458056449890137,
          4.501528263092041,
          4.547968864440918,
          3.754361867904663,
          3.86358642578125,
          3.7831482887268066,
          3.3259479999542236,
          5.089812278747559,
          4.445201873779297,
          4.452931880950928,
          4.4466962814331055,
          3.7216262817382812,
          4.089365482330322,
          5.096246242523193,
          4.374179840087891,
          4.52547025680542,
          4.479512691497803,
          3.8634326457977295
         ],
         "z": [
          -0.6105995178222656,
          -0.3501453995704651,
          -1.6416221857070923,
          -1.0474474430084229,
          -0.5204169750213623,
          -0.7075157761573792,
          -0.6102474927902222,
          0.20169976353645325,
          -2.0445573329925537,
          -2.0625414848327637,
          -1.8080384731292725,
          -1.0566277503967285,
          0.6655587553977966,
          -2.0237317085266113,
          -0.4227995276451111,
          -0.7111172676086426,
          -0.890009880065918,
          -1.0373936891555786,
          -0.8675364255905151,
          -0.20536565780639648,
          -1.4495733976364136,
          -1.6359091997146606,
          -0.371113121509552,
          0.5331458449363708,
          -0.9105758666992188,
          -0.45823100209236145,
          -0.3836575448513031,
          0.10258084535598755,
          0.2980695962905884,
          -0.6033867001533508,
          -0.3606959283351898,
          -0.710096538066864,
          -0.7613552212715149,
          -0.6198321580886841,
          -0.5353899598121643,
          -0.40102633833885193,
          0.18143624067306519,
          -0.039397284388542175,
          -0.768264651298523,
          -0.5325903296470642,
          -0.9567631483078003,
          -1.1762813329696655,
          -1.0391861200332642,
          -1.1976009607315063,
          -1.208266019821167,
          -1.0738939046859741,
          -1.0471022129058838,
          -1.1146939992904663,
          -1.0920528173446655,
          -1.2577052116394043,
          -1.01589035987854,
          0.9239403605461121,
          0.4276449382305145,
          0.3824813961982727,
          -1.1597373485565186,
          -1.394313097000122,
          -1.0604623556137085,
          -0.571990430355072,
          -2.0727791786193848,
          -2.045612096786499,
          -1.1855741739273071,
          1.712386965751648,
          -1.216884732246399,
          -1.9897736310958862,
          -1.9693900346755981,
          -0.4713291525840759,
          1.1875395774841309,
          -1.1978709697723389,
          -0.14487119019031525,
          -1.1644035577774048,
          -1.700474739074707,
          -1.7194013595581055,
          -0.7534533739089966,
          -2.165519952774048,
          1.1304466724395752,
          0.9450514316558838,
          0.8750623464584351,
          1.1173326969146729,
          -0.44411855936050415,
          -1.1918390989303589,
          0.3465406000614166,
          0.5163238048553467,
          -1.2095636129379272,
          0.5065332055091858,
          0.7507051825523376,
          0.7230923771858215,
          -0.7011713981628418,
          -2.1384623050689697,
          0.23597638309001923,
          0.2729787230491638,
          0.24879620969295502,
          -0.3848571479320526,
          1.4451223611831665,
          -2.0860719680786133,
          -1.353460669517517,
          -0.8331462740898132,
          -0.90575110912323,
          -0.5917237997055054
         ]
        },
        {
         "hovertemplate": "kmeans=3<br>x=%{x}<br>y=%{y}<br>z=%{z}<extra></extra>",
         "legendgroup": "3",
         "marker": {
          "color": "red",
          "size": 5,
          "symbol": "circle"
         },
         "mode": "markers",
         "name": "3",
         "scene": "scene",
         "showlegend": true,
         "type": "scatter3d",
         "x": [
          5.082535743713379,
          6.332908630371094,
          6.387375831604004,
          7.206363677978516,
          7.223748683929443,
          7.233224868774414,
          5.480402946472168,
          5.382907390594482,
          5.436052322387695,
          4.0421319007873535,
          5.464230537414551,
          5.635128021240234,
          5.62844181060791,
          5.99041748046875,
          5.861245155334473,
          5.894517421722412,
          5.725579261779785,
          5.643206596374512,
          5.656538009643555,
          5.688165664672852,
          5.386744022369385,
          5.407889366149902,
          5.442678928375244,
          5.61140775680542,
          5.703205585479736,
          5.909938812255859,
          6.338516712188721,
          5.81594705581665,
          5.804662704467773,
          5.506889820098877,
          5.576035499572754,
          5.765772342681885,
          6.160166263580322,
          5.618662357330322,
          5.748790264129639,
          5.474419593811035,
          5.461715221405029,
          5.540593147277832,
          5.5258378982543945,
          5.48851203918457,
          5.507643699645996,
          6.159238815307617,
          5.6798319816589355,
          6.001274108886719,
          5.593746662139893,
          6.784731864929199,
          5.7178239822387695,
          5.834228992462158,
          5.904510021209717,
          5.890195369720459,
          6.417212009429932,
          6.4601664543151855
         ],
         "y": [
          4.245047569274902,
          4.182395935058594,
          4.107528209686279,
          1.4674612283706665,
          2.2768454551696777,
          2.2302651405334473,
          4.490231037139893,
          4.546545505523682,
          4.554248809814453,
          4.185993671417236,
          4.211386203765869,
          4.569245338439941,
          4.76832914352417,
          4.556498050689697,
          4.607161045074463,
          4.547336578369141,
          4.692083358764648,
          4.7040181159973145,
          4.819791316986084,
          4.012071132659912,
          4.332335948944092,
          4.2357072830200195,
          4.297912120819092,
          3.9227335453033447,
          3.6827852725982666,
          4.09609842300415,
          4.219837665557861,
          3.829911708831787,
          3.486961841583252,
          4.17989444732666,
          4.031915187835693,
          3.473679304122925,
          4.381218910217285,
          3.94599986076355,
          3.515570640563965,
          4.3529534339904785,
          4.325331211090088,
          4.411151885986328,
          4.541159629821777,
          4.733130931854248,
          4.811065673828125,
          4.159275531768799,
          4.643657207489014,
          4.117806434631348,
          4.428736686706543,
          3.7248895168304443,
          4.498795509338379,
          4.37848424911499,
          3.855259895324707,
          4.180755615234375,
          4.005823612213135,
          4.001837253570557
         ],
         "z": [
          -0.19145210087299347,
          2.496774435043335,
          2.450775623321533,
          0.758463978767395,
          1.5284909009933472,
          1.5388356447219849,
          1.0776937007904053,
          1.0664540529251099,
          0.9892560839653015,
          -0.6586127877235413,
          1.7204046249389648,
          2.163236379623413,
          2.5101659297943115,
          2.3103997707366943,
          2.6569058895111084,
          2.124871015548706,
          2.754195213317871,
          2.4454915523529053,
          2.670144557952881,
          1.7393187284469604,
          1.768540859222412,
          1.5529617071151733,
          1.709207534790039,
          1.7550684213638306,
          2.0718343257904053,
          1.0457572937011719,
          2.583582639694214,
          2.241870641708374,
          2.0008039474487305,
          1.9301233291625977,
          1.8309626579284668,
          2.0344057083129883,
          2.4456634521484375,
          1.9709358215332031,
          1.8859226703643799,
          2.212620496749878,
          2.1735870838165283,
          1.041640281677246,
          2.5797111988067627,
          2.834124803543091,
          2.9908995628356934,
          1.900850534439087,
          2.8122148513793945,
          1.699733853340149,
          2.1379120349884033,
          1.161763310432434,
          2.8132500648498535,
          2.348778009414673,
          1.0143687725067139,
          1.891165852546692,
          1.7399754524230957,
          1.6666324138641357
         ]
        },
        {
         "hovertemplate": "kmeans=1<br>x=%{x}<br>y=%{y}<br>z=%{z}<extra></extra>",
         "legendgroup": "1",
         "marker": {
          "color": "orange",
          "size": 5,
          "symbol": "circle"
         },
         "mode": "markers",
         "name": "1",
         "scene": "scene",
         "showlegend": true,
         "type": "scatter3d",
         "x": [
          6.4882988929748535,
          6.673088550567627,
          4.437094211578369,
          6.671230792999268,
          6.709709167480469,
          6.648043632507324,
          6.792917251586914,
          7.012712001800537,
          7.135901927947998,
          7.108942031860352,
          6.647425174713135,
          7.061569690704346,
          6.86574125289917,
          7.146851539611816,
          7.301389217376709,
          6.866995811462402,
          7.092964172363281,
          6.686157703399658,
          6.564904689788818,
          7.005749225616455,
          6.878579139709473,
          7.09142541885376,
          6.690504550933838,
          7.121048927307129,
          7.128722667694092,
          7.1846842765808105,
          7.001685619354248,
          7.089658260345459,
          6.65720272064209,
          7.376530647277832,
          7.399961948394775,
          7.0465779304504395,
          6.401925086975098,
          6.64249849319458,
          6.734734058380127,
          6.628844261169434,
          6.424106121063232,
          6.307723522186279,
          5.249904155731201,
          6.995913028717041,
          6.4122314453125,
          6.558143138885498,
          6.69175910949707,
          6.10269021987915,
          6.668281078338623,
          6.349045276641846,
          7.2226881980896,
          6.826878547668457,
          7.216750144958496,
          7.034176349639893,
          6.87600040435791,
          7.110982418060303,
          7.200685977935791,
          6.961400985717773,
          6.784688949584961,
          6.825282573699951,
          6.5927252769470215,
          6.196163177490234,
          6.454932689666748,
          5.981480598449707,
          6.332548141479492,
          6.122583866119385,
          6.452691555023193,
          6.616191864013672,
          5.972198963165283,
          5.878531455993652,
          6.3797407150268555,
          6.482975482940674,
          6.108691692352295,
          6.038928031921387,
          5.975400924682617,
          6.0320234298706055,
          6.264219760894775,
          6.561728477478027,
          6.548275947570801,
          5.83098840713501,
          6.098470211029053,
          6.077695846557617,
          5.95884370803833,
          6.046655178070068,
          5.964873790740967,
          7.2214202880859375,
          6.435046195983887,
          6.285681247711182,
          7.120424747467041,
          6.247013568878174
         ],
         "y": [
          2.4024014472961426,
          2.3128278255462646,
          2.777799367904663,
          3.1131622791290283,
          1.9676140546798706,
          1.8613390922546387,
          2.023035764694214,
          2.0392706394195557,
          2.117762565612793,
          2.0299322605133057,
          1.7730530500411987,
          1.859933614730835,
          1.8585598468780518,
          2.106597900390625,
          2.3327345848083496,
          1.9066190719604492,
          1.827913522720337,
          2.191998243331909,
          1.907610297203064,
          1.6155072450637817,
          1.7275583744049072,
          1.6198363304138184,
          1.7992515563964844,
          1.5587103366851807,
          1.4370230436325073,
          1.4400806427001953,
          1.6655114889144897,
          1.5357517004013062,
          1.7252682447433472,
          3.103111743927002,
          3.0118064880371094,
          2.7189419269561768,
          2.540849447250366,
          2.0407960414886475,
          2.2571861743927,
          1.9910203218460083,
          2.2955245971679688,
          2.9288928508758545,
          4.1425042152404785,
          2.9355504512786865,
          2.323303699493408,
          2.7452950477600098,
          2.730656385421753,
          3.235485076904297,
          2.8682947158813477,
          2.043195962905884,
          2.925868034362793,
          2.445425033569336,
          2.5933597087860107,
          2.7252867221832275,
          3.041964054107666,
          2.8343284130096436,
          2.4016880989074707,
          2.985197067260742,
          1.9186662435531616,
          2.7503714561462402,
          3.0227510929107666,
          3.4114484786987305,
          2.7979860305786133,
          3.24062442779541,
          2.5416061878204346,
          2.9666974544525146,
          2.1393778324127197,
          2.398968458175659,
          2.8302366733551025,
          3.4958932399749756,
          2.647925615310669,
          2.2776708602905273,
          2.8173775672912598,
          2.865889549255371,
          2.8769423961639404,
          2.7648370265960693,
          2.3774778842926025,
          2.521707773208618,
          2.0367650985717773,
          3.1473402976989746,
          2.9600017070770264,
          3.107591152191162,
          3.215535879135132,
          3.055241584777832,
          4.139429569244385,
          2.5537636280059814,
          2.6822729110717773,
          2.697091817855835,
          2.7400805950164795,
          3.3733553886413574
         ],
         "z": [
          -0.4697188436985016,
          -0.3333342969417572,
          -1.2880955934524536,
          -0.8593887686729431,
          1.0470466613769531,
          0.9644792675971985,
          0.8764519095420837,
          0.0573582723736763,
          0.18481941521167755,
          0.324808806180954,
          0.8653590083122253,
          0.06546171754598618,
          0.37562552094459534,
          -0.05830995738506317,
          -0.43909159302711487,
          -0.03987342119216919,
          0.07992026954889297,
          -0.28465205430984497,
          -0.035523172467947006,
          0.3602852523326874,
          0.34595349431037903,
          0.38604456186294556,
          0.3612385392189026,
          0.4872896373271942,
          0.591540515422821,
          0.6285616755485535,
          0.10942624509334564,
          0.20749688148498535,
          0.7378556728363037,
          -0.26555827260017395,
          -0.4041902422904968,
          0.13395525515079498,
          -0.30145472288131714,
          0.12063555419445038,
          0.4574073255062103,
          1.0448559522628784,
          0.5666345357894897,
          0.3068644404411316,
          -0.27258816361427307,
          1.1879976987838745,
          0.9129976630210876,
          -0.21760007739067078,
          -0.055037472397089005,
          0.2588099539279938,
          -0.610323965549469,
          0.325233519077301,
          -0.057671498507261276,
          -0.274885892868042,
          1.5848573446273804,
          1.4465128183364868,
          1.4618266820907593,
          1.5771986246109009,
          1.5583221912384033,
          1.6017664670944214,
          0.12090738862752914,
          1.2251473665237427,
          0.9516062140464783,
          1.6481953859329224,
          1.259515643119812,
          1.3791217803955078,
          1.327012538909912,
          1.6584460735321045,
          -0.013162360526621342,
          1.5580490827560425,
          1.2313814163208008,
          1.8850457668304443,
          1.5516618490219116,
          1.0985907316207886,
          1.3437612056732178,
          1.3437093496322632,
          1.2197203636169434,
          1.2150514125823975,
          1.117155909538269,
          1.5538679361343384,
          1.197348713874817,
          1.233646273612976,
          0.9719698429107666,
          1.6633285284042358,
          1.874531865119934,
          1.8291045427322388,
          1.2561687231063843,
          -1.1080681085586548,
          1.525070071220398,
          1.6566357612609863,
          1.52040433883667,
          1.0064047574996948
         ]
        },
        {
         "hovertemplate": "kmeans=7<br>x=%{x}<br>y=%{y}<br>z=%{z}<extra></extra>",
         "legendgroup": "7",
         "marker": {
          "color": "olive",
          "size": 5,
          "symbol": "circle"
         },
         "mode": "markers",
         "name": "7",
         "scene": "scene",
         "showlegend": true,
         "type": "scatter3d",
         "x": [
          7.287901878356934,
          7.340724945068359,
          7.377962112426758,
          7.4164557456970215,
          6.442466735839844,
          7.256377220153809,
          6.485350608825684,
          6.540340423583984,
          6.514091491699219,
          6.684661865234375
         ],
         "y": [
          1.8710267543792725,
          1.8195708990097046,
          1.8000409603118896,
          1.8368990421295166,
          2.2829833030700684,
          2.0418219566345215,
          2.282470941543579,
          2.1942880153656006,
          2.1746153831481934,
          2.1060285568237305
         ],
         "z": [
          0.9337787628173828,
          0.8268956542015076,
          0.818531334400177,
          0.7398985028266907,
          1.017307996749878,
          1.1284794807434082,
          1.4699674844741821,
          1.4170089960098267,
          1.3514034748077393,
          1.420211911201477
         ]
        },
        {
         "hovertemplate": "kmeans=4<br>x=%{x}<br>y=%{y}<br>z=%{z}<extra></extra>",
         "legendgroup": "4",
         "marker": {
          "color": "purple",
          "size": 5,
          "symbol": "circle"
         },
         "mode": "markers",
         "name": "4",
         "scene": "scene",
         "showlegend": true,
         "type": "scatter3d",
         "x": [
          5.621120452880859,
          5.4626784324646,
          5.46462345123291,
          5.535494804382324,
          5.25590181350708,
          5.785172939300537,
          5.661630153656006,
          5.429443359375,
          5.297220230102539,
          5.3864336013793945,
          5.248438358306885,
          5.372991561889648,
          5.465087413787842,
          5.523239612579346,
          5.27311897277832,
          5.288997173309326,
          5.236037731170654,
          5.2272419929504395,
          5.20962381362915,
          5.251061916351318,
          5.596801280975342
         ],
         "y": [
          4.917908668518066,
          4.942286014556885,
          4.971996307373047,
          4.835055828094482,
          5.167199611663818,
          4.424149990081787,
          4.796581745147705,
          4.988691329956055,
          5.092681884765625,
          4.965342998504639,
          5.083587646484375,
          4.824206829071045,
          4.969017505645752,
          4.935863494873047,
          5.063601016998291,
          5.041835308074951,
          5.017323970794678,
          5.03288459777832,
          5.111690998077393,
          5.132298469543457,
          4.5177202224731445
         ],
         "z": [
          3.014610767364502,
          2.792419910430908,
          2.672652244567871,
          3.069579839706421,
          3.554107904434204,
          2.7014622688293457,
          2.9602184295654297,
          3.573601007461548,
          3.8707873821258545,
          3.705831527709961,
          3.828620195388794,
          3.5829849243164062,
          3.364718437194824,
          3.2271931171417236,
          3.8613121509552,
          3.8256287574768066,
          3.90395188331604,
          3.819087028503418,
          3.812791347503662,
          3.642993927001953,
          3.1040217876434326
         ]
        }
       ],
       "layout": {
        "legend": {
         "title": {
          "text": "kmeans"
         },
         "tracegroupgap": 0
        },
        "margin": {
         "t": 60
        },
        "scene": {
         "domain": {
          "x": [
           0,
           1
          ],
          "y": [
           0,
           1
          ]
         },
         "xaxis": {
          "title": {
           "text": "x"
          }
         },
         "yaxis": {
          "title": {
           "text": "y"
          }
         },
         "zaxis": {
          "title": {
           "text": "z"
          }
         }
        },
        "template": {
         "data": {
          "bar": [
           {
            "error_x": {
             "color": "#2a3f5f"
            },
            "error_y": {
             "color": "#2a3f5f"
            },
            "marker": {
             "line": {
              "color": "#E5ECF6",
              "width": 0.5
             },
             "pattern": {
              "fillmode": "overlay",
              "size": 10,
              "solidity": 0.2
             }
            },
            "type": "bar"
           }
          ],
          "barpolar": [
           {
            "marker": {
             "line": {
              "color": "#E5ECF6",
              "width": 0.5
             },
             "pattern": {
              "fillmode": "overlay",
              "size": 10,
              "solidity": 0.2
             }
            },
            "type": "barpolar"
           }
          ],
          "carpet": [
           {
            "aaxis": {
             "endlinecolor": "#2a3f5f",
             "gridcolor": "white",
             "linecolor": "white",
             "minorgridcolor": "white",
             "startlinecolor": "#2a3f5f"
            },
            "baxis": {
             "endlinecolor": "#2a3f5f",
             "gridcolor": "white",
             "linecolor": "white",
             "minorgridcolor": "white",
             "startlinecolor": "#2a3f5f"
            },
            "type": "carpet"
           }
          ],
          "choropleth": [
           {
            "colorbar": {
             "outlinewidth": 0,
             "ticks": ""
            },
            "type": "choropleth"
           }
          ],
          "contour": [
           {
            "colorbar": {
             "outlinewidth": 0,
             "ticks": ""
            },
            "colorscale": [
             [
              0,
              "#0d0887"
             ],
             [
              0.1111111111111111,
              "#46039f"
             ],
             [
              0.2222222222222222,
              "#7201a8"
             ],
             [
              0.3333333333333333,
              "#9c179e"
             ],
             [
              0.4444444444444444,
              "#bd3786"
             ],
             [
              0.5555555555555556,
              "#d8576b"
             ],
             [
              0.6666666666666666,
              "#ed7953"
             ],
             [
              0.7777777777777778,
              "#fb9f3a"
             ],
             [
              0.8888888888888888,
              "#fdca26"
             ],
             [
              1,
              "#f0f921"
             ]
            ],
            "type": "contour"
           }
          ],
          "contourcarpet": [
           {
            "colorbar": {
             "outlinewidth": 0,
             "ticks": ""
            },
            "type": "contourcarpet"
           }
          ],
          "heatmap": [
           {
            "colorbar": {
             "outlinewidth": 0,
             "ticks": ""
            },
            "colorscale": [
             [
              0,
              "#0d0887"
             ],
             [
              0.1111111111111111,
              "#46039f"
             ],
             [
              0.2222222222222222,
              "#7201a8"
             ],
             [
              0.3333333333333333,
              "#9c179e"
             ],
             [
              0.4444444444444444,
              "#bd3786"
             ],
             [
              0.5555555555555556,
              "#d8576b"
             ],
             [
              0.6666666666666666,
              "#ed7953"
             ],
             [
              0.7777777777777778,
              "#fb9f3a"
             ],
             [
              0.8888888888888888,
              "#fdca26"
             ],
             [
              1,
              "#f0f921"
             ]
            ],
            "type": "heatmap"
           }
          ],
          "heatmapgl": [
           {
            "colorbar": {
             "outlinewidth": 0,
             "ticks": ""
            },
            "colorscale": [
             [
              0,
              "#0d0887"
             ],
             [
              0.1111111111111111,
              "#46039f"
             ],
             [
              0.2222222222222222,
              "#7201a8"
             ],
             [
              0.3333333333333333,
              "#9c179e"
             ],
             [
              0.4444444444444444,
              "#bd3786"
             ],
             [
              0.5555555555555556,
              "#d8576b"
             ],
             [
              0.6666666666666666,
              "#ed7953"
             ],
             [
              0.7777777777777778,
              "#fb9f3a"
             ],
             [
              0.8888888888888888,
              "#fdca26"
             ],
             [
              1,
              "#f0f921"
             ]
            ],
            "type": "heatmapgl"
           }
          ],
          "histogram": [
           {
            "marker": {
             "pattern": {
              "fillmode": "overlay",
              "size": 10,
              "solidity": 0.2
             }
            },
            "type": "histogram"
           }
          ],
          "histogram2d": [
           {
            "colorbar": {
             "outlinewidth": 0,
             "ticks": ""
            },
            "colorscale": [
             [
              0,
              "#0d0887"
             ],
             [
              0.1111111111111111,
              "#46039f"
             ],
             [
              0.2222222222222222,
              "#7201a8"
             ],
             [
              0.3333333333333333,
              "#9c179e"
             ],
             [
              0.4444444444444444,
              "#bd3786"
             ],
             [
              0.5555555555555556,
              "#d8576b"
             ],
             [
              0.6666666666666666,
              "#ed7953"
             ],
             [
              0.7777777777777778,
              "#fb9f3a"
             ],
             [
              0.8888888888888888,
              "#fdca26"
             ],
             [
              1,
              "#f0f921"
             ]
            ],
            "type": "histogram2d"
           }
          ],
          "histogram2dcontour": [
           {
            "colorbar": {
             "outlinewidth": 0,
             "ticks": ""
            },
            "colorscale": [
             [
              0,
              "#0d0887"
             ],
             [
              0.1111111111111111,
              "#46039f"
             ],
             [
              0.2222222222222222,
              "#7201a8"
             ],
             [
              0.3333333333333333,
              "#9c179e"
             ],
             [
              0.4444444444444444,
              "#bd3786"
             ],
             [
              0.5555555555555556,
              "#d8576b"
             ],
             [
              0.6666666666666666,
              "#ed7953"
             ],
             [
              0.7777777777777778,
              "#fb9f3a"
             ],
             [
              0.8888888888888888,
              "#fdca26"
             ],
             [
              1,
              "#f0f921"
             ]
            ],
            "type": "histogram2dcontour"
           }
          ],
          "mesh3d": [
           {
            "colorbar": {
             "outlinewidth": 0,
             "ticks": ""
            },
            "type": "mesh3d"
           }
          ],
          "parcoords": [
           {
            "line": {
             "colorbar": {
              "outlinewidth": 0,
              "ticks": ""
             }
            },
            "type": "parcoords"
           }
          ],
          "pie": [
           {
            "automargin": true,
            "type": "pie"
           }
          ],
          "scatter": [
           {
            "fillpattern": {
             "fillmode": "overlay",
             "size": 10,
             "solidity": 0.2
            },
            "type": "scatter"
           }
          ],
          "scatter3d": [
           {
            "line": {
             "colorbar": {
              "outlinewidth": 0,
              "ticks": ""
             }
            },
            "marker": {
             "colorbar": {
              "outlinewidth": 0,
              "ticks": ""
             }
            },
            "type": "scatter3d"
           }
          ],
          "scattercarpet": [
           {
            "marker": {
             "colorbar": {
              "outlinewidth": 0,
              "ticks": ""
             }
            },
            "type": "scattercarpet"
           }
          ],
          "scattergeo": [
           {
            "marker": {
             "colorbar": {
              "outlinewidth": 0,
              "ticks": ""
             }
            },
            "type": "scattergeo"
           }
          ],
          "scattergl": [
           {
            "marker": {
             "colorbar": {
              "outlinewidth": 0,
              "ticks": ""
             }
            },
            "type": "scattergl"
           }
          ],
          "scattermapbox": [
           {
            "marker": {
             "colorbar": {
              "outlinewidth": 0,
              "ticks": ""
             }
            },
            "type": "scattermapbox"
           }
          ],
          "scatterpolar": [
           {
            "marker": {
             "colorbar": {
              "outlinewidth": 0,
              "ticks": ""
             }
            },
            "type": "scatterpolar"
           }
          ],
          "scatterpolargl": [
           {
            "marker": {
             "colorbar": {
              "outlinewidth": 0,
              "ticks": ""
             }
            },
            "type": "scatterpolargl"
           }
          ],
          "scatterternary": [
           {
            "marker": {
             "colorbar": {
              "outlinewidth": 0,
              "ticks": ""
             }
            },
            "type": "scatterternary"
           }
          ],
          "surface": [
           {
            "colorbar": {
             "outlinewidth": 0,
             "ticks": ""
            },
            "colorscale": [
             [
              0,
              "#0d0887"
             ],
             [
              0.1111111111111111,
              "#46039f"
             ],
             [
              0.2222222222222222,
              "#7201a8"
             ],
             [
              0.3333333333333333,
              "#9c179e"
             ],
             [
              0.4444444444444444,
              "#bd3786"
             ],
             [
              0.5555555555555556,
              "#d8576b"
             ],
             [
              0.6666666666666666,
              "#ed7953"
             ],
             [
              0.7777777777777778,
              "#fb9f3a"
             ],
             [
              0.8888888888888888,
              "#fdca26"
             ],
             [
              1,
              "#f0f921"
             ]
            ],
            "type": "surface"
           }
          ],
          "table": [
           {
            "cells": {
             "fill": {
              "color": "#EBF0F8"
             },
             "line": {
              "color": "white"
             }
            },
            "header": {
             "fill": {
              "color": "#C8D4E3"
             },
             "line": {
              "color": "white"
             }
            },
            "type": "table"
           }
          ]
         },
         "layout": {
          "annotationdefaults": {
           "arrowcolor": "#2a3f5f",
           "arrowhead": 0,
           "arrowwidth": 1
          },
          "autotypenumbers": "strict",
          "coloraxis": {
           "colorbar": {
            "outlinewidth": 0,
            "ticks": ""
           }
          },
          "colorscale": {
           "diverging": [
            [
             0,
             "#8e0152"
            ],
            [
             0.1,
             "#c51b7d"
            ],
            [
             0.2,
             "#de77ae"
            ],
            [
             0.3,
             "#f1b6da"
            ],
            [
             0.4,
             "#fde0ef"
            ],
            [
             0.5,
             "#f7f7f7"
            ],
            [
             0.6,
             "#e6f5d0"
            ],
            [
             0.7,
             "#b8e186"
            ],
            [
             0.8,
             "#7fbc41"
            ],
            [
             0.9,
             "#4d9221"
            ],
            [
             1,
             "#276419"
            ]
           ],
           "sequential": [
            [
             0,
             "#0d0887"
            ],
            [
             0.1111111111111111,
             "#46039f"
            ],
            [
             0.2222222222222222,
             "#7201a8"
            ],
            [
             0.3333333333333333,
             "#9c179e"
            ],
            [
             0.4444444444444444,
             "#bd3786"
            ],
            [
             0.5555555555555556,
             "#d8576b"
            ],
            [
             0.6666666666666666,
             "#ed7953"
            ],
            [
             0.7777777777777778,
             "#fb9f3a"
            ],
            [
             0.8888888888888888,
             "#fdca26"
            ],
            [
             1,
             "#f0f921"
            ]
           ],
           "sequentialminus": [
            [
             0,
             "#0d0887"
            ],
            [
             0.1111111111111111,
             "#46039f"
            ],
            [
             0.2222222222222222,
             "#7201a8"
            ],
            [
             0.3333333333333333,
             "#9c179e"
            ],
            [
             0.4444444444444444,
             "#bd3786"
            ],
            [
             0.5555555555555556,
             "#d8576b"
            ],
            [
             0.6666666666666666,
             "#ed7953"
            ],
            [
             0.7777777777777778,
             "#fb9f3a"
            ],
            [
             0.8888888888888888,
             "#fdca26"
            ],
            [
             1,
             "#f0f921"
            ]
           ]
          },
          "colorway": [
           "#636efa",
           "#EF553B",
           "#00cc96",
           "#ab63fa",
           "#FFA15A",
           "#19d3f3",
           "#FF6692",
           "#B6E880",
           "#FF97FF",
           "#FECB52"
          ],
          "font": {
           "color": "#2a3f5f"
          },
          "geo": {
           "bgcolor": "white",
           "lakecolor": "white",
           "landcolor": "#E5ECF6",
           "showlakes": true,
           "showland": true,
           "subunitcolor": "white"
          },
          "hoverlabel": {
           "align": "left"
          },
          "hovermode": "closest",
          "mapbox": {
           "style": "light"
          },
          "paper_bgcolor": "white",
          "plot_bgcolor": "#E5ECF6",
          "polar": {
           "angularaxis": {
            "gridcolor": "white",
            "linecolor": "white",
            "ticks": ""
           },
           "bgcolor": "#E5ECF6",
           "radialaxis": {
            "gridcolor": "white",
            "linecolor": "white",
            "ticks": ""
           }
          },
          "scene": {
           "xaxis": {
            "backgroundcolor": "#E5ECF6",
            "gridcolor": "white",
            "gridwidth": 2,
            "linecolor": "white",
            "showbackground": true,
            "ticks": "",
            "zerolinecolor": "white"
           },
           "yaxis": {
            "backgroundcolor": "#E5ECF6",
            "gridcolor": "white",
            "gridwidth": 2,
            "linecolor": "white",
            "showbackground": true,
            "ticks": "",
            "zerolinecolor": "white"
           },
           "zaxis": {
            "backgroundcolor": "#E5ECF6",
            "gridcolor": "white",
            "gridwidth": 2,
            "linecolor": "white",
            "showbackground": true,
            "ticks": "",
            "zerolinecolor": "white"
           }
          },
          "shapedefaults": {
           "line": {
            "color": "#2a3f5f"
           }
          },
          "ternary": {
           "aaxis": {
            "gridcolor": "white",
            "linecolor": "white",
            "ticks": ""
           },
           "baxis": {
            "gridcolor": "white",
            "linecolor": "white",
            "ticks": ""
           },
           "bgcolor": "#E5ECF6",
           "caxis": {
            "gridcolor": "white",
            "linecolor": "white",
            "ticks": ""
           }
          },
          "title": {
           "x": 0.05
          },
          "xaxis": {
           "automargin": true,
           "gridcolor": "white",
           "linecolor": "white",
           "ticks": "",
           "title": {
            "standoff": 15
           },
           "zerolinecolor": "white",
           "zerolinewidth": 2
          },
          "yaxis": {
           "automargin": true,
           "gridcolor": "white",
           "linecolor": "white",
           "ticks": "",
           "title": {
            "standoff": 15
           },
           "zerolinecolor": "white",
           "zerolinewidth": 2
          }
         }
        }
       }
      }
     },
     "metadata": {},
     "output_type": "display_data"
    },
    {
     "data": {
      "application/vnd.plotly.v1+json": {
       "config": {
        "plotlyServerURL": "https://plot.ly"
       },
       "data": [
        {
         "marker": {
          "color": "blue",
          "size": 5
         },
         "mode": "markers",
         "name": "get, take",
         "type": "scatter3d",
         "x": [
          7.275582313537598,
          4.5410237312316895,
          5.151334762573242,
          5.186413288116455,
          6.896453857421875,
          7.651198387145996,
          7.826373100280762,
          7.307344913482666,
          6.332908630371094,
          6.387375831604004,
          5.2839226722717285,
          6.671230792999268,
          7.067708492279053,
          6.998497009277344,
          6.709709167480469,
          6.648043632507324,
          6.818836688995361,
          7.1953277587890625,
          7.135901927947998,
          7.108942031860352,
          7.2530598640441895,
          7.246663570404053,
          6.877280235290527,
          6.878579139709473,
          6.690504550933838,
          7.121048927307129,
          7.1846842765808105,
          7.2229719161987305,
          7.233224868774414,
          7.0465779304504395,
          7.2947282791137695,
          6.424106121063232,
          4.524170875549316,
          5.529124736785889,
          5.599731922149658,
          5.551898002624512,
          7.047123908996582,
          6.995913028717041,
          7.686148643493652,
          6.673506736755371,
          5.710941791534424,
          5.613790512084961,
          6.4122314453125,
          4.9717183113098145,
          5.388803958892822,
          5.355533123016357,
          6.69175910949707,
          4.6174798011779785,
          6.888851642608643,
          7.270532131195068,
          7.310990333557129,
          7.382026672363281,
          5.77439022064209,
          6.763930320739746,
          7.069042205810547,
          8.326805114746094,
          6.564436912536621,
          5.274415493011475,
          7.716817378997803,
          6.850042819976807,
          6.885819911956787,
          6.758970737457275,
          5.708172798156738,
          6.705575942993164,
          5.017786979675293,
          4.9280853271484375,
          6.826878547668457,
          7.1923346519470215,
          7.292840480804443,
          6.955798149108887,
          6.87600040435791,
          5.653253555297852,
          5.862565040588379,
          5.642428398132324,
          7.278010368347168,
          7.456355571746826,
          7.110982418060303,
          7.200685977935791,
          6.961400985717773,
          6.915457248687744,
          5.442678928375244,
          5.595298767089844,
          4.576096057891846,
          5.61140775680542,
          5.909938812255859,
          6.338516712188721,
          5.878531455993652,
          6.3797407150268555,
          6.482975482940674,
          6.038928031921387,
          4.280795574188232,
          6.0320234298706055,
          6.548275947570801,
          6.160166263580322,
          6.642327785491943,
          6.790055751800537,
          7.029901027679443,
          6.077695846557617,
          6.046655178070068,
          7.470067501068115,
          5.643686771392822,
          5.964873790740967,
          5.982524871826172,
          7.407932758331299,
          6.899373531341553,
          6.474607467651367,
          5.663364887237549,
          6.285681247711182,
          6.004370212554932,
          6.159238815307617,
          7.058372974395752,
          5.372991561889648,
          7.173427581787109,
          6.551363945007324,
          6.842953681945801,
          6.76838493347168,
          5.596801280975342,
          5.834228992462158,
          5.904510021209717,
          7.122699737548828,
          6.417212009429932,
          7.825496196746826,
          4.615417003631592,
          4.80958890914917
         ],
         "y": [
          3.4258694648742676,
          4.1268229484558105,
          4.363752365112305,
          4.106691360473633,
          3.180294990539551,
          4.116492748260498,
          4.029619216918945,
          4.327712535858154,
          4.182395935058594,
          4.107528209686279,
          4.519318103790283,
          3.1131622791290283,
          5.117640495300293,
          5.199306011199951,
          1.9676140546798706,
          1.8613390922546387,
          4.850030422210693,
          4.954596042633057,
          2.117762565612793,
          2.0299322605133057,
          2.4241175651550293,
          2.4953742027282715,
          2.0236265659332275,
          1.7275583744049072,
          1.7992515563964844,
          1.5587103366851807,
          1.4400806427001953,
          3.761106014251709,
          2.2302651405334473,
          2.7189419269561768,
          3.4298386573791504,
          2.2955245971679688,
          4.125152111053467,
          4.371065616607666,
          4.470815181732178,
          4.440276145935059,
          3.3280224800109863,
          2.9355504512786865,
          3.8225715160369873,
          3.883801221847534,
          4.661031246185303,
          4.2446441650390625,
          2.323303699493408,
          3.591433048248291,
          4.614831924438477,
          4.558013439178467,
          2.730656385421753,
          3.501459836959839,
          4.38016939163208,
          3.3541905879974365,
          3.4725584983825684,
          3.567620038986206,
          4.676006317138672,
          4.909595012664795,
          2.8445370197296143,
          3.961512804031372,
          3.9010512828826904,
          4.210231304168701,
          3.4865572452545166,
          4.9152512550354,
          4.9099040031433105,
          4.856269359588623,
          4.361625671386719,
          3.3666746616363525,
          4.537987232208252,
          4.201963424682617,
          2.445425033569336,
          3.084200859069824,
          2.693638563156128,
          5.222817897796631,
          3.041964054107666,
          4.535907745361328,
          4.527337074279785,
          4.512505531311035,
          4.929995536804199,
          3.510324239730835,
          2.8343284130096436,
          2.4016880989074707,
          2.985197067260742,
          3.3927054405212402,
          4.297912120819092,
          3.9256744384765625,
          4.396926403045654,
          3.9227335453033447,
          4.09609842300415,
          4.219837665557861,
          3.4958932399749756,
          2.647925615310669,
          2.2776708602905273,
          2.865889549255371,
          3.8717775344848633,
          2.7648370265960693,
          2.0367650985717773,
          4.381218910217285,
          3.658785820007324,
          3.1482186317443848,
          2.817004919052124,
          3.107591152191162,
          3.055241584777832,
          2.8480417728424072,
          4.016016006469727,
          4.139429569244385,
          4.2540154457092285,
          4.3478474617004395,
          3.697134017944336,
          4.458056449890137,
          4.547968864440918,
          2.697091817855835,
          3.754361867904663,
          4.159275531768799,
          3.3259479999542236,
          4.824206829071045,
          5.089812278747559,
          4.452931880950928,
          3.035825729370117,
          3.7216262817382812,
          4.5177202224731445,
          4.37848424911499,
          3.855259895324707,
          5.096246242523193,
          4.005823612213135,
          4.128826141357422,
          3.9018173217773438,
          4.210714817047119
         ],
         "z": [
          -1.5913722515106201,
          -0.7885812520980835,
          -0.6105995178222656,
          -0.3501453995704651,
          -1.6416221857070923,
          -0.7385051846504211,
          -0.5204169750213623,
          -0.7075157761573792,
          2.496774435043335,
          2.450775623321533,
          -0.6102474927902222,
          -0.8593887686729431,
          -2.0445573329925537,
          -2.0625414848327637,
          1.0470466613769531,
          0.9644792675971985,
          -1.0566277503967285,
          -2.0237317085266113,
          0.18481941521167755,
          0.324808806180954,
          -0.7111172676086426,
          -0.890009880065918,
          -0.1436856985092163,
          0.34595349431037903,
          0.3612385392189026,
          0.4872896373271942,
          0.6285616755485535,
          -1.5851001739501953,
          1.5388356447219849,
          0.13395525515079498,
          -1.529126763343811,
          0.5666345357894897,
          -0.8368253707885742,
          0.5331458449363708,
          -0.45823100209236145,
          0.10258084535598755,
          -1.7358547449111938,
          1.1879976987838745,
          -0.8510801792144775,
          -0.6033867001533508,
          -0.710096538066864,
          -0.7613552212715149,
          0.9129976630210876,
          -0.7787516117095947,
          -0.6198321580886841,
          -0.5353899598121643,
          -0.055037472397089005,
          -1.4118337631225586,
          0.18143624067306519,
          -0.039397284388542175,
          -2.2865214347839355,
          -2.34891676902771,
          -0.768264651298523,
          -0.9567631483078003,
          -1.0763440132141113,
          -1.3660235404968262,
          -1.1762813329696655,
          -1.0391861200332642,
          -1.1976009607315063,
          -1.208266019821167,
          -1.0471022129058838,
          -1.1146939992904663,
          -1.01589035987854,
          -1.0265635251998901,
          -0.8899980187416077,
          -1.287896990776062,
          -0.274885892868042,
          -1.0604623556137085,
          -1.2494564056396484,
          -2.045612096786499,
          1.4618266820907593,
          -1.1855741739273071,
          1.712386965751648,
          -1.216884732246399,
          -1.9693900346755981,
          -0.9764920473098755,
          1.5771986246109009,
          1.5583221912384033,
          1.6017664670944214,
          -0.4713291525840759,
          1.709207534790039,
          1.1875395774841309,
          -1.1070454120635986,
          1.7550684213638306,
          1.0457572937011719,
          2.583582639694214,
          1.8850457668304443,
          1.5516618490219116,
          1.0985907316207886,
          1.3437093496322632,
          -1.9347196817398071,
          1.2150514125823975,
          1.197348713874817,
          2.4456634521484375,
          -1.1644035577774048,
          -1.0138895511627197,
          -1.700474739074707,
          1.6633285284042358,
          1.8291045427322388,
          -1.6501519680023193,
          0.8750623464584351,
          1.2561687231063843,
          1.1173326969146729,
          -0.44411855936050415,
          -1.1918390989303589,
          0.3465406000614166,
          -1.2095636129379272,
          1.6566357612609863,
          0.5065332055091858,
          1.900850534439087,
          -0.7011713981628418,
          3.5829849243164062,
          -2.1384623050689697,
          0.2729787230491638,
          -0.8312335014343262,
          -0.3848571479320526,
          3.1040217876434326,
          2.348778009414673,
          1.0143687725067139,
          -2.0860719680786133,
          1.7399754524230957,
          -1.445555329322815,
          -1.6681442260742188,
          -1.5610265731811523
         ]
        },
        {
         "marker": {
          "color": "orange",
          "size": 5
         },
         "mode": "markers",
         "name": "place, place-on, place-back, put, put-back",
         "type": "scatter3d",
         "x": [
          4.904397010803223,
          5.082535743713379,
          6.4882988929748535,
          7.1352643966674805,
          7.082071781158447,
          4.437094211578369,
          5.804625988006592,
          5.579007148742676,
          7.012712001800537,
          6.866995811462402,
          5.780138969421387,
          7.111633777618408,
          7.265190601348877,
          7.037441730499268,
          7.005749225616455,
          7.09142541885376,
          7.128722667694092,
          7.206363677978516,
          7.089658260345459,
          7.196599960327148,
          7.176564693450928,
          7.147985935211182,
          5.1766839027404785,
          8.236281394958496,
          6.64249849319458,
          7.4250288009643555,
          6.307723522186279,
          4.736478328704834,
          4.978647232055664,
          4.790797233581543,
          4.489774227142334,
          4.674188137054443,
          4.595495223999023,
          5.249904155731201,
          7.240461349487305,
          5.673397541046143,
          5.543578624725342,
          7.39283561706543,
          5.41973876953125,
          5.684808254241943,
          8.045146942138672,
          6.668281078338623,
          4.222603797912598,
          4.106318950653076,
          7.395381450653076,
          6.793737411499023,
          5.480402946472168,
          6.634842872619629,
          5.436052322387695,
          5.826208114624023,
          4.0421319007873535,
          5.781676769256592,
          5.171379089355469,
          5.063724994659424,
          7.034176349639893,
          5.635128021240234,
          5.894517421722412,
          5.725579261779785,
          5.643206596374512,
          5.656538009643555,
          5.688165664672852,
          5.407889366149902,
          8.615039825439453,
          6.784688949584961,
          6.5927252769470215,
          6.196163177490234,
          6.454932689666748,
          6.332548141479492,
          5.3238067626953125,
          6.122583866119385,
          5.703205585479736,
          6.028942108154297,
          5.81594705581665,
          6.108691692352295,
          5.804662704467773,
          5.576035499572754,
          5.765772342681885,
          7.063663482666016,
          7.081347942352295,
          7.590142250061035,
          5.618662357330322,
          5.748790264129639,
          5.662334442138672,
          8.094537734985352,
          6.435046195983887,
          5.785172939300537,
          5.970653533935547,
          6.051896095275879,
          5.465087413787842,
          5.523239612579346,
          6.001274108886719,
          6.492592811584473,
          7.120424747467041,
          8.262748718261719,
          5.7178239822387695,
          5.888235092163086,
          5.890195369720459,
          6.247013568878174,
          6.4601664543151855,
          5.305306911468506,
          8.123749732971191,
          8.341296195983887,
          7.6148600578308105,
          8.390715599060059
         ],
         "y": [
          4.246707439422607,
          4.245047569274902,
          2.4024014472961426,
          3.559206008911133,
          2.8232994079589844,
          2.777799367904663,
          4.170698165893555,
          4.482030391693115,
          2.0392706394195557,
          1.9066190719604492,
          3.860722780227661,
          3.5618577003479004,
          3.773573160171509,
          3.5989813804626465,
          1.6155072450637817,
          1.6198363304138184,
          1.4370230436325073,
          1.4674612283706665,
          1.5357517004013062,
          3.2757046222686768,
          2.66552734375,
          2.722684144973755,
          3.689054489135742,
          4.165465831756592,
          2.0407960414886475,
          4.278594493865967,
          2.9288928508758545,
          4.035905361175537,
          3.8974127769470215,
          4.117347717285156,
          4.427174091339111,
          4.067389965057373,
          4.1047258377075195,
          4.1425042152404785,
          3.814628839492798,
          4.669797420501709,
          4.331815242767334,
          3.609018325805664,
          4.526935577392578,
          4.752089500427246,
          3.3330464363098145,
          2.8682947158813477,
          3.887244939804077,
          4.1577067375183105,
          3.4937875270843506,
          4.886179447174072,
          4.490231037139893,
          4.578933238983154,
          4.554248809814453,
          4.330826759338379,
          4.185993671417236,
          4.271312236785889,
          4.4611382484436035,
          4.245348930358887,
          2.7252867221832275,
          4.569245338439941,
          4.547336578369141,
          4.692083358764648,
          4.7040181159973145,
          4.819791316986084,
          4.012071132659912,
          4.2357072830200195,
          3.9990158081054688,
          1.9186662435531616,
          3.0227510929107666,
          3.4114484786987305,
          2.7979860305786133,
          2.5416061878204346,
          4.479800701141357,
          2.9666974544525146,
          3.6827852725982666,
          3.9846086502075195,
          3.829911708831787,
          2.8173775672912598,
          3.486961841583252,
          4.031915187835693,
          3.473679304122925,
          2.8594186305999756,
          2.8387787342071533,
          4.668518543243408,
          3.94599986076355,
          3.515570640563965,
          4.239922523498535,
          4.12647008895874,
          2.6822729110717773,
          4.424149990081787,
          3.86358642578125,
          3.7831482887268066,
          4.969017505645752,
          4.935863494873047,
          4.117806434631348,
          4.4466962814331055,
          2.7400805950164795,
          4.063190460205078,
          4.498795509338379,
          4.089365482330322,
          4.180755615234375,
          3.3733553886413574,
          4.001837253570557,
          4.374179840087891,
          4.377354621887207,
          4.38773775100708,
          4.479512691497803,
          4.36242151260376
         ],
         "z": [
          -0.40318459272384644,
          -0.19145210087299347,
          -0.4697188436985016,
          -1.248538613319397,
          -1.0474474430084229,
          -1.2880955934524536,
          0.20169976353645325,
          0.6655587553977966,
          0.0573582723736763,
          -0.03987342119216919,
          -1.0373936891555786,
          -1.6355522871017456,
          -0.8657671213150024,
          -0.7057557702064514,
          0.3602852523326874,
          0.38604456186294556,
          0.591540515422821,
          0.758463978767395,
          0.20749688148498535,
          -0.20536565780639648,
          -1.4495733976364136,
          -1.6359091997146606,
          -0.8783093690872192,
          -1.2001447677612305,
          0.12063555419445038,
          -0.371113121509552,
          0.3068644404411316,
          -1.0753302574157715,
          -0.9728778600692749,
          -1.0011039972305298,
          -0.7819948196411133,
          -1.1803921461105347,
          -1.1961153745651245,
          -0.27258816361427307,
          -2.2328438758850098,
          -0.3836575448513031,
          0.2980695962905884,
          -0.8067787289619446,
          -0.40102633833885193,
          -0.5325903296470642,
          -1.436586856842041,
          -0.610323965549469,
          -1.8473566770553589,
          -0.7681064009666443,
          -2.2978358268737793,
          -1.0738939046859741,
          1.0776937007904053,
          -1.0920528173446655,
          0.9892560839653015,
          0.4276449382305145,
          -0.6586127877235413,
          0.3824813961982727,
          -1.1597373485565186,
          -1.394313097000122,
          1.4465128183364868,
          2.163236379623413,
          2.124871015548706,
          2.754195213317871,
          2.4454915523529053,
          2.670144557952881,
          1.7393187284469604,
          1.5529617071151733,
          -1.225650429725647,
          0.12090738862752914,
          0.9516062140464783,
          1.6481953859329224,
          1.259515643119812,
          1.327012538909912,
          -1.1978709697723389,
          1.6584460735321045,
          2.0718343257904053,
          -0.14487119019031525,
          2.241870641708374,
          1.3437612056732178,
          2.0008039474487305,
          1.8309626579284668,
          2.0344057083129883,
          -1.7194013595581055,
          -0.7534533739089966,
          -2.165519952774048,
          1.9709358215332031,
          1.8859226703643799,
          1.1304466724395752,
          -0.6638396382331848,
          1.525070071220398,
          2.7014622688293457,
          0.7507051825523376,
          0.7230923771858215,
          3.364718437194824,
          3.2271931171417236,
          1.699733853340149,
          0.24879620969295502,
          1.52040433883667,
          -1.0594494342803955,
          2.8132500648498535,
          1.4451223611831665,
          1.891165852546692,
          1.0064047574996948,
          1.6666324138641357,
          -1.353460669517517,
          -1.1596169471740723,
          -1.0727689266204834,
          -0.90575110912323,
          -1.0229933261871338
         ]
        },
        {
         "marker": {
          "color": "black",
          "size": 5
         },
         "mode": "markers",
         "name": "open",
         "type": "scatter3d",
         "x": [
          7.674644470214844,
          7.832877159118652,
          7.520441055297852,
          8.205126762390137,
          8.19272518157959,
          8.543601036071777,
          7.513309001922607,
          8.375688552856445,
          6.647425174713135,
          7.2361602783203125,
          7.062314510345459,
          6.643999099731445,
          7.001685619354248,
          7.203690052032471,
          7.376530647277832,
          7.4557952880859375,
          6.6504998207092285,
          7.578459739685059,
          8.39535140991211,
          8.346426010131836,
          7.660588264465332,
          8.271282196044922,
          7.4649739265441895,
          8.453865051269531,
          6.349045276641846,
          8.379454612731934,
          7.954102993011475,
          8.359833717346191,
          7.2226881980896,
          7.459251403808594,
          7.381666660308838,
          7.5218658447265625,
          7.5516839027404785,
          7.881731033325195,
          8.078827857971191,
          8.536697387695312,
          8.612236022949219,
          8.266705513000488,
          7.972136497497559,
          7.3505096435546875,
          5.95884370803833,
          5.585936069488525,
          7.550351619720459,
          7.831298351287842,
          7.206282138824463,
          6.286993503570557,
          7.777528285980225,
          6.6044721603393555,
          8.179383277893066,
          7.620320796966553,
          7.906038761138916,
          7.795297622680664
         ],
         "y": [
          3.5086615085601807,
          3.7210469245910645,
          3.19051194190979,
          3.62127947807312,
          3.551443099975586,
          3.446707010269165,
          4.730434417724609,
          3.4184436798095703,
          1.7730530500411987,
          2.47324800491333,
          3.4975812435150146,
          3.3847293853759766,
          1.6655114889144897,
          3.797133207321167,
          3.103111743927002,
          3.1411452293395996,
          3.3696672916412354,
          3.5857131481170654,
          3.971808433532715,
          3.941406488418579,
          3.4047040939331055,
          3.3070011138916016,
          3.131507396697998,
          3.3795135021209717,
          2.043195962905884,
          3.4368653297424316,
          3.565964460372925,
          3.3595874309539795,
          2.925868034362793,
          4.781168460845947,
          2.938127040863037,
          4.7378387451171875,
          4.653058052062988,
          3.3439502716064453,
          3.3076388835906982,
          3.4653258323669434,
          3.7287111282348633,
          3.4537785053253174,
          3.4977688789367676,
          2.784575939178467,
          3.215535879135132,
          4.37009859085083,
          2.8172290325164795,
          4.035620212554932,
          2.972963809967041,
          4.501528263092041,
          4.401681423187256,
          4.445201873779297,
          3.477922201156616,
          4.6376051902771,
          4.14318323135376,
          4.52547025680542
         ],
         "z": [
          -2.2583346366882324,
          -2.027611494064331,
          -1.673361897468567,
          -1.6632826328277588,
          -1.6989599466323853,
          -1.7242300510406494,
          -2.1483099460601807,
          -1.610292911529541,
          0.8653590083122253,
          -0.4227995276451111,
          -1.2237153053283691,
          -0.03537328541278839,
          0.10942624509334564,
          -1.621568202972412,
          -0.26555827260017395,
          -1.5435959100723267,
          0.09361493587493896,
          -1.7089234590530396,
          -1.0735019445419312,
          -1.5239393711090088,
          -2.2591958045959473,
          -1.5981205701828003,
          -1.4835866689682007,
          -1.8094371557235718,
          0.325233519077301,
          -1.7279822826385498,
          -1.9745244979858398,
          -1.662758231163025,
          -0.057671498507261276,
          -2.0739758014678955,
          -1.203970193862915,
          -2.0727791786193848,
          -1.9897736310958862,
          -1.318336009979248,
          -1.5453473329544067,
          -1.6149884462356567,
          -1.3921635150909424,
          -1.4864320755004883,
          -1.2843247652053833,
          -1.5439130067825317,
          1.874531865119934,
          0.9450514316558838,
          -1.0924769639968872,
          -1.3877395391464233,
          -1.1066330671310425,
          0.5163238048553467,
          -1.944903016090393,
          0.23597638309001923,
          -1.1341304779052734,
          -2.0922865867614746,
          -1.5738942623138428,
          -0.8331462740898132
         ]
        },
        {
         "marker": {
          "color": "red",
          "size": 5
         },
         "mode": "markers",
         "name": "close",
         "type": "scatter3d",
         "x": [
          7.405818462371826,
          7.962827682495117,
          7.548131465911865,
          7.163561820983887,
          6.792917251586914,
          7.301389217376709,
          7.092964172363281,
          6.545857906341553,
          7.018754005432129,
          7.9794840812683105,
          7.112044811248779,
          6.65720272064209,
          7.399961948394775,
          6.401925086975098,
          8.18732738494873,
          6.734734058380127,
          6.628844261169434,
          8.287818908691406,
          4.425291061401367,
          7.76454496383667,
          8.383332252502441,
          8.034415245056152,
          7.657745361328125,
          7.739772796630859,
          7.856603622436523,
          5.799248218536377,
          8.247112274169922,
          7.300912857055664,
          7.2214202880859375,
          7.930878639221191,
          7.512339115142822,
          6.784731864929199,
          8.351561546325684,
          8.384984970092773
         ],
         "y": [
          3.614642858505249,
          4.116483688354492,
          3.0299994945526123,
          4.7125468254089355,
          2.023035764694214,
          2.3327345848083496,
          1.827913522720337,
          2.601041078567505,
          3.6129183769226074,
          3.833033800125122,
          3.6895840167999268,
          1.7252682447433472,
          3.0118064880371094,
          2.540849447250366,
          3.7134196758270264,
          2.2571861743927,
          1.9910203218460083,
          4.0221123695373535,
          4.083360195159912,
          3.719825029373169,
          4.058534622192383,
          3.985891103744507,
          3.2625298500061035,
          3.2662625312805176,
          3.534327745437622,
          4.1839518547058105,
          3.7028391361236572,
          2.733264446258545,
          2.5537636280059814,
          3.0986216068267822,
          3.1489572525024414,
          3.7248895168304443,
          4.267539024353027,
          4.2622785568237305
         ],
         "z": [
          -2.0908119678497314,
          -0.8311886787414551,
          -1.1280549764633179,
          -1.8080384731292725,
          0.8764519095420837,
          -0.43909159302711487,
          0.07992026954889297,
          -0.6624780297279358,
          -0.8675364255905151,
          -0.9010466933250427,
          -1.5539494752883911,
          0.7378556728363037,
          -0.4041902422904968,
          -0.30145472288131714,
          -0.9842972159385681,
          0.4574073255062103,
          1.0448559522628784,
          -0.8753190040588379,
          -1.017876148223877,
          -1.8078216314315796,
          -0.9179388284683228,
          -0.7010769844055176,
          -2.255185842514038,
          -2.2969722747802734,
          -1.2577052116394043,
          -0.571990430355072,
          -0.8729811906814575,
          -1.3537412881851196,
          -1.1080681085586548,
          -0.9005751609802246,
          -0.878926694393158,
          1.161763310432434,
          -1.1107724905014038,
          -1.0384926795959473
         ]
        },
        {
         "marker": {
          "color": "green",
          "size": 5
         },
         "mode": "markers",
         "name": "clean, wipe-off, wipe, wash, rinse",
         "type": "scatter3d",
         "x": [
          4.203342914581299,
          2.603339433670044,
          4.720096111297607,
          2.7698423862457275,
          4.287119388580322,
          4.2417683601379395,
          4.311008930206299,
          2.6096293926239014,
          7.061569690704346,
          6.86574125289917,
          6.564904689788818,
          4.426175594329834,
          4.35561466217041,
          6.411228656768799,
          3.48047137260437,
          3.5641417503356934,
          3.4526610374450684,
          3.150184154510498,
          3.9191722869873047,
          2.693450450897217,
          3.4084391593933105,
          3.0754454135894775,
          3.8297581672668457,
          3.0431768894195557,
          3.9831624031066895,
          2.5544278621673584,
          5.059922695159912,
          3.3863513469696045,
          4.086723804473877,
          4.993719100952148,
          3.2282965183258057,
          3.394942045211792,
          2.633044481277466,
          5.399009704589844,
          4.575558185577393,
          4.190674304962158,
          3.3625757694244385,
          2.544832229614258,
          2.4727416038513184,
          2.6071407794952393,
          3.919062614440918,
          3.559363603591919,
          2.860386848449707,
          4.329700469970703,
          5.382907390594482,
          4.008650779724121,
          2.6323719024658203,
          2.5597383975982666,
          3.9912168979644775,
          4.2957353591918945,
          5.981480598449707,
          4.632258415222168,
          6.452691555023193,
          4.101183891296387,
          6.616191864013672,
          5.972198963165283,
          5.975400924682617,
          6.264219760894775,
          2.8036954402923584,
          5.83098840713501,
          2.7418694496154785,
          6.098470211029053,
          7.758688449859619,
          2.6990160942077637,
          2.489678144454956,
          6.813878059387207
         ],
         "y": [
          3.746838092803955,
          3.917813539505005,
          4.191488265991211,
          3.890195846557617,
          3.321662425994873,
          3.641339063644409,
          3.273237943649292,
          4.003235340118408,
          1.859933614730835,
          1.8585598468780518,
          1.907610297203064,
          2.750734567642212,
          2.8343875408172607,
          2.21661639213562,
          3.5650720596313477,
          3.6794307231903076,
          3.8488948345184326,
          3.7820682525634766,
          3.909370183944702,
          3.8936586380004883,
          3.650998592376709,
          3.7090892791748047,
          3.271531343460083,
          3.7388763427734375,
          3.133859395980835,
          4.041798114776611,
          4.44563627243042,
          3.679677963256836,
          3.208794355392456,
          3.982913017272949,
          3.627962589263916,
          3.647345781326294,
          3.835557699203491,
          4.349065780639648,
          3.492483377456665,
          3.155780553817749,
          3.654893636703491,
          3.7164320945739746,
          3.609245538711548,
          3.971757411956787,
          4.082196235656738,
          4.013919353485107,
          3.972785234451294,
          3.1128430366516113,
          4.546545505523682,
          3.9137027263641357,
          3.848165988922119,
          3.786515235900879,
          3.930999755859375,
          3.878279685974121,
          3.24062442779541,
          4.328073501586914,
          2.1393778324127197,
          3.7030532360076904,
          2.398968458175659,
          2.8302366733551025,
          2.8769423961639404,
          2.3774778842926025,
          3.925870895385742,
          3.1473402976989746,
          3.917524814605713,
          2.9600017070770264,
          4.119306564331055,
          3.7372560501098633,
          3.61816668510437,
          3.8634326457977295
         ],
         "z": [
          -1.6073123216629028,
          -2.298699140548706,
          -0.7290425896644592,
          -2.1357476711273193,
          -1.4495134353637695,
          -1.5428845882415771,
          -1.4494074583053589,
          -2.3676974773406982,
          0.06546171754598618,
          0.37562552094459534,
          -0.035523172467947006,
          -1.331329345703125,
          -1.295378565788269,
          0.10699745267629623,
          -1.4268364906311035,
          -1.3327324390411377,
          -1.8226464986801147,
          -1.863145112991333,
          -1.5601718425750732,
          -2.1425654888153076,
          -1.3150408267974854,
          -1.6845393180847168,
          -1.4828368425369263,
          -1.787751317024231,
          -1.4778506755828857,
          -2.287662982940674,
          -0.9105758666992188,
          -1.4420862197875977,
          -1.4575542211532593,
          -0.5293254852294922,
          -1.6000422239303589,
          -1.4551337957382202,
          -2.186586618423462,
          -0.3606959283351898,
          -1.2549093961715698,
          -1.3684170246124268,
          -1.5086565017700195,
          -2.0569562911987305,
          -2.1108176708221436,
          -2.2917532920837402,
          -1.0185421705245972,
          -1.2630852460861206,
          -2.1988396644592285,
          -1.3741060495376587,
          1.0664540529251099,
          -1.5661219358444214,
          -2.1949214935302734,
          -2.189814805984497,
          -1.6454579830169678,
          -1.7799760103225708,
          1.3791217803955078,
          -1.3714913129806519,
          -0.013162360526621342,
          -1.850329875946045,
          1.5580490827560425,
          1.2313814163208008,
          1.2197203636169434,
          1.117155909538269,
          -2.1671037673950195,
          1.233646273612976,
          -2.1845366954803467,
          0.9719698429107666,
          -0.679810106754303,
          -1.901106357574463,
          -2.0874452590942383,
          -0.5917237997055054
         ]
        },
        {
         "marker": {
          "color": "gray",
          "size": 5
         },
         "mode": "markers",
         "name": "cut, chop, slice",
         "type": "scatter3d",
         "x": [
          7.287901878356934,
          7.340724945068359,
          7.377962112426758,
          7.4164557456970215,
          7.146851539611816,
          6.442466735839844,
          7.216750144958496,
          7.256377220153809,
          6.485350608825684,
          6.540340423583984,
          6.561728477478027,
          6.514091491699219,
          6.684661865234375
         ],
         "y": [
          1.8710267543792725,
          1.8195708990097046,
          1.8000409603118896,
          1.8368990421295166,
          2.106597900390625,
          2.2829833030700684,
          2.5933597087860107,
          2.0418219566345215,
          2.282470941543579,
          2.1942880153656006,
          2.521707773208618,
          2.1746153831481934,
          2.1060285568237305
         ],
         "z": [
          0.9337787628173828,
          0.8268956542015076,
          0.818531334400177,
          0.7398985028266907,
          -0.05830995738506317,
          1.017307996749878,
          1.5848573446273804,
          1.1284794807434082,
          1.4699674844741821,
          1.4170089960098267,
          1.5538679361343384,
          1.3514034748077393,
          1.420211911201477
         ]
        },
        {
         "marker": {
          "color": "purple",
          "size": 5
         },
         "mode": "markers",
         "name": "mix, mix-around, stir, whisk",
         "type": "scatter3d",
         "x": [
          5.62844181060791,
          5.861245155334473,
          5.621120452880859,
          5.386744022369385,
          5.4626784324646,
          5.46462345123291,
          5.535494804382324,
          5.25590181350708,
          5.540593147277832,
          5.5258378982543945,
          5.661630153656006,
          5.429443359375,
          5.297220230102539,
          5.3864336013793945,
          5.248438358306885,
          5.27311897277832,
          5.236037731170654,
          5.2272419929504395,
          5.20962381362915,
          5.251061916351318
         ],
         "y": [
          4.76832914352417,
          4.607161045074463,
          4.917908668518066,
          4.332335948944092,
          4.942286014556885,
          4.971996307373047,
          4.835055828094482,
          5.167199611663818,
          4.411151885986328,
          4.541159629821777,
          4.796581745147705,
          4.988691329956055,
          5.092681884765625,
          4.965342998504639,
          5.083587646484375,
          5.063601016998291,
          5.017323970794678,
          5.03288459777832,
          5.111690998077393,
          5.132298469543457
         ],
         "z": [
          2.5101659297943115,
          2.6569058895111084,
          3.014610767364502,
          1.768540859222412,
          2.792419910430908,
          2.672652244567871,
          3.069579839706421,
          3.554107904434204,
          1.041640281677246,
          2.5797111988067627,
          2.9602184295654297,
          3.573601007461548,
          3.8707873821258545,
          3.705831527709961,
          3.828620195388794,
          3.8613121509552,
          3.90395188331604,
          3.819087028503418,
          3.812791347503662,
          3.642993927001953
         ]
        },
        {
         "marker": {
          "color": "olive",
          "size": 5
         },
         "mode": "markers",
         "name": "pour",
         "type": "scatter3d",
         "x": [
          4.264443397521973,
          6.673088550567627,
          6.686157703399658,
          7.223748683929443,
          3.412541151046753,
          4.1608567237854,
          4.974053859710693,
          6.558143138885498,
          4.785374164581299,
          6.10269021987915,
          5.471498012542725,
          5.464230537414551,
          5.99041748046875,
          6.825282573699951,
          5.506889820098877,
          5.474419593811035,
          5.461715221405029,
          5.48851203918457,
          5.507643699645996,
          5.6798319816589355,
          5.288997173309326,
          5.593746662139893
         ],
         "y": [
          3.8246870040893555,
          2.3128278255462646,
          2.191998243331909,
          2.2768454551696777,
          3.742318868637085,
          3.792938709259033,
          3.9624383449554443,
          2.7452950477600098,
          3.897670030593872,
          3.235485076904297,
          3.8072659969329834,
          4.211386203765869,
          4.556498050689697,
          2.7503714561462402,
          4.17989444732666,
          4.3529534339904785,
          4.325331211090088,
          4.733130931854248,
          4.811065673828125,
          4.643657207489014,
          5.041835308074951,
          4.428736686706543
         ],
         "z": [
          -1.8520069122314453,
          -0.3333342969417572,
          -0.28465205430984497,
          1.5284909009933472,
          -1.7902299165725708,
          -1.5963107347488403,
          -1.4309546947479248,
          -0.21760007739067078,
          -1.495285987854004,
          0.2588099539279938,
          0.9239403605461121,
          1.7204046249389648,
          2.3103997707366943,
          1.2251473665237427,
          1.9301233291625977,
          2.212620496749878,
          2.1735870838165283,
          2.834124803543091,
          2.9908995628356934,
          2.8122148513793945,
          3.8256287574768066,
          2.1379120349884033
         ]
        }
       ],
       "layout": {
        "template": {
         "data": {
          "bar": [
           {
            "error_x": {
             "color": "#2a3f5f"
            },
            "error_y": {
             "color": "#2a3f5f"
            },
            "marker": {
             "line": {
              "color": "#E5ECF6",
              "width": 0.5
             },
             "pattern": {
              "fillmode": "overlay",
              "size": 10,
              "solidity": 0.2
             }
            },
            "type": "bar"
           }
          ],
          "barpolar": [
           {
            "marker": {
             "line": {
              "color": "#E5ECF6",
              "width": 0.5
             },
             "pattern": {
              "fillmode": "overlay",
              "size": 10,
              "solidity": 0.2
             }
            },
            "type": "barpolar"
           }
          ],
          "carpet": [
           {
            "aaxis": {
             "endlinecolor": "#2a3f5f",
             "gridcolor": "white",
             "linecolor": "white",
             "minorgridcolor": "white",
             "startlinecolor": "#2a3f5f"
            },
            "baxis": {
             "endlinecolor": "#2a3f5f",
             "gridcolor": "white",
             "linecolor": "white",
             "minorgridcolor": "white",
             "startlinecolor": "#2a3f5f"
            },
            "type": "carpet"
           }
          ],
          "choropleth": [
           {
            "colorbar": {
             "outlinewidth": 0,
             "ticks": ""
            },
            "type": "choropleth"
           }
          ],
          "contour": [
           {
            "colorbar": {
             "outlinewidth": 0,
             "ticks": ""
            },
            "colorscale": [
             [
              0,
              "#0d0887"
             ],
             [
              0.1111111111111111,
              "#46039f"
             ],
             [
              0.2222222222222222,
              "#7201a8"
             ],
             [
              0.3333333333333333,
              "#9c179e"
             ],
             [
              0.4444444444444444,
              "#bd3786"
             ],
             [
              0.5555555555555556,
              "#d8576b"
             ],
             [
              0.6666666666666666,
              "#ed7953"
             ],
             [
              0.7777777777777778,
              "#fb9f3a"
             ],
             [
              0.8888888888888888,
              "#fdca26"
             ],
             [
              1,
              "#f0f921"
             ]
            ],
            "type": "contour"
           }
          ],
          "contourcarpet": [
           {
            "colorbar": {
             "outlinewidth": 0,
             "ticks": ""
            },
            "type": "contourcarpet"
           }
          ],
          "heatmap": [
           {
            "colorbar": {
             "outlinewidth": 0,
             "ticks": ""
            },
            "colorscale": [
             [
              0,
              "#0d0887"
             ],
             [
              0.1111111111111111,
              "#46039f"
             ],
             [
              0.2222222222222222,
              "#7201a8"
             ],
             [
              0.3333333333333333,
              "#9c179e"
             ],
             [
              0.4444444444444444,
              "#bd3786"
             ],
             [
              0.5555555555555556,
              "#d8576b"
             ],
             [
              0.6666666666666666,
              "#ed7953"
             ],
             [
              0.7777777777777778,
              "#fb9f3a"
             ],
             [
              0.8888888888888888,
              "#fdca26"
             ],
             [
              1,
              "#f0f921"
             ]
            ],
            "type": "heatmap"
           }
          ],
          "heatmapgl": [
           {
            "colorbar": {
             "outlinewidth": 0,
             "ticks": ""
            },
            "colorscale": [
             [
              0,
              "#0d0887"
             ],
             [
              0.1111111111111111,
              "#46039f"
             ],
             [
              0.2222222222222222,
              "#7201a8"
             ],
             [
              0.3333333333333333,
              "#9c179e"
             ],
             [
              0.4444444444444444,
              "#bd3786"
             ],
             [
              0.5555555555555556,
              "#d8576b"
             ],
             [
              0.6666666666666666,
              "#ed7953"
             ],
             [
              0.7777777777777778,
              "#fb9f3a"
             ],
             [
              0.8888888888888888,
              "#fdca26"
             ],
             [
              1,
              "#f0f921"
             ]
            ],
            "type": "heatmapgl"
           }
          ],
          "histogram": [
           {
            "marker": {
             "pattern": {
              "fillmode": "overlay",
              "size": 10,
              "solidity": 0.2
             }
            },
            "type": "histogram"
           }
          ],
          "histogram2d": [
           {
            "colorbar": {
             "outlinewidth": 0,
             "ticks": ""
            },
            "colorscale": [
             [
              0,
              "#0d0887"
             ],
             [
              0.1111111111111111,
              "#46039f"
             ],
             [
              0.2222222222222222,
              "#7201a8"
             ],
             [
              0.3333333333333333,
              "#9c179e"
             ],
             [
              0.4444444444444444,
              "#bd3786"
             ],
             [
              0.5555555555555556,
              "#d8576b"
             ],
             [
              0.6666666666666666,
              "#ed7953"
             ],
             [
              0.7777777777777778,
              "#fb9f3a"
             ],
             [
              0.8888888888888888,
              "#fdca26"
             ],
             [
              1,
              "#f0f921"
             ]
            ],
            "type": "histogram2d"
           }
          ],
          "histogram2dcontour": [
           {
            "colorbar": {
             "outlinewidth": 0,
             "ticks": ""
            },
            "colorscale": [
             [
              0,
              "#0d0887"
             ],
             [
              0.1111111111111111,
              "#46039f"
             ],
             [
              0.2222222222222222,
              "#7201a8"
             ],
             [
              0.3333333333333333,
              "#9c179e"
             ],
             [
              0.4444444444444444,
              "#bd3786"
             ],
             [
              0.5555555555555556,
              "#d8576b"
             ],
             [
              0.6666666666666666,
              "#ed7953"
             ],
             [
              0.7777777777777778,
              "#fb9f3a"
             ],
             [
              0.8888888888888888,
              "#fdca26"
             ],
             [
              1,
              "#f0f921"
             ]
            ],
            "type": "histogram2dcontour"
           }
          ],
          "mesh3d": [
           {
            "colorbar": {
             "outlinewidth": 0,
             "ticks": ""
            },
            "type": "mesh3d"
           }
          ],
          "parcoords": [
           {
            "line": {
             "colorbar": {
              "outlinewidth": 0,
              "ticks": ""
             }
            },
            "type": "parcoords"
           }
          ],
          "pie": [
           {
            "automargin": true,
            "type": "pie"
           }
          ],
          "scatter": [
           {
            "fillpattern": {
             "fillmode": "overlay",
             "size": 10,
             "solidity": 0.2
            },
            "type": "scatter"
           }
          ],
          "scatter3d": [
           {
            "line": {
             "colorbar": {
              "outlinewidth": 0,
              "ticks": ""
             }
            },
            "marker": {
             "colorbar": {
              "outlinewidth": 0,
              "ticks": ""
             }
            },
            "type": "scatter3d"
           }
          ],
          "scattercarpet": [
           {
            "marker": {
             "colorbar": {
              "outlinewidth": 0,
              "ticks": ""
             }
            },
            "type": "scattercarpet"
           }
          ],
          "scattergeo": [
           {
            "marker": {
             "colorbar": {
              "outlinewidth": 0,
              "ticks": ""
             }
            },
            "type": "scattergeo"
           }
          ],
          "scattergl": [
           {
            "marker": {
             "colorbar": {
              "outlinewidth": 0,
              "ticks": ""
             }
            },
            "type": "scattergl"
           }
          ],
          "scattermapbox": [
           {
            "marker": {
             "colorbar": {
              "outlinewidth": 0,
              "ticks": ""
             }
            },
            "type": "scattermapbox"
           }
          ],
          "scatterpolar": [
           {
            "marker": {
             "colorbar": {
              "outlinewidth": 0,
              "ticks": ""
             }
            },
            "type": "scatterpolar"
           }
          ],
          "scatterpolargl": [
           {
            "marker": {
             "colorbar": {
              "outlinewidth": 0,
              "ticks": ""
             }
            },
            "type": "scatterpolargl"
           }
          ],
          "scatterternary": [
           {
            "marker": {
             "colorbar": {
              "outlinewidth": 0,
              "ticks": ""
             }
            },
            "type": "scatterternary"
           }
          ],
          "surface": [
           {
            "colorbar": {
             "outlinewidth": 0,
             "ticks": ""
            },
            "colorscale": [
             [
              0,
              "#0d0887"
             ],
             [
              0.1111111111111111,
              "#46039f"
             ],
             [
              0.2222222222222222,
              "#7201a8"
             ],
             [
              0.3333333333333333,
              "#9c179e"
             ],
             [
              0.4444444444444444,
              "#bd3786"
             ],
             [
              0.5555555555555556,
              "#d8576b"
             ],
             [
              0.6666666666666666,
              "#ed7953"
             ],
             [
              0.7777777777777778,
              "#fb9f3a"
             ],
             [
              0.8888888888888888,
              "#fdca26"
             ],
             [
              1,
              "#f0f921"
             ]
            ],
            "type": "surface"
           }
          ],
          "table": [
           {
            "cells": {
             "fill": {
              "color": "#EBF0F8"
             },
             "line": {
              "color": "white"
             }
            },
            "header": {
             "fill": {
              "color": "#C8D4E3"
             },
             "line": {
              "color": "white"
             }
            },
            "type": "table"
           }
          ]
         },
         "layout": {
          "annotationdefaults": {
           "arrowcolor": "#2a3f5f",
           "arrowhead": 0,
           "arrowwidth": 1
          },
          "autotypenumbers": "strict",
          "coloraxis": {
           "colorbar": {
            "outlinewidth": 0,
            "ticks": ""
           }
          },
          "colorscale": {
           "diverging": [
            [
             0,
             "#8e0152"
            ],
            [
             0.1,
             "#c51b7d"
            ],
            [
             0.2,
             "#de77ae"
            ],
            [
             0.3,
             "#f1b6da"
            ],
            [
             0.4,
             "#fde0ef"
            ],
            [
             0.5,
             "#f7f7f7"
            ],
            [
             0.6,
             "#e6f5d0"
            ],
            [
             0.7,
             "#b8e186"
            ],
            [
             0.8,
             "#7fbc41"
            ],
            [
             0.9,
             "#4d9221"
            ],
            [
             1,
             "#276419"
            ]
           ],
           "sequential": [
            [
             0,
             "#0d0887"
            ],
            [
             0.1111111111111111,
             "#46039f"
            ],
            [
             0.2222222222222222,
             "#7201a8"
            ],
            [
             0.3333333333333333,
             "#9c179e"
            ],
            [
             0.4444444444444444,
             "#bd3786"
            ],
            [
             0.5555555555555556,
             "#d8576b"
            ],
            [
             0.6666666666666666,
             "#ed7953"
            ],
            [
             0.7777777777777778,
             "#fb9f3a"
            ],
            [
             0.8888888888888888,
             "#fdca26"
            ],
            [
             1,
             "#f0f921"
            ]
           ],
           "sequentialminus": [
            [
             0,
             "#0d0887"
            ],
            [
             0.1111111111111111,
             "#46039f"
            ],
            [
             0.2222222222222222,
             "#7201a8"
            ],
            [
             0.3333333333333333,
             "#9c179e"
            ],
            [
             0.4444444444444444,
             "#bd3786"
            ],
            [
             0.5555555555555556,
             "#d8576b"
            ],
            [
             0.6666666666666666,
             "#ed7953"
            ],
            [
             0.7777777777777778,
             "#fb9f3a"
            ],
            [
             0.8888888888888888,
             "#fdca26"
            ],
            [
             1,
             "#f0f921"
            ]
           ]
          },
          "colorway": [
           "#636efa",
           "#EF553B",
           "#00cc96",
           "#ab63fa",
           "#FFA15A",
           "#19d3f3",
           "#FF6692",
           "#B6E880",
           "#FF97FF",
           "#FECB52"
          ],
          "font": {
           "color": "#2a3f5f"
          },
          "geo": {
           "bgcolor": "white",
           "lakecolor": "white",
           "landcolor": "#E5ECF6",
           "showlakes": true,
           "showland": true,
           "subunitcolor": "white"
          },
          "hoverlabel": {
           "align": "left"
          },
          "hovermode": "closest",
          "mapbox": {
           "style": "light"
          },
          "paper_bgcolor": "white",
          "plot_bgcolor": "#E5ECF6",
          "polar": {
           "angularaxis": {
            "gridcolor": "white",
            "linecolor": "white",
            "ticks": ""
           },
           "bgcolor": "#E5ECF6",
           "radialaxis": {
            "gridcolor": "white",
            "linecolor": "white",
            "ticks": ""
           }
          },
          "scene": {
           "xaxis": {
            "backgroundcolor": "#E5ECF6",
            "gridcolor": "white",
            "gridwidth": 2,
            "linecolor": "white",
            "showbackground": true,
            "ticks": "",
            "zerolinecolor": "white"
           },
           "yaxis": {
            "backgroundcolor": "#E5ECF6",
            "gridcolor": "white",
            "gridwidth": 2,
            "linecolor": "white",
            "showbackground": true,
            "ticks": "",
            "zerolinecolor": "white"
           },
           "zaxis": {
            "backgroundcolor": "#E5ECF6",
            "gridcolor": "white",
            "gridwidth": 2,
            "linecolor": "white",
            "showbackground": true,
            "ticks": "",
            "zerolinecolor": "white"
           }
          },
          "shapedefaults": {
           "line": {
            "color": "#2a3f5f"
           }
          },
          "ternary": {
           "aaxis": {
            "gridcolor": "white",
            "linecolor": "white",
            "ticks": ""
           },
           "baxis": {
            "gridcolor": "white",
            "linecolor": "white",
            "ticks": ""
           },
           "bgcolor": "#E5ECF6",
           "caxis": {
            "gridcolor": "white",
            "linecolor": "white",
            "ticks": ""
           }
          },
          "title": {
           "x": 0.05
          },
          "xaxis": {
           "automargin": true,
           "gridcolor": "white",
           "linecolor": "white",
           "ticks": "",
           "title": {
            "standoff": 15
           },
           "zerolinecolor": "white",
           "zerolinewidth": 2
          },
          "yaxis": {
           "automargin": true,
           "gridcolor": "white",
           "linecolor": "white",
           "ticks": "",
           "title": {
            "standoff": 15
           },
           "zerolinecolor": "white",
           "zerolinewidth": 2
          }
         }
        }
       }
      }
     },
     "metadata": {},
     "output_type": "display_data"
    }
   ],
   "source": [
    "cmap = ['blue', 'orange', 'green', 'red', 'purple', 'gray', 'black', 'olive']\n",
    "color_map = {f\"{i}\": color for i, color in enumerate(cmap)}\n",
    "\n",
    "umap_3d = UMAP(n_components=3, init='random', random_state=0)\n",
    "proj_3d = umap_3d.fit_transform(clips_feature_tensor)\n",
    "\n",
    "df3d = pd.DataFrame(proj_3d, columns=['x', 'y', 'z'])\n",
    "df3d['kmeans'] = y_kmeans.astype(str)\n",
    "df3d['labels'] = np.array(labels).astype(str)\n",
    "\n",
    "#plot kmeans\n",
    "fig_3d = px.scatter_3d(\n",
    "    df3d, x='x', y='y', z='z',\n",
    "    color='kmeans', color_discrete_map=color_map\n",
    ")\n",
    "fig_3d.update_traces(marker_size=5)\n",
    "fig_3d.show()\n",
    "\n",
    "\n",
    "cmap = ['blue', 'orange', 'black', 'red', 'green', 'gray', 'purple', 'olive']\n",
    "kmeans_color_map = {f\"{i}\": color for i, color in enumerate(cmap)}\n",
    "custom_legend = {f\"{i}\": label_name for i, label_name in enumerate(LABELS)}\n",
    "#plot real label\n",
    "fig = go.Figure()\n",
    "for i, label in enumerate(LABELS):\n",
    "    class_data = df3d[df3d['labels'] == str(i)]\n",
    "    fig.add_trace(go.Scatter3d(\n",
    "        x=class_data['x'], y=class_data['y'], z=class_data['z'],\n",
    "        mode='markers',\n",
    "        marker=dict(size=10, color=cmap[i]),\n",
    "        name=label\n",
    "    ))\n",
    "fig.update_traces(marker_size=5)\n",
    "fig.show()"
   ]
  },
  {
   "cell_type": "markdown",
   "metadata": {},
   "source": [
    "## read actionet"
   ]
  },
  {
   "cell_type": "code",
   "execution_count": 19,
   "metadata": {},
   "outputs": [
    {
     "name": "stdout",
     "output_type": "stream",
     "text": [
      "Index(['index', 'file', 'description', 'labels'], dtype='object')\n",
      "(40, 'S08_1.pkl', 'Spread jelly on a bread slice', 'Spread')\n",
      "(10, 'S04_1.pkl', 'Get/replace items from refrigerator/cabinets/drawers', 'Get/Put')\n",
      "(6, 'S03_1.pkl', 'Clear cutting board', 'Clear')\n",
      "(24, 'S08_1.pkl', 'Clear cutting board', 'Clear')\n",
      "(6, 'S04_1.pkl', 'Slice a cucumber', 'Slice')\n",
      "(23, 'S02_2.pkl', 'Clear cutting board', 'Clear')\n",
      "(15, 'S02_3.pkl', 'Clean a pan with a sponge', 'Clean')\n",
      "(12, 'S07_1.pkl', 'Get/replace items from refrigerator/cabinets/drawers', 'Get/Put')\n",
      "(1, 'S06_1.pkl', 'Get/replace items from refrigerator/cabinets/drawers', 'Get/Put')\n",
      "(47, 'S06_2.pkl', 'Clean a pan with a towel', 'Clean')\n",
      "(1, 'S03_2.pkl', 'Get items from refrigerator/cabinets/drawers', 'Get/Put')\n",
      "(17, 'S04_1.pkl', 'Slice a potato', 'Slice')\n",
      "(30, 'S03_2.pkl', 'Clean a pan with a towel', 'Clean')\n",
      "(45, 'S07_1.pkl', 'Pour water from a pitcher into a glass', 'Pour')\n",
      "(28, 'S03_2.pkl', 'Clean a pan with a sponge', 'Clean')\n",
      "(20, 'S03_2.pkl', 'Get items from refrigerator/cabinets/drawers', 'Get/Put')\n",
      "(37, 'S09_2.pkl', 'Spread almond butter on a bread slice', 'Spread')\n",
      "(4, 'S02_4.pkl', 'Load dishwasher: 3 each large/small plates, bowls, mugs, glasses, sets of utensils', 'Load')\n",
      "(22, 'S05_2.pkl', 'Slice bread', 'Slice')\n",
      "(17, 'S02_2.pkl', 'Slice a potato', 'Slice')\n"
     ]
    }
   ],
   "source": [
    "features = pd.read_pickle(\"./action-net/ActionNet_train.pkl\")\n",
    "#print(features['features'][0])\n",
    "print(features.keys())\n",
    "#print(features['features'][0]['features_RGB'])\n",
    "#print(features['features'][0]['label'])\n",
    "l = list(zip(features['index'][0:20],features['file'][0:20],features['description'][0:20],features['labels'][0:20]))\n",
    "for el in l:\n",
    "    print(el)"
   ]
  }
 ],
 "metadata": {
  "kernelspec": {
   "display_name": "aml_ego",
   "language": "python",
   "name": "python3"
  },
  "language_info": {
   "codemirror_mode": {
    "name": "ipython",
    "version": 3
   },
   "file_extension": ".py",
   "mimetype": "text/x-python",
   "name": "python",
   "nbconvert_exporter": "python",
   "pygments_lexer": "ipython3",
   "version": "3.11.9"
  }
 },
 "nbformat": 4,
 "nbformat_minor": 4
}
