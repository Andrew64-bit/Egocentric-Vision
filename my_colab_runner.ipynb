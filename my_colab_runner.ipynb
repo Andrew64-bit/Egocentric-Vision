{
 "cells": [
  {
   "cell_type": "markdown",
   "metadata": {},
   "source": [
    "## Features extraction"
   ]
  },
  {
   "cell_type": "code",
   "execution_count": 56,
   "metadata": {},
   "outputs": [],
   "source": [
    "import numpy as np\n",
    "import pandas as pd\n",
    "import torch\n",
    "from sklearn.decomposition import PCA\n",
    "from sklearn.cluster import KMeans\n",
    "import matplotlib.pyplot as plt\n",
    "from sklearn.manifold import TSNE\n",
    "from matplotlib.colors import ListedColormap\n",
    "from umap import UMAP\n",
    "import plotly.express as px\n",
    "import subprocess\n",
    "import os"
   ]
  },
  {
   "cell_type": "code",
   "execution_count": 4,
   "metadata": {},
   "outputs": [],
   "source": [
    "LABELS = [\n",
    "    \"get, take\",\n",
    "    \"place, place-on, place-back, put, put-back\",\n",
    "    \"open\",\n",
    "    \"close\",\n",
    "    \"clean, wipe-off, wipe, wash, rinse\",\n",
    "    \"cut, chop, slice\",\n",
    "    \"mix, mix-around, stir, whisk\",\n",
    "    \"pour\"\n",
    "]"
   ]
  },
  {
   "cell_type": "code",
   "execution_count": 69,
   "metadata": {},
   "outputs": [],
   "source": [
    "if False:   \n",
    "\n",
    "    # Assicurati di essere nella directory corretta\n",
    "    os.chdir(\"C:/Users/iplov/Desktop/Advanced ML/Progetto/github andrew/Egocentric-Vision\")\n",
    "    # Comando da eseguire\n",
    "    command = [\n",
    "        'python', 'save_feat.py',\n",
    "        'config=configs/I3D_save_feat.yaml',\n",
    "        'dataset.shift=D1-D1',\n",
    "        'dataset.RGB.data_path=D:/ek_data/frames',\n",
    "        'save.dense_sampling.RGB=true',\n",
    "        'save.num_frames_per_clip.RGB=5',\n",
    "        'name=saved_feat_I3D_5_Dense'\n",
    "    ]\n",
    "\n",
    "    # Esegui il comando\n",
    "    result = subprocess.run(command, capture_output=True, text=True)\n",
    "\n",
    "    # Stampa l'output e l'errore\n",
    "    print('Output:', result.stdout)\n",
    "    #print('Error:', result.stderr)\n",
    "\n",
    "    # Verifica il codice di uscita\n",
    "    if result.returncode != 0:\n",
    "        print(f'Command failed with return code {result.returncode}')"
   ]
  },
  {
   "cell_type": "code",
   "execution_count": 8,
   "metadata": {},
   "outputs": [
    {
     "name": "stdout",
     "output_type": "stream",
     "text": [
      "Output: Using device: cpu\n",
      "\n",
      "Output: Using device: cpu\n",
      "\n",
      "Output: Using device: cpu\n",
      "\n",
      "UNIFORM n = 5\n",
      "Output: Using device: cpu\n",
      "\n",
      "Error: /Users/andreavannozzi/GithubProjects/Egocentric-Vision/env/lib/python3.8/site-packages/torchvision/io/image.py:13: UserWarning: Failed to load image Python extension: dlopen(/Users/andreavannozzi/GithubProjects/Egocentric-Vision/env/lib/python3.8/site-packages/torchvision/image.so, 0x0006): Symbol not found: __ZN3c1017RegisterOperatorsD1Ev\n",
      "  Referenced from: <0EB69795-4559-3C98-9EA1-35B6A988BB99> /Users/andreavannozzi/GithubProjects/Egocentric-Vision/env/lib/python3.8/site-packages/torchvision/image.so\n",
      "  Expected in:     <E4E2FFCA-031E-3974-A7B0-45408D7F4956> /Users/andreavannozzi/GithubProjects/Egocentric-Vision/env/lib/python3.8/site-packages/torch/lib/libtorch_cpu.dylib\n",
      "  warn(f\"Failed to load image Python extension: {e}\")\n",
      "2024-05-29 16:03:16 LOG INFO Feature Extraction\n",
      "2024-05-29 16:03:16 LOG INFO Running with parameters: \n",
      "  action: save\n",
      "  name: saved_feat_I3D_5_uniform\n",
      "  modality: ['RGB']\n",
      "  total_batch: 128\n",
      "  batch_size: 32\n",
      "  gpus: None\n",
      "  wandb_name: None\n",
      "  resume_from: ./saved_models/I3D_SourceOnlyD1\n",
      "  logname: save_D1-D1.log\n",
      "  models_dir: saved_models/saved_feat_I3D_5_uniform/May29_16-03-15\n",
      "  train:\n",
      "    num_iter: 5000\n",
      "    lr_steps: 3000\n",
      "    eval_freq: 50\n",
      "    num_clips: 1\n",
      "    dense_sampling:\n",
      "      RGB: True\n",
      "    num_frames_per_clip:\n",
      "      RGB: 16\n",
      "  test:\n",
      "    num_clips: 5\n",
      "    dense_sampling:\n",
      "      RGB: True\n",
      "    num_frames_per_clip:\n",
      "      RGB: 16\n",
      "  dataset:\n",
      "    annotations_path: train_val\n",
      "    shift: D1-D1\n",
      "    workers: 4\n",
      "    stride: 2\n",
      "    resolution: 224\n",
      "    RGB:\n",
      "      data_path: ./ek_data/frames\n",
      "      tmpl: img_{:010d}.jpg\n",
      "      features_name: test_feat_kinetics\n",
      "    Event:\n",
      "      rgb4e: 6\n",
      "  models:\n",
      "    RGB:\n",
      "      model: I3D\n",
      "      normalize: False\n",
      "      kwargs:\n",
      "      lr_steps: 3000\n",
      "      lr: 0.01\n",
      "      sgd_momentum: 0.9\n",
      "      weight_decay: 1e-07\n",
      "      dropout: 0.5\n",
      "      resolution: 224\n",
      "      weight_i3d_rgb: ./pretrained_i3d/rgb_imagenet.pt\n",
      "  split: test\n",
      "  save:\n",
      "    num_clips: 5\n",
      "    dense_sampling:\n",
      "      RGB: False\n",
      "    num_frames_per_clip:\n",
      "      RGB: 5\n",
      "  config: configs/I3D_save_feat.yaml\n",
      "  experiment_dir: saved_feat_I3D_5_uniform/May29_16-03-15\n",
      "  log_dir: TEST_RESULTS/saved_feat_I3D_5_uniform\n",
      "  logfile: TEST_RESULTS/saved_feat_I3D_5_uniform/save_D1-D1.log\n",
      "2024-05-29 16:03:16 LOG INFO Instantiating models per modality\n",
      "2024-05-29 16:03:16 LOG INFO I3D Net\tModality: RGB\n",
      "2024-05-29 16:03:16 LOG INFO Loading Kinetics weights I3D\n",
      "2024-05-29 16:03:16 LOG INFO  * Skipping Logits weight for 'logits.conv3d.weight'\n",
      "2024-05-29 16:03:16 LOG INFO  * Skipping Logits weight for 'logits.conv3d.bias'\n",
      "2024-05-29 16:03:16 LOG INFO Restoring action-classifier for modality RGB from saved_models/I3D_SourceOnlyD1/Oct25_22-38-50/action-classifier_RGB_9.pth\n",
      "2024-05-29 16:03:16 LOG INFO RGB-Model for action-classifier restored at iter 4850.0\n",
      "Best accuracy on val: 59.54 at iter 4000.0\n",
      "Last accuracy on val: 58.85\n",
      "Last loss: 0.00\n",
      "2024-05-29 16:03:16 LOG INFO Dataloader for D1-test with 435 samples generated\n",
      "2024-05-29 16:03:56 LOG INFO [87/435] top1= 50.575% top5 = 96.552%\n",
      "2024-05-29 16:04:29 LOG INFO [174/435] top1= 52.299% top5 = 97.126%\n",
      "2024-05-29 16:05:02 LOG INFO [261/435] top1= 48.659% top5 = 96.552%\n",
      "2024-05-29 16:05:35 LOG INFO [348/435] top1= 48.563% top5 = 96.264%\n",
      "2024-05-29 16:06:08 LOG INFO [435/435] top1= 45.287% top5 = 96.782%\n",
      "/Users/andreavannozzi/GithubProjects/Egocentric-Vision/env/lib/python3.8/site-packages/torchvision/io/image.py:13: UserWarning: Failed to load image Python extension: dlopen(/Users/andreavannozzi/GithubProjects/Egocentric-Vision/env/lib/python3.8/site-packages/torchvision/image.so, 0x0006): Symbol not found: __ZN3c1017RegisterOperatorsD1Ev\n",
      "  Referenced from: <0EB69795-4559-3C98-9EA1-35B6A988BB99> /Users/andreavannozzi/GithubProjects/Egocentric-Vision/env/lib/python3.8/site-packages/torchvision/image.so\n",
      "  Expected in:     <E4E2FFCA-031E-3974-A7B0-45408D7F4956> /Users/andreavannozzi/GithubProjects/Egocentric-Vision/env/lib/python3.8/site-packages/torch/lib/libtorch_cpu.dylib\n",
      "  warn(f\"Failed to load image Python extension: {e}\")\n",
      "/Users/andreavannozzi/GithubProjects/Egocentric-Vision/env/lib/python3.8/site-packages/torchvision/io/image.py:13: UserWarning: Failed to load image Python extension: dlopen(/Users/andreavannozzi/GithubProjects/Egocentric-Vision/env/lib/python3.8/site-packages/torchvision/image.so, 0x0006): Symbol not found: __ZN3c1017RegisterOperatorsD1Ev\n",
      "  Referenced from: <0EB69795-4559-3C98-9EA1-35B6A988BB99> /Users/andreavannozzi/GithubProjects/Egocentric-Vision/env/lib/python3.8/site-packages/torchvision/image.so\n",
      "  Expected in:     <E4E2FFCA-031E-3974-A7B0-45408D7F4956> /Users/andreavannozzi/GithubProjects/Egocentric-Vision/env/lib/python3.8/site-packages/torch/lib/libtorch_cpu.dylib\n",
      "  warn(f\"Failed to load image Python extension: {e}\")\n",
      "/Users/andreavannozzi/GithubProjects/Egocentric-Vision/env/lib/python3.8/site-packages/torchvision/io/image.py:13: UserWarning: Failed to load image Python extension: dlopen(/Users/andreavannozzi/GithubProjects/Egocentric-Vision/env/lib/python3.8/site-packages/torchvision/image.so, 0x0006): Symbol not found: __ZN3c1017RegisterOperatorsD1Ev\n",
      "  Referenced from: <0EB69795-4559-3C98-9EA1-35B6A988BB99> /Users/andreavannozzi/GithubProjects/Egocentric-Vision/env/lib/python3.8/site-packages/torchvision/image.so\n",
      "  Expected in:     <E4E2FFCA-031E-3974-A7B0-45408D7F4956> /Users/andreavannozzi/GithubProjects/Egocentric-Vision/env/lib/python3.8/site-packages/torch/lib/libtorch_cpu.dylib\n",
      "  warn(f\"Failed to load image Python extension: {e}\")\n",
      "/Users/andreavannozzi/GithubProjects/Egocentric-Vision/env/lib/python3.8/site-packages/torchvision/io/image.py:13: UserWarning: Failed to load image Python extension: dlopen(/Users/andreavannozzi/GithubProjects/Egocentric-Vision/env/lib/python3.8/site-packages/torchvision/image.so, 0x0006): Symbol not found: __ZN3c1017RegisterOperatorsD1Ev\n",
      "  Referenced from: <0EB69795-4559-3C98-9EA1-35B6A988BB99> /Users/andreavannozzi/GithubProjects/Egocentric-Vision/env/lib/python3.8/site-packages/torchvision/image.so\n",
      "  Expected in:     <E4E2FFCA-031E-3974-A7B0-45408D7F4956> /Users/andreavannozzi/GithubProjects/Egocentric-Vision/env/lib/python3.8/site-packages/torch/lib/libtorch_cpu.dylib\n",
      "  warn(f\"Failed to load image Python extension: {e}\")\n",
      "2024-05-29 16:06:28 LOG INFO Final accuracy: top1 = 45.29%\ttop5 = 96.78%\n",
      "2024-05-29 16:06:28 LOG INFO Class 0 = [47/124] = 37.90%\n",
      "2024-05-29 16:06:28 LOG INFO Class 1 = [68/104] = 65.38%\n",
      "2024-05-29 16:06:28 LOG INFO Class 2 = [22/52] = 42.31%\n",
      "2024-05-29 16:06:28 LOG INFO Class 3 = [9/34] = 26.47%\n",
      "2024-05-29 16:06:28 LOG INFO Class 4 = [45/66] = 68.18%\n",
      "2024-05-29 16:06:28 LOG INFO Class 5 = [1/13] = 7.69%\n",
      "2024-05-29 16:06:28 LOG INFO Class 6 = [4/20] = 20.00%\n",
      "2024-05-29 16:06:28 LOG INFO Class 7 = [1/22] = 4.55%\n",
      "2024-05-29 16:06:28 LOG INFO Accuracy by averaging class accuracies (same weight for each class): 34.06071276920423%\n",
      "\n",
      "UNIFORM n = 10\n",
      "Output: Using device: cpu\n",
      "\n",
      "Error: /Users/andreavannozzi/GithubProjects/Egocentric-Vision/env/lib/python3.8/site-packages/torchvision/io/image.py:13: UserWarning: Failed to load image Python extension: dlopen(/Users/andreavannozzi/GithubProjects/Egocentric-Vision/env/lib/python3.8/site-packages/torchvision/image.so, 0x0006): Symbol not found: __ZN3c1017RegisterOperatorsD1Ev\n",
      "  Referenced from: <0EB69795-4559-3C98-9EA1-35B6A988BB99> /Users/andreavannozzi/GithubProjects/Egocentric-Vision/env/lib/python3.8/site-packages/torchvision/image.so\n",
      "  Expected in:     <E4E2FFCA-031E-3974-A7B0-45408D7F4956> /Users/andreavannozzi/GithubProjects/Egocentric-Vision/env/lib/python3.8/site-packages/torch/lib/libtorch_cpu.dylib\n",
      "  warn(f\"Failed to load image Python extension: {e}\")\n",
      "2024-05-29 16:06:32 LOG INFO Feature Extraction\n",
      "2024-05-29 16:06:32 LOG INFO Running with parameters: \n",
      "  action: save\n",
      "  name: saved_feat_I3D_10_uniform\n",
      "  modality: ['RGB']\n",
      "  total_batch: 128\n",
      "  batch_size: 32\n",
      "  gpus: None\n",
      "  wandb_name: None\n",
      "  resume_from: ./saved_models/I3D_SourceOnlyD1\n",
      "  logname: save_D1-D1.log\n",
      "  models_dir: saved_models/saved_feat_I3D_10_uniform/May29_16-06-31\n",
      "  train:\n",
      "    num_iter: 5000\n",
      "    lr_steps: 3000\n",
      "    eval_freq: 50\n",
      "    num_clips: 1\n",
      "    dense_sampling:\n",
      "      RGB: True\n",
      "    num_frames_per_clip:\n",
      "      RGB: 16\n",
      "  test:\n",
      "    num_clips: 5\n",
      "    dense_sampling:\n",
      "      RGB: True\n",
      "    num_frames_per_clip:\n",
      "      RGB: 16\n",
      "  dataset:\n",
      "    annotations_path: train_val\n",
      "    shift: D1-D1\n",
      "    workers: 4\n",
      "    stride: 2\n",
      "    resolution: 224\n",
      "    RGB:\n",
      "      data_path: ./ek_data/frames\n",
      "      tmpl: img_{:010d}.jpg\n",
      "      features_name: test_feat_kinetics\n",
      "    Event:\n",
      "      rgb4e: 6\n",
      "  models:\n",
      "    RGB:\n",
      "      model: I3D\n",
      "      normalize: False\n",
      "      kwargs:\n",
      "      lr_steps: 3000\n",
      "      lr: 0.01\n",
      "      sgd_momentum: 0.9\n",
      "      weight_decay: 1e-07\n",
      "      dropout: 0.5\n",
      "      resolution: 224\n",
      "      weight_i3d_rgb: ./pretrained_i3d/rgb_imagenet.pt\n",
      "  split: test\n",
      "  save:\n",
      "    num_clips: 5\n",
      "    dense_sampling:\n",
      "      RGB: False\n",
      "    num_frames_per_clip:\n",
      "      RGB: 10\n",
      "  config: configs/I3D_save_feat.yaml\n",
      "  experiment_dir: saved_feat_I3D_10_uniform/May29_16-06-31\n",
      "  log_dir: TEST_RESULTS/saved_feat_I3D_10_uniform\n",
      "  logfile: TEST_RESULTS/saved_feat_I3D_10_uniform/save_D1-D1.log\n",
      "2024-05-29 16:06:32 LOG INFO Instantiating models per modality\n",
      "2024-05-29 16:06:32 LOG INFO I3D Net\tModality: RGB\n",
      "2024-05-29 16:06:32 LOG INFO Loading Kinetics weights I3D\n",
      "2024-05-29 16:06:32 LOG INFO  * Skipping Logits weight for 'logits.conv3d.weight'\n",
      "2024-05-29 16:06:32 LOG INFO  * Skipping Logits weight for 'logits.conv3d.bias'\n",
      "2024-05-29 16:06:32 LOG INFO Restoring action-classifier for modality RGB from saved_models/I3D_SourceOnlyD1/Oct25_22-38-50/action-classifier_RGB_9.pth\n",
      "2024-05-29 16:06:32 LOG INFO RGB-Model for action-classifier restored at iter 4850.0\n",
      "Best accuracy on val: 59.54 at iter 4000.0\n",
      "Last accuracy on val: 58.85\n",
      "Last loss: 0.00\n",
      "2024-05-29 16:06:32 LOG INFO Dataloader for D1-test with 435 samples generated\n",
      "2024-05-29 16:07:29 LOG INFO [87/435] top1= 51.724% top5 = 98.851%\n",
      "2024-05-29 16:08:21 LOG INFO [174/435] top1= 52.299% top5 = 98.851%\n",
      "2024-05-29 16:09:13 LOG INFO [261/435] top1= 50.958% top5 = 98.084%\n",
      "2024-05-29 16:10:06 LOG INFO [348/435] top1= 52.299% top5 = 97.701%\n",
      "2024-05-29 16:10:59 LOG INFO [435/435] top1= 50.575% top5 = 98.161%\n",
      "/Users/andreavannozzi/GithubProjects/Egocentric-Vision/env/lib/python3.8/site-packages/torchvision/io/image.py:13: UserWarning: Failed to load image Python extension: dlopen(/Users/andreavannozzi/GithubProjects/Egocentric-Vision/env/lib/python3.8/site-packages/torchvision/image.so, 0x0006): Symbol not found: __ZN3c1017RegisterOperatorsD1Ev\n",
      "  Referenced from: <0EB69795-4559-3C98-9EA1-35B6A988BB99> /Users/andreavannozzi/GithubProjects/Egocentric-Vision/env/lib/python3.8/site-packages/torchvision/image.so\n",
      "  Expected in:     <E4E2FFCA-031E-3974-A7B0-45408D7F4956> /Users/andreavannozzi/GithubProjects/Egocentric-Vision/env/lib/python3.8/site-packages/torch/lib/libtorch_cpu.dylib\n",
      "  warn(f\"Failed to load image Python extension: {e}\")\n",
      "/Users/andreavannozzi/GithubProjects/Egocentric-Vision/env/lib/python3.8/site-packages/torchvision/io/image.py:13: UserWarning: Failed to load image Python extension: dlopen(/Users/andreavannozzi/GithubProjects/Egocentric-Vision/env/lib/python3.8/site-packages/torchvision/image.so, 0x0006): Symbol not found: __ZN3c1017RegisterOperatorsD1Ev\n",
      "  Referenced from: <0EB69795-4559-3C98-9EA1-35B6A988BB99> /Users/andreavannozzi/GithubProjects/Egocentric-Vision/env/lib/python3.8/site-packages/torchvision/image.so\n",
      "  Expected in:     <E4E2FFCA-031E-3974-A7B0-45408D7F4956> /Users/andreavannozzi/GithubProjects/Egocentric-Vision/env/lib/python3.8/site-packages/torch/lib/libtorch_cpu.dylib\n",
      "  warn(f\"Failed to load image Python extension: {e}\")\n",
      "/Users/andreavannozzi/GithubProjects/Egocentric-Vision/env/lib/python3.8/site-packages/torchvision/io/image.py:13: UserWarning: Failed to load image Python extension: dlopen(/Users/andreavannozzi/GithubProjects/Egocentric-Vision/env/lib/python3.8/site-packages/torchvision/image.so, 0x0006): Symbol not found: __ZN3c1017RegisterOperatorsD1Ev\n",
      "  Referenced from: <0EB69795-4559-3C98-9EA1-35B6A988BB99> /Users/andreavannozzi/GithubProjects/Egocentric-Vision/env/lib/python3.8/site-packages/torchvision/image.so\n",
      "  Expected in:     <E4E2FFCA-031E-3974-A7B0-45408D7F4956> /Users/andreavannozzi/GithubProjects/Egocentric-Vision/env/lib/python3.8/site-packages/torch/lib/libtorch_cpu.dylib\n",
      "  warn(f\"Failed to load image Python extension: {e}\")\n",
      "/Users/andreavannozzi/GithubProjects/Egocentric-Vision/env/lib/python3.8/site-packages/torchvision/io/image.py:13: UserWarning: Failed to load image Python extension: dlopen(/Users/andreavannozzi/GithubProjects/Egocentric-Vision/env/lib/python3.8/site-packages/torchvision/image.so, 0x0006): Symbol not found: __ZN3c1017RegisterOperatorsD1Ev\n",
      "  Referenced from: <0EB69795-4559-3C98-9EA1-35B6A988BB99> /Users/andreavannozzi/GithubProjects/Egocentric-Vision/env/lib/python3.8/site-packages/torchvision/image.so\n",
      "  Expected in:     <E4E2FFCA-031E-3974-A7B0-45408D7F4956> /Users/andreavannozzi/GithubProjects/Egocentric-Vision/env/lib/python3.8/site-packages/torch/lib/libtorch_cpu.dylib\n",
      "  warn(f\"Failed to load image Python extension: {e}\")\n",
      "2024-05-29 16:11:19 LOG INFO Final accuracy: top1 = 50.57%\ttop5 = 98.16%\n",
      "2024-05-29 16:11:19 LOG INFO Class 0 = [84/124] = 67.74%\n",
      "2024-05-29 16:11:19 LOG INFO Class 1 = [38/104] = 36.54%\n",
      "2024-05-29 16:11:19 LOG INFO Class 2 = [27/52] = 51.92%\n",
      "2024-05-29 16:11:19 LOG INFO Class 3 = [9/34] = 26.47%\n",
      "2024-05-29 16:11:19 LOG INFO Class 4 = [45/66] = 68.18%\n",
      "2024-05-29 16:11:19 LOG INFO Class 5 = [6/13] = 46.15%\n",
      "2024-05-29 16:11:19 LOG INFO Class 6 = [10/20] = 50.00%\n",
      "2024-05-29 16:11:19 LOG INFO Class 7 = [1/22] = 4.55%\n",
      "2024-05-29 16:11:19 LOG INFO Accuracy by averaging class accuracies (same weight for each class): 43.9443976327278%\n",
      "\n",
      "UNIFORM n = 25\n",
      "Output: Using device: cpu\n",
      "\n",
      "Error: /Users/andreavannozzi/GithubProjects/Egocentric-Vision/env/lib/python3.8/site-packages/torchvision/io/image.py:13: UserWarning: Failed to load image Python extension: dlopen(/Users/andreavannozzi/GithubProjects/Egocentric-Vision/env/lib/python3.8/site-packages/torchvision/image.so, 0x0006): Symbol not found: __ZN3c1017RegisterOperatorsD1Ev\n",
      "  Referenced from: <0EB69795-4559-3C98-9EA1-35B6A988BB99> /Users/andreavannozzi/GithubProjects/Egocentric-Vision/env/lib/python3.8/site-packages/torchvision/image.so\n",
      "  Expected in:     <E4E2FFCA-031E-3974-A7B0-45408D7F4956> /Users/andreavannozzi/GithubProjects/Egocentric-Vision/env/lib/python3.8/site-packages/torch/lib/libtorch_cpu.dylib\n",
      "  warn(f\"Failed to load image Python extension: {e}\")\n",
      "2024-05-29 16:11:22 LOG INFO Feature Extraction\n",
      "2024-05-29 16:11:22 LOG INFO Running with parameters: \n",
      "  action: save\n",
      "  name: saved_feat_I3D_25_uniform\n",
      "  modality: ['RGB']\n",
      "  total_batch: 128\n",
      "  batch_size: 32\n",
      "  gpus: None\n",
      "  wandb_name: None\n",
      "  resume_from: ./saved_models/I3D_SourceOnlyD1\n",
      "  logname: save_D1-D1.log\n",
      "  models_dir: saved_models/saved_feat_I3D_25_uniform/May29_16-11-21\n",
      "  train:\n",
      "    num_iter: 5000\n",
      "    lr_steps: 3000\n",
      "    eval_freq: 50\n",
      "    num_clips: 1\n",
      "    dense_sampling:\n",
      "      RGB: True\n",
      "    num_frames_per_clip:\n",
      "      RGB: 16\n",
      "  test:\n",
      "    num_clips: 5\n",
      "    dense_sampling:\n",
      "      RGB: True\n",
      "    num_frames_per_clip:\n",
      "      RGB: 16\n",
      "  dataset:\n",
      "    annotations_path: train_val\n",
      "    shift: D1-D1\n",
      "    workers: 4\n",
      "    stride: 2\n",
      "    resolution: 224\n",
      "    RGB:\n",
      "      data_path: ./ek_data/frames\n",
      "      tmpl: img_{:010d}.jpg\n",
      "      features_name: test_feat_kinetics\n",
      "    Event:\n",
      "      rgb4e: 6\n",
      "  models:\n",
      "    RGB:\n",
      "      model: I3D\n",
      "      normalize: False\n",
      "      kwargs:\n",
      "      lr_steps: 3000\n",
      "      lr: 0.01\n",
      "      sgd_momentum: 0.9\n",
      "      weight_decay: 1e-07\n",
      "      dropout: 0.5\n",
      "      resolution: 224\n",
      "      weight_i3d_rgb: ./pretrained_i3d/rgb_imagenet.pt\n",
      "  split: test\n",
      "  save:\n",
      "    num_clips: 5\n",
      "    dense_sampling:\n",
      "      RGB: False\n",
      "    num_frames_per_clip:\n",
      "      RGB: 25\n",
      "  config: configs/I3D_save_feat.yaml\n",
      "  experiment_dir: saved_feat_I3D_25_uniform/May29_16-11-21\n",
      "  log_dir: TEST_RESULTS/saved_feat_I3D_25_uniform\n",
      "  logfile: TEST_RESULTS/saved_feat_I3D_25_uniform/save_D1-D1.log\n",
      "2024-05-29 16:11:22 LOG INFO Instantiating models per modality\n",
      "2024-05-29 16:11:22 LOG INFO I3D Net\tModality: RGB\n",
      "2024-05-29 16:11:22 LOG INFO Loading Kinetics weights I3D\n",
      "2024-05-29 16:11:22 LOG INFO  * Skipping Logits weight for 'logits.conv3d.weight'\n",
      "2024-05-29 16:11:22 LOG INFO  * Skipping Logits weight for 'logits.conv3d.bias'\n",
      "2024-05-29 16:11:23 LOG INFO Restoring action-classifier for modality RGB from saved_models/I3D_SourceOnlyD1/Oct25_22-38-50/action-classifier_RGB_9.pth\n",
      "2024-05-29 16:11:23 LOG INFO RGB-Model for action-classifier restored at iter 4850.0\n",
      "Best accuracy on val: 59.54 at iter 4000.0\n",
      "Last accuracy on val: 58.85\n",
      "Last loss: 0.00\n",
      "2024-05-29 16:11:23 LOG INFO Dataloader for D1-test with 435 samples generated\n",
      "2024-05-29 16:13:47 LOG INFO [87/435] top1= 48.276% top5 = 95.402%\n",
      "2024-05-29 16:15:57 LOG INFO [174/435] top1= 52.874% top5 = 97.126%\n",
      "2024-05-29 16:18:05 LOG INFO [261/435] top1= 51.341% top5 = 97.318%\n",
      "2024-05-29 16:20:13 LOG INFO [348/435] top1= 49.713% top5 = 96.552%\n",
      "2024-05-29 16:22:21 LOG INFO [435/435] top1= 48.736% top5 = 97.011%\n",
      "/Users/andreavannozzi/GithubProjects/Egocentric-Vision/env/lib/python3.8/site-packages/torchvision/io/image.py:13: UserWarning: Failed to load image Python extension: dlopen(/Users/andreavannozzi/GithubProjects/Egocentric-Vision/env/lib/python3.8/site-packages/torchvision/image.so, 0x0006): Symbol not found: __ZN3c1017RegisterOperatorsD1Ev\n",
      "  Referenced from: <0EB69795-4559-3C98-9EA1-35B6A988BB99> /Users/andreavannozzi/GithubProjects/Egocentric-Vision/env/lib/python3.8/site-packages/torchvision/image.so\n",
      "  Expected in:     <E4E2FFCA-031E-3974-A7B0-45408D7F4956> /Users/andreavannozzi/GithubProjects/Egocentric-Vision/env/lib/python3.8/site-packages/torch/lib/libtorch_cpu.dylib\n",
      "  warn(f\"Failed to load image Python extension: {e}\")\n",
      "/Users/andreavannozzi/GithubProjects/Egocentric-Vision/env/lib/python3.8/site-packages/torchvision/io/image.py:13: UserWarning: Failed to load image Python extension: dlopen(/Users/andreavannozzi/GithubProjects/Egocentric-Vision/env/lib/python3.8/site-packages/torchvision/image.so, 0x0006): Symbol not found: __ZN3c1017RegisterOperatorsD1Ev\n",
      "  Referenced from: <0EB69795-4559-3C98-9EA1-35B6A988BB99> /Users/andreavannozzi/GithubProjects/Egocentric-Vision/env/lib/python3.8/site-packages/torchvision/image.so\n",
      "  Expected in:     <E4E2FFCA-031E-3974-A7B0-45408D7F4956> /Users/andreavannozzi/GithubProjects/Egocentric-Vision/env/lib/python3.8/site-packages/torch/lib/libtorch_cpu.dylib\n",
      "  warn(f\"Failed to load image Python extension: {e}\")\n",
      "/Users/andreavannozzi/GithubProjects/Egocentric-Vision/env/lib/python3.8/site-packages/torchvision/io/image.py:13: UserWarning: Failed to load image Python extension: dlopen(/Users/andreavannozzi/GithubProjects/Egocentric-Vision/env/lib/python3.8/site-packages/torchvision/image.so, 0x0006): Symbol not found: __ZN3c1017RegisterOperatorsD1Ev\n",
      "  Referenced from: <0EB69795-4559-3C98-9EA1-35B6A988BB99> /Users/andreavannozzi/GithubProjects/Egocentric-Vision/env/lib/python3.8/site-packages/torchvision/image.so\n",
      "  Expected in:     <E4E2FFCA-031E-3974-A7B0-45408D7F4956> /Users/andreavannozzi/GithubProjects/Egocentric-Vision/env/lib/python3.8/site-packages/torch/lib/libtorch_cpu.dylib\n",
      "  warn(f\"Failed to load image Python extension: {e}\")\n",
      "/Users/andreavannozzi/GithubProjects/Egocentric-Vision/env/lib/python3.8/site-packages/torchvision/io/image.py:13: UserWarning: Failed to load image Python extension: dlopen(/Users/andreavannozzi/GithubProjects/Egocentric-Vision/env/lib/python3.8/site-packages/torchvision/image.so, 0x0006): Symbol not found: __ZN3c1017RegisterOperatorsD1Ev\n",
      "  Referenced from: <0EB69795-4559-3C98-9EA1-35B6A988BB99> /Users/andreavannozzi/GithubProjects/Egocentric-Vision/env/lib/python3.8/site-packages/torchvision/image.so\n",
      "  Expected in:     <E4E2FFCA-031E-3974-A7B0-45408D7F4956> /Users/andreavannozzi/GithubProjects/Egocentric-Vision/env/lib/python3.8/site-packages/torch/lib/libtorch_cpu.dylib\n",
      "  warn(f\"Failed to load image Python extension: {e}\")\n",
      "2024-05-29 16:22:41 LOG INFO Final accuracy: top1 = 48.74%\ttop5 = 97.01%\n",
      "2024-05-29 16:22:41 LOG INFO Class 0 = [40/124] = 32.26%\n",
      "2024-05-29 16:22:41 LOG INFO Class 1 = [74/104] = 71.15%\n",
      "2024-05-29 16:22:41 LOG INFO Class 2 = [22/52] = 42.31%\n",
      "2024-05-29 16:22:41 LOG INFO Class 3 = [12/34] = 35.29%\n",
      "2024-05-29 16:22:41 LOG INFO Class 4 = [39/66] = 59.09%\n",
      "2024-05-29 16:22:41 LOG INFO Class 5 = [6/13] = 46.15%\n",
      "2024-05-29 16:22:41 LOG INFO Class 6 = [13/20] = 65.00%\n",
      "2024-05-29 16:22:41 LOG INFO Class 7 = [6/22] = 27.27%\n",
      "2024-05-29 16:22:41 LOG INFO Accuracy by averaging class accuracies (same weight for each class): 47.3164003927761%\n",
      "\n"
     ]
    }
   ],
   "source": [
    "# Assicurati di essere nella directory corretta\n",
    "path1 = \"/Users/andreavannozzi/GithubProjects/Egocentric-Vision\"\n",
    "path2 = \"C:/Users/iplov/Desktop/Advanced ML/Progetto/github andrew/Egocentric-Vision\"\n",
    "os.chdir(path1)\n",
    "num_frames_list = [5,10,25]\n",
    "#DENSE\n",
    "if True:\n",
    "    for n in num_frames_list:\n",
    "        # Comando da eseguire\n",
    "        command = [\n",
    "            'python', 'save_feat.py',\n",
    "            'config=configs/I3D_save_feat.yaml',\n",
    "            'dataset.shift=D1-D1',\n",
    "            'dataset.RGB.data_path=./ek_data/frames',\n",
    "            'save.dense_sampling.RGB=true',\n",
    "            f'save.num_frames_per_clip.RGB={n}',\n",
    "            f'name=saved_feat_I3D_{n}_dense'\n",
    "        ]\n",
    "\n",
    "        # Esegui il comando\n",
    "        result = subprocess.run(command, capture_output=True, text=True)\n",
    "\n",
    "        # Stampa l'output e l'errore\n",
    "        print('Output:', result.stdout)\n",
    "        #print('Error:', result.stderr)\n",
    "\n",
    "        # Verifica il codice di uscita\n",
    "        if result.returncode != 0:\n",
    "            print(f'Command failed with return code {result.returncode}')\n",
    "\n",
    "    #UNIFORM\n",
    "    for n in num_frames_list:\n",
    "        print(f\"UNIFORM n = {n}\")\n",
    "        # Comando da eseguire\n",
    "        command = [\n",
    "            'python', 'save_feat.py',\n",
    "            'config=configs/I3D_save_feat.yaml',\n",
    "            'dataset.shift=D1-D1',\n",
    "            'dataset.RGB.data_path=./ek_data/frames',\n",
    "            'save.dense_sampling.RGB=false',\n",
    "            f'save.num_frames_per_clip.RGB={n}',\n",
    "            f'name=saved_feat_I3D_{n}_uniform'\n",
    "        ]\n",
    "\n",
    "        # Esegui il comando\n",
    "        result = subprocess.run(command, capture_output=True, text=True)\n",
    "\n",
    "        # Stampa l'output e l'errore\n",
    "        print('Output:', result.stdout)\n",
    "        print('Error:', result.stderr)\n",
    "\n",
    "        # Verifica il codice di uscita\n",
    "        if result.returncode != 0:\n",
    "            print(f'Command failed with return code {result.returncode}')"
   ]
  },
  {
   "cell_type": "markdown",
   "metadata": {},
   "source": [
    "## Read extracted feature"
   ]
  },
  {
   "cell_type": "code",
   "execution_count": 39,
   "metadata": {},
   "outputs": [
    {
     "name": "stdout",
     "output_type": "stream",
     "text": [
      "435\n",
      "dict_keys(['uid', 'video_name', 'features_RGB', 'label'])\n",
      "7\n"
     ]
    }
   ],
   "source": [
    "features = pd.read_pickle(\"./saved_features/saved_feat_I3D_25_dense_D1_test.pkl\")\n",
    "#print(features['features'][0])\n",
    "print(len(features['features']))\n",
    "#print(features['features'][0]['features_RGB'])\n",
    "#print(features['features'][0]['label'])\n",
    "print(features['features'][0].keys())\n",
    "list_of_features = [np.mean(np.array(feature['features_RGB']),axis=0) for feature in features[\"features\"]]\n",
    "clips_feature = list_of_features\n",
    "labels = [feature['label'] for feature in features[\"features\"]]\n",
    "print(max(labels))"
   ]
  },
  {
   "cell_type": "markdown",
   "metadata": {},
   "source": [
    "# K-Means"
   ]
  },
  {
   "cell_type": "code",
   "execution_count": 53,
   "metadata": {},
   "outputs": [
    {
     "name": "stdout",
     "output_type": "stream",
     "text": [
      "(435, 1024)\n"
     ]
    }
   ],
   "source": [
    "clips_feature_tensor = np.array(clips_feature)\n",
    "\n",
    "print(clips_feature_tensor.shape)\n",
    "\n",
    "kmeans = KMeans(n_clusters=8, random_state=0, n_init=\"auto\").fit(clips_feature_tensor)\n",
    "cmap = ['blue', 'orange', 'green', 'red', 'purple', 'gray', 'black', 'olive']\n",
    "kmeans_color_map = {i: color for i, color in enumerate(cmap)}\n",
    "\n",
    "y_kmeans = kmeans.predict(clips_feature_tensor)\n",
    "\n",
    "tsne = TSNE(n_components=3, random_state=42)\n",
    "# Addestrare il modello e trasformare i dati\n",
    "X = tsne.fit_transform(clips_feature_tensor)\n",
    "# scatter plot of X values\n",
    "df = pd.DataFrame(X, columns=['x', 'y', 'z'])\n",
    "df['kmeans'] = y_kmeans.astype(str)\n",
    "df['labels'] = np.array(labels).astype(str)"
   ]
  },
  {
   "cell_type": "markdown",
   "metadata": {},
   "source": [
    "## plot using TSNE 2D"
   ]
  },
  {
   "cell_type": "code",
   "execution_count": 55,
   "metadata": {},
   "outputs": [
    {
     "name": "stdout",
     "output_type": "stream",
     "text": [
      "\n"
     ]
    },
    {
     "data": {
      "application/vnd.plotly.v1+json": {
       "config": {
        "plotlyServerURL": "https://plot.ly"
       },
       "data": [
        {
         "dimensions": [
          {
           "axis": {
            "matches": true
           },
           "label": "x",
           "values": [
            4.847788333892822,
            -30.507238388061523,
            -30.307743072509766,
            -35.69442367553711,
            -69.9476089477539,
            -4.349939823150635,
            -40.997230529785156,
            -25.47593116760254,
            -68.31950378417969,
            -36.13169860839844,
            37.44010925292969,
            28.322134017944336,
            -20.109434127807617,
            39.928558349609375,
            34.495155334472656,
            -34.19281005859375,
            13.415507316589355,
            -41.17214584350586,
            22.768741607666016,
            25.126079559326172,
            11.886750221252441,
            13.213089942932129,
            36.161136627197266,
            30.821683883666992,
            16.286367416381836,
            14.024173736572266,
            23.930822372436523,
            40.27290344238281,
            35.72770309448242,
            -6.269071578979492,
            -8.158689498901367,
            -66.85691833496094,
            -16.01317596435547,
            -21.52979850769043,
            15.813998222351074,
            -14.274580955505371,
            5.895382404327393,
            -8.74240493774414,
            40.951507568359375,
            44.73948287963867,
            46.987884521484375,
            48.61304473876953,
            -35.0152587890625,
            -11.133796691894531,
            -16.826711654663086,
            -10.4180269241333,
            2.127655267715454,
            15.032267570495605,
            -0.26722121238708496,
            8.136862754821777,
            41.20282745361328,
            -33.830230712890625,
            -24.747364044189453,
            -30.315061569213867,
            -19.890172958374023,
            -36.946266174316406,
            -12.863296508789062,
            -0.726085364818573,
            -3.323347806930542,
            25.671558380126953,
            21.00339698791504,
            4.427459239959717,
            23.39035987854004,
            30.51792335510254,
            3.8935701847076416,
            -5.8827900886535645,
            5.639721870422363,
            26.278825759887695,
            -20.674299240112305,
            1.7701654434204102,
            14.5611572265625,
            -8.183237075805664,
            -2.2674641609191895,
            2.4000561237335205,
            12.745542526245117,
            7.4733476638793945,
            -8.847331047058105,
            24.785865783691406,
            -2.4032301902770996,
            -10.598492622375488,
            5.999416828155518,
            -13.759468078613281,
            -2.497572422027588,
            3.5060324668884277,
            -2.6720128059387207,
            -3.4268569946289062,
            3.9651403427124023,
            9.81068229675293,
            -9.685332298278809,
            -11.564839363098145,
            15.338204383850098,
            13.077224731445312,
            6.855834007263184,
            -18.832019805908203,
            5.443772315979004,
            0.417468398809433,
            0.11583410948514938,
            -13.258543014526367,
            6.217354774475098,
            -9.692205429077148,
            46.155216217041016,
            41.39723205566406,
            -22.062467575073242,
            -17.415390014648438,
            -15.822961807250977,
            13.063130378723145,
            7.615267276763916,
            -16.080942153930664,
            -24.169330596923828,
            -24.802162170410156,
            -18.476974487304688,
            -1.534281611442566,
            31.049072265625,
            10.83407211303711,
            -21.932538986206055,
            -30.63214111328125,
            -18.29416847229004,
            -34.123287200927734,
            -38.68342971801758,
            -31.397201538085938,
            -26.863859176635742,
            -53.967437744140625,
            -21.194917678833008,
            -56.41201400756836,
            -60.80403137207031,
            -31.744064331054688,
            -46.31835174560547,
            -60.5110969543457,
            -32.86598205566406,
            -6.2818732261657715,
            -40.18523406982422,
            -42.6502799987793,
            -25.065597534179688,
            -28.225658416748047,
            -49.68332290649414,
            -52.4155387878418,
            -38.39024353027344,
            -46.954532623291016,
            -62.62584686279297,
            -19.541719436645508,
            -31.271484375,
            -26.76236343383789,
            -40.499122619628906,
            -22.847766876220703,
            -22.904788970947266,
            -48.527870178222656,
            -54.43651580810547,
            24.657041549682617,
            47.270835876464844,
            -5.000309467315674,
            -36.64992904663086,
            -1.5979653596878052,
            -1.6608059406280518,
            -6.33150053024292,
            22.44791603088379,
            16.514827728271484,
            18.24578094482422,
            -7.27691125869751,
            -3.0082433223724365,
            0.7708743810653687,
            17.07339859008789,
            -25.56708335876465,
            -62.75837326049805,
            -11.933321952819824,
            4.553509712219238,
            -7.635847091674805,
            -39.24711608886719,
            -38.99311447143555,
            -26.27654266357422,
            12.327657699584961,
            -31.935630798339844,
            -16.181461334228516,
            -44.37548065185547,
            -11.720539093017578,
            24.672103881835938,
            -9.913955688476562,
            18.572954177856445,
            -28.853849411010742,
            21.39019012451172,
            42.38881301879883,
            23.6212158203125,
            28.36509132385254,
            30.929668426513672,
            52.1619758605957,
            44.67768478393555,
            33.61227798461914,
            -3.0765490531921387,
            -37.07975769042969,
            -3.0353500843048096,
            4.311286926269531,
            18.778823852539062,
            1.9503257274627686,
            20.502317428588867,
            21.657163619995117,
            12.260001182556152,
            13.81943130493164,
            -37.727317810058594,
            -61.490333557128906,
            -58.143306732177734,
            21.17385482788086,
            -25.181442260742188,
            -14.584488868713379,
            -68.79597473144531,
            20.74680519104004,
            9.441740036010742,
            -51.253448486328125,
            -52.3125114440918,
            -37.461830139160156,
            -39.536651611328125,
            -8.423705101013184,
            -38.14714431762695,
            10.114212989807129,
            39.365692138671875,
            51.382530212402344,
            38.197105407714844,
            16.584056854248047,
            15.122477531433105,
            10.512187004089355,
            12.052000045776367,
            12.989625930786133,
            8.088383674621582,
            2.96702241897583,
            25.153255462646484,
            -6.280879497528076,
            18.766124725341797,
            5.700438022613525,
            15.212040901184082,
            1.9551525115966797,
            9.99770450592041,
            -5.6892008781433105,
            -23.086854934692383,
            0.5099968314170837,
            -42.044368743896484,
            -62.098758697509766,
            -67.78461456298828,
            -18.07082748413086,
            -42.88692855834961,
            -15.24109172821045,
            -15.70523738861084,
            20.524900436401367,
            17.87601661682129,
            1.6347111463546753,
            32.17637634277344,
            50.07770538330078,
            6.351576805114746,
            20.41362953186035,
            30.497581481933594,
            18.49078369140625,
            -5.6495866775512695,
            36.941593170166016,
            40.359039306640625,
            14.065826416015625,
            14.961956977844238,
            -5.806037425994873,
            21.482168197631836,
            1.0813463926315308,
            12.054892539978027,
            15.837800979614258,
            7.350905895233154,
            20.128435134887695,
            24.009859085083008,
            25.675748825073242,
            26.848356246948242,
            -8.531262397766113,
            12.648552894592285,
            30.595630645751953,
            36.49163055419922,
            10.605575561523438,
            12.653894424438477,
            2.084205150604248,
            6.465278625488281,
            133.48924255371094,
            3.074693441390991,
            -6.420165538787842,
            -11.801424980163574,
            -18.101654052734375,
            6.395807266235352,
            -1.3769164085388184,
            5.688564300537109,
            -3.574648141860962,
            14.92379093170166,
            21.935569763183594,
            -3.739973545074463,
            3.324523687362671,
            -10.528800964355469,
            -20.00022315979004,
            -50.44370651245117,
            -4.216606140136719,
            8.503820419311523,
            31.490764617919922,
            34.44402313232422,
            -29.18820571899414,
            1.7178089618682861,
            -36.71343231201172,
            -34.62761306762695,
            -22.820951461791992,
            9.613137245178223,
            -2.9683966636657715,
            3.6382875442504883,
            -15.259908676147461,
            -8.111502647399902,
            -4.8614277839660645,
            9.03670597076416,
            -0.2806178331375122,
            -50.28175354003906,
            -12.445475578308105,
            -27.886274337768555,
            -31.804828643798828,
            -10.570173263549805,
            -0.8498786091804504,
            -22.398395538330078,
            -14.981337547302246,
            20.93904685974121,
            -11.863836288452148,
            -11.461868286132812,
            4.799563884735107,
            -27.892629623413086,
            23.99065589904785,
            17.640851974487305,
            -9.686747550964355,
            -16.912172317504883,
            -32.001564025878906,
            -20.968585968017578,
            -23.64200210571289,
            -59.83259582519531,
            -10.267142295837402,
            11.090898513793945,
            -1.3926969766616821,
            -9.73280143737793,
            7.302053928375244,
            6.2049880027771,
            -57.9847526550293,
            -10.130627632141113,
            -9.389530181884766,
            28.031103134155273,
            34.120365142822266,
            29.19923973083496,
            26.92366600036621,
            28.438682556152344,
            43.204002380371094,
            -15.44548225402832,
            12.512611389160156,
            -11.641573905944824,
            -18.863433837890625,
            33.74049758911133,
            5.209105968475342,
            0.7440484166145325,
            8.394133567810059,
            8.36618423461914,
            2.6845128536224365,
            51.4251823425293,
            20.166255950927734,
            13.360343933105469,
            -13.96181583404541,
            13.992568969726562,
            24.2714900970459,
            32.1555290222168,
            8.304570198059082,
            3.078065872192383,
            34.52323532104492,
            -27.006574630737305,
            -37.97777557373047,
            -35.39252471923828,
            28.267658233642578,
            36.93757629394531,
            34.982879638671875,
            32.21405029296875,
            35.42252731323242,
            -7.619266510009766,
            7.550304412841797,
            -22.502471923828125,
            21.362070083618164,
            -0.08584505319595337,
            29.103973388671875,
            40.73190689086914,
            36.48749542236328,
            2.1859428882598877,
            33.401336669921875,
            20.13347053527832,
            35.999603271484375,
            4.247012615203857,
            41.348262786865234,
            42.10689163208008,
            2.831663131713867,
            35.0390510559082,
            41.85457229614258,
            34.109439849853516,
            48.717445373535156,
            44.00905990600586,
            42.969757080078125,
            30.237550735473633,
            39.887996673583984,
            26.754642486572266,
            34.127037048339844,
            36.85049057006836,
            35.120304107666016,
            25.873889923095703,
            28.395610809326172,
            41.05146789550781,
            47.68972396850586,
            43.03761672973633,
            49.47954177856445,
            37.054935455322266,
            -3.4775707721710205,
            -5.5695109367370605,
            -3.212808847427368,
            29.675273895263672,
            5.332685947418213,
            14.626715660095215,
            24.805259704589844,
            35.94661331176758,
            17.6812801361084,
            14.534612655639648,
            19.928760528564453,
            24.013294219970703,
            4.596375465393066,
            35.022560119628906,
            40.47652053833008,
            21.59786033630371,
            25.062292098999023,
            11.641596794128418,
            -16.054906845092773,
            11.656401634216309,
            -52.17106628417969,
            7.811877727508545,
            -19.17684555053711,
            -4.092330455780029,
            -15.735213279724121,
            -15.130666732788086,
            -12.00694751739502,
            -51.43235397338867,
            -4.181469917297363,
            -6.3590087890625,
            -0.17850276827812195,
            -6.232733726501465
           ]
          },
          {
           "axis": {
            "matches": true
           },
           "label": "y",
           "values": [
            -24.595054626464844,
            -36.61738586425781,
            -36.688201904296875,
            -17.069984436035156,
            6.468997955322266,
            -21.88945198059082,
            -15.417135238647461,
            4.88416051864624,
            -0.9745987057685852,
            -4.665507793426514,
            -39.632286071777344,
            -35.95265197753906,
            9.749197959899902,
            -38.277015686035156,
            -23.89557647705078,
            -19.864953994750977,
            52.00290298461914,
            3.970097541809082,
            -45.96648406982422,
            -23.94269561767578,
            -8.748968124389648,
            -17.810203552246094,
            -24.587297439575195,
            37.20840835571289,
            -13.868136405944824,
            -20.511415481567383,
            -13.639083862304688,
            -7.079642295837402,
            -18.345155715942383,
            49.43861770629883,
            55.59722900390625,
            -9.216531753540039,
            -24.63927459716797,
            -3.5574402809143066,
            -9.462779998779297,
            -49.6539421081543,
            -5.216451168060303,
            -50.009742736816406,
            -24.3142147064209,
            -3.6716771125793457,
            1.0180082321166992,
            -15.86855411529541,
            35.05440139770508,
            32.42982864379883,
            32.65965270996094,
            24.78156852722168,
            -43.68986892700195,
            -38.4746208190918,
            8.45020580291748,
            12.277288436889648,
            -17.231149673461914,
            25.913312911987305,
            10.914072036743164,
            31.880990982055664,
            12.543783187866211,
            32.75782775878906,
            32.46864700317383,
            13.706704139709473,
            19.56044578552246,
            -14.407797813415527,
            -16.962646484375,
            18.503646850585938,
            -15.249650955200195,
            -22.653942108154297,
            19.525142669677734,
            10.315738677978516,
            1.1566232442855835,
            42.044857025146484,
            -18.099653244018555,
            -13.728736877441406,
            -34.074100494384766,
            -8.461650848388672,
            -39.97032928466797,
            -39.17864990234375,
            -14.987383842468262,
            -19.169767379760742,
            10.253473281860352,
            17.00156021118164,
            29.0396785736084,
            23.441736221313477,
            30.68448257446289,
            21.499174118041992,
            23.69378662109375,
            38.457672119140625,
            33.97164535522461,
            40.597774505615234,
            15.560166358947754,
            21.115406036376953,
            43.146305084228516,
            2.9930357933044434,
            -37.23371887207031,
            -42.2297477722168,
            -46.22765350341797,
            35.43224334716797,
            -1.9014227390289307,
            0.47362783551216125,
            -4.298207759857178,
            40.63223648071289,
            10.22613525390625,
            -15.646928787231445,
            -13.365382194519043,
            -12.87645149230957,
            -6.9515485763549805,
            2.350666046142578,
            -31.65753173828125,
            -39.59315872192383,
            -30.65438461303711,
            -18.72005844116211,
            6.110438823699951,
            22.82500457763672,
            26.650468826293945,
            6.11096715927124,
            -9.986700057983398,
            -11.258679389953613,
            7.382259845733643,
            7.350218772888184,
            -1.8897273540496826,
            -2.0268003940582275,
            -5.747539043426514,
            -31.71975326538086,
            -25.75457763671875,
            -18.281702041625977,
            -3.259110927581787,
            -13.072226524353027,
            -8.15198802947998,
            -21.769405364990234,
            -17.76267433166504,
            -3.458559989929199,
            -31.893465042114258,
            3.976604461669922,
            5.4883646965026855,
            3.858363628387451,
            -8.269484519958496,
            -18.943374633789062,
            0.018872704356908798,
            0.7972238063812256,
            -10.54506778717041,
            5.708621978759766,
            6.914546012878418,
            -2.1880578994750977,
            -2.9689295291900635,
            -12.197356224060059,
            -2.8130850791931152,
            3.676353931427002,
            9.10689640045166,
            -3.234605073928833,
            1.279168725013733,
            -26.623918533325195,
            -24.634288787841797,
            -12.18477725982666,
            -15.524606704711914,
            -10.355728149414062,
            8.644625663757324,
            4.380620002746582,
            -25.18700408935547,
            -27.719552993774414,
            -25.32028579711914,
            43.58980178833008,
            -53.74674987792969,
            -55.631778717041016,
            -11.631567001342773,
            -41.237327575683594,
            -7.806393146514893,
            -4.115540504455566,
            -14.71413516998291,
            -9.758635520935059,
            25.068801879882812,
            31.352128982543945,
            -12.478853225708008,
            234.78199768066406,
            3.6946146488189697,
            -10.719207763671875,
            -7.052219390869141,
            -13.571747779846191,
            21.743669509887695,
            -8.06739330291748,
            10.240702629089355,
            -25.67152214050293,
            -28.846843719482422,
            5.396232604980469,
            -1.6670788526535034,
            -17.579727172851562,
            -41.300472259521484,
            -35.737545013427734,
            -34.38389205932617,
            -48.596710205078125,
            -17.669021606445312,
            -18.268871307373047,
            -8.87280559539795,
            -18.88846778869629,
            -34.37409973144531,
            -17.328577041625977,
            -43.675567626953125,
            -35.435665130615234,
            12.522530555725098,
            6.072849750518799,
            -26.033103942871094,
            5.123827934265137,
            9.202367782592773,
            -15.866599082946777,
            -6.336927890777588,
            13.104601860046387,
            -16.72245216369629,
            -38.531394958496094,
            -25.67385482788086,
            15.98663330078125,
            14.697576522827148,
            -42.0014533996582,
            -32.47392272949219,
            -27.493444442749023,
            7.614520072937012,
            -4.78162956237793,
            -28.934524536132812,
            -36.45891189575195,
            -43.5549201965332,
            -20.01362419128418,
            -39.57566833496094,
            -36.14401626586914,
            -45.076595306396484,
            9.615418434143066,
            -41.432334899902344,
            -38.160526275634766,
            -40.21614456176758,
            -17.700422286987305,
            25.507375717163086,
            36.616172790527344,
            3.510824203491211,
            2.120473861694336,
            -1.2734285593032837,
            -18.29385757446289,
            -14.034223556518555,
            0.8944536447525024,
            -26.714872360229492,
            2.528203248977661,
            -1.2817009687423706,
            -15.562422752380371,
            -20.266042709350586,
            -18.703012466430664,
            -21.75560188293457,
            17.970745086669922,
            23.975854873657227,
            30.861347198486328,
            -19.714399337768555,
            -8.190619468688965,
            27.5755558013916,
            -3.3444159030914307,
            -9.523587226867676,
            38.04873275756836,
            -26.826040267944336,
            -32.3684196472168,
            4.7343902587890625,
            30.740684509277344,
            37.8797492980957,
            -33.174530029296875,
            39.45481491088867,
            50.90443801879883,
            51.98795700073242,
            46.14973831176758,
            49.4267463684082,
            47.981117248535156,
            50.724761962890625,
            44.04204559326172,
            44.552040100097656,
            -23.692522048950195,
            16.34018325805664,
            -20.01032066345215,
            -5.355345726013184,
            28.91839599609375,
            24.368051528930664,
            -26.426929473876953,
            -26.68675422668457,
            -5.85181188583374,
            -15.501084327697754,
            -17.002643585205078,
            -20.704124450683594,
            -20.289852142333984,
            36.18669509887695,
            37.86793518066406,
            42.29991912841797,
            17.174869537353516,
            32.835838317871094,
            37.014896392822266,
            20.423755645751953,
            -4.894627094268799,
            30.61429786682129,
            26.010929107666016,
            -24.82485008239746,
            20.89269256591797,
            20.793609619140625,
            62.083580017089844,
            59.54115295410156,
            32.880245208740234,
            12.489654541015625,
            -17.505781173706055,
            -16.909440994262695,
            -26.582366943359375,
            22.939701080322266,
            24.600099563598633,
            34.23261642456055,
            11.250431060791016,
            22.43171501159668,
            -22.740461349487305,
            -19.459081649780273,
            52.001731872558594,
            -19.033376693725586,
            21.424654006958008,
            44.94506072998047,
            44.627315521240234,
            12.150311470031738,
            28.431076049804688,
            38.89296340942383,
            28.237375259399414,
            37.548892974853516,
            31.472883224487305,
            21.252885818481445,
            34.47002029418945,
            -24.57988166809082,
            20.8761043548584,
            24.489084243774414,
            10.06550407409668,
            12.07808780670166,
            22.14342498779297,
            36.72383117675781,
            21.686874389648438,
            -21.140684127807617,
            15.951549530029297,
            34.418643951416016,
            50.40977478027344,
            -26.189672470092773,
            -28.95775032043457,
            -24.04157829284668,
            -15.572416305541992,
            1.1290279626846313,
            -5.904200077056885,
            -36.16411209106445,
            -27.053295135498047,
            -21.908920288085938,
            0.5919010639190674,
            -28.357316970825195,
            -15.626826286315918,
            22.159704208374023,
            30.93341636657715,
            32.36044692993164,
            29.259950637817383,
            49.966026306152344,
            30.21135711669922,
            -15.849357604980469,
            9.081811904907227,
            11.808506965637207,
            3.4235665798187256,
            42.469181060791016,
            6.788008689880371,
            0.41411831974983215,
            0.758755624294281,
            -3.9355149269104004,
            -10.578371047973633,
            -5.649417400360107,
            -10.386470794677734,
            -35.72785949707031,
            -42.48631286621094,
            22.607805252075195,
            41.52170944213867,
            46.19983673095703,
            -8.179524421691895,
            -2.4357500076293945,
            3.163771390914917,
            41.39838790893555,
            45.43159484863281,
            -27.606584548950195,
            19.987154006958008,
            29.446104049682617,
            43.308162689208984,
            2.3159472942352295,
            31.393470764160156,
            30.679826736450195,
            31.475419998168945,
            5.371448040008545,
            36.435951232910156,
            23.14828109741211,
            46.8043098449707,
            7.517651557922363,
            42.98210144042969,
            43.10919952392578,
            -15.464055061340332,
            36.439598083496094,
            37.2071418762207,
            34.153228759765625,
            44.240848541259766,
            39.83300018310547,
            24.4804744720459,
            -23.75936508178711,
            -13.680670738220215,
            12.06656551361084,
            -5.191065311431885,
            -2.442561149597168,
            28.929275512695312,
            28.07461166381836,
            -2.0774216651916504,
            28.621267318725586,
            29.48944664001465,
            33.60646057128906,
            30.397571563720703,
            0.9473706483840942,
            -13.78369426727295,
            -8.765046119689941,
            36.53609848022461,
            3.7861080169677734,
            -6.779118061065674,
            -26.665199279785156,
            29.456756591796875,
            25.314207077026367,
            22.198326110839844,
            9.737915992736816,
            13.561365127563477,
            20.49871063232422,
            15.568380355834961,
            -26.19463539123535,
            -10.118613243103027,
            26.497634887695312,
            20.692392349243164,
            -44.97457504272461,
            -26.700439453125,
            -37.857120513916016,
            -3.9690158367156982,
            -34.15877914428711,
            -34.71718215942383,
            -33.3402099609375,
            -36.57033157348633,
            -39.6229133605957,
            -40.493446350097656,
            -7.559209823608398,
            -29.85692596435547,
            -32.76579284667969,
            -22.485326766967773,
            -8.760945320129395
           ]
          },
          {
           "axis": {
            "matches": true
           },
           "label": "z",
           "values": [
            3.513742446899414,
            11.441871643066406,
            19.53059959411621,
            -10.015493392944336,
            4.005914688110352,
            -36.2960205078125,
            -18.317306518554688,
            -40.38883590698242,
            0.7572661638259888,
            -10.853978157043457,
            11.528787612915039,
            17.557344436645508,
            -42.01564025878906,
            20.121055603027344,
            1.6857751607894897,
            3.0682578086853027,
            16.690168380737305,
            -9.593564987182617,
            0.06041291728615761,
            -7.677515506744385,
            3.403425455093384,
            9.293259620666504,
            14.220634460449219,
            19.612422943115234,
            -13.537137031555176,
            18.853734970092773,
            6.1707682609558105,
            7.385320663452148,
            10.008179664611816,
            -0.546782910823822,
            2.961280584335327,
            0.9079944491386414,
            -35.26509475708008,
            27.043588638305664,
            54.5853271484375,
            9.898512840270996,
            46.433448791503906,
            -30.208438873291016,
            26.806758880615234,
            26.851318359375,
            31.240915298461914,
            18.28179359436035,
            26.942916870117188,
            13.715726852416992,
            9.304195404052734,
            12.647052764892578,
            37.545448303222656,
            -33.53888702392578,
            -36.10647964477539,
            27.947404861450195,
            23.010095596313477,
            33.064857482910156,
            31.725852966308594,
            34.782562255859375,
            35.45067596435547,
            35.06073760986328,
            23.81378173828125,
            31.06990623474121,
            23.808088302612305,
            -21.44141960144043,
            -25.983930587768555,
            21.843835830688477,
            -33.70976257324219,
            -30.091289520263672,
            29.949325561523438,
            36.45216369628906,
            33.553958892822266,
            16.7991943359375,
            2.5104591846466064,
            0.5466631650924683,
            11.416666984558105,
            18.02062225341797,
            4.037424087524414,
            -0.14965803921222687,
            -5.197048664093018,
            40.156463623046875,
            25.448974609375,
            1.4241126775741577,
            31.757476806640625,
            31.20130157470703,
            31.889432907104492,
            26.22690773010254,
            38.655670166015625,
            44.659698486328125,
            43.09562683105469,
            41.4759635925293,
            39.42097091674805,
            38.170082092285156,
            31.36001205444336,
            14.87580680847168,
            19.713403701782227,
            15.832649230957031,
            14.341415405273438,
            21.519678115844727,
            11.566305160522461,
            15.014955520629883,
            22.573856353759766,
            40.35483932495117,
            16.26741600036621,
            6.866418838500977,
            -25.754714965820312,
            -20.149932861328125,
            12.859701156616211,
            9.606647491455078,
            4.4130449295043945,
            43.20018005371094,
            45.591949462890625,
            23.100120544433594,
            17.004663467407227,
            19.263689041137695,
            15.872390747070312,
            5.867386817932129,
            6.495121955871582,
            37.202327728271484,
            4.155272960662842,
            6.924663066864014,
            2.853940486907959,
            -0.08373545855283737,
            6.398244380950928,
            -15.672797203063965,
            -9.92662525177002,
            -8.011445999145508,
            -5.8096513748168945,
            -4.800440788269043,
            -10.057747840881348,
            -16.751352310180664,
            -3.7795352935791016,
            0.3914981782436371,
            -0.21075032651424408,
            -29.63519287109375,
            21.19438362121582,
            15.938172340393066,
            -26.027040481567383,
            -9.8644380569458,
            -19.407413482666016,
            -0.8613203167915344,
            14.21148681640625,
            -16.66153335571289,
            -5.564324855804443,
            -29.377416610717773,
            -25.463939666748047,
            -16.197044372558594,
            -15.620657920837402,
            -18.47215461730957,
            -21.560331344604492,
            -6.696903705596924,
            -7.7824835777282715,
            11.473226547241211,
            8.035271644592285,
            -45.435916900634766,
            27.83329200744629,
            -36.952266693115234,
            -48.03709411621094,
            -45.09760665893555,
            3.035909414291382,
            -2.1975579261779785,
            37.19575119018555,
            12.846290588378906,
            -9.233159065246582,
            -4.99700927734375,
            35.29641342163086,
            -29.11900520324707,
            15.451991081237793,
            -17.622026443481445,
            -34.336605072021484,
            -13.242658615112305,
            9.901005744934082,
            10.65118408203125,
            -2.2322797775268555,
            0.5216898322105408,
            -10.237963676452637,
            -45.429168701171875,
            -1.4963204860687256,
            -34.81292724609375,
            15.500608444213867,
            -37.71175003051758,
            15.38644790649414,
            6.623966693878174,
            41.94380187988281,
            -31.86944007873535,
            7.851666450500488,
            10.585826873779297,
            6.465672492980957,
            -0.032052185386419296,
            6.149343490600586,
            10.199460983276367,
            -27.89157485961914,
            22.2537899017334,
            -27.612462997436523,
            28.326448440551758,
            -38.99283218383789,
            21.55560874938965,
            -6.085978031158447,
            -12.851244926452637,
            4.08875846862793,
            5.580575466156006,
            13.816690444946289,
            17.898033142089844,
            13.70709228515625,
            50.884281158447266,
            44.294898986816406,
            9.104026794433594,
            13.178322792053223,
            28.70602798461914,
            -22.49188232421875,
            -2.638716459274292,
            3.0781311988830566,
            -7.548680305480957,
            5.004143238067627,
            -47.89389419555664,
            -18.064149856567383,
            -25.80731964111328,
            -3.757690906524658,
            6.430123805999756,
            -0.28224483132362366,
            53.282264709472656,
            -26.959457397460938,
            -39.797637939453125,
            -37.832054138183594,
            -47.75957107543945,
            -21.769271850585938,
            -17.720672607421875,
            37.7315673828125,
            -18.81241798400879,
            3.1996912956237793,
            -6.119384765625,
            -50.6826171875,
            -40.27250671386719,
            -38.72966766357422,
            -0.9908435940742493,
            -29.438772201538086,
            -49.1078987121582,
            -6.723022937774658,
            7.571082592010498,
            9.572540283203125,
            -13.066659927368164,
            2.199289560317993,
            -23.397216796875,
            -10.268037796020508,
            28.34857177734375,
            23.369707107543945,
            18.0221004486084,
            24.299997329711914,
            -4.764786243438721,
            11.104211807250977,
            -7.609705448150635,
            -7.163286209106445,
            1.6448031663894653,
            -5.005398273468018,
            36.575801849365234,
            29.363786697387695,
            17.859663009643555,
            -11.775796890258789,
            -29.527551651000977,
            -8.796469688415527,
            -26.443391799926758,
            -17.105684280395508,
            -14.52822208404541,
            -22.481542587280273,
            -5.96851110458374,
            0.6111546754837036,
            -2.6347317695617676,
            -13.623839378356934,
            -15.449005126953125,
            -18.365751266479492,
            32.34236145019531,
            32.4879150390625,
            -6.354089736938477,
            -2.242429256439209,
            17.54201889038086,
            21.929630279541016,
            -4.845126152038574,
            47.549598693847656,
            51.562049865722656,
            48.949100494384766,
            32.21026611328125,
            12.967015266418457,
            22.3839111328125,
            24.450536727905273,
            14.584085464477539,
            30.935396194458008,
            29.480314254760742,
            3.0246405601501465,
            0.05863258242607117,
            2.3265814781188965,
            -2.7455718517303467,
            15.318817138671875,
            -25.143468856811523,
            -24.28401756286621,
            -0.09778168052434921,
            4.75715446472168,
            -3.536501884460449,
            -22.303083419799805,
            -38.24584197998047,
            -31.441171646118164,
            -25.320396423339844,
            -16.526159286499023,
            -14.027621269226074,
            -33.123985290527344,
            20.642230987548828,
            -34.850154876708984,
            26.036535263061523,
            -45.431251525878906,
            -0.18528050184249878,
            10.944062232971191,
            1.9955276250839233,
            11.265576362609863,
            15.822834014892578,
            -10.273519515991211,
            -20.9947566986084,
            -12.50790786743164,
            36.74496841430664,
            -22.96295166015625,
            -9.0169095993042,
            -8.450626373291016,
            -24.638671875,
            15.307251930236816,
            -12.363710403442383,
            -15.425644874572754,
            -2.8205058574676514,
            -5.447835445404053,
            2.574071168899536,
            -2.8354718685150146,
            6.124880313873291,
            6.328893184661865,
            -23.68269157409668,
            -29.91703224182129,
            -8.872283935546875,
            16.471153259277344,
            -12.164102554321289,
            -8.952176094055176,
            8.41689682006836,
            -1.951097846031189,
            3.444906711578369,
            1.144185185432434,
            -16.633394241333008,
            -13.66723346710205,
            -16.34684181213379,
            28.49478530883789,
            -8.094502449035645,
            -15.640625,
            -21.46722984313965,
            -22.491546630859375,
            -22.865854263305664,
            -10.510943412780762,
            -41.155452728271484,
            12.221245765686035,
            -26.07682228088379,
            -33.81074905395508,
            -21.428667068481445,
            -22.782163619995117,
            -34.747344970703125,
            -16.138629913330078,
            28.6300106048584,
            22.52833366394043,
            15.302356719970703,
            15.409886360168457,
            23.215452194213867,
            27.00031852722168,
            -18.938505172729492,
            -11.374223709106445,
            2.1813035011291504,
            -0.4450112581253052,
            -14.777532577514648,
            -36.37358856201172,
            -38.535186767578125,
            8.13870906829834,
            11.669865608215332,
            -24.46721076965332,
            -36.260406494140625,
            -8.289407730102539,
            -31.078304290771484,
            -14.161515235900879,
            -4.805985927581787,
            2.2117562294006348,
            -3.382082939147949,
            -6.506108283996582,
            -10.402762413024902,
            -37.95072555541992,
            -1.1324868202209473,
            -13.280741691589355,
            -7.216660976409912,
            -19.78054428100586,
            -17.182340621948242,
            -22.518341064453125,
            -26.623794555664062,
            -30.764009475708008,
            -0.1811404973268509,
            2.357572317123413,
            -17.872915267944336,
            42.0710563659668,
            34.35378646850586,
            -23.332456588745117,
            -21.138118743896484,
            -26.629432678222656,
            -17.469188690185547,
            6.575275897979736,
            -27.960981369018555,
            -24.46222686767578,
            -12.364073753356934,
            -17.002578735351562,
            -21.27310562133789,
            -14.295913696289062,
            32.709556579589844,
            37.53887176513672,
            8.707501411437988,
            -3.38445782661438,
            -12.746744155883789,
            29.504892349243164,
            -23.968252182006836,
            -33.34156799316406,
            -25.395946502685547,
            -7.98062801361084,
            -27.788667678833008,
            -28.259151458740234,
            -5.71815299987793,
            32.578224182128906,
            26.98611068725586,
            -48.9832763671875,
            -44.677066802978516,
            31.311126708984375,
            -17.12698745727539,
            33.6148681640625,
            10.317288398742676,
            38.17383575439453,
            -8.873024940490723,
            52.67477035522461,
            -15.173027992248535,
            32.44013595581055,
            27.152450561523438,
            15.302024841308594,
            45.118526458740234,
            39.56113052368164,
            39.0560188293457,
            -3.0672693252563477
           ]
          }
         ],
         "hovertemplate": "%{xaxis.title.text}=%{x}<br>%{yaxis.title.text}=%{y}<br>color=%{marker.color}<extra></extra>",
         "legendgroup": "",
         "marker": {
          "color": [
           0,
           4,
           7,
           0,
           4,
           0,
           4,
           1,
           4,
           4,
           2,
           0,
           1,
           2,
           3,
           4,
           1,
           4,
           2,
           0,
           1,
           2,
           0,
           7,
           1,
           2,
           0,
           0,
           3,
           0,
           0,
           4,
           0,
           1,
           2,
           0,
           3,
           1,
           2,
           0,
           0,
           3,
           5,
           0,
           0,
           3,
           2,
           0,
           1,
           1,
           0,
           5,
           0,
           5,
           0,
           5,
           2,
           4,
           4,
           2,
           0,
           5,
           0,
           3,
           1,
           3,
           3,
           7,
           1,
           2,
           1,
           2,
           1,
           3,
           1,
           3,
           4,
           0,
           1,
           0,
           1,
           0,
           0,
           1,
           0,
           1,
           2,
           1,
           7,
           4,
           2,
           0,
           3,
           3,
           1,
           2,
           3,
           0,
           0,
           2,
           1,
           1,
           3,
           4,
           1,
           0,
           1,
           3,
           1,
           3,
           3,
           2,
           1,
           3,
           0,
           4,
           1,
           4,
           4,
           0,
           1,
           4,
           1,
           4,
           7,
           1,
           4,
           4,
           3,
           0,
           4,
           4,
           1,
           1,
           4,
           4,
           7,
           4,
           4,
           4,
           4,
           1,
           4,
           4,
           1,
           4,
           4,
           3,
           1,
           0,
           7,
           1,
           0,
           1,
           2,
           0,
           2,
           0,
           1,
           0,
           3,
           0,
           4,
           4,
           0,
           0,
           0,
           5,
           4,
           0,
           4,
           0,
           4,
           0,
           7,
           1,
           0,
           0,
           2,
           0,
           0,
           3,
           2,
           0,
           0,
           3,
           0,
           7,
           1,
           2,
           0,
           1,
           2,
           0,
           7,
           1,
           1,
           4,
           4,
           2,
           0,
           2,
           4,
           2,
           0,
           4,
           4,
           1,
           4,
           0,
           4,
           0,
           2,
           1,
           3,
           2,
           0,
           1,
           0,
           1,
           0,
           1,
           3,
           0,
           7,
           4,
           1,
           1,
           1,
           0,
           0,
           1,
           4,
           4,
           4,
           0,
           4,
           1,
           1,
           2,
           0,
           5,
           2,
           0,
           1,
           2,
           0,
           7,
           3,
           2,
           0,
           0,
           1,
           0,
           6,
           0,
           7,
           6,
           1,
           1,
           1,
           1,
           6,
           0,
           1,
           2,
           0,
           6,
           1,
           2,
           2,
           0,
           2,
           2,
           1,
           3,
           0,
           0,
           5,
           0,
           1,
           7,
           1,
           0,
           1,
           1,
           4,
           4,
           0,
           6,
           6,
           1,
           0,
           4,
           0,
           1,
           0,
           1,
           1,
           4,
           0,
           2,
           1,
           0,
           4,
           4,
           5,
           5,
           4,
           0,
           0,
           0,
           1,
           1,
           0,
           1,
           0,
           7,
           1,
           4,
           0,
           4,
           5,
           0,
           4,
           4,
           1,
           0,
           2,
           0,
           0,
           4,
           4,
           4,
           2,
           0,
           1,
           1,
           1,
           3,
           0,
           1,
           2,
           0,
           6,
           1,
           0,
           1,
           2,
           0,
           6,
           0,
           0,
           3,
           2,
           1,
           0,
           3,
           2,
           0,
           1,
           5,
           5,
           2,
           0,
           2,
           7,
           7,
           0,
           6,
           0,
           1,
           0,
           6,
           7,
           7,
           1,
           6,
           0,
           7,
           1,
           6,
           6,
           0,
           6,
           6,
           0,
           1,
           1,
           6,
           2,
           0,
           1,
           2,
           0,
           7,
           7,
           1,
           6,
           6,
           6,
           6,
           3,
           2,
           0,
           1,
           3,
           0,
           1,
           0,
           1,
           0,
           0,
           1,
           1,
           1,
           2,
           0,
           0,
           1,
           0,
           1,
           2,
           4,
           1,
           0,
           1,
           0,
           2,
           1,
           4,
           1,
           3,
           3,
           4
          ],
          "coloraxis": "coloraxis",
          "symbol": "circle"
         },
         "name": "",
         "showlegend": false,
         "type": "splom"
        }
       ],
       "layout": {
        "coloraxis": {
         "colorbar": {
          "title": {
           "text": "color"
          }
         },
         "colorscale": [
          [
           0,
           "#0d0887"
          ],
          [
           0.1111111111111111,
           "#46039f"
          ],
          [
           0.2222222222222222,
           "#7201a8"
          ],
          [
           0.3333333333333333,
           "#9c179e"
          ],
          [
           0.4444444444444444,
           "#bd3786"
          ],
          [
           0.5555555555555556,
           "#d8576b"
          ],
          [
           0.6666666666666666,
           "#ed7953"
          ],
          [
           0.7777777777777778,
           "#fb9f3a"
          ],
          [
           0.8888888888888888,
           "#fdca26"
          ],
          [
           1,
           "#f0f921"
          ]
         ]
        },
        "dragmode": "select",
        "legend": {
         "tracegroupgap": 0
        },
        "margin": {
         "t": 60
        },
        "template": {
         "data": {
          "bar": [
           {
            "error_x": {
             "color": "#2a3f5f"
            },
            "error_y": {
             "color": "#2a3f5f"
            },
            "marker": {
             "line": {
              "color": "#E5ECF6",
              "width": 0.5
             },
             "pattern": {
              "fillmode": "overlay",
              "size": 10,
              "solidity": 0.2
             }
            },
            "type": "bar"
           }
          ],
          "barpolar": [
           {
            "marker": {
             "line": {
              "color": "#E5ECF6",
              "width": 0.5
             },
             "pattern": {
              "fillmode": "overlay",
              "size": 10,
              "solidity": 0.2
             }
            },
            "type": "barpolar"
           }
          ],
          "carpet": [
           {
            "aaxis": {
             "endlinecolor": "#2a3f5f",
             "gridcolor": "white",
             "linecolor": "white",
             "minorgridcolor": "white",
             "startlinecolor": "#2a3f5f"
            },
            "baxis": {
             "endlinecolor": "#2a3f5f",
             "gridcolor": "white",
             "linecolor": "white",
             "minorgridcolor": "white",
             "startlinecolor": "#2a3f5f"
            },
            "type": "carpet"
           }
          ],
          "choropleth": [
           {
            "colorbar": {
             "outlinewidth": 0,
             "ticks": ""
            },
            "type": "choropleth"
           }
          ],
          "contour": [
           {
            "colorbar": {
             "outlinewidth": 0,
             "ticks": ""
            },
            "colorscale": [
             [
              0,
              "#0d0887"
             ],
             [
              0.1111111111111111,
              "#46039f"
             ],
             [
              0.2222222222222222,
              "#7201a8"
             ],
             [
              0.3333333333333333,
              "#9c179e"
             ],
             [
              0.4444444444444444,
              "#bd3786"
             ],
             [
              0.5555555555555556,
              "#d8576b"
             ],
             [
              0.6666666666666666,
              "#ed7953"
             ],
             [
              0.7777777777777778,
              "#fb9f3a"
             ],
             [
              0.8888888888888888,
              "#fdca26"
             ],
             [
              1,
              "#f0f921"
             ]
            ],
            "type": "contour"
           }
          ],
          "contourcarpet": [
           {
            "colorbar": {
             "outlinewidth": 0,
             "ticks": ""
            },
            "type": "contourcarpet"
           }
          ],
          "heatmap": [
           {
            "colorbar": {
             "outlinewidth": 0,
             "ticks": ""
            },
            "colorscale": [
             [
              0,
              "#0d0887"
             ],
             [
              0.1111111111111111,
              "#46039f"
             ],
             [
              0.2222222222222222,
              "#7201a8"
             ],
             [
              0.3333333333333333,
              "#9c179e"
             ],
             [
              0.4444444444444444,
              "#bd3786"
             ],
             [
              0.5555555555555556,
              "#d8576b"
             ],
             [
              0.6666666666666666,
              "#ed7953"
             ],
             [
              0.7777777777777778,
              "#fb9f3a"
             ],
             [
              0.8888888888888888,
              "#fdca26"
             ],
             [
              1,
              "#f0f921"
             ]
            ],
            "type": "heatmap"
           }
          ],
          "heatmapgl": [
           {
            "colorbar": {
             "outlinewidth": 0,
             "ticks": ""
            },
            "colorscale": [
             [
              0,
              "#0d0887"
             ],
             [
              0.1111111111111111,
              "#46039f"
             ],
             [
              0.2222222222222222,
              "#7201a8"
             ],
             [
              0.3333333333333333,
              "#9c179e"
             ],
             [
              0.4444444444444444,
              "#bd3786"
             ],
             [
              0.5555555555555556,
              "#d8576b"
             ],
             [
              0.6666666666666666,
              "#ed7953"
             ],
             [
              0.7777777777777778,
              "#fb9f3a"
             ],
             [
              0.8888888888888888,
              "#fdca26"
             ],
             [
              1,
              "#f0f921"
             ]
            ],
            "type": "heatmapgl"
           }
          ],
          "histogram": [
           {
            "marker": {
             "pattern": {
              "fillmode": "overlay",
              "size": 10,
              "solidity": 0.2
             }
            },
            "type": "histogram"
           }
          ],
          "histogram2d": [
           {
            "colorbar": {
             "outlinewidth": 0,
             "ticks": ""
            },
            "colorscale": [
             [
              0,
              "#0d0887"
             ],
             [
              0.1111111111111111,
              "#46039f"
             ],
             [
              0.2222222222222222,
              "#7201a8"
             ],
             [
              0.3333333333333333,
              "#9c179e"
             ],
             [
              0.4444444444444444,
              "#bd3786"
             ],
             [
              0.5555555555555556,
              "#d8576b"
             ],
             [
              0.6666666666666666,
              "#ed7953"
             ],
             [
              0.7777777777777778,
              "#fb9f3a"
             ],
             [
              0.8888888888888888,
              "#fdca26"
             ],
             [
              1,
              "#f0f921"
             ]
            ],
            "type": "histogram2d"
           }
          ],
          "histogram2dcontour": [
           {
            "colorbar": {
             "outlinewidth": 0,
             "ticks": ""
            },
            "colorscale": [
             [
              0,
              "#0d0887"
             ],
             [
              0.1111111111111111,
              "#46039f"
             ],
             [
              0.2222222222222222,
              "#7201a8"
             ],
             [
              0.3333333333333333,
              "#9c179e"
             ],
             [
              0.4444444444444444,
              "#bd3786"
             ],
             [
              0.5555555555555556,
              "#d8576b"
             ],
             [
              0.6666666666666666,
              "#ed7953"
             ],
             [
              0.7777777777777778,
              "#fb9f3a"
             ],
             [
              0.8888888888888888,
              "#fdca26"
             ],
             [
              1,
              "#f0f921"
             ]
            ],
            "type": "histogram2dcontour"
           }
          ],
          "mesh3d": [
           {
            "colorbar": {
             "outlinewidth": 0,
             "ticks": ""
            },
            "type": "mesh3d"
           }
          ],
          "parcoords": [
           {
            "line": {
             "colorbar": {
              "outlinewidth": 0,
              "ticks": ""
             }
            },
            "type": "parcoords"
           }
          ],
          "pie": [
           {
            "automargin": true,
            "type": "pie"
           }
          ],
          "scatter": [
           {
            "fillpattern": {
             "fillmode": "overlay",
             "size": 10,
             "solidity": 0.2
            },
            "type": "scatter"
           }
          ],
          "scatter3d": [
           {
            "line": {
             "colorbar": {
              "outlinewidth": 0,
              "ticks": ""
             }
            },
            "marker": {
             "colorbar": {
              "outlinewidth": 0,
              "ticks": ""
             }
            },
            "type": "scatter3d"
           }
          ],
          "scattercarpet": [
           {
            "marker": {
             "colorbar": {
              "outlinewidth": 0,
              "ticks": ""
             }
            },
            "type": "scattercarpet"
           }
          ],
          "scattergeo": [
           {
            "marker": {
             "colorbar": {
              "outlinewidth": 0,
              "ticks": ""
             }
            },
            "type": "scattergeo"
           }
          ],
          "scattergl": [
           {
            "marker": {
             "colorbar": {
              "outlinewidth": 0,
              "ticks": ""
             }
            },
            "type": "scattergl"
           }
          ],
          "scattermapbox": [
           {
            "marker": {
             "colorbar": {
              "outlinewidth": 0,
              "ticks": ""
             }
            },
            "type": "scattermapbox"
           }
          ],
          "scatterpolar": [
           {
            "marker": {
             "colorbar": {
              "outlinewidth": 0,
              "ticks": ""
             }
            },
            "type": "scatterpolar"
           }
          ],
          "scatterpolargl": [
           {
            "marker": {
             "colorbar": {
              "outlinewidth": 0,
              "ticks": ""
             }
            },
            "type": "scatterpolargl"
           }
          ],
          "scatterternary": [
           {
            "marker": {
             "colorbar": {
              "outlinewidth": 0,
              "ticks": ""
             }
            },
            "type": "scatterternary"
           }
          ],
          "surface": [
           {
            "colorbar": {
             "outlinewidth": 0,
             "ticks": ""
            },
            "colorscale": [
             [
              0,
              "#0d0887"
             ],
             [
              0.1111111111111111,
              "#46039f"
             ],
             [
              0.2222222222222222,
              "#7201a8"
             ],
             [
              0.3333333333333333,
              "#9c179e"
             ],
             [
              0.4444444444444444,
              "#bd3786"
             ],
             [
              0.5555555555555556,
              "#d8576b"
             ],
             [
              0.6666666666666666,
              "#ed7953"
             ],
             [
              0.7777777777777778,
              "#fb9f3a"
             ],
             [
              0.8888888888888888,
              "#fdca26"
             ],
             [
              1,
              "#f0f921"
             ]
            ],
            "type": "surface"
           }
          ],
          "table": [
           {
            "cells": {
             "fill": {
              "color": "#EBF0F8"
             },
             "line": {
              "color": "white"
             }
            },
            "header": {
             "fill": {
              "color": "#C8D4E3"
             },
             "line": {
              "color": "white"
             }
            },
            "type": "table"
           }
          ]
         },
         "layout": {
          "annotationdefaults": {
           "arrowcolor": "#2a3f5f",
           "arrowhead": 0,
           "arrowwidth": 1
          },
          "autotypenumbers": "strict",
          "coloraxis": {
           "colorbar": {
            "outlinewidth": 0,
            "ticks": ""
           }
          },
          "colorscale": {
           "diverging": [
            [
             0,
             "#8e0152"
            ],
            [
             0.1,
             "#c51b7d"
            ],
            [
             0.2,
             "#de77ae"
            ],
            [
             0.3,
             "#f1b6da"
            ],
            [
             0.4,
             "#fde0ef"
            ],
            [
             0.5,
             "#f7f7f7"
            ],
            [
             0.6,
             "#e6f5d0"
            ],
            [
             0.7,
             "#b8e186"
            ],
            [
             0.8,
             "#7fbc41"
            ],
            [
             0.9,
             "#4d9221"
            ],
            [
             1,
             "#276419"
            ]
           ],
           "sequential": [
            [
             0,
             "#0d0887"
            ],
            [
             0.1111111111111111,
             "#46039f"
            ],
            [
             0.2222222222222222,
             "#7201a8"
            ],
            [
             0.3333333333333333,
             "#9c179e"
            ],
            [
             0.4444444444444444,
             "#bd3786"
            ],
            [
             0.5555555555555556,
             "#d8576b"
            ],
            [
             0.6666666666666666,
             "#ed7953"
            ],
            [
             0.7777777777777778,
             "#fb9f3a"
            ],
            [
             0.8888888888888888,
             "#fdca26"
            ],
            [
             1,
             "#f0f921"
            ]
           ],
           "sequentialminus": [
            [
             0,
             "#0d0887"
            ],
            [
             0.1111111111111111,
             "#46039f"
            ],
            [
             0.2222222222222222,
             "#7201a8"
            ],
            [
             0.3333333333333333,
             "#9c179e"
            ],
            [
             0.4444444444444444,
             "#bd3786"
            ],
            [
             0.5555555555555556,
             "#d8576b"
            ],
            [
             0.6666666666666666,
             "#ed7953"
            ],
            [
             0.7777777777777778,
             "#fb9f3a"
            ],
            [
             0.8888888888888888,
             "#fdca26"
            ],
            [
             1,
             "#f0f921"
            ]
           ]
          },
          "colorway": [
           "#636efa",
           "#EF553B",
           "#00cc96",
           "#ab63fa",
           "#FFA15A",
           "#19d3f3",
           "#FF6692",
           "#B6E880",
           "#FF97FF",
           "#FECB52"
          ],
          "font": {
           "color": "#2a3f5f"
          },
          "geo": {
           "bgcolor": "white",
           "lakecolor": "white",
           "landcolor": "#E5ECF6",
           "showlakes": true,
           "showland": true,
           "subunitcolor": "white"
          },
          "hoverlabel": {
           "align": "left"
          },
          "hovermode": "closest",
          "mapbox": {
           "style": "light"
          },
          "paper_bgcolor": "white",
          "plot_bgcolor": "#E5ECF6",
          "polar": {
           "angularaxis": {
            "gridcolor": "white",
            "linecolor": "white",
            "ticks": ""
           },
           "bgcolor": "#E5ECF6",
           "radialaxis": {
            "gridcolor": "white",
            "linecolor": "white",
            "ticks": ""
           }
          },
          "scene": {
           "xaxis": {
            "backgroundcolor": "#E5ECF6",
            "gridcolor": "white",
            "gridwidth": 2,
            "linecolor": "white",
            "showbackground": true,
            "ticks": "",
            "zerolinecolor": "white"
           },
           "yaxis": {
            "backgroundcolor": "#E5ECF6",
            "gridcolor": "white",
            "gridwidth": 2,
            "linecolor": "white",
            "showbackground": true,
            "ticks": "",
            "zerolinecolor": "white"
           },
           "zaxis": {
            "backgroundcolor": "#E5ECF6",
            "gridcolor": "white",
            "gridwidth": 2,
            "linecolor": "white",
            "showbackground": true,
            "ticks": "",
            "zerolinecolor": "white"
           }
          },
          "shapedefaults": {
           "line": {
            "color": "#2a3f5f"
           }
          },
          "ternary": {
           "aaxis": {
            "gridcolor": "white",
            "linecolor": "white",
            "ticks": ""
           },
           "baxis": {
            "gridcolor": "white",
            "linecolor": "white",
            "ticks": ""
           },
           "bgcolor": "#E5ECF6",
           "caxis": {
            "gridcolor": "white",
            "linecolor": "white",
            "ticks": ""
           }
          },
          "title": {
           "x": 0.05
          },
          "xaxis": {
           "automargin": true,
           "gridcolor": "white",
           "linecolor": "white",
           "ticks": "",
           "title": {
            "standoff": 15
           },
           "zerolinecolor": "white",
           "zerolinewidth": 2
          },
          "yaxis": {
           "automargin": true,
           "gridcolor": "white",
           "linecolor": "white",
           "ticks": "",
           "title": {
            "standoff": 15
           },
           "zerolinecolor": "white",
           "zerolinewidth": 2
          }
         }
        }
       }
      },
      "text/html": [
       "<div>                            <div id=\"7f8b9ad7-b65f-4000-9ce2-48e2d2b2e867\" class=\"plotly-graph-div\" style=\"height:525px; width:100%;\"></div>            <script type=\"text/javascript\">                require([\"plotly\"], function(Plotly) {                    window.PLOTLYENV=window.PLOTLYENV || {};                                    if (document.getElementById(\"7f8b9ad7-b65f-4000-9ce2-48e2d2b2e867\")) {                    Plotly.newPlot(                        \"7f8b9ad7-b65f-4000-9ce2-48e2d2b2e867\",                        [{\"dimensions\":[{\"axis\":{\"matches\":true},\"label\":\"x\",\"values\":[4.847788333892822,-30.507238388061523,-30.307743072509766,-35.69442367553711,-69.9476089477539,-4.349939823150635,-40.997230529785156,-25.47593116760254,-68.31950378417969,-36.13169860839844,37.44010925292969,28.322134017944336,-20.109434127807617,39.928558349609375,34.495155334472656,-34.19281005859375,13.415507316589355,-41.17214584350586,22.768741607666016,25.126079559326172,11.886750221252441,13.213089942932129,36.161136627197266,30.821683883666992,16.286367416381836,14.024173736572266,23.930822372436523,40.27290344238281,35.72770309448242,-6.269071578979492,-8.158689498901367,-66.85691833496094,-16.01317596435547,-21.52979850769043,15.813998222351074,-14.274580955505371,5.895382404327393,-8.74240493774414,40.951507568359375,44.73948287963867,46.987884521484375,48.61304473876953,-35.0152587890625,-11.133796691894531,-16.826711654663086,-10.4180269241333,2.127655267715454,15.032267570495605,-0.26722121238708496,8.136862754821777,41.20282745361328,-33.830230712890625,-24.747364044189453,-30.315061569213867,-19.890172958374023,-36.946266174316406,-12.863296508789062,-0.726085364818573,-3.323347806930542,25.671558380126953,21.00339698791504,4.427459239959717,23.39035987854004,30.51792335510254,3.8935701847076416,-5.8827900886535645,5.639721870422363,26.278825759887695,-20.674299240112305,1.7701654434204102,14.5611572265625,-8.183237075805664,-2.2674641609191895,2.4000561237335205,12.745542526245117,7.4733476638793945,-8.847331047058105,24.785865783691406,-2.4032301902770996,-10.598492622375488,5.999416828155518,-13.759468078613281,-2.497572422027588,3.5060324668884277,-2.6720128059387207,-3.4268569946289062,3.9651403427124023,9.81068229675293,-9.685332298278809,-11.564839363098145,15.338204383850098,13.077224731445312,6.855834007263184,-18.832019805908203,5.443772315979004,0.417468398809433,0.11583410948514938,-13.258543014526367,6.217354774475098,-9.692205429077148,46.155216217041016,41.39723205566406,-22.062467575073242,-17.415390014648438,-15.822961807250977,13.063130378723145,7.615267276763916,-16.080942153930664,-24.169330596923828,-24.802162170410156,-18.476974487304688,-1.534281611442566,31.049072265625,10.83407211303711,-21.932538986206055,-30.63214111328125,-18.29416847229004,-34.123287200927734,-38.68342971801758,-31.397201538085938,-26.863859176635742,-53.967437744140625,-21.194917678833008,-56.41201400756836,-60.80403137207031,-31.744064331054688,-46.31835174560547,-60.5110969543457,-32.86598205566406,-6.2818732261657715,-40.18523406982422,-42.6502799987793,-25.065597534179688,-28.225658416748047,-49.68332290649414,-52.4155387878418,-38.39024353027344,-46.954532623291016,-62.62584686279297,-19.541719436645508,-31.271484375,-26.76236343383789,-40.499122619628906,-22.847766876220703,-22.904788970947266,-48.527870178222656,-54.43651580810547,24.657041549682617,47.270835876464844,-5.000309467315674,-36.64992904663086,-1.5979653596878052,-1.6608059406280518,-6.33150053024292,22.44791603088379,16.514827728271484,18.24578094482422,-7.27691125869751,-3.0082433223724365,0.7708743810653687,17.07339859008789,-25.56708335876465,-62.75837326049805,-11.933321952819824,4.553509712219238,-7.635847091674805,-39.24711608886719,-38.99311447143555,-26.27654266357422,12.327657699584961,-31.935630798339844,-16.181461334228516,-44.37548065185547,-11.720539093017578,24.672103881835938,-9.913955688476562,18.572954177856445,-28.853849411010742,21.39019012451172,42.38881301879883,23.6212158203125,28.36509132385254,30.929668426513672,52.1619758605957,44.67768478393555,33.61227798461914,-3.0765490531921387,-37.07975769042969,-3.0353500843048096,4.311286926269531,18.778823852539062,1.9503257274627686,20.502317428588867,21.657163619995117,12.260001182556152,13.81943130493164,-37.727317810058594,-61.490333557128906,-58.143306732177734,21.17385482788086,-25.181442260742188,-14.584488868713379,-68.79597473144531,20.74680519104004,9.441740036010742,-51.253448486328125,-52.3125114440918,-37.461830139160156,-39.536651611328125,-8.423705101013184,-38.14714431762695,10.114212989807129,39.365692138671875,51.382530212402344,38.197105407714844,16.584056854248047,15.122477531433105,10.512187004089355,12.052000045776367,12.989625930786133,8.088383674621582,2.96702241897583,25.153255462646484,-6.280879497528076,18.766124725341797,5.700438022613525,15.212040901184082,1.9551525115966797,9.99770450592041,-5.6892008781433105,-23.086854934692383,0.5099968314170837,-42.044368743896484,-62.098758697509766,-67.78461456298828,-18.07082748413086,-42.88692855834961,-15.24109172821045,-15.70523738861084,20.524900436401367,17.87601661682129,1.6347111463546753,32.17637634277344,50.07770538330078,6.351576805114746,20.41362953186035,30.497581481933594,18.49078369140625,-5.6495866775512695,36.941593170166016,40.359039306640625,14.065826416015625,14.961956977844238,-5.806037425994873,21.482168197631836,1.0813463926315308,12.054892539978027,15.837800979614258,7.350905895233154,20.128435134887695,24.009859085083008,25.675748825073242,26.848356246948242,-8.531262397766113,12.648552894592285,30.595630645751953,36.49163055419922,10.605575561523438,12.653894424438477,2.084205150604248,6.465278625488281,133.48924255371094,3.074693441390991,-6.420165538787842,-11.801424980163574,-18.101654052734375,6.395807266235352,-1.3769164085388184,5.688564300537109,-3.574648141860962,14.92379093170166,21.935569763183594,-3.739973545074463,3.324523687362671,-10.528800964355469,-20.00022315979004,-50.44370651245117,-4.216606140136719,8.503820419311523,31.490764617919922,34.44402313232422,-29.18820571899414,1.7178089618682861,-36.71343231201172,-34.62761306762695,-22.820951461791992,9.613137245178223,-2.9683966636657715,3.6382875442504883,-15.259908676147461,-8.111502647399902,-4.8614277839660645,9.03670597076416,-0.2806178331375122,-50.28175354003906,-12.445475578308105,-27.886274337768555,-31.804828643798828,-10.570173263549805,-0.8498786091804504,-22.398395538330078,-14.981337547302246,20.93904685974121,-11.863836288452148,-11.461868286132812,4.799563884735107,-27.892629623413086,23.99065589904785,17.640851974487305,-9.686747550964355,-16.912172317504883,-32.001564025878906,-20.968585968017578,-23.64200210571289,-59.83259582519531,-10.267142295837402,11.090898513793945,-1.3926969766616821,-9.73280143737793,7.302053928375244,6.2049880027771,-57.9847526550293,-10.130627632141113,-9.389530181884766,28.031103134155273,34.120365142822266,29.19923973083496,26.92366600036621,28.438682556152344,43.204002380371094,-15.44548225402832,12.512611389160156,-11.641573905944824,-18.863433837890625,33.74049758911133,5.209105968475342,0.7440484166145325,8.394133567810059,8.36618423461914,2.6845128536224365,51.4251823425293,20.166255950927734,13.360343933105469,-13.96181583404541,13.992568969726562,24.2714900970459,32.1555290222168,8.304570198059082,3.078065872192383,34.52323532104492,-27.006574630737305,-37.97777557373047,-35.39252471923828,28.267658233642578,36.93757629394531,34.982879638671875,32.21405029296875,35.42252731323242,-7.619266510009766,7.550304412841797,-22.502471923828125,21.362070083618164,-0.08584505319595337,29.103973388671875,40.73190689086914,36.48749542236328,2.1859428882598877,33.401336669921875,20.13347053527832,35.999603271484375,4.247012615203857,41.348262786865234,42.10689163208008,2.831663131713867,35.0390510559082,41.85457229614258,34.109439849853516,48.717445373535156,44.00905990600586,42.969757080078125,30.237550735473633,39.887996673583984,26.754642486572266,34.127037048339844,36.85049057006836,35.120304107666016,25.873889923095703,28.395610809326172,41.05146789550781,47.68972396850586,43.03761672973633,49.47954177856445,37.054935455322266,-3.4775707721710205,-5.5695109367370605,-3.212808847427368,29.675273895263672,5.332685947418213,14.626715660095215,24.805259704589844,35.94661331176758,17.6812801361084,14.534612655639648,19.928760528564453,24.013294219970703,4.596375465393066,35.022560119628906,40.47652053833008,21.59786033630371,25.062292098999023,11.641596794128418,-16.054906845092773,11.656401634216309,-52.17106628417969,7.811877727508545,-19.17684555053711,-4.092330455780029,-15.735213279724121,-15.130666732788086,-12.00694751739502,-51.43235397338867,-4.181469917297363,-6.3590087890625,-0.17850276827812195,-6.232733726501465]},{\"axis\":{\"matches\":true},\"label\":\"y\",\"values\":[-24.595054626464844,-36.61738586425781,-36.688201904296875,-17.069984436035156,6.468997955322266,-21.88945198059082,-15.417135238647461,4.88416051864624,-0.9745987057685852,-4.665507793426514,-39.632286071777344,-35.95265197753906,9.749197959899902,-38.277015686035156,-23.89557647705078,-19.864953994750977,52.00290298461914,3.970097541809082,-45.96648406982422,-23.94269561767578,-8.748968124389648,-17.810203552246094,-24.587297439575195,37.20840835571289,-13.868136405944824,-20.511415481567383,-13.639083862304688,-7.079642295837402,-18.345155715942383,49.43861770629883,55.59722900390625,-9.216531753540039,-24.63927459716797,-3.5574402809143066,-9.462779998779297,-49.6539421081543,-5.216451168060303,-50.009742736816406,-24.3142147064209,-3.6716771125793457,1.0180082321166992,-15.86855411529541,35.05440139770508,32.42982864379883,32.65965270996094,24.78156852722168,-43.68986892700195,-38.4746208190918,8.45020580291748,12.277288436889648,-17.231149673461914,25.913312911987305,10.914072036743164,31.880990982055664,12.543783187866211,32.75782775878906,32.46864700317383,13.706704139709473,19.56044578552246,-14.407797813415527,-16.962646484375,18.503646850585938,-15.249650955200195,-22.653942108154297,19.525142669677734,10.315738677978516,1.1566232442855835,42.044857025146484,-18.099653244018555,-13.728736877441406,-34.074100494384766,-8.461650848388672,-39.97032928466797,-39.17864990234375,-14.987383842468262,-19.169767379760742,10.253473281860352,17.00156021118164,29.0396785736084,23.441736221313477,30.68448257446289,21.499174118041992,23.69378662109375,38.457672119140625,33.97164535522461,40.597774505615234,15.560166358947754,21.115406036376953,43.146305084228516,2.9930357933044434,-37.23371887207031,-42.2297477722168,-46.22765350341797,35.43224334716797,-1.9014227390289307,0.47362783551216125,-4.298207759857178,40.63223648071289,10.22613525390625,-15.646928787231445,-13.365382194519043,-12.87645149230957,-6.9515485763549805,2.350666046142578,-31.65753173828125,-39.59315872192383,-30.65438461303711,-18.72005844116211,6.110438823699951,22.82500457763672,26.650468826293945,6.11096715927124,-9.986700057983398,-11.258679389953613,7.382259845733643,7.350218772888184,-1.8897273540496826,-2.0268003940582275,-5.747539043426514,-31.71975326538086,-25.75457763671875,-18.281702041625977,-3.259110927581787,-13.072226524353027,-8.15198802947998,-21.769405364990234,-17.76267433166504,-3.458559989929199,-31.893465042114258,3.976604461669922,5.4883646965026855,3.858363628387451,-8.269484519958496,-18.943374633789062,0.018872704356908798,0.7972238063812256,-10.54506778717041,5.708621978759766,6.914546012878418,-2.1880578994750977,-2.9689295291900635,-12.197356224060059,-2.8130850791931152,3.676353931427002,9.10689640045166,-3.234605073928833,1.279168725013733,-26.623918533325195,-24.634288787841797,-12.18477725982666,-15.524606704711914,-10.355728149414062,8.644625663757324,4.380620002746582,-25.18700408935547,-27.719552993774414,-25.32028579711914,43.58980178833008,-53.74674987792969,-55.631778717041016,-11.631567001342773,-41.237327575683594,-7.806393146514893,-4.115540504455566,-14.71413516998291,-9.758635520935059,25.068801879882812,31.352128982543945,-12.478853225708008,234.78199768066406,3.6946146488189697,-10.719207763671875,-7.052219390869141,-13.571747779846191,21.743669509887695,-8.06739330291748,10.240702629089355,-25.67152214050293,-28.846843719482422,5.396232604980469,-1.6670788526535034,-17.579727172851562,-41.300472259521484,-35.737545013427734,-34.38389205932617,-48.596710205078125,-17.669021606445312,-18.268871307373047,-8.87280559539795,-18.88846778869629,-34.37409973144531,-17.328577041625977,-43.675567626953125,-35.435665130615234,12.522530555725098,6.072849750518799,-26.033103942871094,5.123827934265137,9.202367782592773,-15.866599082946777,-6.336927890777588,13.104601860046387,-16.72245216369629,-38.531394958496094,-25.67385482788086,15.98663330078125,14.697576522827148,-42.0014533996582,-32.47392272949219,-27.493444442749023,7.614520072937012,-4.78162956237793,-28.934524536132812,-36.45891189575195,-43.5549201965332,-20.01362419128418,-39.57566833496094,-36.14401626586914,-45.076595306396484,9.615418434143066,-41.432334899902344,-38.160526275634766,-40.21614456176758,-17.700422286987305,25.507375717163086,36.616172790527344,3.510824203491211,2.120473861694336,-1.2734285593032837,-18.29385757446289,-14.034223556518555,0.8944536447525024,-26.714872360229492,2.528203248977661,-1.2817009687423706,-15.562422752380371,-20.266042709350586,-18.703012466430664,-21.75560188293457,17.970745086669922,23.975854873657227,30.861347198486328,-19.714399337768555,-8.190619468688965,27.5755558013916,-3.3444159030914307,-9.523587226867676,38.04873275756836,-26.826040267944336,-32.3684196472168,4.7343902587890625,30.740684509277344,37.8797492980957,-33.174530029296875,39.45481491088867,50.90443801879883,51.98795700073242,46.14973831176758,49.4267463684082,47.981117248535156,50.724761962890625,44.04204559326172,44.552040100097656,-23.692522048950195,16.34018325805664,-20.01032066345215,-5.355345726013184,28.91839599609375,24.368051528930664,-26.426929473876953,-26.68675422668457,-5.85181188583374,-15.501084327697754,-17.002643585205078,-20.704124450683594,-20.289852142333984,36.18669509887695,37.86793518066406,42.29991912841797,17.174869537353516,32.835838317871094,37.014896392822266,20.423755645751953,-4.894627094268799,30.61429786682129,26.010929107666016,-24.82485008239746,20.89269256591797,20.793609619140625,62.083580017089844,59.54115295410156,32.880245208740234,12.489654541015625,-17.505781173706055,-16.909440994262695,-26.582366943359375,22.939701080322266,24.600099563598633,34.23261642456055,11.250431060791016,22.43171501159668,-22.740461349487305,-19.459081649780273,52.001731872558594,-19.033376693725586,21.424654006958008,44.94506072998047,44.627315521240234,12.150311470031738,28.431076049804688,38.89296340942383,28.237375259399414,37.548892974853516,31.472883224487305,21.252885818481445,34.47002029418945,-24.57988166809082,20.8761043548584,24.489084243774414,10.06550407409668,12.07808780670166,22.14342498779297,36.72383117675781,21.686874389648438,-21.140684127807617,15.951549530029297,34.418643951416016,50.40977478027344,-26.189672470092773,-28.95775032043457,-24.04157829284668,-15.572416305541992,1.1290279626846313,-5.904200077056885,-36.16411209106445,-27.053295135498047,-21.908920288085938,0.5919010639190674,-28.357316970825195,-15.626826286315918,22.159704208374023,30.93341636657715,32.36044692993164,29.259950637817383,49.966026306152344,30.21135711669922,-15.849357604980469,9.081811904907227,11.808506965637207,3.4235665798187256,42.469181060791016,6.788008689880371,0.41411831974983215,0.758755624294281,-3.9355149269104004,-10.578371047973633,-5.649417400360107,-10.386470794677734,-35.72785949707031,-42.48631286621094,22.607805252075195,41.52170944213867,46.19983673095703,-8.179524421691895,-2.4357500076293945,3.163771390914917,41.39838790893555,45.43159484863281,-27.606584548950195,19.987154006958008,29.446104049682617,43.308162689208984,2.3159472942352295,31.393470764160156,30.679826736450195,31.475419998168945,5.371448040008545,36.435951232910156,23.14828109741211,46.8043098449707,7.517651557922363,42.98210144042969,43.10919952392578,-15.464055061340332,36.439598083496094,37.2071418762207,34.153228759765625,44.240848541259766,39.83300018310547,24.4804744720459,-23.75936508178711,-13.680670738220215,12.06656551361084,-5.191065311431885,-2.442561149597168,28.929275512695312,28.07461166381836,-2.0774216651916504,28.621267318725586,29.48944664001465,33.60646057128906,30.397571563720703,0.9473706483840942,-13.78369426727295,-8.765046119689941,36.53609848022461,3.7861080169677734,-6.779118061065674,-26.665199279785156,29.456756591796875,25.314207077026367,22.198326110839844,9.737915992736816,13.561365127563477,20.49871063232422,15.568380355834961,-26.19463539123535,-10.118613243103027,26.497634887695312,20.692392349243164,-44.97457504272461,-26.700439453125,-37.857120513916016,-3.9690158367156982,-34.15877914428711,-34.71718215942383,-33.3402099609375,-36.57033157348633,-39.6229133605957,-40.493446350097656,-7.559209823608398,-29.85692596435547,-32.76579284667969,-22.485326766967773,-8.760945320129395]},{\"axis\":{\"matches\":true},\"label\":\"z\",\"values\":[3.513742446899414,11.441871643066406,19.53059959411621,-10.015493392944336,4.005914688110352,-36.2960205078125,-18.317306518554688,-40.38883590698242,0.7572661638259888,-10.853978157043457,11.528787612915039,17.557344436645508,-42.01564025878906,20.121055603027344,1.6857751607894897,3.0682578086853027,16.690168380737305,-9.593564987182617,0.06041291728615761,-7.677515506744385,3.403425455093384,9.293259620666504,14.220634460449219,19.612422943115234,-13.537137031555176,18.853734970092773,6.1707682609558105,7.385320663452148,10.008179664611816,-0.546782910823822,2.961280584335327,0.9079944491386414,-35.26509475708008,27.043588638305664,54.5853271484375,9.898512840270996,46.433448791503906,-30.208438873291016,26.806758880615234,26.851318359375,31.240915298461914,18.28179359436035,26.942916870117188,13.715726852416992,9.304195404052734,12.647052764892578,37.545448303222656,-33.53888702392578,-36.10647964477539,27.947404861450195,23.010095596313477,33.064857482910156,31.725852966308594,34.782562255859375,35.45067596435547,35.06073760986328,23.81378173828125,31.06990623474121,23.808088302612305,-21.44141960144043,-25.983930587768555,21.843835830688477,-33.70976257324219,-30.091289520263672,29.949325561523438,36.45216369628906,33.553958892822266,16.7991943359375,2.5104591846466064,0.5466631650924683,11.416666984558105,18.02062225341797,4.037424087524414,-0.14965803921222687,-5.197048664093018,40.156463623046875,25.448974609375,1.4241126775741577,31.757476806640625,31.20130157470703,31.889432907104492,26.22690773010254,38.655670166015625,44.659698486328125,43.09562683105469,41.4759635925293,39.42097091674805,38.170082092285156,31.36001205444336,14.87580680847168,19.713403701782227,15.832649230957031,14.341415405273438,21.519678115844727,11.566305160522461,15.014955520629883,22.573856353759766,40.35483932495117,16.26741600036621,6.866418838500977,-25.754714965820312,-20.149932861328125,12.859701156616211,9.606647491455078,4.4130449295043945,43.20018005371094,45.591949462890625,23.100120544433594,17.004663467407227,19.263689041137695,15.872390747070312,5.867386817932129,6.495121955871582,37.202327728271484,4.155272960662842,6.924663066864014,2.853940486907959,-0.08373545855283737,6.398244380950928,-15.672797203063965,-9.92662525177002,-8.011445999145508,-5.8096513748168945,-4.800440788269043,-10.057747840881348,-16.751352310180664,-3.7795352935791016,0.3914981782436371,-0.21075032651424408,-29.63519287109375,21.19438362121582,15.938172340393066,-26.027040481567383,-9.8644380569458,-19.407413482666016,-0.8613203167915344,14.21148681640625,-16.66153335571289,-5.564324855804443,-29.377416610717773,-25.463939666748047,-16.197044372558594,-15.620657920837402,-18.47215461730957,-21.560331344604492,-6.696903705596924,-7.7824835777282715,11.473226547241211,8.035271644592285,-45.435916900634766,27.83329200744629,-36.952266693115234,-48.03709411621094,-45.09760665893555,3.035909414291382,-2.1975579261779785,37.19575119018555,12.846290588378906,-9.233159065246582,-4.99700927734375,35.29641342163086,-29.11900520324707,15.451991081237793,-17.622026443481445,-34.336605072021484,-13.242658615112305,9.901005744934082,10.65118408203125,-2.2322797775268555,0.5216898322105408,-10.237963676452637,-45.429168701171875,-1.4963204860687256,-34.81292724609375,15.500608444213867,-37.71175003051758,15.38644790649414,6.623966693878174,41.94380187988281,-31.86944007873535,7.851666450500488,10.585826873779297,6.465672492980957,-0.032052185386419296,6.149343490600586,10.199460983276367,-27.89157485961914,22.2537899017334,-27.612462997436523,28.326448440551758,-38.99283218383789,21.55560874938965,-6.085978031158447,-12.851244926452637,4.08875846862793,5.580575466156006,13.816690444946289,17.898033142089844,13.70709228515625,50.884281158447266,44.294898986816406,9.104026794433594,13.178322792053223,28.70602798461914,-22.49188232421875,-2.638716459274292,3.0781311988830566,-7.548680305480957,5.004143238067627,-47.89389419555664,-18.064149856567383,-25.80731964111328,-3.757690906524658,6.430123805999756,-0.28224483132362366,53.282264709472656,-26.959457397460938,-39.797637939453125,-37.832054138183594,-47.75957107543945,-21.769271850585938,-17.720672607421875,37.7315673828125,-18.81241798400879,3.1996912956237793,-6.119384765625,-50.6826171875,-40.27250671386719,-38.72966766357422,-0.9908435940742493,-29.438772201538086,-49.1078987121582,-6.723022937774658,7.571082592010498,9.572540283203125,-13.066659927368164,2.199289560317993,-23.397216796875,-10.268037796020508,28.34857177734375,23.369707107543945,18.0221004486084,24.299997329711914,-4.764786243438721,11.104211807250977,-7.609705448150635,-7.163286209106445,1.6448031663894653,-5.005398273468018,36.575801849365234,29.363786697387695,17.859663009643555,-11.775796890258789,-29.527551651000977,-8.796469688415527,-26.443391799926758,-17.105684280395508,-14.52822208404541,-22.481542587280273,-5.96851110458374,0.6111546754837036,-2.6347317695617676,-13.623839378356934,-15.449005126953125,-18.365751266479492,32.34236145019531,32.4879150390625,-6.354089736938477,-2.242429256439209,17.54201889038086,21.929630279541016,-4.845126152038574,47.549598693847656,51.562049865722656,48.949100494384766,32.21026611328125,12.967015266418457,22.3839111328125,24.450536727905273,14.584085464477539,30.935396194458008,29.480314254760742,3.0246405601501465,0.05863258242607117,2.3265814781188965,-2.7455718517303467,15.318817138671875,-25.143468856811523,-24.28401756286621,-0.09778168052434921,4.75715446472168,-3.536501884460449,-22.303083419799805,-38.24584197998047,-31.441171646118164,-25.320396423339844,-16.526159286499023,-14.027621269226074,-33.123985290527344,20.642230987548828,-34.850154876708984,26.036535263061523,-45.431251525878906,-0.18528050184249878,10.944062232971191,1.9955276250839233,11.265576362609863,15.822834014892578,-10.273519515991211,-20.9947566986084,-12.50790786743164,36.74496841430664,-22.96295166015625,-9.0169095993042,-8.450626373291016,-24.638671875,15.307251930236816,-12.363710403442383,-15.425644874572754,-2.8205058574676514,-5.447835445404053,2.574071168899536,-2.8354718685150146,6.124880313873291,6.328893184661865,-23.68269157409668,-29.91703224182129,-8.872283935546875,16.471153259277344,-12.164102554321289,-8.952176094055176,8.41689682006836,-1.951097846031189,3.444906711578369,1.144185185432434,-16.633394241333008,-13.66723346710205,-16.34684181213379,28.49478530883789,-8.094502449035645,-15.640625,-21.46722984313965,-22.491546630859375,-22.865854263305664,-10.510943412780762,-41.155452728271484,12.221245765686035,-26.07682228088379,-33.81074905395508,-21.428667068481445,-22.782163619995117,-34.747344970703125,-16.138629913330078,28.6300106048584,22.52833366394043,15.302356719970703,15.409886360168457,23.215452194213867,27.00031852722168,-18.938505172729492,-11.374223709106445,2.1813035011291504,-0.4450112581253052,-14.777532577514648,-36.37358856201172,-38.535186767578125,8.13870906829834,11.669865608215332,-24.46721076965332,-36.260406494140625,-8.289407730102539,-31.078304290771484,-14.161515235900879,-4.805985927581787,2.2117562294006348,-3.382082939147949,-6.506108283996582,-10.402762413024902,-37.95072555541992,-1.1324868202209473,-13.280741691589355,-7.216660976409912,-19.78054428100586,-17.182340621948242,-22.518341064453125,-26.623794555664062,-30.764009475708008,-0.1811404973268509,2.357572317123413,-17.872915267944336,42.0710563659668,34.35378646850586,-23.332456588745117,-21.138118743896484,-26.629432678222656,-17.469188690185547,6.575275897979736,-27.960981369018555,-24.46222686767578,-12.364073753356934,-17.002578735351562,-21.27310562133789,-14.295913696289062,32.709556579589844,37.53887176513672,8.707501411437988,-3.38445782661438,-12.746744155883789,29.504892349243164,-23.968252182006836,-33.34156799316406,-25.395946502685547,-7.98062801361084,-27.788667678833008,-28.259151458740234,-5.71815299987793,32.578224182128906,26.98611068725586,-48.9832763671875,-44.677066802978516,31.311126708984375,-17.12698745727539,33.6148681640625,10.317288398742676,38.17383575439453,-8.873024940490723,52.67477035522461,-15.173027992248535,32.44013595581055,27.152450561523438,15.302024841308594,45.118526458740234,39.56113052368164,39.0560188293457,-3.0672693252563477]}],\"hovertemplate\":\"%{xaxis.title.text}=%{x}\\u003cbr\\u003e%{yaxis.title.text}=%{y}\\u003cbr\\u003ecolor=%{marker.color}\\u003cextra\\u003e\\u003c\\u002fextra\\u003e\",\"legendgroup\":\"\",\"marker\":{\"color\":[0,4,7,0,4,0,4,1,4,4,2,0,1,2,3,4,1,4,2,0,1,2,0,7,1,2,0,0,3,0,0,4,0,1,2,0,3,1,2,0,0,3,5,0,0,3,2,0,1,1,0,5,0,5,0,5,2,4,4,2,0,5,0,3,1,3,3,7,1,2,1,2,1,3,1,3,4,0,1,0,1,0,0,1,0,1,2,1,7,4,2,0,3,3,1,2,3,0,0,2,1,1,3,4,1,0,1,3,1,3,3,2,1,3,0,4,1,4,4,0,1,4,1,4,7,1,4,4,3,0,4,4,1,1,4,4,7,4,4,4,4,1,4,4,1,4,4,3,1,0,7,1,0,1,2,0,2,0,1,0,3,0,4,4,0,0,0,5,4,0,4,0,4,0,7,1,0,0,2,0,0,3,2,0,0,3,0,7,1,2,0,1,2,0,7,1,1,4,4,2,0,2,4,2,0,4,4,1,4,0,4,0,2,1,3,2,0,1,0,1,0,1,3,0,7,4,1,1,1,0,0,1,4,4,4,0,4,1,1,2,0,5,2,0,1,2,0,7,3,2,0,0,1,0,6,0,7,6,1,1,1,1,6,0,1,2,0,6,1,2,2,0,2,2,1,3,0,0,5,0,1,7,1,0,1,1,4,4,0,6,6,1,0,4,0,1,0,1,1,4,0,2,1,0,4,4,5,5,4,0,0,0,1,1,0,1,0,7,1,4,0,4,5,0,4,4,1,0,2,0,0,4,4,4,2,0,1,1,1,3,0,1,2,0,6,1,0,1,2,0,6,0,0,3,2,1,0,3,2,0,1,5,5,2,0,2,7,7,0,6,0,1,0,6,7,7,1,6,0,7,1,6,6,0,6,6,0,1,1,6,2,0,1,2,0,7,7,1,6,6,6,6,3,2,0,1,3,0,1,0,1,0,0,1,1,1,2,0,0,1,0,1,2,4,1,0,1,0,2,1,4,1,3,3,4],\"coloraxis\":\"coloraxis\",\"symbol\":\"circle\"},\"name\":\"\",\"showlegend\":false,\"type\":\"splom\"}],                        {\"template\":{\"data\":{\"histogram2dcontour\":[{\"type\":\"histogram2dcontour\",\"colorbar\":{\"outlinewidth\":0,\"ticks\":\"\"},\"colorscale\":[[0.0,\"#0d0887\"],[0.1111111111111111,\"#46039f\"],[0.2222222222222222,\"#7201a8\"],[0.3333333333333333,\"#9c179e\"],[0.4444444444444444,\"#bd3786\"],[0.5555555555555556,\"#d8576b\"],[0.6666666666666666,\"#ed7953\"],[0.7777777777777778,\"#fb9f3a\"],[0.8888888888888888,\"#fdca26\"],[1.0,\"#f0f921\"]]}],\"choropleth\":[{\"type\":\"choropleth\",\"colorbar\":{\"outlinewidth\":0,\"ticks\":\"\"}}],\"histogram2d\":[{\"type\":\"histogram2d\",\"colorbar\":{\"outlinewidth\":0,\"ticks\":\"\"},\"colorscale\":[[0.0,\"#0d0887\"],[0.1111111111111111,\"#46039f\"],[0.2222222222222222,\"#7201a8\"],[0.3333333333333333,\"#9c179e\"],[0.4444444444444444,\"#bd3786\"],[0.5555555555555556,\"#d8576b\"],[0.6666666666666666,\"#ed7953\"],[0.7777777777777778,\"#fb9f3a\"],[0.8888888888888888,\"#fdca26\"],[1.0,\"#f0f921\"]]}],\"heatmap\":[{\"type\":\"heatmap\",\"colorbar\":{\"outlinewidth\":0,\"ticks\":\"\"},\"colorscale\":[[0.0,\"#0d0887\"],[0.1111111111111111,\"#46039f\"],[0.2222222222222222,\"#7201a8\"],[0.3333333333333333,\"#9c179e\"],[0.4444444444444444,\"#bd3786\"],[0.5555555555555556,\"#d8576b\"],[0.6666666666666666,\"#ed7953\"],[0.7777777777777778,\"#fb9f3a\"],[0.8888888888888888,\"#fdca26\"],[1.0,\"#f0f921\"]]}],\"heatmapgl\":[{\"type\":\"heatmapgl\",\"colorbar\":{\"outlinewidth\":0,\"ticks\":\"\"},\"colorscale\":[[0.0,\"#0d0887\"],[0.1111111111111111,\"#46039f\"],[0.2222222222222222,\"#7201a8\"],[0.3333333333333333,\"#9c179e\"],[0.4444444444444444,\"#bd3786\"],[0.5555555555555556,\"#d8576b\"],[0.6666666666666666,\"#ed7953\"],[0.7777777777777778,\"#fb9f3a\"],[0.8888888888888888,\"#fdca26\"],[1.0,\"#f0f921\"]]}],\"contourcarpet\":[{\"type\":\"contourcarpet\",\"colorbar\":{\"outlinewidth\":0,\"ticks\":\"\"}}],\"contour\":[{\"type\":\"contour\",\"colorbar\":{\"outlinewidth\":0,\"ticks\":\"\"},\"colorscale\":[[0.0,\"#0d0887\"],[0.1111111111111111,\"#46039f\"],[0.2222222222222222,\"#7201a8\"],[0.3333333333333333,\"#9c179e\"],[0.4444444444444444,\"#bd3786\"],[0.5555555555555556,\"#d8576b\"],[0.6666666666666666,\"#ed7953\"],[0.7777777777777778,\"#fb9f3a\"],[0.8888888888888888,\"#fdca26\"],[1.0,\"#f0f921\"]]}],\"surface\":[{\"type\":\"surface\",\"colorbar\":{\"outlinewidth\":0,\"ticks\":\"\"},\"colorscale\":[[0.0,\"#0d0887\"],[0.1111111111111111,\"#46039f\"],[0.2222222222222222,\"#7201a8\"],[0.3333333333333333,\"#9c179e\"],[0.4444444444444444,\"#bd3786\"],[0.5555555555555556,\"#d8576b\"],[0.6666666666666666,\"#ed7953\"],[0.7777777777777778,\"#fb9f3a\"],[0.8888888888888888,\"#fdca26\"],[1.0,\"#f0f921\"]]}],\"mesh3d\":[{\"type\":\"mesh3d\",\"colorbar\":{\"outlinewidth\":0,\"ticks\":\"\"}}],\"scatter\":[{\"fillpattern\":{\"fillmode\":\"overlay\",\"size\":10,\"solidity\":0.2},\"type\":\"scatter\"}],\"parcoords\":[{\"type\":\"parcoords\",\"line\":{\"colorbar\":{\"outlinewidth\":0,\"ticks\":\"\"}}}],\"scatterpolargl\":[{\"type\":\"scatterpolargl\",\"marker\":{\"colorbar\":{\"outlinewidth\":0,\"ticks\":\"\"}}}],\"bar\":[{\"error_x\":{\"color\":\"#2a3f5f\"},\"error_y\":{\"color\":\"#2a3f5f\"},\"marker\":{\"line\":{\"color\":\"#E5ECF6\",\"width\":0.5},\"pattern\":{\"fillmode\":\"overlay\",\"size\":10,\"solidity\":0.2}},\"type\":\"bar\"}],\"scattergeo\":[{\"type\":\"scattergeo\",\"marker\":{\"colorbar\":{\"outlinewidth\":0,\"ticks\":\"\"}}}],\"scatterpolar\":[{\"type\":\"scatterpolar\",\"marker\":{\"colorbar\":{\"outlinewidth\":0,\"ticks\":\"\"}}}],\"histogram\":[{\"marker\":{\"pattern\":{\"fillmode\":\"overlay\",\"size\":10,\"solidity\":0.2}},\"type\":\"histogram\"}],\"scattergl\":[{\"type\":\"scattergl\",\"marker\":{\"colorbar\":{\"outlinewidth\":0,\"ticks\":\"\"}}}],\"scatter3d\":[{\"type\":\"scatter3d\",\"line\":{\"colorbar\":{\"outlinewidth\":0,\"ticks\":\"\"}},\"marker\":{\"colorbar\":{\"outlinewidth\":0,\"ticks\":\"\"}}}],\"scattermapbox\":[{\"type\":\"scattermapbox\",\"marker\":{\"colorbar\":{\"outlinewidth\":0,\"ticks\":\"\"}}}],\"scatterternary\":[{\"type\":\"scatterternary\",\"marker\":{\"colorbar\":{\"outlinewidth\":0,\"ticks\":\"\"}}}],\"scattercarpet\":[{\"type\":\"scattercarpet\",\"marker\":{\"colorbar\":{\"outlinewidth\":0,\"ticks\":\"\"}}}],\"carpet\":[{\"aaxis\":{\"endlinecolor\":\"#2a3f5f\",\"gridcolor\":\"white\",\"linecolor\":\"white\",\"minorgridcolor\":\"white\",\"startlinecolor\":\"#2a3f5f\"},\"baxis\":{\"endlinecolor\":\"#2a3f5f\",\"gridcolor\":\"white\",\"linecolor\":\"white\",\"minorgridcolor\":\"white\",\"startlinecolor\":\"#2a3f5f\"},\"type\":\"carpet\"}],\"table\":[{\"cells\":{\"fill\":{\"color\":\"#EBF0F8\"},\"line\":{\"color\":\"white\"}},\"header\":{\"fill\":{\"color\":\"#C8D4E3\"},\"line\":{\"color\":\"white\"}},\"type\":\"table\"}],\"barpolar\":[{\"marker\":{\"line\":{\"color\":\"#E5ECF6\",\"width\":0.5},\"pattern\":{\"fillmode\":\"overlay\",\"size\":10,\"solidity\":0.2}},\"type\":\"barpolar\"}],\"pie\":[{\"automargin\":true,\"type\":\"pie\"}]},\"layout\":{\"autotypenumbers\":\"strict\",\"colorway\":[\"#636efa\",\"#EF553B\",\"#00cc96\",\"#ab63fa\",\"#FFA15A\",\"#19d3f3\",\"#FF6692\",\"#B6E880\",\"#FF97FF\",\"#FECB52\"],\"font\":{\"color\":\"#2a3f5f\"},\"hovermode\":\"closest\",\"hoverlabel\":{\"align\":\"left\"},\"paper_bgcolor\":\"white\",\"plot_bgcolor\":\"#E5ECF6\",\"polar\":{\"bgcolor\":\"#E5ECF6\",\"angularaxis\":{\"gridcolor\":\"white\",\"linecolor\":\"white\",\"ticks\":\"\"},\"radialaxis\":{\"gridcolor\":\"white\",\"linecolor\":\"white\",\"ticks\":\"\"}},\"ternary\":{\"bgcolor\":\"#E5ECF6\",\"aaxis\":{\"gridcolor\":\"white\",\"linecolor\":\"white\",\"ticks\":\"\"},\"baxis\":{\"gridcolor\":\"white\",\"linecolor\":\"white\",\"ticks\":\"\"},\"caxis\":{\"gridcolor\":\"white\",\"linecolor\":\"white\",\"ticks\":\"\"}},\"coloraxis\":{\"colorbar\":{\"outlinewidth\":0,\"ticks\":\"\"}},\"colorscale\":{\"sequential\":[[0.0,\"#0d0887\"],[0.1111111111111111,\"#46039f\"],[0.2222222222222222,\"#7201a8\"],[0.3333333333333333,\"#9c179e\"],[0.4444444444444444,\"#bd3786\"],[0.5555555555555556,\"#d8576b\"],[0.6666666666666666,\"#ed7953\"],[0.7777777777777778,\"#fb9f3a\"],[0.8888888888888888,\"#fdca26\"],[1.0,\"#f0f921\"]],\"sequentialminus\":[[0.0,\"#0d0887\"],[0.1111111111111111,\"#46039f\"],[0.2222222222222222,\"#7201a8\"],[0.3333333333333333,\"#9c179e\"],[0.4444444444444444,\"#bd3786\"],[0.5555555555555556,\"#d8576b\"],[0.6666666666666666,\"#ed7953\"],[0.7777777777777778,\"#fb9f3a\"],[0.8888888888888888,\"#fdca26\"],[1.0,\"#f0f921\"]],\"diverging\":[[0,\"#8e0152\"],[0.1,\"#c51b7d\"],[0.2,\"#de77ae\"],[0.3,\"#f1b6da\"],[0.4,\"#fde0ef\"],[0.5,\"#f7f7f7\"],[0.6,\"#e6f5d0\"],[0.7,\"#b8e186\"],[0.8,\"#7fbc41\"],[0.9,\"#4d9221\"],[1,\"#276419\"]]},\"xaxis\":{\"gridcolor\":\"white\",\"linecolor\":\"white\",\"ticks\":\"\",\"title\":{\"standoff\":15},\"zerolinecolor\":\"white\",\"automargin\":true,\"zerolinewidth\":2},\"yaxis\":{\"gridcolor\":\"white\",\"linecolor\":\"white\",\"ticks\":\"\",\"title\":{\"standoff\":15},\"zerolinecolor\":\"white\",\"automargin\":true,\"zerolinewidth\":2},\"scene\":{\"xaxis\":{\"backgroundcolor\":\"#E5ECF6\",\"gridcolor\":\"white\",\"linecolor\":\"white\",\"showbackground\":true,\"ticks\":\"\",\"zerolinecolor\":\"white\",\"gridwidth\":2},\"yaxis\":{\"backgroundcolor\":\"#E5ECF6\",\"gridcolor\":\"white\",\"linecolor\":\"white\",\"showbackground\":true,\"ticks\":\"\",\"zerolinecolor\":\"white\",\"gridwidth\":2},\"zaxis\":{\"backgroundcolor\":\"#E5ECF6\",\"gridcolor\":\"white\",\"linecolor\":\"white\",\"showbackground\":true,\"ticks\":\"\",\"zerolinecolor\":\"white\",\"gridwidth\":2}},\"shapedefaults\":{\"line\":{\"color\":\"#2a3f5f\"}},\"annotationdefaults\":{\"arrowcolor\":\"#2a3f5f\",\"arrowhead\":0,\"arrowwidth\":1},\"geo\":{\"bgcolor\":\"white\",\"landcolor\":\"#E5ECF6\",\"subunitcolor\":\"white\",\"showland\":true,\"showlakes\":true,\"lakecolor\":\"white\"},\"title\":{\"x\":0.05},\"mapbox\":{\"style\":\"light\"}}},\"coloraxis\":{\"colorbar\":{\"title\":{\"text\":\"color\"}},\"colorscale\":[[0.0,\"#0d0887\"],[0.1111111111111111,\"#46039f\"],[0.2222222222222222,\"#7201a8\"],[0.3333333333333333,\"#9c179e\"],[0.4444444444444444,\"#bd3786\"],[0.5555555555555556,\"#d8576b\"],[0.6666666666666666,\"#ed7953\"],[0.7777777777777778,\"#fb9f3a\"],[0.8888888888888888,\"#fdca26\"],[1.0,\"#f0f921\"]]},\"legend\":{\"tracegroupgap\":0},\"margin\":{\"t\":60},\"dragmode\":\"select\"},                        {\"responsive\": true}                    ).then(function(){\n",
       "                            \n",
       "var gd = document.getElementById('7f8b9ad7-b65f-4000-9ce2-48e2d2b2e867');\n",
       "var x = new MutationObserver(function (mutations, observer) {{\n",
       "        var display = window.getComputedStyle(gd).display;\n",
       "        if (!display || display === 'none') {{\n",
       "            console.log([gd, 'removed!']);\n",
       "            Plotly.purge(gd);\n",
       "            observer.disconnect();\n",
       "        }}\n",
       "}});\n",
       "\n",
       "// Listen for the removal of the full notebook cells\n",
       "var notebookContainer = gd.closest('#notebook-container');\n",
       "if (notebookContainer) {{\n",
       "    x.observe(notebookContainer, {childList: true});\n",
       "}}\n",
       "\n",
       "// Listen for the clearing of the current output cell\n",
       "var outputEl = gd.closest('.output');\n",
       "if (outputEl) {{\n",
       "    x.observe(outputEl, {childList: true});\n",
       "}}\n",
       "\n",
       "                        })                };                });            </script>        </div>"
      ]
     },
     "metadata": {},
     "output_type": "display_data"
    }
   ],
   "source": [
    "kmeans = KMeans(n_clusters=8, random_state=0, n_init=\"auto\").fit(clips_feature_tensor)\n",
    "cmap = ListedColormap(['blue', 'orange', 'green', 'red', 'purple', 'gray', 'black', 'olive'])\n",
    "\n",
    "y_kmeans = kmeans.predict(clips_feature_tensor)\n",
    "\n",
    "tsne = TSNE(n_components=2, random_state=42)\n",
    "# Addestrare il modello e trasformare i dati\n",
    "X = tsne.fit_transform(clips_feature_tensor)\n",
    "print()\n",
    "# scatter plot of X values\n",
    "fig = px.scatter_matrix(df, dimensions=[\"x\", \"y\", \"z\"], color=labels)\n",
    "\n",
    "fig.show()\n"
   ]
  },
  {
   "cell_type": "markdown",
   "metadata": {},
   "source": [
    "## plot using TSNE 3D"
   ]
  },
  {
   "cell_type": "code",
   "execution_count": 52,
   "metadata": {},
   "outputs": [
    {
     "data": {
      "application/vnd.plotly.v1+json": {
       "config": {
        "plotlyServerURL": "https://plot.ly"
       },
       "data": [
        {
         "hovertemplate": "kmeans=7<br>x=%{x}<br>y=%{y}<br>z=%{z}<extra></extra>",
         "legendgroup": "7",
         "marker": {
          "color": "#FF97FF",
          "size": 3,
          "symbol": "circle"
         },
         "mode": "markers",
         "name": "7",
         "scene": "scene",
         "showlegend": true,
         "type": "scatter3d",
         "x": [
          4.847788333892822,
          -35.69442367553711,
          -4.349939823150635,
          -40.997230529785156,
          -36.13169860839844,
          34.495155334472656,
          -34.19281005859375,
          25.126079559326172,
          11.886750221252441,
          13.213089942932129,
          16.286367416381836,
          23.930822372436523,
          40.27290344238281,
          35.72770309448242,
          -16.01317596435547,
          -21.52979850769043,
          -8.74240493774414,
          44.73948287963867,
          46.987884521484375,
          48.61304473876953,
          41.20282745361328,
          25.671558380126953,
          21.00339698791504,
          23.39035987854004,
          30.51792335510254,
          5.639721870422363,
          -20.674299240112305,
          1.7701654434204102,
          -8.183237075805664,
          -2.2674641609191895,
          2.4000561237335205,
          12.745542526245117,
          -11.564839363098145,
          6.855834007263184,
          5.443772315979004,
          0.417468398809433,
          0.11583410948514938,
          -9.692205429077148,
          -22.062467575073242,
          -17.415390014648438,
          -15.822961807250977,
          -16.080942153930664,
          -1.534281611442566,
          31.049072265625,
          -18.29416847229004,
          -31.397201538085938,
          -26.863859176635742,
          -21.194917678833008,
          -31.744064331054688,
          -32.86598205566406,
          -6.2818732261657715,
          -25.065597534179688,
          -28.225658416748047,
          -22.847766876220703,
          -22.904788970947266,
          47.270835876464844,
          -5.000309467315674,
          -36.64992904663086,
          -1.5979653596878052,
          16.514827728271484,
          -3.0082433223724365,
          0.7708743810653687,
          -25.56708335876465,
          -11.933321952819824,
          4.553509712219238,
          -7.635847091674805,
          -26.27654266357422,
          12.327657699584961,
          -31.935630798339844,
          -16.181461334228516,
          -11.720539093017578,
          -9.913955688476562,
          -28.853849411010742,
          23.6212158203125,
          28.36509132385254,
          -3.0765490531921387,
          -37.07975769042969,
          -3.0353500843048096,
          18.778823852539062,
          21.657163619995117,
          13.81943130493164,
          -14.584488868713379,
          9.441740036010742,
          -8.423705101013184,
          10.114212989807129,
          15.122477531433105,
          8.088383674621582,
          2.96702241897583,
          -6.280879497528076,
          18.766124725341797,
          -5.6892008781433105,
          -23.086854934692383,
          -42.044368743896484,
          -18.07082748413086,
          -15.24109172821045,
          -15.70523738861084,
          50.07770538330078,
          -5.6495866775512695,
          40.359039306640625,
          -5.806037425994873,
          -8.531262397766113,
          36.49163055419922,
          133.48924255371094,
          -18.101654052734375,
          -3.739973545074463,
          3.324523687362671,
          1.7178089618682861,
          -36.71343231201172,
          -22.820951461791992,
          -15.259908676147461,
          9.03670597076416,
          -11.461868286132812,
          -9.686747550964355,
          -9.73280143737793,
          7.302053928375244,
          6.2049880027771,
          -10.130627632141113,
          -9.389530181884766,
          43.204002380371094,
          -15.44548225402832,
          0.7440484166145325,
          2.6845128536224365,
          13.360343933105469,
          -13.96181583404541,
          32.1555290222168,
          8.304570198059082,
          34.52323532104492,
          28.267658233642578,
          -7.619266510009766,
          -0.08584505319595337,
          2.1859428882598877,
          4.247012615203857,
          2.831663131713867,
          37.054935455322266,
          5.332685947418213,
          4.596375465393066,
          40.47652053833008,
          -16.054906845092773,
          -19.17684555053711,
          -15.735213279724121,
          -15.130666732788086,
          -12.00694751739502,
          -6.232733726501465
         ],
         "y": [
          -24.595054626464844,
          -17.069984436035156,
          -21.88945198059082,
          -15.417135238647461,
          -4.665507793426514,
          -23.89557647705078,
          -19.864953994750977,
          -23.94269561767578,
          -8.748968124389648,
          -17.810203552246094,
          -13.868136405944824,
          -13.639083862304688,
          -7.079642295837402,
          -18.345155715942383,
          -24.63927459716797,
          -3.5574402809143066,
          -50.009742736816406,
          -3.6716771125793457,
          1.0180082321166992,
          -15.86855411529541,
          -17.231149673461914,
          -14.407797813415527,
          -16.962646484375,
          -15.249650955200195,
          -22.653942108154297,
          1.1566232442855835,
          -18.099653244018555,
          -13.728736877441406,
          -8.461650848388672,
          -39.97032928466797,
          -39.17864990234375,
          -14.987383842468262,
          2.9930357933044434,
          -46.22765350341797,
          -1.9014227390289307,
          0.47362783551216125,
          -4.298207759857178,
          -15.646928787231445,
          -6.9515485763549805,
          2.350666046142578,
          -31.65753173828125,
          -18.72005844116211,
          6.11096715927124,
          -9.986700057983398,
          -1.8897273540496826,
          -31.71975326538086,
          -25.75457763671875,
          -3.259110927581787,
          -21.769405364990234,
          -31.893465042114258,
          3.976604461669922,
          -8.269484519958496,
          -18.943374633789062,
          3.676353931427002,
          9.10689640045166,
          -24.634288787841797,
          -12.18477725982666,
          -15.524606704711914,
          -10.355728149414062,
          -27.719552993774414,
          -53.74674987792969,
          -55.631778717041016,
          -41.237327575683594,
          -4.115540504455566,
          -14.71413516998291,
          -9.758635520935059,
          -12.478853225708008,
          234.78199768066406,
          3.6946146488189697,
          -10.719207763671875,
          -13.571747779846191,
          -8.06739330291748,
          -25.67152214050293,
          -1.6670788526535034,
          -17.579727172851562,
          -17.669021606445312,
          -18.268871307373047,
          -8.87280559539795,
          -34.37409973144531,
          -35.435665130615234,
          6.072849750518799,
          13.104601860046387,
          -25.67385482788086,
          -27.493444442749023,
          -4.78162956237793,
          -39.57566833496094,
          -41.432334899902344,
          -38.160526275634766,
          -17.700422286987305,
          25.507375717163086,
          -18.29385757446289,
          -14.034223556518555,
          -26.714872360229492,
          -15.562422752380371,
          -18.703012466430664,
          -21.75560188293457,
          -8.190619468688965,
          -26.826040267944336,
          4.7343902587890625,
          -33.174530029296875,
          -23.692522048950195,
          -5.355345726013184,
          -5.85181188583374,
          -20.289852142333984,
          20.423755645751953,
          -4.894627094268799,
          12.489654541015625,
          -17.505781173706055,
          -26.582366943359375,
          11.250431060791016,
          -19.459081649780273,
          21.252885818481445,
          10.06550407409668,
          -26.189672470092773,
          -28.95775032043457,
          -24.04157829284668,
          1.1290279626846313,
          -5.904200077056885,
          -15.626826286315918,
          22.159704208374023,
          -15.849357604980469,
          3.4235665798187256,
          0.41411831974983215,
          0.758755624294281,
          -5.649417400360107,
          -10.386470794677734,
          -42.48631286621094,
          -8.179524421691895,
          -27.606584548950195,
          2.3159472942352295,
          5.371448040008545,
          7.517651557922363,
          -15.464055061340332,
          0.9473706483840942,
          -6.779118061065674,
          15.568380355834961,
          -10.118613243103027,
          -26.700439453125,
          -34.71718215942383,
          -36.57033157348633,
          -39.6229133605957,
          -40.493446350097656,
          -8.760945320129395
         ],
         "z": [
          3.513742446899414,
          -10.015493392944336,
          -36.2960205078125,
          -18.317306518554688,
          -10.853978157043457,
          1.6857751607894897,
          3.0682578086853027,
          -7.677515506744385,
          3.403425455093384,
          9.293259620666504,
          -13.537137031555176,
          6.1707682609558105,
          7.385320663452148,
          10.008179664611816,
          -35.26509475708008,
          27.043588638305664,
          -30.208438873291016,
          26.851318359375,
          31.240915298461914,
          18.28179359436035,
          23.010095596313477,
          -21.44141960144043,
          -25.983930587768555,
          -33.70976257324219,
          -30.091289520263672,
          33.553958892822266,
          2.5104591846466064,
          0.5466631650924683,
          18.02062225341797,
          4.037424087524414,
          -0.14965803921222687,
          -5.197048664093018,
          14.87580680847168,
          14.341415405273438,
          11.566305160522461,
          15.014955520629883,
          22.573856353759766,
          6.866418838500977,
          12.859701156616211,
          9.606647491455078,
          4.4130449295043945,
          23.100120544433594,
          5.867386817932129,
          6.495121955871582,
          2.853940486907959,
          -15.672797203063965,
          -9.92662525177002,
          -5.8096513748168945,
          -16.751352310180664,
          -0.21075032651424408,
          -29.63519287109375,
          -26.027040481567383,
          -9.8644380569458,
          -18.47215461730957,
          -21.560331344604492,
          8.035271644592285,
          -45.435916900634766,
          27.83329200744629,
          -36.952266693115234,
          -2.1975579261779785,
          -9.233159065246582,
          -4.99700927734375,
          -29.11900520324707,
          -17.622026443481445,
          -34.336605072021484,
          -13.242658615112305,
          -2.2322797775268555,
          0.5216898322105408,
          -10.237963676452637,
          -45.429168701171875,
          -34.81292724609375,
          -37.71175003051758,
          6.623966693878174,
          7.851666450500488,
          10.585826873779297,
          -27.89157485961914,
          22.2537899017334,
          -27.612462997436523,
          -38.99283218383789,
          -12.851244926452637,
          5.580575466156006,
          9.104026794433594,
          -22.49188232421875,
          -47.89389419555664,
          -25.80731964111328,
          -26.959457397460938,
          -21.769271850585938,
          -17.720672607421875,
          -18.81241798400879,
          3.1996912956237793,
          -0.9908435940742493,
          -29.438772201538086,
          -6.723022937774658,
          -13.066659927368164,
          -23.397216796875,
          -10.268037796020508,
          -4.764786243438721,
          -5.005398273468018,
          29.363786697387695,
          -29.527551651000977,
          -15.449005126953125,
          32.4879150390625,
          -4.845126152038574,
          32.21026611328125,
          3.0246405601501465,
          0.05863258242607117,
          -22.303083419799805,
          -38.24584197998047,
          -25.320396423339844,
          20.642230987548828,
          -45.431251525878906,
          -8.450626373291016,
          -2.8205058574676514,
          16.471153259277344,
          -12.164102554321289,
          -8.952176094055176,
          -1.951097846031189,
          3.444906711578369,
          -8.094502449035645,
          -15.640625,
          12.221245765686035,
          -21.428667068481445,
          -16.138629913330078,
          28.6300106048584,
          15.409886360168457,
          23.215452194213867,
          -18.938505172729492,
          -14.777532577514648,
          -24.46721076965332,
          -14.161515235900879,
          -6.506108283996582,
          -13.280741691589355,
          -17.182340621948242,
          -14.295913696289062,
          -12.746744155883789,
          -5.71815299987793,
          26.98611068725586,
          -17.12698745727539,
          -8.873024940490723,
          -15.173027992248535,
          32.44013595581055,
          27.152450561523438,
          -3.0672693252563477
         ]
        },
        {
         "hovertemplate": "kmeans=0<br>x=%{x}<br>y=%{y}<br>z=%{z}<extra></extra>",
         "legendgroup": "0",
         "marker": {
          "color": "#FECB52",
          "size": 3,
          "symbol": "circle"
         },
         "mode": "markers",
         "name": "0",
         "scene": "scene",
         "showlegend": true,
         "type": "scatter3d",
         "x": [
          -30.507238388061523,
          -69.9476089477539,
          -68.31950378417969,
          -41.17214584350586,
          -66.85691833496094,
          -34.123287200927734,
          -38.68342971801758,
          -53.967437744140625,
          -56.41201400756836,
          -60.80403137207031,
          -46.31835174560547,
          -60.5110969543457,
          -40.18523406982422,
          -42.6502799987793,
          -49.68332290649414,
          -52.4155387878418,
          -38.39024353027344,
          -46.954532623291016,
          -62.62584686279297,
          -31.271484375,
          -26.76236343383789,
          -40.499122619628906,
          -48.527870178222656,
          -54.43651580810547,
          -62.75837326049805,
          -44.37548065185547,
          -37.727317810058594,
          -61.490333557128906,
          -58.143306732177734,
          -68.79597473144531,
          -51.253448486328125,
          -52.3125114440918,
          -39.536651611328125,
          -38.14714431762695,
          -62.098758697509766,
          -67.78461456298828,
          -42.88692855834961,
          -50.44370651245117,
          -34.62761306762695,
          -50.28175354003906,
          -59.83259582519531,
          -57.9847526550293,
          -52.17106628417969,
          -51.43235397338867
         ],
         "y": [
          -36.61738586425781,
          6.468997955322266,
          -0.9745987057685852,
          3.970097541809082,
          -9.216531753540039,
          -2.0268003940582275,
          -5.747539043426514,
          -18.281702041625977,
          -13.072226524353027,
          -8.15198802947998,
          -17.76267433166504,
          -3.458559989929199,
          5.4883646965026855,
          3.858363628387451,
          0.018872704356908798,
          0.7972238063812256,
          -10.54506778717041,
          5.708621978759766,
          6.914546012878418,
          -2.9689295291900635,
          -12.197356224060059,
          -2.8130850791931152,
          -3.234605073928833,
          1.279168725013733,
          -7.806393146514893,
          -7.052219390869141,
          -26.033103942871094,
          5.123827934265137,
          9.202367782592773,
          -16.72245216369629,
          15.98663330078125,
          14.697576522827148,
          -32.47392272949219,
          7.614520072937012,
          2.528203248977661,
          -1.2817009687423706,
          -20.266042709350586,
          -24.82485008239746,
          -16.909440994262695,
          -19.033376693725586,
          -21.140684127807617,
          -15.572416305541992,
          -3.9690158367156982,
          -7.559209823608398
         ],
         "z": [
          11.441871643066406,
          4.005914688110352,
          0.7572661638259888,
          -9.593564987182617,
          0.9079944491386414,
          -0.08373545855283737,
          6.398244380950928,
          -8.011445999145508,
          -4.800440788269043,
          -10.057747840881348,
          -3.7795352935791016,
          0.3914981782436371,
          21.19438362121582,
          15.938172340393066,
          -19.407413482666016,
          -0.8613203167915344,
          14.21148681640625,
          -16.66153335571289,
          -5.564324855804443,
          -25.463939666748047,
          -16.197044372558594,
          -15.620657920837402,
          -6.696903705596924,
          -7.7824835777282715,
          15.451991081237793,
          -1.4963204860687256,
          13.816690444946289,
          17.898033142089844,
          13.70709228515625,
          13.178322792053223,
          -2.638716459274292,
          3.0781311988830566,
          5.004143238067627,
          -18.064149856567383,
          7.571082592010498,
          9.572540283203125,
          2.199289560317993,
          15.318817138671875,
          -31.441171646118164,
          10.944062232971191,
          6.328893184661865,
          8.41689682006836,
          10.317288398742676,
          15.302024841308594
         ]
        },
        {
         "hovertemplate": "kmeans=6<br>x=%{x}<br>y=%{y}<br>z=%{z}<extra></extra>",
         "legendgroup": "6",
         "marker": {
          "color": "#636efa",
          "size": 3,
          "symbol": "circle"
         },
         "mode": "markers",
         "name": "6",
         "scene": "scene",
         "showlegend": true,
         "type": "scatter3d",
         "x": [
          -30.307743072509766,
          37.44010925292969,
          28.322134017944336,
          22.768741607666016,
          36.161136627197266,
          5.895382404327393,
          7.4733476638793945,
          41.39723205566406,
          10.83407211303711,
          24.657041549682617,
          22.44791603088379,
          17.07339859008789,
          30.929668426513672,
          52.1619758605957,
          44.67768478393555,
          33.61227798461914,
          20.502317428588867,
          -25.181442260742188,
          39.365692138671875,
          51.382530212402344,
          38.197105407714844,
          20.524900436401367,
          20.41362953186035,
          30.497581481933594,
          3.074693441390991,
          -6.420165538787842,
          -11.801424980163574,
          -27.892629623413086,
          28.031103134155273,
          34.120365142822266,
          29.19923973083496,
          26.92366600036621,
          13.992568969726562,
          24.2714900970459,
          34.127037048339844,
          -5.5695109367370605,
          29.675273895263672,
          -4.092330455780029,
          -4.181469917297363
         ],
         "y": [
          -36.688201904296875,
          -39.632286071777344,
          -35.95265197753906,
          -45.96648406982422,
          -24.587297439575195,
          -5.216451168060303,
          -19.169767379760742,
          -12.87645149230957,
          -11.258679389953613,
          -26.623918533325195,
          -25.18700408935547,
          -11.631567001342773,
          -41.300472259521484,
          -35.737545013427734,
          -34.38389205932617,
          -48.596710205078125,
          -43.675567626953125,
          -6.336927890777588,
          -28.934524536132812,
          -36.45891189575195,
          -43.5549201965332,
          17.970745086669922,
          -3.3444159030914307,
          -9.523587226867676,
          -15.501084327697754,
          -17.002643585205078,
          -20.704124450683594,
          -24.57988166809082,
          -36.16411209106445,
          -27.053295135498047,
          -21.908920288085938,
          0.5919010639190674,
          -3.9355149269104004,
          -10.578371047973633,
          -5.191065311431885,
          -8.765046119689941,
          3.7861080169677734,
          -33.3402099609375,
          -29.85692596435547
         ],
         "z": [
          19.53059959411621,
          11.528787612915039,
          17.557344436645508,
          0.06041291728615761,
          14.220634460449219,
          46.433448791503906,
          40.156463623046875,
          -20.149932861328125,
          37.202327728271484,
          11.473226547241211,
          3.035909414291382,
          35.29641342163086,
          6.465672492980957,
          -0.032052185386419296,
          6.149343490600586,
          10.199460983276367,
          -6.085978031158447,
          44.294898986816406,
          -3.757690906524658,
          6.430123805999756,
          -0.28224483132362366,
          28.34857177734375,
          -7.609705448150635,
          -7.163286209106445,
          47.549598693847656,
          51.562049865722656,
          48.949100494384766,
          15.307251930236816,
          1.144185185432434,
          -16.633394241333008,
          -13.66723346710205,
          -16.34684181213379,
          22.52833366394043,
          15.302356719970703,
          -21.138118743896484,
          37.53887176513672,
          -3.38445782661438,
          52.67477035522461,
          45.118526458740234
         ]
        },
        {
         "hovertemplate": "kmeans=1<br>x=%{x}<br>y=%{y}<br>z=%{z}<extra></extra>",
         "legendgroup": "1",
         "marker": {
          "color": "#EF553B",
          "size": 3,
          "symbol": "circle"
         },
         "mode": "markers",
         "name": "1",
         "scene": "scene",
         "showlegend": true,
         "type": "scatter3d",
         "x": [
          -25.47593116760254,
          -20.109434127807617,
          15.032267570495605,
          -0.26722121238708496,
          24.785865783691406,
          -19.541719436645508,
          -1.6608059406280518,
          -6.33150053024292,
          42.38881301879883,
          12.260001182556152,
          -37.461830139160156,
          10.512187004089355,
          12.989625930786133,
          5.700438022613525,
          15.212040901184082,
          1.9551525115966797,
          9.99770450592041,
          0.5099968314170837,
          14.961956977844238,
          1.0813463926315308,
          12.054892539978027,
          15.837800979614258,
          7.350905895233154,
          12.648552894592285,
          10.605575561523438,
          12.653894424438477,
          -4.216606140136719,
          8.503820419311523,
          9.613137245178223,
          -2.9683966636657715,
          3.6382875442504883,
          -8.111502647399902,
          -0.8498786091804504,
          20.93904685974121,
          4.799563884735107,
          23.99065589904785,
          17.640851974487305,
          -10.267142295837402,
          11.090898513793945,
          -1.3926969766616821,
          12.512611389160156,
          5.209105968475342,
          8.394133567810059,
          8.36618423461914,
          20.166255950927734,
          36.93757629394531,
          34.982879638671875,
          7.550304412841797,
          20.13347053527832,
          26.754642486572266,
          36.85049057006836,
          25.873889923095703,
          28.395610809326172,
          24.805259704589844,
          17.6812801361084,
          14.534612655639648,
          19.928760528564453,
          24.013294219970703,
          21.59786033630371,
          25.062292098999023
         ],
         "y": [
          4.88416051864624,
          9.749197959899902,
          -38.4746208190918,
          8.45020580291748,
          17.00156021118164,
          -2.1880578994750977,
          8.644625663757324,
          4.380620002746582,
          5.396232604980469,
          12.522530555725098,
          -42.0014533996582,
          -36.14401626586914,
          9.615418434143066,
          36.616172790527344,
          3.510824203491211,
          2.120473861694336,
          -1.2734285593032837,
          0.8944536447525024,
          37.8797492980957,
          50.90443801879883,
          51.98795700073242,
          46.14973831176758,
          49.4267463684082,
          16.34018325805664,
          28.91839599609375,
          24.368051528930664,
          20.89269256591797,
          20.793609619140625,
          22.939701080322266,
          24.600099563598633,
          34.23261642456055,
          22.43171501159668,
          28.431076049804688,
          37.548892974853516,
          34.47002029418945,
          20.8761043548584,
          24.489084243774414,
          15.951549530029297,
          34.418643951416016,
          50.40977478027344,
          30.93341636657715,
          30.21135711669922,
          9.081811904907227,
          11.808506965637207,
          6.788008689880371,
          -2.4357500076293945,
          3.163771390914917,
          19.987154006958008,
          23.14828109741211,
          12.06656551361084,
          -2.442561149597168,
          28.07461166381836,
          -2.0774216651916504,
          29.456756591796875,
          22.198326110839844,
          9.737915992736816,
          13.561365127563477,
          20.49871063232422,
          26.497634887695312,
          20.692392349243164
         ],
         "z": [
          -40.38883590698242,
          -42.01564025878906,
          -33.53888702392578,
          -36.10647964477539,
          1.4241126775741577,
          -29.377416610717773,
          -48.03709411621094,
          -45.09760665893555,
          -31.86944007873535,
          4.08875846862793,
          -7.548680305480957,
          -39.797637939453125,
          -47.75957107543945,
          -6.119384765625,
          -50.6826171875,
          -40.27250671386719,
          -38.72966766357422,
          -49.1078987121582,
          -11.775796890258789,
          -26.443391799926758,
          -17.105684280395508,
          -14.52822208404541,
          -22.481542587280273,
          -18.365751266479492,
          -6.354089736938477,
          -2.242429256439209,
          -25.143468856811523,
          -24.28401756286621,
          -16.526159286499023,
          -14.027621269226074,
          -33.123985290527344,
          -34.850154876708984,
          -20.9947566986084,
          -22.96295166015625,
          -24.638671875,
          -12.363710403442383,
          -15.425644874572754,
          -23.68269157409668,
          -29.91703224182129,
          -8.872283935546875,
          -21.46722984313965,
          -41.155452728271484,
          -26.07682228088379,
          -33.81074905395508,
          -34.747344970703125,
          -36.37358856201172,
          -38.535186767578125,
          -36.260406494140625,
          -37.95072555541992,
          -23.332456588745117,
          -26.629432678222656,
          6.575275897979736,
          -27.960981369018555,
          -23.968252182006836,
          -25.395946502685547,
          -7.98062801361084,
          -27.788667678833008,
          -28.259151458740234,
          -48.9832763671875,
          -44.677066802978516
         ]
        },
        {
         "hovertemplate": "kmeans=2<br>x=%{x}<br>y=%{y}<br>z=%{z}<extra></extra>",
         "legendgroup": "2",
         "marker": {
          "color": "#00cc96",
          "size": 3,
          "symbol": "circle"
         },
         "mode": "markers",
         "name": "2",
         "scene": "scene",
         "showlegend": true,
         "type": "scatter3d",
         "x": [
          39.928558349609375,
          14.024173736572266,
          15.813998222351074,
          40.951507568359375,
          2.127655267715454,
          14.5611572265625,
          15.338204383850098,
          13.077224731445312,
          13.063130378723145,
          7.615267276763916,
          18.24578094482422,
          21.39019012451172,
          4.311286926269531,
          1.9503257274627686,
          21.17385482788086,
          20.74680519104004,
          16.584056854248047,
          12.052000045776367,
          25.153255462646484,
          32.17637634277344,
          36.941593170166016,
          30.595630645751953,
          2.084205150604248,
          6.465278625488281,
          -4.8614277839660645,
          28.438682556152344,
          3.078065872192383,
          30.237550735473633,
          39.887996673583984,
          -3.4775707721710205,
          14.626715660095215,
          35.022560119628906,
          11.641596794128418,
          11.656401634216309,
          7.811877727508545,
          -6.3590087890625,
          -0.17850276827812195
         ],
         "y": [
          -38.277015686035156,
          -20.511415481567383,
          -9.462779998779297,
          -24.3142147064209,
          -43.68986892700195,
          -34.074100494384766,
          -37.23371887207031,
          -42.2297477722168,
          -39.59315872192383,
          -30.65438461303711,
          -25.32028579711914,
          -28.846843719482422,
          -18.88846778869629,
          -17.328577041625977,
          -15.866599082946777,
          -38.531394958496094,
          -20.01362419128418,
          -45.076595306396484,
          -40.21614456176758,
          -19.714399337768555,
          -32.3684196472168,
          -20.01032066345215,
          -26.426929473876953,
          -26.68675422668457,
          -22.740461349487305,
          -28.357316970825195,
          -35.72785949707031,
          -23.75936508178711,
          -13.680670738220215,
          -13.78369426727295,
          -26.665199279785156,
          -26.19463539123535,
          -44.97457504272461,
          -37.857120513916016,
          -34.15877914428711,
          -32.76579284667969,
          -22.485326766967773
         ],
         "z": [
          20.121055603027344,
          18.853734970092773,
          54.5853271484375,
          26.806758880615234,
          37.545448303222656,
          11.416666984558105,
          19.713403701782227,
          15.832649230957031,
          43.20018005371094,
          45.591949462890625,
          37.19575119018555,
          41.94380187988281,
          28.326448440551758,
          21.55560874938965,
          50.884281158447266,
          28.70602798461914,
          53.282264709472656,
          -37.832054138183594,
          37.7315673828125,
          24.299997329711914,
          36.575801849365234,
          32.34236145019531,
          17.54201889038086,
          21.929630279541016,
          26.036535263061523,
          28.49478530883789,
          27.00031852722168,
          42.0710563659668,
          34.35378646850586,
          32.709556579589844,
          29.504892349243164,
          32.578224182128906,
          31.311126708984375,
          33.6148681640625,
          38.17383575439453,
          39.56113052368164,
          39.0560188293457
         ]
        },
        {
         "hovertemplate": "kmeans=3<br>x=%{x}<br>y=%{y}<br>z=%{z}<extra></extra>",
         "legendgroup": "3",
         "marker": {
          "color": "#ab63fa",
          "size": 3,
          "symbol": "circle"
         },
         "mode": "markers",
         "name": "3",
         "scene": "scene",
         "showlegend": true,
         "type": "scatter3d",
         "x": [
          13.415507316589355,
          -6.269071578979492,
          -8.158689498901367,
          -14.274580955505371,
          -35.0152587890625,
          -11.133796691894531,
          -16.826711654663086,
          -10.4180269241333,
          8.136862754821777,
          -33.830230712890625,
          -24.747364044189453,
          -30.315061569213867,
          -19.890172958374023,
          -36.946266174316406,
          -12.863296508789062,
          -0.726085364818573,
          -3.323347806930542,
          4.427459239959717,
          3.8935701847076416,
          -5.8827900886535645,
          -8.847331047058105,
          -2.4032301902770996,
          -10.598492622375488,
          5.999416828155518,
          -13.759468078613281,
          -2.497572422027588,
          3.5060324668884277,
          -2.6720128059387207,
          -3.4268569946289062,
          3.9651403427124023,
          9.81068229675293,
          -9.685332298278809,
          -18.832019805908203,
          -13.258543014526367,
          6.217354774475098,
          46.155216217041016,
          -24.169330596923828,
          -24.802162170410156,
          -18.476974487304688,
          -21.932538986206055,
          -30.63214111328125,
          -7.27691125869751,
          -39.24711608886719,
          -38.99311447143555,
          24.672103881835938,
          18.572954177856445,
          17.87601661682129,
          1.6347111463546753,
          6.351576805114746,
          14.065826416015625,
          6.395807266235352,
          -1.3769164085388184,
          5.688564300537109,
          -3.574648141860962,
          14.92379093170166,
          -10.528800964355469,
          -20.00022315979004,
          -29.18820571899414,
          -0.2806178331375122,
          -12.445475578308105,
          -27.886274337768555,
          -31.804828643798828,
          -10.570173263549805,
          -22.398395538330078,
          -14.981337547302246,
          -11.863836288452148,
          -16.912172317504883,
          -32.001564025878906,
          -20.968585968017578,
          -23.64200210571289,
          -11.641573905944824,
          -18.863433837890625,
          -27.006574630737305,
          -37.97777557373047,
          -35.39252471923828,
          -22.502471923828125,
          -3.212808847427368
         ],
         "y": [
          52.00290298461914,
          49.43861770629883,
          55.59722900390625,
          -49.6539421081543,
          35.05440139770508,
          32.42982864379883,
          32.65965270996094,
          24.78156852722168,
          12.277288436889648,
          25.913312911987305,
          10.914072036743164,
          31.880990982055664,
          12.543783187866211,
          32.75782775878906,
          32.46864700317383,
          13.706704139709473,
          19.56044578552246,
          18.503646850585938,
          19.525142669677734,
          10.315738677978516,
          10.253473281860352,
          29.0396785736084,
          23.441736221313477,
          30.68448257446289,
          21.499174118041992,
          23.69378662109375,
          38.457672119140625,
          33.97164535522461,
          40.597774505615234,
          15.560166358947754,
          21.115406036376953,
          43.146305084228516,
          35.43224334716797,
          40.63223648071289,
          10.22613525390625,
          -13.365382194519043,
          6.110438823699951,
          22.82500457763672,
          26.650468826293945,
          7.382259845733643,
          7.350218772888184,
          43.58980178833008,
          25.068801879882812,
          31.352128982543945,
          21.743669509887695,
          10.240702629089355,
          23.975854873657227,
          30.861347198486328,
          27.5755558013916,
          30.740684509277344,
          36.18669509887695,
          37.86793518066406,
          42.29991912841797,
          17.174869537353516,
          32.835838317871094,
          30.61429786682129,
          26.010929107666016,
          32.880245208740234,
          52.001731872558594,
          21.424654006958008,
          44.94506072998047,
          44.627315521240234,
          12.150311470031738,
          38.89296340942383,
          28.237375259399414,
          31.472883224487305,
          12.07808780670166,
          22.14342498779297,
          36.72383117675781,
          21.686874389648438,
          32.36044692993164,
          29.259950637817383,
          22.607805252075195,
          41.52170944213867,
          46.19983673095703,
          29.446104049682617,
          36.53609848022461
         ],
         "z": [
          16.690168380737305,
          -0.546782910823822,
          2.961280584335327,
          9.898512840270996,
          26.942916870117188,
          13.715726852416992,
          9.304195404052734,
          12.647052764892578,
          27.947404861450195,
          33.064857482910156,
          31.725852966308594,
          34.782562255859375,
          35.45067596435547,
          35.06073760986328,
          23.81378173828125,
          31.06990623474121,
          23.808088302612305,
          21.843835830688477,
          29.949325561523438,
          36.45216369628906,
          25.448974609375,
          31.757476806640625,
          31.20130157470703,
          31.889432907104492,
          26.22690773010254,
          38.655670166015625,
          44.659698486328125,
          43.09562683105469,
          41.4759635925293,
          39.42097091674805,
          38.170082092285156,
          31.36001205444336,
          21.519678115844727,
          40.35483932495117,
          16.26741600036621,
          -25.754714965820312,
          17.004663467407227,
          19.263689041137695,
          15.872390747070312,
          4.155272960662842,
          6.924663066864014,
          12.846290588378906,
          9.901005744934082,
          10.65118408203125,
          15.500608444213867,
          15.38644790649414,
          23.369707107543945,
          18.0221004486084,
          11.104211807250977,
          17.859663009643555,
          12.967015266418457,
          22.3839111328125,
          24.450536727905273,
          14.584085464477539,
          30.935396194458008,
          2.3265814781188965,
          -2.7455718517303467,
          -3.536501884460449,
          -0.18528050184249878,
          1.9955276250839233,
          11.265576362609863,
          15.822834014892578,
          -10.273519515991211,
          -12.50790786743164,
          36.74496841430664,
          -9.0169095993042,
          -5.447835445404053,
          2.574071168899536,
          -2.8354718685150146,
          6.124880313873291,
          -22.491546630859375,
          -22.865854263305664,
          -11.374223709106445,
          2.1813035011291504,
          -0.4450112581253052,
          -8.289407730102539,
          8.707501411437988
         ]
        },
        {
         "hovertemplate": "kmeans=5<br>x=%{x}<br>y=%{y}<br>z=%{z}<extra></extra>",
         "legendgroup": "5",
         "marker": {
          "color": "#FFA15A",
          "size": 3,
          "symbol": "circle"
         },
         "mode": "markers",
         "name": "5",
         "scene": "scene",
         "showlegend": true,
         "type": "scatter3d",
         "x": [
          30.821683883666992,
          26.278825759887695,
          18.49078369140625,
          21.482168197631836,
          20.128435134887695,
          24.009859085083008,
          25.675748825073242,
          21.935569763183594,
          31.490764617919922,
          34.44402313232422,
          33.74049758911133,
          32.21405029296875,
          35.42252731323242,
          29.103973388671875,
          40.73190689086914,
          36.48749542236328,
          35.999603271484375,
          41.348262786865234,
          48.717445373535156,
          44.00905990600586
         ],
         "y": [
          37.20840835571289,
          42.044857025146484,
          38.04873275756836,
          39.45481491088867,
          47.981117248535156,
          50.724761962890625,
          44.04204559326172,
          37.014896392822266,
          62.083580017089844,
          59.54115295410156,
          49.966026306152344,
          41.39838790893555,
          45.43159484863281,
          31.393470764160156,
          30.679826736450195,
          31.475419998168945,
          46.8043098449707,
          42.98210144042969,
          44.240848541259766,
          39.83300018310547
         ],
         "z": [
          19.612422943115234,
          16.7991943359375,
          1.6448031663894653,
          -8.796469688415527,
          -5.96851110458374,
          0.6111546754837036,
          -2.6347317695617676,
          29.480314254760742,
          -0.09778168052434921,
          4.75715446472168,
          -10.510943412780762,
          8.13870906829834,
          11.669865608215332,
          -4.805985927581787,
          2.2117562294006348,
          -3.382082939147949,
          -1.1324868202209473,
          -7.216660976409912,
          -0.1811404973268509,
          2.357572317123413
         ]
        },
        {
         "hovertemplate": "kmeans=4<br>x=%{x}<br>y=%{y}<br>z=%{z}<extra></extra>",
         "legendgroup": "4",
         "marker": {
          "color": "#19d3f3",
          "size": 3,
          "symbol": "circle"
         },
         "mode": "markers",
         "name": "4",
         "scene": "scene",
         "showlegend": true,
         "type": "scatter3d",
         "x": [
          26.848356246948242,
          51.4251823425293,
          21.362070083618164,
          33.401336669921875,
          42.10689163208008,
          35.0390510559082,
          41.85457229614258,
          34.109439849853516,
          42.969757080078125,
          35.120304107666016,
          41.05146789550781,
          47.68972396850586,
          43.03761672973633,
          49.47954177856445,
          35.94661331176758
         ],
         "y": [
          44.552040100097656,
          42.469181060791016,
          43.308162689208984,
          36.435951232910156,
          43.10919952392578,
          36.439598083496094,
          37.2071418762207,
          34.153228759765625,
          24.4804744720459,
          28.929275512695312,
          28.621267318725586,
          29.48944664001465,
          33.60646057128906,
          30.397571563720703,
          25.314207077026367
         ],
         "z": [
          -13.623839378356934,
          -22.782163619995117,
          -31.078304290771484,
          -10.402762413024902,
          -19.78054428100586,
          -22.518341064453125,
          -26.623794555664062,
          -30.764009475708008,
          -17.872915267944336,
          -17.469188690185547,
          -24.46222686767578,
          -12.364073753356934,
          -17.002578735351562,
          -21.27310562133789,
          -33.34156799316406
         ]
        }
       ],
       "layout": {
        "legend": {
         "title": {
          "text": "kmeans"
         },
         "tracegroupgap": 0
        },
        "margin": {
         "t": 60
        },
        "scene": {
         "domain": {
          "x": [
           0,
           1
          ],
          "y": [
           0,
           1
          ]
         },
         "xaxis": {
          "title": {
           "text": "x"
          }
         },
         "yaxis": {
          "title": {
           "text": "y"
          }
         },
         "zaxis": {
          "title": {
           "text": "z"
          }
         }
        },
        "template": {
         "data": {
          "bar": [
           {
            "error_x": {
             "color": "#2a3f5f"
            },
            "error_y": {
             "color": "#2a3f5f"
            },
            "marker": {
             "line": {
              "color": "#E5ECF6",
              "width": 0.5
             },
             "pattern": {
              "fillmode": "overlay",
              "size": 10,
              "solidity": 0.2
             }
            },
            "type": "bar"
           }
          ],
          "barpolar": [
           {
            "marker": {
             "line": {
              "color": "#E5ECF6",
              "width": 0.5
             },
             "pattern": {
              "fillmode": "overlay",
              "size": 10,
              "solidity": 0.2
             }
            },
            "type": "barpolar"
           }
          ],
          "carpet": [
           {
            "aaxis": {
             "endlinecolor": "#2a3f5f",
             "gridcolor": "white",
             "linecolor": "white",
             "minorgridcolor": "white",
             "startlinecolor": "#2a3f5f"
            },
            "baxis": {
             "endlinecolor": "#2a3f5f",
             "gridcolor": "white",
             "linecolor": "white",
             "minorgridcolor": "white",
             "startlinecolor": "#2a3f5f"
            },
            "type": "carpet"
           }
          ],
          "choropleth": [
           {
            "colorbar": {
             "outlinewidth": 0,
             "ticks": ""
            },
            "type": "choropleth"
           }
          ],
          "contour": [
           {
            "colorbar": {
             "outlinewidth": 0,
             "ticks": ""
            },
            "colorscale": [
             [
              0,
              "#0d0887"
             ],
             [
              0.1111111111111111,
              "#46039f"
             ],
             [
              0.2222222222222222,
              "#7201a8"
             ],
             [
              0.3333333333333333,
              "#9c179e"
             ],
             [
              0.4444444444444444,
              "#bd3786"
             ],
             [
              0.5555555555555556,
              "#d8576b"
             ],
             [
              0.6666666666666666,
              "#ed7953"
             ],
             [
              0.7777777777777778,
              "#fb9f3a"
             ],
             [
              0.8888888888888888,
              "#fdca26"
             ],
             [
              1,
              "#f0f921"
             ]
            ],
            "type": "contour"
           }
          ],
          "contourcarpet": [
           {
            "colorbar": {
             "outlinewidth": 0,
             "ticks": ""
            },
            "type": "contourcarpet"
           }
          ],
          "heatmap": [
           {
            "colorbar": {
             "outlinewidth": 0,
             "ticks": ""
            },
            "colorscale": [
             [
              0,
              "#0d0887"
             ],
             [
              0.1111111111111111,
              "#46039f"
             ],
             [
              0.2222222222222222,
              "#7201a8"
             ],
             [
              0.3333333333333333,
              "#9c179e"
             ],
             [
              0.4444444444444444,
              "#bd3786"
             ],
             [
              0.5555555555555556,
              "#d8576b"
             ],
             [
              0.6666666666666666,
              "#ed7953"
             ],
             [
              0.7777777777777778,
              "#fb9f3a"
             ],
             [
              0.8888888888888888,
              "#fdca26"
             ],
             [
              1,
              "#f0f921"
             ]
            ],
            "type": "heatmap"
           }
          ],
          "heatmapgl": [
           {
            "colorbar": {
             "outlinewidth": 0,
             "ticks": ""
            },
            "colorscale": [
             [
              0,
              "#0d0887"
             ],
             [
              0.1111111111111111,
              "#46039f"
             ],
             [
              0.2222222222222222,
              "#7201a8"
             ],
             [
              0.3333333333333333,
              "#9c179e"
             ],
             [
              0.4444444444444444,
              "#bd3786"
             ],
             [
              0.5555555555555556,
              "#d8576b"
             ],
             [
              0.6666666666666666,
              "#ed7953"
             ],
             [
              0.7777777777777778,
              "#fb9f3a"
             ],
             [
              0.8888888888888888,
              "#fdca26"
             ],
             [
              1,
              "#f0f921"
             ]
            ],
            "type": "heatmapgl"
           }
          ],
          "histogram": [
           {
            "marker": {
             "pattern": {
              "fillmode": "overlay",
              "size": 10,
              "solidity": 0.2
             }
            },
            "type": "histogram"
           }
          ],
          "histogram2d": [
           {
            "colorbar": {
             "outlinewidth": 0,
             "ticks": ""
            },
            "colorscale": [
             [
              0,
              "#0d0887"
             ],
             [
              0.1111111111111111,
              "#46039f"
             ],
             [
              0.2222222222222222,
              "#7201a8"
             ],
             [
              0.3333333333333333,
              "#9c179e"
             ],
             [
              0.4444444444444444,
              "#bd3786"
             ],
             [
              0.5555555555555556,
              "#d8576b"
             ],
             [
              0.6666666666666666,
              "#ed7953"
             ],
             [
              0.7777777777777778,
              "#fb9f3a"
             ],
             [
              0.8888888888888888,
              "#fdca26"
             ],
             [
              1,
              "#f0f921"
             ]
            ],
            "type": "histogram2d"
           }
          ],
          "histogram2dcontour": [
           {
            "colorbar": {
             "outlinewidth": 0,
             "ticks": ""
            },
            "colorscale": [
             [
              0,
              "#0d0887"
             ],
             [
              0.1111111111111111,
              "#46039f"
             ],
             [
              0.2222222222222222,
              "#7201a8"
             ],
             [
              0.3333333333333333,
              "#9c179e"
             ],
             [
              0.4444444444444444,
              "#bd3786"
             ],
             [
              0.5555555555555556,
              "#d8576b"
             ],
             [
              0.6666666666666666,
              "#ed7953"
             ],
             [
              0.7777777777777778,
              "#fb9f3a"
             ],
             [
              0.8888888888888888,
              "#fdca26"
             ],
             [
              1,
              "#f0f921"
             ]
            ],
            "type": "histogram2dcontour"
           }
          ],
          "mesh3d": [
           {
            "colorbar": {
             "outlinewidth": 0,
             "ticks": ""
            },
            "type": "mesh3d"
           }
          ],
          "parcoords": [
           {
            "line": {
             "colorbar": {
              "outlinewidth": 0,
              "ticks": ""
             }
            },
            "type": "parcoords"
           }
          ],
          "pie": [
           {
            "automargin": true,
            "type": "pie"
           }
          ],
          "scatter": [
           {
            "fillpattern": {
             "fillmode": "overlay",
             "size": 10,
             "solidity": 0.2
            },
            "type": "scatter"
           }
          ],
          "scatter3d": [
           {
            "line": {
             "colorbar": {
              "outlinewidth": 0,
              "ticks": ""
             }
            },
            "marker": {
             "colorbar": {
              "outlinewidth": 0,
              "ticks": ""
             }
            },
            "type": "scatter3d"
           }
          ],
          "scattercarpet": [
           {
            "marker": {
             "colorbar": {
              "outlinewidth": 0,
              "ticks": ""
             }
            },
            "type": "scattercarpet"
           }
          ],
          "scattergeo": [
           {
            "marker": {
             "colorbar": {
              "outlinewidth": 0,
              "ticks": ""
             }
            },
            "type": "scattergeo"
           }
          ],
          "scattergl": [
           {
            "marker": {
             "colorbar": {
              "outlinewidth": 0,
              "ticks": ""
             }
            },
            "type": "scattergl"
           }
          ],
          "scattermapbox": [
           {
            "marker": {
             "colorbar": {
              "outlinewidth": 0,
              "ticks": ""
             }
            },
            "type": "scattermapbox"
           }
          ],
          "scatterpolar": [
           {
            "marker": {
             "colorbar": {
              "outlinewidth": 0,
              "ticks": ""
             }
            },
            "type": "scatterpolar"
           }
          ],
          "scatterpolargl": [
           {
            "marker": {
             "colorbar": {
              "outlinewidth": 0,
              "ticks": ""
             }
            },
            "type": "scatterpolargl"
           }
          ],
          "scatterternary": [
           {
            "marker": {
             "colorbar": {
              "outlinewidth": 0,
              "ticks": ""
             }
            },
            "type": "scatterternary"
           }
          ],
          "surface": [
           {
            "colorbar": {
             "outlinewidth": 0,
             "ticks": ""
            },
            "colorscale": [
             [
              0,
              "#0d0887"
             ],
             [
              0.1111111111111111,
              "#46039f"
             ],
             [
              0.2222222222222222,
              "#7201a8"
             ],
             [
              0.3333333333333333,
              "#9c179e"
             ],
             [
              0.4444444444444444,
              "#bd3786"
             ],
             [
              0.5555555555555556,
              "#d8576b"
             ],
             [
              0.6666666666666666,
              "#ed7953"
             ],
             [
              0.7777777777777778,
              "#fb9f3a"
             ],
             [
              0.8888888888888888,
              "#fdca26"
             ],
             [
              1,
              "#f0f921"
             ]
            ],
            "type": "surface"
           }
          ],
          "table": [
           {
            "cells": {
             "fill": {
              "color": "#EBF0F8"
             },
             "line": {
              "color": "white"
             }
            },
            "header": {
             "fill": {
              "color": "#C8D4E3"
             },
             "line": {
              "color": "white"
             }
            },
            "type": "table"
           }
          ]
         },
         "layout": {
          "annotationdefaults": {
           "arrowcolor": "#2a3f5f",
           "arrowhead": 0,
           "arrowwidth": 1
          },
          "autotypenumbers": "strict",
          "coloraxis": {
           "colorbar": {
            "outlinewidth": 0,
            "ticks": ""
           }
          },
          "colorscale": {
           "diverging": [
            [
             0,
             "#8e0152"
            ],
            [
             0.1,
             "#c51b7d"
            ],
            [
             0.2,
             "#de77ae"
            ],
            [
             0.3,
             "#f1b6da"
            ],
            [
             0.4,
             "#fde0ef"
            ],
            [
             0.5,
             "#f7f7f7"
            ],
            [
             0.6,
             "#e6f5d0"
            ],
            [
             0.7,
             "#b8e186"
            ],
            [
             0.8,
             "#7fbc41"
            ],
            [
             0.9,
             "#4d9221"
            ],
            [
             1,
             "#276419"
            ]
           ],
           "sequential": [
            [
             0,
             "#0d0887"
            ],
            [
             0.1111111111111111,
             "#46039f"
            ],
            [
             0.2222222222222222,
             "#7201a8"
            ],
            [
             0.3333333333333333,
             "#9c179e"
            ],
            [
             0.4444444444444444,
             "#bd3786"
            ],
            [
             0.5555555555555556,
             "#d8576b"
            ],
            [
             0.6666666666666666,
             "#ed7953"
            ],
            [
             0.7777777777777778,
             "#fb9f3a"
            ],
            [
             0.8888888888888888,
             "#fdca26"
            ],
            [
             1,
             "#f0f921"
            ]
           ],
           "sequentialminus": [
            [
             0,
             "#0d0887"
            ],
            [
             0.1111111111111111,
             "#46039f"
            ],
            [
             0.2222222222222222,
             "#7201a8"
            ],
            [
             0.3333333333333333,
             "#9c179e"
            ],
            [
             0.4444444444444444,
             "#bd3786"
            ],
            [
             0.5555555555555556,
             "#d8576b"
            ],
            [
             0.6666666666666666,
             "#ed7953"
            ],
            [
             0.7777777777777778,
             "#fb9f3a"
            ],
            [
             0.8888888888888888,
             "#fdca26"
            ],
            [
             1,
             "#f0f921"
            ]
           ]
          },
          "colorway": [
           "#636efa",
           "#EF553B",
           "#00cc96",
           "#ab63fa",
           "#FFA15A",
           "#19d3f3",
           "#FF6692",
           "#B6E880",
           "#FF97FF",
           "#FECB52"
          ],
          "font": {
           "color": "#2a3f5f"
          },
          "geo": {
           "bgcolor": "white",
           "lakecolor": "white",
           "landcolor": "#E5ECF6",
           "showlakes": true,
           "showland": true,
           "subunitcolor": "white"
          },
          "hoverlabel": {
           "align": "left"
          },
          "hovermode": "closest",
          "mapbox": {
           "style": "light"
          },
          "paper_bgcolor": "white",
          "plot_bgcolor": "#E5ECF6",
          "polar": {
           "angularaxis": {
            "gridcolor": "white",
            "linecolor": "white",
            "ticks": ""
           },
           "bgcolor": "#E5ECF6",
           "radialaxis": {
            "gridcolor": "white",
            "linecolor": "white",
            "ticks": ""
           }
          },
          "scene": {
           "xaxis": {
            "backgroundcolor": "#E5ECF6",
            "gridcolor": "white",
            "gridwidth": 2,
            "linecolor": "white",
            "showbackground": true,
            "ticks": "",
            "zerolinecolor": "white"
           },
           "yaxis": {
            "backgroundcolor": "#E5ECF6",
            "gridcolor": "white",
            "gridwidth": 2,
            "linecolor": "white",
            "showbackground": true,
            "ticks": "",
            "zerolinecolor": "white"
           },
           "zaxis": {
            "backgroundcolor": "#E5ECF6",
            "gridcolor": "white",
            "gridwidth": 2,
            "linecolor": "white",
            "showbackground": true,
            "ticks": "",
            "zerolinecolor": "white"
           }
          },
          "shapedefaults": {
           "line": {
            "color": "#2a3f5f"
           }
          },
          "ternary": {
           "aaxis": {
            "gridcolor": "white",
            "linecolor": "white",
            "ticks": ""
           },
           "baxis": {
            "gridcolor": "white",
            "linecolor": "white",
            "ticks": ""
           },
           "bgcolor": "#E5ECF6",
           "caxis": {
            "gridcolor": "white",
            "linecolor": "white",
            "ticks": ""
           }
          },
          "title": {
           "x": 0.05
          },
          "xaxis": {
           "automargin": true,
           "gridcolor": "white",
           "linecolor": "white",
           "ticks": "",
           "title": {
            "standoff": 15
           },
           "zerolinecolor": "white",
           "zerolinewidth": 2
          },
          "yaxis": {
           "automargin": true,
           "gridcolor": "white",
           "linecolor": "white",
           "ticks": "",
           "title": {
            "standoff": 15
           },
           "zerolinecolor": "white",
           "zerolinewidth": 2
          }
         }
        }
       }
      },
      "text/html": [
       "<div>                            <div id=\"5e1dfa7e-7481-4975-b327-d721cfa28018\" class=\"plotly-graph-div\" style=\"height:525px; width:100%;\"></div>            <script type=\"text/javascript\">                require([\"plotly\"], function(Plotly) {                    window.PLOTLYENV=window.PLOTLYENV || {};                                    if (document.getElementById(\"5e1dfa7e-7481-4975-b327-d721cfa28018\")) {                    Plotly.newPlot(                        \"5e1dfa7e-7481-4975-b327-d721cfa28018\",                        [{\"hovertemplate\":\"kmeans=7\\u003cbr\\u003ex=%{x}\\u003cbr\\u003ey=%{y}\\u003cbr\\u003ez=%{z}\\u003cextra\\u003e\\u003c\\u002fextra\\u003e\",\"legendgroup\":\"7\",\"marker\":{\"color\":\"#FF97FF\",\"symbol\":\"circle\",\"size\":3},\"mode\":\"markers\",\"name\":\"7\",\"scene\":\"scene\",\"showlegend\":true,\"x\":[4.847788333892822,-35.69442367553711,-4.349939823150635,-40.997230529785156,-36.13169860839844,34.495155334472656,-34.19281005859375,25.126079559326172,11.886750221252441,13.213089942932129,16.286367416381836,23.930822372436523,40.27290344238281,35.72770309448242,-16.01317596435547,-21.52979850769043,-8.74240493774414,44.73948287963867,46.987884521484375,48.61304473876953,41.20282745361328,25.671558380126953,21.00339698791504,23.39035987854004,30.51792335510254,5.639721870422363,-20.674299240112305,1.7701654434204102,-8.183237075805664,-2.2674641609191895,2.4000561237335205,12.745542526245117,-11.564839363098145,6.855834007263184,5.443772315979004,0.417468398809433,0.11583410948514938,-9.692205429077148,-22.062467575073242,-17.415390014648438,-15.822961807250977,-16.080942153930664,-1.534281611442566,31.049072265625,-18.29416847229004,-31.397201538085938,-26.863859176635742,-21.194917678833008,-31.744064331054688,-32.86598205566406,-6.2818732261657715,-25.065597534179688,-28.225658416748047,-22.847766876220703,-22.904788970947266,47.270835876464844,-5.000309467315674,-36.64992904663086,-1.5979653596878052,16.514827728271484,-3.0082433223724365,0.7708743810653687,-25.56708335876465,-11.933321952819824,4.553509712219238,-7.635847091674805,-26.27654266357422,12.327657699584961,-31.935630798339844,-16.181461334228516,-11.720539093017578,-9.913955688476562,-28.853849411010742,23.6212158203125,28.36509132385254,-3.0765490531921387,-37.07975769042969,-3.0353500843048096,18.778823852539062,21.657163619995117,13.81943130493164,-14.584488868713379,9.441740036010742,-8.423705101013184,10.114212989807129,15.122477531433105,8.088383674621582,2.96702241897583,-6.280879497528076,18.766124725341797,-5.6892008781433105,-23.086854934692383,-42.044368743896484,-18.07082748413086,-15.24109172821045,-15.70523738861084,50.07770538330078,-5.6495866775512695,40.359039306640625,-5.806037425994873,-8.531262397766113,36.49163055419922,133.48924255371094,-18.101654052734375,-3.739973545074463,3.324523687362671,1.7178089618682861,-36.71343231201172,-22.820951461791992,-15.259908676147461,9.03670597076416,-11.461868286132812,-9.686747550964355,-9.73280143737793,7.302053928375244,6.2049880027771,-10.130627632141113,-9.389530181884766,43.204002380371094,-15.44548225402832,0.7440484166145325,2.6845128536224365,13.360343933105469,-13.96181583404541,32.1555290222168,8.304570198059082,34.52323532104492,28.267658233642578,-7.619266510009766,-0.08584505319595337,2.1859428882598877,4.247012615203857,2.831663131713867,37.054935455322266,5.332685947418213,4.596375465393066,40.47652053833008,-16.054906845092773,-19.17684555053711,-15.735213279724121,-15.130666732788086,-12.00694751739502,-6.232733726501465],\"y\":[-24.595054626464844,-17.069984436035156,-21.88945198059082,-15.417135238647461,-4.665507793426514,-23.89557647705078,-19.864953994750977,-23.94269561767578,-8.748968124389648,-17.810203552246094,-13.868136405944824,-13.639083862304688,-7.079642295837402,-18.345155715942383,-24.63927459716797,-3.5574402809143066,-50.009742736816406,-3.6716771125793457,1.0180082321166992,-15.86855411529541,-17.231149673461914,-14.407797813415527,-16.962646484375,-15.249650955200195,-22.653942108154297,1.1566232442855835,-18.099653244018555,-13.728736877441406,-8.461650848388672,-39.97032928466797,-39.17864990234375,-14.987383842468262,2.9930357933044434,-46.22765350341797,-1.9014227390289307,0.47362783551216125,-4.298207759857178,-15.646928787231445,-6.9515485763549805,2.350666046142578,-31.65753173828125,-18.72005844116211,6.11096715927124,-9.986700057983398,-1.8897273540496826,-31.71975326538086,-25.75457763671875,-3.259110927581787,-21.769405364990234,-31.893465042114258,3.976604461669922,-8.269484519958496,-18.943374633789062,3.676353931427002,9.10689640045166,-24.634288787841797,-12.18477725982666,-15.524606704711914,-10.355728149414062,-27.719552993774414,-53.74674987792969,-55.631778717041016,-41.237327575683594,-4.115540504455566,-14.71413516998291,-9.758635520935059,-12.478853225708008,234.78199768066406,3.6946146488189697,-10.719207763671875,-13.571747779846191,-8.06739330291748,-25.67152214050293,-1.6670788526535034,-17.579727172851562,-17.669021606445312,-18.268871307373047,-8.87280559539795,-34.37409973144531,-35.435665130615234,6.072849750518799,13.104601860046387,-25.67385482788086,-27.493444442749023,-4.78162956237793,-39.57566833496094,-41.432334899902344,-38.160526275634766,-17.700422286987305,25.507375717163086,-18.29385757446289,-14.034223556518555,-26.714872360229492,-15.562422752380371,-18.703012466430664,-21.75560188293457,-8.190619468688965,-26.826040267944336,4.7343902587890625,-33.174530029296875,-23.692522048950195,-5.355345726013184,-5.85181188583374,-20.289852142333984,20.423755645751953,-4.894627094268799,12.489654541015625,-17.505781173706055,-26.582366943359375,11.250431060791016,-19.459081649780273,21.252885818481445,10.06550407409668,-26.189672470092773,-28.95775032043457,-24.04157829284668,1.1290279626846313,-5.904200077056885,-15.626826286315918,22.159704208374023,-15.849357604980469,3.4235665798187256,0.41411831974983215,0.758755624294281,-5.649417400360107,-10.386470794677734,-42.48631286621094,-8.179524421691895,-27.606584548950195,2.3159472942352295,5.371448040008545,7.517651557922363,-15.464055061340332,0.9473706483840942,-6.779118061065674,15.568380355834961,-10.118613243103027,-26.700439453125,-34.71718215942383,-36.57033157348633,-39.6229133605957,-40.493446350097656,-8.760945320129395],\"z\":[3.513742446899414,-10.015493392944336,-36.2960205078125,-18.317306518554688,-10.853978157043457,1.6857751607894897,3.0682578086853027,-7.677515506744385,3.403425455093384,9.293259620666504,-13.537137031555176,6.1707682609558105,7.385320663452148,10.008179664611816,-35.26509475708008,27.043588638305664,-30.208438873291016,26.851318359375,31.240915298461914,18.28179359436035,23.010095596313477,-21.44141960144043,-25.983930587768555,-33.70976257324219,-30.091289520263672,33.553958892822266,2.5104591846466064,0.5466631650924683,18.02062225341797,4.037424087524414,-0.14965803921222687,-5.197048664093018,14.87580680847168,14.341415405273438,11.566305160522461,15.014955520629883,22.573856353759766,6.866418838500977,12.859701156616211,9.606647491455078,4.4130449295043945,23.100120544433594,5.867386817932129,6.495121955871582,2.853940486907959,-15.672797203063965,-9.92662525177002,-5.8096513748168945,-16.751352310180664,-0.21075032651424408,-29.63519287109375,-26.027040481567383,-9.8644380569458,-18.47215461730957,-21.560331344604492,8.035271644592285,-45.435916900634766,27.83329200744629,-36.952266693115234,-2.1975579261779785,-9.233159065246582,-4.99700927734375,-29.11900520324707,-17.622026443481445,-34.336605072021484,-13.242658615112305,-2.2322797775268555,0.5216898322105408,-10.237963676452637,-45.429168701171875,-34.81292724609375,-37.71175003051758,6.623966693878174,7.851666450500488,10.585826873779297,-27.89157485961914,22.2537899017334,-27.612462997436523,-38.99283218383789,-12.851244926452637,5.580575466156006,9.104026794433594,-22.49188232421875,-47.89389419555664,-25.80731964111328,-26.959457397460938,-21.769271850585938,-17.720672607421875,-18.81241798400879,3.1996912956237793,-0.9908435940742493,-29.438772201538086,-6.723022937774658,-13.066659927368164,-23.397216796875,-10.268037796020508,-4.764786243438721,-5.005398273468018,29.363786697387695,-29.527551651000977,-15.449005126953125,32.4879150390625,-4.845126152038574,32.21026611328125,3.0246405601501465,0.05863258242607117,-22.303083419799805,-38.24584197998047,-25.320396423339844,20.642230987548828,-45.431251525878906,-8.450626373291016,-2.8205058574676514,16.471153259277344,-12.164102554321289,-8.952176094055176,-1.951097846031189,3.444906711578369,-8.094502449035645,-15.640625,12.221245765686035,-21.428667068481445,-16.138629913330078,28.6300106048584,15.409886360168457,23.215452194213867,-18.938505172729492,-14.777532577514648,-24.46721076965332,-14.161515235900879,-6.506108283996582,-13.280741691589355,-17.182340621948242,-14.295913696289062,-12.746744155883789,-5.71815299987793,26.98611068725586,-17.12698745727539,-8.873024940490723,-15.173027992248535,32.44013595581055,27.152450561523438,-3.0672693252563477],\"type\":\"scatter3d\"},{\"hovertemplate\":\"kmeans=0\\u003cbr\\u003ex=%{x}\\u003cbr\\u003ey=%{y}\\u003cbr\\u003ez=%{z}\\u003cextra\\u003e\\u003c\\u002fextra\\u003e\",\"legendgroup\":\"0\",\"marker\":{\"color\":\"#FECB52\",\"symbol\":\"circle\",\"size\":3},\"mode\":\"markers\",\"name\":\"0\",\"scene\":\"scene\",\"showlegend\":true,\"x\":[-30.507238388061523,-69.9476089477539,-68.31950378417969,-41.17214584350586,-66.85691833496094,-34.123287200927734,-38.68342971801758,-53.967437744140625,-56.41201400756836,-60.80403137207031,-46.31835174560547,-60.5110969543457,-40.18523406982422,-42.6502799987793,-49.68332290649414,-52.4155387878418,-38.39024353027344,-46.954532623291016,-62.62584686279297,-31.271484375,-26.76236343383789,-40.499122619628906,-48.527870178222656,-54.43651580810547,-62.75837326049805,-44.37548065185547,-37.727317810058594,-61.490333557128906,-58.143306732177734,-68.79597473144531,-51.253448486328125,-52.3125114440918,-39.536651611328125,-38.14714431762695,-62.098758697509766,-67.78461456298828,-42.88692855834961,-50.44370651245117,-34.62761306762695,-50.28175354003906,-59.83259582519531,-57.9847526550293,-52.17106628417969,-51.43235397338867],\"y\":[-36.61738586425781,6.468997955322266,-0.9745987057685852,3.970097541809082,-9.216531753540039,-2.0268003940582275,-5.747539043426514,-18.281702041625977,-13.072226524353027,-8.15198802947998,-17.76267433166504,-3.458559989929199,5.4883646965026855,3.858363628387451,0.018872704356908798,0.7972238063812256,-10.54506778717041,5.708621978759766,6.914546012878418,-2.9689295291900635,-12.197356224060059,-2.8130850791931152,-3.234605073928833,1.279168725013733,-7.806393146514893,-7.052219390869141,-26.033103942871094,5.123827934265137,9.202367782592773,-16.72245216369629,15.98663330078125,14.697576522827148,-32.47392272949219,7.614520072937012,2.528203248977661,-1.2817009687423706,-20.266042709350586,-24.82485008239746,-16.909440994262695,-19.033376693725586,-21.140684127807617,-15.572416305541992,-3.9690158367156982,-7.559209823608398],\"z\":[11.441871643066406,4.005914688110352,0.7572661638259888,-9.593564987182617,0.9079944491386414,-0.08373545855283737,6.398244380950928,-8.011445999145508,-4.800440788269043,-10.057747840881348,-3.7795352935791016,0.3914981782436371,21.19438362121582,15.938172340393066,-19.407413482666016,-0.8613203167915344,14.21148681640625,-16.66153335571289,-5.564324855804443,-25.463939666748047,-16.197044372558594,-15.620657920837402,-6.696903705596924,-7.7824835777282715,15.451991081237793,-1.4963204860687256,13.816690444946289,17.898033142089844,13.70709228515625,13.178322792053223,-2.638716459274292,3.0781311988830566,5.004143238067627,-18.064149856567383,7.571082592010498,9.572540283203125,2.199289560317993,15.318817138671875,-31.441171646118164,10.944062232971191,6.328893184661865,8.41689682006836,10.317288398742676,15.302024841308594],\"type\":\"scatter3d\"},{\"hovertemplate\":\"kmeans=6\\u003cbr\\u003ex=%{x}\\u003cbr\\u003ey=%{y}\\u003cbr\\u003ez=%{z}\\u003cextra\\u003e\\u003c\\u002fextra\\u003e\",\"legendgroup\":\"6\",\"marker\":{\"color\":\"#636efa\",\"symbol\":\"circle\",\"size\":3},\"mode\":\"markers\",\"name\":\"6\",\"scene\":\"scene\",\"showlegend\":true,\"x\":[-30.307743072509766,37.44010925292969,28.322134017944336,22.768741607666016,36.161136627197266,5.895382404327393,7.4733476638793945,41.39723205566406,10.83407211303711,24.657041549682617,22.44791603088379,17.07339859008789,30.929668426513672,52.1619758605957,44.67768478393555,33.61227798461914,20.502317428588867,-25.181442260742188,39.365692138671875,51.382530212402344,38.197105407714844,20.524900436401367,20.41362953186035,30.497581481933594,3.074693441390991,-6.420165538787842,-11.801424980163574,-27.892629623413086,28.031103134155273,34.120365142822266,29.19923973083496,26.92366600036621,13.992568969726562,24.2714900970459,34.127037048339844,-5.5695109367370605,29.675273895263672,-4.092330455780029,-4.181469917297363],\"y\":[-36.688201904296875,-39.632286071777344,-35.95265197753906,-45.96648406982422,-24.587297439575195,-5.216451168060303,-19.169767379760742,-12.87645149230957,-11.258679389953613,-26.623918533325195,-25.18700408935547,-11.631567001342773,-41.300472259521484,-35.737545013427734,-34.38389205932617,-48.596710205078125,-43.675567626953125,-6.336927890777588,-28.934524536132812,-36.45891189575195,-43.5549201965332,17.970745086669922,-3.3444159030914307,-9.523587226867676,-15.501084327697754,-17.002643585205078,-20.704124450683594,-24.57988166809082,-36.16411209106445,-27.053295135498047,-21.908920288085938,0.5919010639190674,-3.9355149269104004,-10.578371047973633,-5.191065311431885,-8.765046119689941,3.7861080169677734,-33.3402099609375,-29.85692596435547],\"z\":[19.53059959411621,11.528787612915039,17.557344436645508,0.06041291728615761,14.220634460449219,46.433448791503906,40.156463623046875,-20.149932861328125,37.202327728271484,11.473226547241211,3.035909414291382,35.29641342163086,6.465672492980957,-0.032052185386419296,6.149343490600586,10.199460983276367,-6.085978031158447,44.294898986816406,-3.757690906524658,6.430123805999756,-0.28224483132362366,28.34857177734375,-7.609705448150635,-7.163286209106445,47.549598693847656,51.562049865722656,48.949100494384766,15.307251930236816,1.144185185432434,-16.633394241333008,-13.66723346710205,-16.34684181213379,22.52833366394043,15.302356719970703,-21.138118743896484,37.53887176513672,-3.38445782661438,52.67477035522461,45.118526458740234],\"type\":\"scatter3d\"},{\"hovertemplate\":\"kmeans=1\\u003cbr\\u003ex=%{x}\\u003cbr\\u003ey=%{y}\\u003cbr\\u003ez=%{z}\\u003cextra\\u003e\\u003c\\u002fextra\\u003e\",\"legendgroup\":\"1\",\"marker\":{\"color\":\"#EF553B\",\"symbol\":\"circle\",\"size\":3},\"mode\":\"markers\",\"name\":\"1\",\"scene\":\"scene\",\"showlegend\":true,\"x\":[-25.47593116760254,-20.109434127807617,15.032267570495605,-0.26722121238708496,24.785865783691406,-19.541719436645508,-1.6608059406280518,-6.33150053024292,42.38881301879883,12.260001182556152,-37.461830139160156,10.512187004089355,12.989625930786133,5.700438022613525,15.212040901184082,1.9551525115966797,9.99770450592041,0.5099968314170837,14.961956977844238,1.0813463926315308,12.054892539978027,15.837800979614258,7.350905895233154,12.648552894592285,10.605575561523438,12.653894424438477,-4.216606140136719,8.503820419311523,9.613137245178223,-2.9683966636657715,3.6382875442504883,-8.111502647399902,-0.8498786091804504,20.93904685974121,4.799563884735107,23.99065589904785,17.640851974487305,-10.267142295837402,11.090898513793945,-1.3926969766616821,12.512611389160156,5.209105968475342,8.394133567810059,8.36618423461914,20.166255950927734,36.93757629394531,34.982879638671875,7.550304412841797,20.13347053527832,26.754642486572266,36.85049057006836,25.873889923095703,28.395610809326172,24.805259704589844,17.6812801361084,14.534612655639648,19.928760528564453,24.013294219970703,21.59786033630371,25.062292098999023],\"y\":[4.88416051864624,9.749197959899902,-38.4746208190918,8.45020580291748,17.00156021118164,-2.1880578994750977,8.644625663757324,4.380620002746582,5.396232604980469,12.522530555725098,-42.0014533996582,-36.14401626586914,9.615418434143066,36.616172790527344,3.510824203491211,2.120473861694336,-1.2734285593032837,0.8944536447525024,37.8797492980957,50.90443801879883,51.98795700073242,46.14973831176758,49.4267463684082,16.34018325805664,28.91839599609375,24.368051528930664,20.89269256591797,20.793609619140625,22.939701080322266,24.600099563598633,34.23261642456055,22.43171501159668,28.431076049804688,37.548892974853516,34.47002029418945,20.8761043548584,24.489084243774414,15.951549530029297,34.418643951416016,50.40977478027344,30.93341636657715,30.21135711669922,9.081811904907227,11.808506965637207,6.788008689880371,-2.4357500076293945,3.163771390914917,19.987154006958008,23.14828109741211,12.06656551361084,-2.442561149597168,28.07461166381836,-2.0774216651916504,29.456756591796875,22.198326110839844,9.737915992736816,13.561365127563477,20.49871063232422,26.497634887695312,20.692392349243164],\"z\":[-40.38883590698242,-42.01564025878906,-33.53888702392578,-36.10647964477539,1.4241126775741577,-29.377416610717773,-48.03709411621094,-45.09760665893555,-31.86944007873535,4.08875846862793,-7.548680305480957,-39.797637939453125,-47.75957107543945,-6.119384765625,-50.6826171875,-40.27250671386719,-38.72966766357422,-49.1078987121582,-11.775796890258789,-26.443391799926758,-17.105684280395508,-14.52822208404541,-22.481542587280273,-18.365751266479492,-6.354089736938477,-2.242429256439209,-25.143468856811523,-24.28401756286621,-16.526159286499023,-14.027621269226074,-33.123985290527344,-34.850154876708984,-20.9947566986084,-22.96295166015625,-24.638671875,-12.363710403442383,-15.425644874572754,-23.68269157409668,-29.91703224182129,-8.872283935546875,-21.46722984313965,-41.155452728271484,-26.07682228088379,-33.81074905395508,-34.747344970703125,-36.37358856201172,-38.535186767578125,-36.260406494140625,-37.95072555541992,-23.332456588745117,-26.629432678222656,6.575275897979736,-27.960981369018555,-23.968252182006836,-25.395946502685547,-7.98062801361084,-27.788667678833008,-28.259151458740234,-48.9832763671875,-44.677066802978516],\"type\":\"scatter3d\"},{\"hovertemplate\":\"kmeans=2\\u003cbr\\u003ex=%{x}\\u003cbr\\u003ey=%{y}\\u003cbr\\u003ez=%{z}\\u003cextra\\u003e\\u003c\\u002fextra\\u003e\",\"legendgroup\":\"2\",\"marker\":{\"color\":\"#00cc96\",\"symbol\":\"circle\",\"size\":3},\"mode\":\"markers\",\"name\":\"2\",\"scene\":\"scene\",\"showlegend\":true,\"x\":[39.928558349609375,14.024173736572266,15.813998222351074,40.951507568359375,2.127655267715454,14.5611572265625,15.338204383850098,13.077224731445312,13.063130378723145,7.615267276763916,18.24578094482422,21.39019012451172,4.311286926269531,1.9503257274627686,21.17385482788086,20.74680519104004,16.584056854248047,12.052000045776367,25.153255462646484,32.17637634277344,36.941593170166016,30.595630645751953,2.084205150604248,6.465278625488281,-4.8614277839660645,28.438682556152344,3.078065872192383,30.237550735473633,39.887996673583984,-3.4775707721710205,14.626715660095215,35.022560119628906,11.641596794128418,11.656401634216309,7.811877727508545,-6.3590087890625,-0.17850276827812195],\"y\":[-38.277015686035156,-20.511415481567383,-9.462779998779297,-24.3142147064209,-43.68986892700195,-34.074100494384766,-37.23371887207031,-42.2297477722168,-39.59315872192383,-30.65438461303711,-25.32028579711914,-28.846843719482422,-18.88846778869629,-17.328577041625977,-15.866599082946777,-38.531394958496094,-20.01362419128418,-45.076595306396484,-40.21614456176758,-19.714399337768555,-32.3684196472168,-20.01032066345215,-26.426929473876953,-26.68675422668457,-22.740461349487305,-28.357316970825195,-35.72785949707031,-23.75936508178711,-13.680670738220215,-13.78369426727295,-26.665199279785156,-26.19463539123535,-44.97457504272461,-37.857120513916016,-34.15877914428711,-32.76579284667969,-22.485326766967773],\"z\":[20.121055603027344,18.853734970092773,54.5853271484375,26.806758880615234,37.545448303222656,11.416666984558105,19.713403701782227,15.832649230957031,43.20018005371094,45.591949462890625,37.19575119018555,41.94380187988281,28.326448440551758,21.55560874938965,50.884281158447266,28.70602798461914,53.282264709472656,-37.832054138183594,37.7315673828125,24.299997329711914,36.575801849365234,32.34236145019531,17.54201889038086,21.929630279541016,26.036535263061523,28.49478530883789,27.00031852722168,42.0710563659668,34.35378646850586,32.709556579589844,29.504892349243164,32.578224182128906,31.311126708984375,33.6148681640625,38.17383575439453,39.56113052368164,39.0560188293457],\"type\":\"scatter3d\"},{\"hovertemplate\":\"kmeans=3\\u003cbr\\u003ex=%{x}\\u003cbr\\u003ey=%{y}\\u003cbr\\u003ez=%{z}\\u003cextra\\u003e\\u003c\\u002fextra\\u003e\",\"legendgroup\":\"3\",\"marker\":{\"color\":\"#ab63fa\",\"symbol\":\"circle\",\"size\":3},\"mode\":\"markers\",\"name\":\"3\",\"scene\":\"scene\",\"showlegend\":true,\"x\":[13.415507316589355,-6.269071578979492,-8.158689498901367,-14.274580955505371,-35.0152587890625,-11.133796691894531,-16.826711654663086,-10.4180269241333,8.136862754821777,-33.830230712890625,-24.747364044189453,-30.315061569213867,-19.890172958374023,-36.946266174316406,-12.863296508789062,-0.726085364818573,-3.323347806930542,4.427459239959717,3.8935701847076416,-5.8827900886535645,-8.847331047058105,-2.4032301902770996,-10.598492622375488,5.999416828155518,-13.759468078613281,-2.497572422027588,3.5060324668884277,-2.6720128059387207,-3.4268569946289062,3.9651403427124023,9.81068229675293,-9.685332298278809,-18.832019805908203,-13.258543014526367,6.217354774475098,46.155216217041016,-24.169330596923828,-24.802162170410156,-18.476974487304688,-21.932538986206055,-30.63214111328125,-7.27691125869751,-39.24711608886719,-38.99311447143555,24.672103881835938,18.572954177856445,17.87601661682129,1.6347111463546753,6.351576805114746,14.065826416015625,6.395807266235352,-1.3769164085388184,5.688564300537109,-3.574648141860962,14.92379093170166,-10.528800964355469,-20.00022315979004,-29.18820571899414,-0.2806178331375122,-12.445475578308105,-27.886274337768555,-31.804828643798828,-10.570173263549805,-22.398395538330078,-14.981337547302246,-11.863836288452148,-16.912172317504883,-32.001564025878906,-20.968585968017578,-23.64200210571289,-11.641573905944824,-18.863433837890625,-27.006574630737305,-37.97777557373047,-35.39252471923828,-22.502471923828125,-3.212808847427368],\"y\":[52.00290298461914,49.43861770629883,55.59722900390625,-49.6539421081543,35.05440139770508,32.42982864379883,32.65965270996094,24.78156852722168,12.277288436889648,25.913312911987305,10.914072036743164,31.880990982055664,12.543783187866211,32.75782775878906,32.46864700317383,13.706704139709473,19.56044578552246,18.503646850585938,19.525142669677734,10.315738677978516,10.253473281860352,29.0396785736084,23.441736221313477,30.68448257446289,21.499174118041992,23.69378662109375,38.457672119140625,33.97164535522461,40.597774505615234,15.560166358947754,21.115406036376953,43.146305084228516,35.43224334716797,40.63223648071289,10.22613525390625,-13.365382194519043,6.110438823699951,22.82500457763672,26.650468826293945,7.382259845733643,7.350218772888184,43.58980178833008,25.068801879882812,31.352128982543945,21.743669509887695,10.240702629089355,23.975854873657227,30.861347198486328,27.5755558013916,30.740684509277344,36.18669509887695,37.86793518066406,42.29991912841797,17.174869537353516,32.835838317871094,30.61429786682129,26.010929107666016,32.880245208740234,52.001731872558594,21.424654006958008,44.94506072998047,44.627315521240234,12.150311470031738,38.89296340942383,28.237375259399414,31.472883224487305,12.07808780670166,22.14342498779297,36.72383117675781,21.686874389648438,32.36044692993164,29.259950637817383,22.607805252075195,41.52170944213867,46.19983673095703,29.446104049682617,36.53609848022461],\"z\":[16.690168380737305,-0.546782910823822,2.961280584335327,9.898512840270996,26.942916870117188,13.715726852416992,9.304195404052734,12.647052764892578,27.947404861450195,33.064857482910156,31.725852966308594,34.782562255859375,35.45067596435547,35.06073760986328,23.81378173828125,31.06990623474121,23.808088302612305,21.843835830688477,29.949325561523438,36.45216369628906,25.448974609375,31.757476806640625,31.20130157470703,31.889432907104492,26.22690773010254,38.655670166015625,44.659698486328125,43.09562683105469,41.4759635925293,39.42097091674805,38.170082092285156,31.36001205444336,21.519678115844727,40.35483932495117,16.26741600036621,-25.754714965820312,17.004663467407227,19.263689041137695,15.872390747070312,4.155272960662842,6.924663066864014,12.846290588378906,9.901005744934082,10.65118408203125,15.500608444213867,15.38644790649414,23.369707107543945,18.0221004486084,11.104211807250977,17.859663009643555,12.967015266418457,22.3839111328125,24.450536727905273,14.584085464477539,30.935396194458008,2.3265814781188965,-2.7455718517303467,-3.536501884460449,-0.18528050184249878,1.9955276250839233,11.265576362609863,15.822834014892578,-10.273519515991211,-12.50790786743164,36.74496841430664,-9.0169095993042,-5.447835445404053,2.574071168899536,-2.8354718685150146,6.124880313873291,-22.491546630859375,-22.865854263305664,-11.374223709106445,2.1813035011291504,-0.4450112581253052,-8.289407730102539,8.707501411437988],\"type\":\"scatter3d\"},{\"hovertemplate\":\"kmeans=5\\u003cbr\\u003ex=%{x}\\u003cbr\\u003ey=%{y}\\u003cbr\\u003ez=%{z}\\u003cextra\\u003e\\u003c\\u002fextra\\u003e\",\"legendgroup\":\"5\",\"marker\":{\"color\":\"#FFA15A\",\"symbol\":\"circle\",\"size\":3},\"mode\":\"markers\",\"name\":\"5\",\"scene\":\"scene\",\"showlegend\":true,\"x\":[30.821683883666992,26.278825759887695,18.49078369140625,21.482168197631836,20.128435134887695,24.009859085083008,25.675748825073242,21.935569763183594,31.490764617919922,34.44402313232422,33.74049758911133,32.21405029296875,35.42252731323242,29.103973388671875,40.73190689086914,36.48749542236328,35.999603271484375,41.348262786865234,48.717445373535156,44.00905990600586],\"y\":[37.20840835571289,42.044857025146484,38.04873275756836,39.45481491088867,47.981117248535156,50.724761962890625,44.04204559326172,37.014896392822266,62.083580017089844,59.54115295410156,49.966026306152344,41.39838790893555,45.43159484863281,31.393470764160156,30.679826736450195,31.475419998168945,46.8043098449707,42.98210144042969,44.240848541259766,39.83300018310547],\"z\":[19.612422943115234,16.7991943359375,1.6448031663894653,-8.796469688415527,-5.96851110458374,0.6111546754837036,-2.6347317695617676,29.480314254760742,-0.09778168052434921,4.75715446472168,-10.510943412780762,8.13870906829834,11.669865608215332,-4.805985927581787,2.2117562294006348,-3.382082939147949,-1.1324868202209473,-7.216660976409912,-0.1811404973268509,2.357572317123413],\"type\":\"scatter3d\"},{\"hovertemplate\":\"kmeans=4\\u003cbr\\u003ex=%{x}\\u003cbr\\u003ey=%{y}\\u003cbr\\u003ez=%{z}\\u003cextra\\u003e\\u003c\\u002fextra\\u003e\",\"legendgroup\":\"4\",\"marker\":{\"color\":\"#19d3f3\",\"symbol\":\"circle\",\"size\":3},\"mode\":\"markers\",\"name\":\"4\",\"scene\":\"scene\",\"showlegend\":true,\"x\":[26.848356246948242,51.4251823425293,21.362070083618164,33.401336669921875,42.10689163208008,35.0390510559082,41.85457229614258,34.109439849853516,42.969757080078125,35.120304107666016,41.05146789550781,47.68972396850586,43.03761672973633,49.47954177856445,35.94661331176758],\"y\":[44.552040100097656,42.469181060791016,43.308162689208984,36.435951232910156,43.10919952392578,36.439598083496094,37.2071418762207,34.153228759765625,24.4804744720459,28.929275512695312,28.621267318725586,29.48944664001465,33.60646057128906,30.397571563720703,25.314207077026367],\"z\":[-13.623839378356934,-22.782163619995117,-31.078304290771484,-10.402762413024902,-19.78054428100586,-22.518341064453125,-26.623794555664062,-30.764009475708008,-17.872915267944336,-17.469188690185547,-24.46222686767578,-12.364073753356934,-17.002578735351562,-21.27310562133789,-33.34156799316406],\"type\":\"scatter3d\"}],                        {\"template\":{\"data\":{\"histogram2dcontour\":[{\"type\":\"histogram2dcontour\",\"colorbar\":{\"outlinewidth\":0,\"ticks\":\"\"},\"colorscale\":[[0.0,\"#0d0887\"],[0.1111111111111111,\"#46039f\"],[0.2222222222222222,\"#7201a8\"],[0.3333333333333333,\"#9c179e\"],[0.4444444444444444,\"#bd3786\"],[0.5555555555555556,\"#d8576b\"],[0.6666666666666666,\"#ed7953\"],[0.7777777777777778,\"#fb9f3a\"],[0.8888888888888888,\"#fdca26\"],[1.0,\"#f0f921\"]]}],\"choropleth\":[{\"type\":\"choropleth\",\"colorbar\":{\"outlinewidth\":0,\"ticks\":\"\"}}],\"histogram2d\":[{\"type\":\"histogram2d\",\"colorbar\":{\"outlinewidth\":0,\"ticks\":\"\"},\"colorscale\":[[0.0,\"#0d0887\"],[0.1111111111111111,\"#46039f\"],[0.2222222222222222,\"#7201a8\"],[0.3333333333333333,\"#9c179e\"],[0.4444444444444444,\"#bd3786\"],[0.5555555555555556,\"#d8576b\"],[0.6666666666666666,\"#ed7953\"],[0.7777777777777778,\"#fb9f3a\"],[0.8888888888888888,\"#fdca26\"],[1.0,\"#f0f921\"]]}],\"heatmap\":[{\"type\":\"heatmap\",\"colorbar\":{\"outlinewidth\":0,\"ticks\":\"\"},\"colorscale\":[[0.0,\"#0d0887\"],[0.1111111111111111,\"#46039f\"],[0.2222222222222222,\"#7201a8\"],[0.3333333333333333,\"#9c179e\"],[0.4444444444444444,\"#bd3786\"],[0.5555555555555556,\"#d8576b\"],[0.6666666666666666,\"#ed7953\"],[0.7777777777777778,\"#fb9f3a\"],[0.8888888888888888,\"#fdca26\"],[1.0,\"#f0f921\"]]}],\"heatmapgl\":[{\"type\":\"heatmapgl\",\"colorbar\":{\"outlinewidth\":0,\"ticks\":\"\"},\"colorscale\":[[0.0,\"#0d0887\"],[0.1111111111111111,\"#46039f\"],[0.2222222222222222,\"#7201a8\"],[0.3333333333333333,\"#9c179e\"],[0.4444444444444444,\"#bd3786\"],[0.5555555555555556,\"#d8576b\"],[0.6666666666666666,\"#ed7953\"],[0.7777777777777778,\"#fb9f3a\"],[0.8888888888888888,\"#fdca26\"],[1.0,\"#f0f921\"]]}],\"contourcarpet\":[{\"type\":\"contourcarpet\",\"colorbar\":{\"outlinewidth\":0,\"ticks\":\"\"}}],\"contour\":[{\"type\":\"contour\",\"colorbar\":{\"outlinewidth\":0,\"ticks\":\"\"},\"colorscale\":[[0.0,\"#0d0887\"],[0.1111111111111111,\"#46039f\"],[0.2222222222222222,\"#7201a8\"],[0.3333333333333333,\"#9c179e\"],[0.4444444444444444,\"#bd3786\"],[0.5555555555555556,\"#d8576b\"],[0.6666666666666666,\"#ed7953\"],[0.7777777777777778,\"#fb9f3a\"],[0.8888888888888888,\"#fdca26\"],[1.0,\"#f0f921\"]]}],\"surface\":[{\"type\":\"surface\",\"colorbar\":{\"outlinewidth\":0,\"ticks\":\"\"},\"colorscale\":[[0.0,\"#0d0887\"],[0.1111111111111111,\"#46039f\"],[0.2222222222222222,\"#7201a8\"],[0.3333333333333333,\"#9c179e\"],[0.4444444444444444,\"#bd3786\"],[0.5555555555555556,\"#d8576b\"],[0.6666666666666666,\"#ed7953\"],[0.7777777777777778,\"#fb9f3a\"],[0.8888888888888888,\"#fdca26\"],[1.0,\"#f0f921\"]]}],\"mesh3d\":[{\"type\":\"mesh3d\",\"colorbar\":{\"outlinewidth\":0,\"ticks\":\"\"}}],\"scatter\":[{\"fillpattern\":{\"fillmode\":\"overlay\",\"size\":10,\"solidity\":0.2},\"type\":\"scatter\"}],\"parcoords\":[{\"type\":\"parcoords\",\"line\":{\"colorbar\":{\"outlinewidth\":0,\"ticks\":\"\"}}}],\"scatterpolargl\":[{\"type\":\"scatterpolargl\",\"marker\":{\"colorbar\":{\"outlinewidth\":0,\"ticks\":\"\"}}}],\"bar\":[{\"error_x\":{\"color\":\"#2a3f5f\"},\"error_y\":{\"color\":\"#2a3f5f\"},\"marker\":{\"line\":{\"color\":\"#E5ECF6\",\"width\":0.5},\"pattern\":{\"fillmode\":\"overlay\",\"size\":10,\"solidity\":0.2}},\"type\":\"bar\"}],\"scattergeo\":[{\"type\":\"scattergeo\",\"marker\":{\"colorbar\":{\"outlinewidth\":0,\"ticks\":\"\"}}}],\"scatterpolar\":[{\"type\":\"scatterpolar\",\"marker\":{\"colorbar\":{\"outlinewidth\":0,\"ticks\":\"\"}}}],\"histogram\":[{\"marker\":{\"pattern\":{\"fillmode\":\"overlay\",\"size\":10,\"solidity\":0.2}},\"type\":\"histogram\"}],\"scattergl\":[{\"type\":\"scattergl\",\"marker\":{\"colorbar\":{\"outlinewidth\":0,\"ticks\":\"\"}}}],\"scatter3d\":[{\"type\":\"scatter3d\",\"line\":{\"colorbar\":{\"outlinewidth\":0,\"ticks\":\"\"}},\"marker\":{\"colorbar\":{\"outlinewidth\":0,\"ticks\":\"\"}}}],\"scattermapbox\":[{\"type\":\"scattermapbox\",\"marker\":{\"colorbar\":{\"outlinewidth\":0,\"ticks\":\"\"}}}],\"scatterternary\":[{\"type\":\"scatterternary\",\"marker\":{\"colorbar\":{\"outlinewidth\":0,\"ticks\":\"\"}}}],\"scattercarpet\":[{\"type\":\"scattercarpet\",\"marker\":{\"colorbar\":{\"outlinewidth\":0,\"ticks\":\"\"}}}],\"carpet\":[{\"aaxis\":{\"endlinecolor\":\"#2a3f5f\",\"gridcolor\":\"white\",\"linecolor\":\"white\",\"minorgridcolor\":\"white\",\"startlinecolor\":\"#2a3f5f\"},\"baxis\":{\"endlinecolor\":\"#2a3f5f\",\"gridcolor\":\"white\",\"linecolor\":\"white\",\"minorgridcolor\":\"white\",\"startlinecolor\":\"#2a3f5f\"},\"type\":\"carpet\"}],\"table\":[{\"cells\":{\"fill\":{\"color\":\"#EBF0F8\"},\"line\":{\"color\":\"white\"}},\"header\":{\"fill\":{\"color\":\"#C8D4E3\"},\"line\":{\"color\":\"white\"}},\"type\":\"table\"}],\"barpolar\":[{\"marker\":{\"line\":{\"color\":\"#E5ECF6\",\"width\":0.5},\"pattern\":{\"fillmode\":\"overlay\",\"size\":10,\"solidity\":0.2}},\"type\":\"barpolar\"}],\"pie\":[{\"automargin\":true,\"type\":\"pie\"}]},\"layout\":{\"autotypenumbers\":\"strict\",\"colorway\":[\"#636efa\",\"#EF553B\",\"#00cc96\",\"#ab63fa\",\"#FFA15A\",\"#19d3f3\",\"#FF6692\",\"#B6E880\",\"#FF97FF\",\"#FECB52\"],\"font\":{\"color\":\"#2a3f5f\"},\"hovermode\":\"closest\",\"hoverlabel\":{\"align\":\"left\"},\"paper_bgcolor\":\"white\",\"plot_bgcolor\":\"#E5ECF6\",\"polar\":{\"bgcolor\":\"#E5ECF6\",\"angularaxis\":{\"gridcolor\":\"white\",\"linecolor\":\"white\",\"ticks\":\"\"},\"radialaxis\":{\"gridcolor\":\"white\",\"linecolor\":\"white\",\"ticks\":\"\"}},\"ternary\":{\"bgcolor\":\"#E5ECF6\",\"aaxis\":{\"gridcolor\":\"white\",\"linecolor\":\"white\",\"ticks\":\"\"},\"baxis\":{\"gridcolor\":\"white\",\"linecolor\":\"white\",\"ticks\":\"\"},\"caxis\":{\"gridcolor\":\"white\",\"linecolor\":\"white\",\"ticks\":\"\"}},\"coloraxis\":{\"colorbar\":{\"outlinewidth\":0,\"ticks\":\"\"}},\"colorscale\":{\"sequential\":[[0.0,\"#0d0887\"],[0.1111111111111111,\"#46039f\"],[0.2222222222222222,\"#7201a8\"],[0.3333333333333333,\"#9c179e\"],[0.4444444444444444,\"#bd3786\"],[0.5555555555555556,\"#d8576b\"],[0.6666666666666666,\"#ed7953\"],[0.7777777777777778,\"#fb9f3a\"],[0.8888888888888888,\"#fdca26\"],[1.0,\"#f0f921\"]],\"sequentialminus\":[[0.0,\"#0d0887\"],[0.1111111111111111,\"#46039f\"],[0.2222222222222222,\"#7201a8\"],[0.3333333333333333,\"#9c179e\"],[0.4444444444444444,\"#bd3786\"],[0.5555555555555556,\"#d8576b\"],[0.6666666666666666,\"#ed7953\"],[0.7777777777777778,\"#fb9f3a\"],[0.8888888888888888,\"#fdca26\"],[1.0,\"#f0f921\"]],\"diverging\":[[0,\"#8e0152\"],[0.1,\"#c51b7d\"],[0.2,\"#de77ae\"],[0.3,\"#f1b6da\"],[0.4,\"#fde0ef\"],[0.5,\"#f7f7f7\"],[0.6,\"#e6f5d0\"],[0.7,\"#b8e186\"],[0.8,\"#7fbc41\"],[0.9,\"#4d9221\"],[1,\"#276419\"]]},\"xaxis\":{\"gridcolor\":\"white\",\"linecolor\":\"white\",\"ticks\":\"\",\"title\":{\"standoff\":15},\"zerolinecolor\":\"white\",\"automargin\":true,\"zerolinewidth\":2},\"yaxis\":{\"gridcolor\":\"white\",\"linecolor\":\"white\",\"ticks\":\"\",\"title\":{\"standoff\":15},\"zerolinecolor\":\"white\",\"automargin\":true,\"zerolinewidth\":2},\"scene\":{\"xaxis\":{\"backgroundcolor\":\"#E5ECF6\",\"gridcolor\":\"white\",\"linecolor\":\"white\",\"showbackground\":true,\"ticks\":\"\",\"zerolinecolor\":\"white\",\"gridwidth\":2},\"yaxis\":{\"backgroundcolor\":\"#E5ECF6\",\"gridcolor\":\"white\",\"linecolor\":\"white\",\"showbackground\":true,\"ticks\":\"\",\"zerolinecolor\":\"white\",\"gridwidth\":2},\"zaxis\":{\"backgroundcolor\":\"#E5ECF6\",\"gridcolor\":\"white\",\"linecolor\":\"white\",\"showbackground\":true,\"ticks\":\"\",\"zerolinecolor\":\"white\",\"gridwidth\":2}},\"shapedefaults\":{\"line\":{\"color\":\"#2a3f5f\"}},\"annotationdefaults\":{\"arrowcolor\":\"#2a3f5f\",\"arrowhead\":0,\"arrowwidth\":1},\"geo\":{\"bgcolor\":\"white\",\"landcolor\":\"#E5ECF6\",\"subunitcolor\":\"white\",\"showland\":true,\"showlakes\":true,\"lakecolor\":\"white\"},\"title\":{\"x\":0.05},\"mapbox\":{\"style\":\"light\"}}},\"scene\":{\"domain\":{\"x\":[0.0,1.0],\"y\":[0.0,1.0]},\"xaxis\":{\"title\":{\"text\":\"x\"}},\"yaxis\":{\"title\":{\"text\":\"y\"}},\"zaxis\":{\"title\":{\"text\":\"z\"}}},\"legend\":{\"title\":{\"text\":\"kmeans\"},\"tracegroupgap\":0},\"margin\":{\"t\":60}},                        {\"responsive\": true}                    ).then(function(){\n",
       "                            \n",
       "var gd = document.getElementById('5e1dfa7e-7481-4975-b327-d721cfa28018');\n",
       "var x = new MutationObserver(function (mutations, observer) {{\n",
       "        var display = window.getComputedStyle(gd).display;\n",
       "        if (!display || display === 'none') {{\n",
       "            console.log([gd, 'removed!']);\n",
       "            Plotly.purge(gd);\n",
       "            observer.disconnect();\n",
       "        }}\n",
       "}});\n",
       "\n",
       "// Listen for the removal of the full notebook cells\n",
       "var notebookContainer = gd.closest('#notebook-container');\n",
       "if (notebookContainer) {{\n",
       "    x.observe(notebookContainer, {childList: true});\n",
       "}}\n",
       "\n",
       "// Listen for the clearing of the current output cell\n",
       "var outputEl = gd.closest('.output');\n",
       "if (outputEl) {{\n",
       "    x.observe(outputEl, {childList: true});\n",
       "}}\n",
       "\n",
       "                        })                };                });            </script>        </div>"
      ]
     },
     "metadata": {},
     "output_type": "display_data"
    },
    {
     "data": {
      "application/vnd.plotly.v1+json": {
       "config": {
        "plotlyServerURL": "https://plot.ly"
       },
       "data": [
        {
         "hovertemplate": "labels=0<br>x=%{x}<br>y=%{y}<br>z=%{z}<extra></extra>",
         "legendgroup": "0",
         "marker": {
          "color": "#FF97FF",
          "size": 3,
          "symbol": "circle"
         },
         "mode": "markers",
         "name": "0",
         "scene": "scene",
         "showlegend": true,
         "type": "scatter3d",
         "x": [
          4.847788333892822,
          -35.69442367553711,
          -4.349939823150635,
          28.322134017944336,
          25.126079559326172,
          36.161136627197266,
          23.930822372436523,
          40.27290344238281,
          -6.269071578979492,
          -8.158689498901367,
          -16.01317596435547,
          -14.274580955505371,
          44.73948287963867,
          46.987884521484375,
          -11.133796691894531,
          -16.826711654663086,
          15.032267570495605,
          41.20282745361328,
          -24.747364044189453,
          -19.890172958374023,
          21.00339698791504,
          23.39035987854004,
          24.785865783691406,
          -10.598492622375488,
          -13.759468078613281,
          -2.497572422027588,
          -2.6720128059387207,
          13.077224731445312,
          -13.258543014526367,
          6.217354774475098,
          13.063130378723145,
          -21.932538986206055,
          -31.397201538085938,
          -6.2818732261657715,
          -5.000309467315674,
          -1.6608059406280518,
          16.514827728271484,
          -7.27691125869751,
          0.7708743810653687,
          -25.56708335876465,
          4.553509712219238,
          -7.635847091674805,
          -39.24711608886719,
          12.327657699584961,
          -16.181461334228516,
          -11.720539093017578,
          18.572954177856445,
          -28.853849411010742,
          42.38881301879883,
          23.6212158203125,
          52.1619758605957,
          44.67768478393555,
          -3.0765490531921387,
          18.778823852539062,
          21.657163619995117,
          -25.181442260742188,
          9.441740036010742,
          -8.423705101013184,
          10.114212989807129,
          15.122477531433105,
          12.052000045776367,
          8.088383674621582,
          -6.280879497528076,
          -5.6892008781433105,
          -23.086854934692383,
          -18.07082748413086,
          17.87601661682129,
          50.07770538330078,
          30.497581481933594,
          40.359039306640625,
          14.065826416015625,
          -5.806037425994873,
          1.0813463926315308,
          -8.531262397766113,
          36.49163055419922,
          133.48924255371094,
          6.395807266235352,
          -1.3769164085388184,
          -3.574648141860962,
          3.324523687362671,
          8.503820419311523,
          1.7178089618682861,
          -34.62761306762695,
          9.613137245178223,
          -8.111502647399902,
          -0.2806178331375122,
          -0.8498786091804504,
          -22.398395538330078,
          -14.981337547302246,
          -11.461868286132812,
          -27.892629623413086,
          -16.912172317504883,
          -23.64200210571289,
          -1.3926969766616821,
          7.302053928375244,
          6.2049880027771,
          34.120365142822266,
          -15.44548225402832,
          -18.863433837890625,
          0.7440484166145325,
          2.6845128536224365,
          20.166255950927734,
          13.360343933105469,
          32.1555290222168,
          34.52323532104492,
          36.93757629394531,
          -7.619266510009766,
          -22.502471923828125,
          -0.08584505319595337,
          20.13347053527832,
          2.831663131713867,
          34.109439849853516,
          39.887996673583984,
          36.85049057006836,
          -5.5695109367370605,
          5.332685947418213,
          24.805259704589844,
          17.6812801361084,
          14.534612655639648,
          40.47652053833008,
          21.59786033630371,
          11.641596794128418,
          -19.17684555053711,
          -15.735213279724121
         ],
         "y": [
          -24.595054626464844,
          -17.069984436035156,
          -21.88945198059082,
          -35.95265197753906,
          -23.94269561767578,
          -24.587297439575195,
          -13.639083862304688,
          -7.079642295837402,
          49.43861770629883,
          55.59722900390625,
          -24.63927459716797,
          -49.6539421081543,
          -3.6716771125793457,
          1.0180082321166992,
          32.42982864379883,
          32.65965270996094,
          -38.4746208190918,
          -17.231149673461914,
          10.914072036743164,
          12.543783187866211,
          -16.962646484375,
          -15.249650955200195,
          17.00156021118164,
          23.441736221313477,
          21.499174118041992,
          23.69378662109375,
          33.97164535522461,
          -42.2297477722168,
          40.63223648071289,
          10.22613525390625,
          -39.59315872192383,
          7.382259845733643,
          -31.71975326538086,
          3.976604461669922,
          -12.18477725982666,
          8.644625663757324,
          -27.719552993774414,
          43.58980178833008,
          -55.631778717041016,
          -41.237327575683594,
          -14.71413516998291,
          -9.758635520935059,
          25.068801879882812,
          234.78199768066406,
          -10.719207763671875,
          -13.571747779846191,
          10.240702629089355,
          -25.67152214050293,
          5.396232604980469,
          -1.6670788526535034,
          -35.737545013427734,
          -34.38389205932617,
          -17.669021606445312,
          -34.37409973144531,
          -35.435665130615234,
          -6.336927890777588,
          -25.67385482788086,
          -27.493444442749023,
          -4.78162956237793,
          -39.57566833496094,
          -45.076595306396484,
          -41.432334899902344,
          -17.700422286987305,
          -18.29385757446289,
          -14.034223556518555,
          -15.562422752380371,
          23.975854873657227,
          -8.190619468688965,
          -9.523587226867676,
          4.7343902587890625,
          30.740684509277344,
          -33.174530029296875,
          50.90443801879883,
          -23.692522048950195,
          -5.355345726013184,
          -5.85181188583374,
          36.18669509887695,
          37.86793518066406,
          17.174869537353516,
          -4.894627094268799,
          20.793609619140625,
          12.489654541015625,
          -16.909440994262695,
          22.939701080322266,
          22.43171501159668,
          52.001731872558594,
          28.431076049804688,
          38.89296340942383,
          28.237375259399414,
          21.252885818481445,
          -24.57988166809082,
          12.07808780670166,
          21.686874389648438,
          50.40977478027344,
          -28.95775032043457,
          -24.04157829284668,
          -27.053295135498047,
          22.159704208374023,
          29.259950637817383,
          -15.849357604980469,
          3.4235665798187256,
          6.788008689880371,
          0.41411831974983215,
          -5.649417400360107,
          -42.48631286621094,
          -2.4357500076293945,
          -27.606584548950195,
          29.446104049682617,
          2.3159472942352295,
          23.14828109741211,
          -15.464055061340332,
          34.153228759765625,
          -13.680670738220215,
          -2.442561149597168,
          -8.765046119689941,
          -6.779118061065674,
          29.456756591796875,
          22.198326110839844,
          9.737915992736816,
          -10.118613243103027,
          26.497634887695312,
          -44.97457504272461,
          -34.71718215942383,
          -36.57033157348633
         ],
         "z": [
          3.513742446899414,
          -10.015493392944336,
          -36.2960205078125,
          17.557344436645508,
          -7.677515506744385,
          14.220634460449219,
          6.1707682609558105,
          7.385320663452148,
          -0.546782910823822,
          2.961280584335327,
          -35.26509475708008,
          9.898512840270996,
          26.851318359375,
          31.240915298461914,
          13.715726852416992,
          9.304195404052734,
          -33.53888702392578,
          23.010095596313477,
          31.725852966308594,
          35.45067596435547,
          -25.983930587768555,
          -33.70976257324219,
          1.4241126775741577,
          31.20130157470703,
          26.22690773010254,
          38.655670166015625,
          43.09562683105469,
          15.832649230957031,
          40.35483932495117,
          16.26741600036621,
          43.20018005371094,
          4.155272960662842,
          -15.672797203063965,
          -29.63519287109375,
          -45.435916900634766,
          -48.03709411621094,
          -2.1975579261779785,
          12.846290588378906,
          -4.99700927734375,
          -29.11900520324707,
          -34.336605072021484,
          -13.242658615112305,
          9.901005744934082,
          0.5216898322105408,
          -45.429168701171875,
          -34.81292724609375,
          15.38644790649414,
          6.623966693878174,
          -31.86944007873535,
          7.851666450500488,
          -0.032052185386419296,
          6.149343490600586,
          -27.89157485961914,
          -38.99283218383789,
          -12.851244926452637,
          44.294898986816406,
          -22.49188232421875,
          -47.89389419555664,
          -25.80731964111328,
          -26.959457397460938,
          -37.832054138183594,
          -21.769271850585938,
          -18.81241798400879,
          -0.9908435940742493,
          -29.438772201538086,
          -13.066659927368164,
          23.369707107543945,
          -4.764786243438721,
          -7.163286209106445,
          29.363786697387695,
          17.859663009643555,
          -29.527551651000977,
          -26.443391799926758,
          -15.449005126953125,
          32.4879150390625,
          -4.845126152038574,
          12.967015266418457,
          22.3839111328125,
          14.584085464477539,
          0.05863258242607117,
          -24.28401756286621,
          -22.303083419799805,
          -31.441171646118164,
          -16.526159286499023,
          -34.850154876708984,
          -0.18528050184249878,
          -20.9947566986084,
          -12.50790786743164,
          36.74496841430664,
          -8.450626373291016,
          15.307251930236816,
          -5.447835445404053,
          6.124880313873291,
          -8.872283935546875,
          -12.164102554321289,
          -8.952176094055176,
          -16.633394241333008,
          -15.640625,
          -22.865854263305664,
          12.221245765686035,
          -21.428667068481445,
          -34.747344970703125,
          -16.138629913330078,
          15.409886360168457,
          -18.938505172729492,
          -36.37358856201172,
          -24.46721076965332,
          -8.289407730102539,
          -14.161515235900879,
          -37.95072555541992,
          -17.182340621948242,
          -30.764009475708008,
          34.35378646850586,
          -26.629432678222656,
          37.53887176513672,
          -12.746744155883789,
          -23.968252182006836,
          -25.395946502685547,
          -7.98062801361084,
          26.98611068725586,
          -48.9832763671875,
          31.311126708984375,
          -8.873024940490723,
          -15.173027992248535
         ]
        },
        {
         "hovertemplate": "labels=4<br>x=%{x}<br>y=%{y}<br>z=%{z}<extra></extra>",
         "legendgroup": "4",
         "marker": {
          "color": "#FECB52",
          "size": 3,
          "symbol": "circle"
         },
         "mode": "markers",
         "name": "4",
         "scene": "scene",
         "showlegend": true,
         "type": "scatter3d",
         "x": [
          -30.507238388061523,
          -69.9476089477539,
          -40.997230529785156,
          -68.31950378417969,
          -36.13169860839844,
          -34.19281005859375,
          -41.17214584350586,
          -66.85691833496094,
          -0.726085364818573,
          -3.323347806930542,
          -8.847331047058105,
          -11.564839363098145,
          -17.415390014648438,
          -30.63214111328125,
          -34.123287200927734,
          -38.68342971801758,
          -53.967437744140625,
          -56.41201400756836,
          -46.31835174560547,
          -60.5110969543457,
          -40.18523406982422,
          -42.6502799987793,
          -49.68332290649414,
          -52.4155387878418,
          -46.954532623291016,
          -62.62584686279297,
          -19.541719436645508,
          -31.271484375,
          -40.499122619628906,
          -22.847766876220703,
          -48.527870178222656,
          -54.43651580810547,
          -62.75837326049805,
          -11.933321952819824,
          -26.27654266357422,
          -31.935630798339844,
          -44.37548065185547,
          -61.490333557128906,
          -58.143306732177734,
          -68.79597473144531,
          -51.253448486328125,
          -52.3125114440918,
          -39.536651611328125,
          -38.14714431762695,
          5.700438022613525,
          -42.044368743896484,
          -62.098758697509766,
          -67.78461456298828,
          -42.88692855834961,
          -50.44370651245117,
          -4.216606140136719,
          -36.71343231201172,
          -15.259908676147461,
          -50.28175354003906,
          -12.445475578308105,
          -10.570173263549805,
          -9.686747550964355,
          -32.001564025878906,
          -59.83259582519531,
          -10.267142295837402,
          -57.9847526550293,
          -10.130627632141113,
          -9.389530181884766,
          -52.17106628417969,
          -51.43235397338867,
          -6.232733726501465
         ],
         "y": [
          -36.61738586425781,
          6.468997955322266,
          -15.417135238647461,
          -0.9745987057685852,
          -4.665507793426514,
          -19.864953994750977,
          3.970097541809082,
          -9.216531753540039,
          13.706704139709473,
          19.56044578552246,
          10.253473281860352,
          2.9930357933044434,
          2.350666046142578,
          7.350218772888184,
          -2.0268003940582275,
          -5.747539043426514,
          -18.281702041625977,
          -13.072226524353027,
          -17.76267433166504,
          -3.458559989929199,
          5.4883646965026855,
          3.858363628387451,
          0.018872704356908798,
          0.7972238063812256,
          5.708621978759766,
          6.914546012878418,
          -2.1880578994750977,
          -2.9689295291900635,
          -2.8130850791931152,
          3.676353931427002,
          -3.234605073928833,
          1.279168725013733,
          -7.806393146514893,
          -4.115540504455566,
          -12.478853225708008,
          3.6946146488189697,
          -7.052219390869141,
          5.123827934265137,
          9.202367782592773,
          -16.72245216369629,
          15.98663330078125,
          14.697576522827148,
          -32.47392272949219,
          7.614520072937012,
          36.616172790527344,
          -26.714872360229492,
          2.528203248977661,
          -1.2817009687423706,
          -20.266042709350586,
          -24.82485008239746,
          20.89269256591797,
          -17.505781173706055,
          11.250431060791016,
          -19.033376693725586,
          21.424654006958008,
          12.150311470031738,
          10.06550407409668,
          22.14342498779297,
          -21.140684127807617,
          15.951549530029297,
          -15.572416305541992,
          1.1290279626846313,
          -5.904200077056885,
          -3.9690158367156982,
          -7.559209823608398,
          -8.760945320129395
         ],
         "z": [
          11.441871643066406,
          4.005914688110352,
          -18.317306518554688,
          0.7572661638259888,
          -10.853978157043457,
          3.0682578086853027,
          -9.593564987182617,
          0.9079944491386414,
          31.06990623474121,
          23.808088302612305,
          25.448974609375,
          14.87580680847168,
          9.606647491455078,
          6.924663066864014,
          -0.08373545855283737,
          6.398244380950928,
          -8.011445999145508,
          -4.800440788269043,
          -3.7795352935791016,
          0.3914981782436371,
          21.19438362121582,
          15.938172340393066,
          -19.407413482666016,
          -0.8613203167915344,
          -16.66153335571289,
          -5.564324855804443,
          -29.377416610717773,
          -25.463939666748047,
          -15.620657920837402,
          -18.47215461730957,
          -6.696903705596924,
          -7.7824835777282715,
          15.451991081237793,
          -17.622026443481445,
          -2.2322797775268555,
          -10.237963676452637,
          -1.4963204860687256,
          17.898033142089844,
          13.70709228515625,
          13.178322792053223,
          -2.638716459274292,
          3.0781311988830566,
          5.004143238067627,
          -18.064149856567383,
          -6.119384765625,
          -6.723022937774658,
          7.571082592010498,
          9.572540283203125,
          2.199289560317993,
          15.318817138671875,
          -25.143468856811523,
          -38.24584197998047,
          20.642230987548828,
          10.944062232971191,
          1.9955276250839233,
          -10.273519515991211,
          -2.8205058574676514,
          2.574071168899536,
          6.328893184661865,
          -23.68269157409668,
          8.41689682006836,
          -1.951097846031189,
          3.444906711578369,
          10.317288398742676,
          15.302024841308594,
          -3.0672693252563477
         ]
        },
        {
         "hovertemplate": "labels=7<br>x=%{x}<br>y=%{y}<br>z=%{z}<extra></extra>",
         "legendgroup": "7",
         "marker": {
          "color": "#636efa",
          "size": 3,
          "symbol": "circle"
         },
         "mode": "markers",
         "name": "7",
         "scene": "scene",
         "showlegend": true,
         "type": "scatter3d",
         "x": [
          -30.307743072509766,
          30.821683883666992,
          26.278825759887695,
          -9.685332298278809,
          -60.80403137207031,
          -38.39024353027344,
          -36.64992904663086,
          24.672103881835938,
          -37.07975769042969,
          12.260001182556152,
          18.766124725341797,
          18.49078369140625,
          12.054892539978027,
          21.935569763183594,
          23.99065589904785,
          32.21405029296875,
          35.42252731323242,
          40.73190689086914,
          36.48749542236328,
          35.999603271484375,
          35.120304107666016,
          25.873889923095703
         ],
         "y": [
          -36.688201904296875,
          37.20840835571289,
          42.044857025146484,
          43.146305084228516,
          -8.15198802947998,
          -10.54506778717041,
          -15.524606704711914,
          21.743669509887695,
          -18.268871307373047,
          12.522530555725098,
          25.507375717163086,
          38.04873275756836,
          51.98795700073242,
          37.014896392822266,
          20.8761043548584,
          41.39838790893555,
          45.43159484863281,
          30.679826736450195,
          31.475419998168945,
          46.8043098449707,
          28.929275512695312,
          28.07461166381836
         ],
         "z": [
          19.53059959411621,
          19.612422943115234,
          16.7991943359375,
          31.36001205444336,
          -10.057747840881348,
          14.21148681640625,
          27.83329200744629,
          15.500608444213867,
          22.2537899017334,
          4.08875846862793,
          3.1996912956237793,
          1.6448031663894653,
          -17.105684280395508,
          29.480314254760742,
          -12.363710403442383,
          8.13870906829834,
          11.669865608215332,
          2.2117562294006348,
          -3.382082939147949,
          -1.1324868202209473,
          -17.469188690185547,
          6.575275897979736
         ]
        },
        {
         "hovertemplate": "labels=1<br>x=%{x}<br>y=%{y}<br>z=%{z}<extra></extra>",
         "legendgroup": "1",
         "marker": {
          "color": "#EF553B",
          "size": 3,
          "symbol": "circle"
         },
         "mode": "markers",
         "name": "1",
         "scene": "scene",
         "showlegend": true,
         "type": "scatter3d",
         "x": [
          -25.47593116760254,
          -20.109434127807617,
          13.415507316589355,
          11.886750221252441,
          16.286367416381836,
          -21.52979850769043,
          -8.74240493774414,
          -0.26722121238708496,
          8.136862754821777,
          3.8935701847076416,
          -20.674299240112305,
          14.5611572265625,
          -2.2674641609191895,
          12.745542526245117,
          -2.4032301902770996,
          5.999416828155518,
          3.5060324668884277,
          -3.4268569946289062,
          9.81068229675293,
          5.443772315979004,
          46.155216217041016,
          41.39723205566406,
          -15.822961807250977,
          7.615267276763916,
          -24.169330596923828,
          31.049072265625,
          -18.29416847229004,
          -26.863859176635742,
          -21.194917678833008,
          -31.744064331054688,
          -25.065597534179688,
          -28.225658416748047,
          -26.76236343383789,
          -22.904788970947266,
          47.270835876464844,
          -1.5979653596878052,
          -6.33150053024292,
          -3.0082433223724365,
          -9.913955688476562,
          -3.0353500843048096,
          1.9503257274627686,
          13.81943130493164,
          -37.727317810058594,
          -37.461830139160156,
          51.382530212402344,
          10.512187004089355,
          12.989625930786133,
          2.96702241897583,
          15.212040901184082,
          1.9551525115966797,
          9.99770450592041,
          0.5099968314170837,
          -15.24109172821045,
          -15.70523738861084,
          6.351576805114746,
          14.961956977844238,
          7.350905895233154,
          20.128435134887695,
          24.009859085083008,
          25.675748825073242,
          12.648552894592285,
          12.653894424438477,
          -11.801424980163574,
          14.92379093170166,
          -3.739973545074463,
          -10.528800964355469,
          -20.00022315979004,
          -29.18820571899414,
          -22.820951461791992,
          -2.9683966636657715,
          3.6382875442504883,
          9.03670597076416,
          20.93904685974121,
          -11.863836288452148,
          4.799563884735107,
          17.640851974487305,
          11.090898513793945,
          29.19923973083496,
          26.92366600036621,
          28.438682556152344,
          12.512611389160156,
          5.209105968475342,
          8.394133567810059,
          24.2714900970459,
          -27.006574630737305,
          21.362070083618164,
          2.1859428882598877,
          4.247012615203857,
          48.717445373535156,
          44.00905990600586,
          26.754642486572266,
          28.395610809326172,
          -3.212808847427368,
          14.626715660095215,
          35.94661331176758,
          19.928760528564453,
          24.013294219970703,
          4.596375465393066,
          25.062292098999023,
          -16.054906845092773,
          7.811877727508545,
          -4.092330455780029,
          -12.00694751739502,
          -4.181469917297363
         ],
         "y": [
          4.88416051864624,
          9.749197959899902,
          52.00290298461914,
          -8.748968124389648,
          -13.868136405944824,
          -3.5574402809143066,
          -50.009742736816406,
          8.45020580291748,
          12.277288436889648,
          19.525142669677734,
          -18.099653244018555,
          -34.074100494384766,
          -39.97032928466797,
          -14.987383842468262,
          29.0396785736084,
          30.68448257446289,
          38.457672119140625,
          40.597774505615234,
          21.115406036376953,
          -1.9014227390289307,
          -13.365382194519043,
          -12.87645149230957,
          -31.65753173828125,
          -30.65438461303711,
          6.110438823699951,
          -9.986700057983398,
          -1.8897273540496826,
          -25.75457763671875,
          -3.259110927581787,
          -21.769405364990234,
          -8.269484519958496,
          -18.943374633789062,
          -12.197356224060059,
          9.10689640045166,
          -24.634288787841797,
          -10.355728149414062,
          4.380620002746582,
          -53.74674987792969,
          -8.06739330291748,
          -8.87280559539795,
          -17.328577041625977,
          6.072849750518799,
          -26.033103942871094,
          -42.0014533996582,
          -36.45891189575195,
          -36.14401626586914,
          9.615418434143066,
          -38.160526275634766,
          3.510824203491211,
          2.120473861694336,
          -1.2734285593032837,
          0.8944536447525024,
          -18.703012466430664,
          -21.75560188293457,
          27.5755558013916,
          37.8797492980957,
          49.4267463684082,
          47.981117248535156,
          50.724761962890625,
          44.04204559326172,
          16.34018325805664,
          24.368051528930664,
          -20.704124450683594,
          32.835838317871094,
          20.423755645751953,
          30.61429786682129,
          26.010929107666016,
          32.880245208740234,
          -26.582366943359375,
          24.600099563598633,
          34.23261642456055,
          -19.459081649780273,
          37.548892974853516,
          31.472883224487305,
          34.47002029418945,
          24.489084243774414,
          34.418643951416016,
          -21.908920288085938,
          0.5919010639190674,
          -28.357316970825195,
          30.93341636657715,
          30.21135711669922,
          9.081811904907227,
          -10.578371047973633,
          22.607805252075195,
          43.308162689208984,
          5.371448040008545,
          7.517651557922363,
          44.240848541259766,
          39.83300018310547,
          12.06656551361084,
          -2.0774216651916504,
          36.53609848022461,
          -26.665199279785156,
          25.314207077026367,
          13.561365127563477,
          20.49871063232422,
          15.568380355834961,
          20.692392349243164,
          -26.700439453125,
          -34.15877914428711,
          -33.3402099609375,
          -40.493446350097656,
          -29.85692596435547
         ],
         "z": [
          -40.38883590698242,
          -42.01564025878906,
          16.690168380737305,
          3.403425455093384,
          -13.537137031555176,
          27.043588638305664,
          -30.208438873291016,
          -36.10647964477539,
          27.947404861450195,
          29.949325561523438,
          2.5104591846466064,
          11.416666984558105,
          4.037424087524414,
          -5.197048664093018,
          31.757476806640625,
          31.889432907104492,
          44.659698486328125,
          41.4759635925293,
          38.170082092285156,
          11.566305160522461,
          -25.754714965820312,
          -20.149932861328125,
          4.4130449295043945,
          45.591949462890625,
          17.004663467407227,
          6.495121955871582,
          2.853940486907959,
          -9.92662525177002,
          -5.8096513748168945,
          -16.751352310180664,
          -26.027040481567383,
          -9.8644380569458,
          -16.197044372558594,
          -21.560331344604492,
          8.035271644592285,
          -36.952266693115234,
          -45.09760665893555,
          -9.233159065246582,
          -37.71175003051758,
          -27.612462997436523,
          21.55560874938965,
          5.580575466156006,
          13.816690444946289,
          -7.548680305480957,
          6.430123805999756,
          -39.797637939453125,
          -47.75957107543945,
          -17.720672607421875,
          -50.6826171875,
          -40.27250671386719,
          -38.72966766357422,
          -49.1078987121582,
          -23.397216796875,
          -10.268037796020508,
          11.104211807250977,
          -11.775796890258789,
          -22.481542587280273,
          -5.96851110458374,
          0.6111546754837036,
          -2.6347317695617676,
          -18.365751266479492,
          -2.242429256439209,
          48.949100494384766,
          30.935396194458008,
          3.0246405601501465,
          2.3265814781188965,
          -2.7455718517303467,
          -3.536501884460449,
          -25.320396423339844,
          -14.027621269226074,
          -33.123985290527344,
          -45.431251525878906,
          -22.96295166015625,
          -9.0169095993042,
          -24.638671875,
          -15.425644874572754,
          -29.91703224182129,
          -13.66723346710205,
          -16.34684181213379,
          28.49478530883789,
          -21.46722984313965,
          -41.155452728271484,
          -26.07682228088379,
          15.302356719970703,
          -11.374223709106445,
          -31.078304290771484,
          -6.506108283996582,
          -13.280741691589355,
          -0.1811404973268509,
          2.357572317123413,
          -23.332456588745117,
          -27.960981369018555,
          8.707501411437988,
          29.504892349243164,
          -33.34156799316406,
          -27.788667678833008,
          -28.259151458740234,
          -5.71815299987793,
          -44.677066802978516,
          -17.12698745727539,
          38.17383575439453,
          52.67477035522461,
          27.152450561523438,
          45.118526458740234
         ]
        },
        {
         "hovertemplate": "labels=2<br>x=%{x}<br>y=%{y}<br>z=%{z}<extra></extra>",
         "legendgroup": "2",
         "marker": {
          "color": "#00cc96",
          "size": 3,
          "symbol": "circle"
         },
         "mode": "markers",
         "name": "2",
         "scene": "scene",
         "showlegend": true,
         "type": "scatter3d",
         "x": [
          37.44010925292969,
          39.928558349609375,
          22.768741607666016,
          13.213089942932129,
          14.024173736572266,
          15.813998222351074,
          40.951507568359375,
          2.127655267715454,
          -12.863296508789062,
          25.671558380126953,
          1.7701654434204102,
          -8.183237075805664,
          3.9651403427124023,
          15.338204383850098,
          0.417468398809433,
          -9.692205429077148,
          -1.534281611442566,
          22.44791603088379,
          18.24578094482422,
          21.39019012451172,
          30.929668426513672,
          4.311286926269531,
          20.502317428588867,
          21.17385482788086,
          -14.584488868713379,
          20.74680519104004,
          39.365692138671875,
          16.584056854248047,
          20.524900436401367,
          32.17637634277344,
          20.41362953186035,
          36.941593170166016,
          30.595630645751953,
          2.084205150604248,
          6.465278625488281,
          3.074693441390991,
          -6.420165538787842,
          -4.8614277839660645,
          -9.73280143737793,
          28.031103134155273,
          -11.641573905944824,
          8.36618423461914,
          13.992568969726562,
          3.078065872192383,
          28.267658233642578,
          34.982879638671875,
          30.237550735473633,
          34.127037048339844,
          -3.4775707721710205,
          35.022560119628906,
          11.656401634216309,
          -15.130666732788086
         ],
         "y": [
          -39.632286071777344,
          -38.277015686035156,
          -45.96648406982422,
          -17.810203552246094,
          -20.511415481567383,
          -9.462779998779297,
          -24.3142147064209,
          -43.68986892700195,
          32.46864700317383,
          -14.407797813415527,
          -13.728736877441406,
          -8.461650848388672,
          15.560166358947754,
          -37.23371887207031,
          0.47362783551216125,
          -15.646928787231445,
          6.11096715927124,
          -25.18700408935547,
          -25.32028579711914,
          -28.846843719482422,
          -41.300472259521484,
          -18.88846778869629,
          -43.675567626953125,
          -15.866599082946777,
          13.104601860046387,
          -38.531394958496094,
          -28.934524536132812,
          -20.01362419128418,
          17.970745086669922,
          -19.714399337768555,
          -3.3444159030914307,
          -32.3684196472168,
          -20.01032066345215,
          -26.426929473876953,
          -26.68675422668457,
          -15.501084327697754,
          -17.002643585205078,
          -22.740461349487305,
          -26.189672470092773,
          -36.16411209106445,
          32.36044692993164,
          11.808506965637207,
          -3.9355149269104004,
          -35.72785949707031,
          -8.179524421691895,
          3.163771390914917,
          -23.75936508178711,
          -5.191065311431885,
          -13.78369426727295,
          -26.19463539123535,
          -37.857120513916016,
          -39.6229133605957
         ],
         "z": [
          11.528787612915039,
          20.121055603027344,
          0.06041291728615761,
          9.293259620666504,
          18.853734970092773,
          54.5853271484375,
          26.806758880615234,
          37.545448303222656,
          23.81378173828125,
          -21.44141960144043,
          0.5466631650924683,
          18.02062225341797,
          39.42097091674805,
          19.713403701782227,
          15.014955520629883,
          6.866418838500977,
          5.867386817932129,
          3.035909414291382,
          37.19575119018555,
          41.94380187988281,
          6.465672492980957,
          28.326448440551758,
          -6.085978031158447,
          50.884281158447266,
          9.104026794433594,
          28.70602798461914,
          -3.757690906524658,
          53.282264709472656,
          28.34857177734375,
          24.299997329711914,
          -7.609705448150635,
          36.575801849365234,
          32.34236145019531,
          17.54201889038086,
          21.929630279541016,
          47.549598693847656,
          51.562049865722656,
          26.036535263061523,
          16.471153259277344,
          1.144185185432434,
          -22.491546630859375,
          -33.81074905395508,
          22.52833366394043,
          27.00031852722168,
          -14.777532577514648,
          -38.535186767578125,
          42.0710563659668,
          -21.138118743896484,
          32.709556579589844,
          32.578224182128906,
          33.6148681640625,
          32.44013595581055
         ]
        },
        {
         "hovertemplate": "labels=3<br>x=%{x}<br>y=%{y}<br>z=%{z}<extra></extra>",
         "legendgroup": "3",
         "marker": {
          "color": "#ab63fa",
          "size": 3,
          "symbol": "circle"
         },
         "mode": "markers",
         "name": "3",
         "scene": "scene",
         "showlegend": true,
         "type": "scatter3d",
         "x": [
          34.495155334472656,
          35.72770309448242,
          5.895382404327393,
          48.61304473876953,
          -10.4180269241333,
          30.51792335510254,
          -5.8827900886535645,
          5.639721870422363,
          2.4000561237335205,
          7.4733476638793945,
          6.855834007263184,
          -18.832019805908203,
          0.11583410948514938,
          -22.062467575073242,
          -16.080942153930664,
          -24.802162170410156,
          -18.476974487304688,
          10.83407211303711,
          -32.86598205566406,
          24.657041549682617,
          17.07339859008789,
          28.36509132385254,
          33.61227798461914,
          38.197105407714844,
          25.153255462646484,
          -5.6495866775512695,
          -18.101654052734375,
          43.204002380371094,
          -13.96181583404541,
          8.304570198059082,
          37.054935455322266,
          29.675273895263672,
          -6.3590087890625,
          -0.17850276827812195
         ],
         "y": [
          -23.89557647705078,
          -18.345155715942383,
          -5.216451168060303,
          -15.86855411529541,
          24.78156852722168,
          -22.653942108154297,
          10.315738677978516,
          1.1566232442855835,
          -39.17864990234375,
          -19.169767379760742,
          -46.22765350341797,
          35.43224334716797,
          -4.298207759857178,
          -6.9515485763549805,
          -18.72005844116211,
          22.82500457763672,
          26.650468826293945,
          -11.258679389953613,
          -31.893465042114258,
          -26.623918533325195,
          -11.631567001342773,
          -17.579727172851562,
          -48.596710205078125,
          -43.5549201965332,
          -40.21614456176758,
          -26.826040267944336,
          -20.289852142333984,
          -15.626826286315918,
          0.758755624294281,
          -10.386470794677734,
          0.9473706483840942,
          3.7861080169677734,
          -32.76579284667969,
          -22.485326766967773
         ],
         "z": [
          1.6857751607894897,
          10.008179664611816,
          46.433448791503906,
          18.28179359436035,
          12.647052764892578,
          -30.091289520263672,
          36.45216369628906,
          33.553958892822266,
          -0.14965803921222687,
          40.156463623046875,
          14.341415405273438,
          21.519678115844727,
          22.573856353759766,
          12.859701156616211,
          23.100120544433594,
          19.263689041137695,
          15.872390747070312,
          37.202327728271484,
          -0.21075032651424408,
          11.473226547241211,
          35.29641342163086,
          10.585826873779297,
          10.199460983276367,
          -0.28224483132362366,
          37.7315673828125,
          -5.005398273468018,
          32.21026611328125,
          -8.094502449035645,
          28.6300106048584,
          23.215452194213867,
          -14.295913696289062,
          -3.38445782661438,
          39.56113052368164,
          39.0560188293457
         ]
        },
        {
         "hovertemplate": "labels=5<br>x=%{x}<br>y=%{y}<br>z=%{z}<extra></extra>",
         "legendgroup": "5",
         "marker": {
          "color": "#FFA15A",
          "size": 3,
          "symbol": "circle"
         },
         "mode": "markers",
         "name": "5",
         "scene": "scene",
         "showlegend": true,
         "type": "scatter3d",
         "x": [
          -35.0152587890625,
          -33.830230712890625,
          -30.315061569213867,
          -36.946266174316406,
          4.427459239959717,
          -38.99311447143555,
          1.6347111463546753,
          5.688564300537109,
          -27.886274337768555,
          -31.804828643798828,
          -20.968585968017578,
          -37.97777557373047,
          -35.39252471923828
         ],
         "y": [
          35.05440139770508,
          25.913312911987305,
          31.880990982055664,
          32.75782775878906,
          18.503646850585938,
          31.352128982543945,
          30.861347198486328,
          42.29991912841797,
          44.94506072998047,
          44.627315521240234,
          36.72383117675781,
          41.52170944213867,
          46.19983673095703
         ],
         "z": [
          26.942916870117188,
          33.064857482910156,
          34.782562255859375,
          35.06073760986328,
          21.843835830688477,
          10.65118408203125,
          18.0221004486084,
          24.450536727905273,
          11.265576362609863,
          15.822834014892578,
          -2.8354718685150146,
          2.1813035011291504,
          -0.4450112581253052
         ]
        },
        {
         "hovertemplate": "labels=6<br>x=%{x}<br>y=%{y}<br>z=%{z}<extra></extra>",
         "legendgroup": "6",
         "marker": {
          "color": "#19d3f3",
          "size": 3,
          "symbol": "circle"
         },
         "mode": "markers",
         "name": "6",
         "scene": "scene",
         "showlegend": true,
         "type": "scatter3d",
         "x": [
          21.482168197631836,
          15.837800979614258,
          26.848356246948242,
          10.605575561523438,
          31.490764617919922,
          34.44402313232422,
          33.74049758911133,
          51.4251823425293,
          7.550304412841797,
          29.103973388671875,
          33.401336669921875,
          41.348262786865234,
          42.10689163208008,
          35.0390510559082,
          41.85457229614258,
          42.969757080078125,
          41.05146789550781,
          47.68972396850586,
          43.03761672973633,
          49.47954177856445
         ],
         "y": [
          39.45481491088867,
          46.14973831176758,
          44.552040100097656,
          28.91839599609375,
          62.083580017089844,
          59.54115295410156,
          49.966026306152344,
          42.469181060791016,
          19.987154006958008,
          31.393470764160156,
          36.435951232910156,
          42.98210144042969,
          43.10919952392578,
          36.439598083496094,
          37.2071418762207,
          24.4804744720459,
          28.621267318725586,
          29.48944664001465,
          33.60646057128906,
          30.397571563720703
         ],
         "z": [
          -8.796469688415527,
          -14.52822208404541,
          -13.623839378356934,
          -6.354089736938477,
          -0.09778168052434921,
          4.75715446472168,
          -10.510943412780762,
          -22.782163619995117,
          -36.260406494140625,
          -4.805985927581787,
          -10.402762413024902,
          -7.216660976409912,
          -19.78054428100586,
          -22.518341064453125,
          -26.623794555664062,
          -17.872915267944336,
          -24.46222686767578,
          -12.364073753356934,
          -17.002578735351562,
          -21.27310562133789
         ]
        }
       ],
       "layout": {
        "legend": {
         "title": {
          "text": "labels"
         },
         "tracegroupgap": 0
        },
        "margin": {
         "t": 60
        },
        "scene": {
         "domain": {
          "x": [
           0,
           1
          ],
          "y": [
           0,
           1
          ]
         },
         "xaxis": {
          "title": {
           "text": "x"
          }
         },
         "yaxis": {
          "title": {
           "text": "y"
          }
         },
         "zaxis": {
          "title": {
           "text": "z"
          }
         }
        },
        "template": {
         "data": {
          "bar": [
           {
            "error_x": {
             "color": "#2a3f5f"
            },
            "error_y": {
             "color": "#2a3f5f"
            },
            "marker": {
             "line": {
              "color": "#E5ECF6",
              "width": 0.5
             },
             "pattern": {
              "fillmode": "overlay",
              "size": 10,
              "solidity": 0.2
             }
            },
            "type": "bar"
           }
          ],
          "barpolar": [
           {
            "marker": {
             "line": {
              "color": "#E5ECF6",
              "width": 0.5
             },
             "pattern": {
              "fillmode": "overlay",
              "size": 10,
              "solidity": 0.2
             }
            },
            "type": "barpolar"
           }
          ],
          "carpet": [
           {
            "aaxis": {
             "endlinecolor": "#2a3f5f",
             "gridcolor": "white",
             "linecolor": "white",
             "minorgridcolor": "white",
             "startlinecolor": "#2a3f5f"
            },
            "baxis": {
             "endlinecolor": "#2a3f5f",
             "gridcolor": "white",
             "linecolor": "white",
             "minorgridcolor": "white",
             "startlinecolor": "#2a3f5f"
            },
            "type": "carpet"
           }
          ],
          "choropleth": [
           {
            "colorbar": {
             "outlinewidth": 0,
             "ticks": ""
            },
            "type": "choropleth"
           }
          ],
          "contour": [
           {
            "colorbar": {
             "outlinewidth": 0,
             "ticks": ""
            },
            "colorscale": [
             [
              0,
              "#0d0887"
             ],
             [
              0.1111111111111111,
              "#46039f"
             ],
             [
              0.2222222222222222,
              "#7201a8"
             ],
             [
              0.3333333333333333,
              "#9c179e"
             ],
             [
              0.4444444444444444,
              "#bd3786"
             ],
             [
              0.5555555555555556,
              "#d8576b"
             ],
             [
              0.6666666666666666,
              "#ed7953"
             ],
             [
              0.7777777777777778,
              "#fb9f3a"
             ],
             [
              0.8888888888888888,
              "#fdca26"
             ],
             [
              1,
              "#f0f921"
             ]
            ],
            "type": "contour"
           }
          ],
          "contourcarpet": [
           {
            "colorbar": {
             "outlinewidth": 0,
             "ticks": ""
            },
            "type": "contourcarpet"
           }
          ],
          "heatmap": [
           {
            "colorbar": {
             "outlinewidth": 0,
             "ticks": ""
            },
            "colorscale": [
             [
              0,
              "#0d0887"
             ],
             [
              0.1111111111111111,
              "#46039f"
             ],
             [
              0.2222222222222222,
              "#7201a8"
             ],
             [
              0.3333333333333333,
              "#9c179e"
             ],
             [
              0.4444444444444444,
              "#bd3786"
             ],
             [
              0.5555555555555556,
              "#d8576b"
             ],
             [
              0.6666666666666666,
              "#ed7953"
             ],
             [
              0.7777777777777778,
              "#fb9f3a"
             ],
             [
              0.8888888888888888,
              "#fdca26"
             ],
             [
              1,
              "#f0f921"
             ]
            ],
            "type": "heatmap"
           }
          ],
          "heatmapgl": [
           {
            "colorbar": {
             "outlinewidth": 0,
             "ticks": ""
            },
            "colorscale": [
             [
              0,
              "#0d0887"
             ],
             [
              0.1111111111111111,
              "#46039f"
             ],
             [
              0.2222222222222222,
              "#7201a8"
             ],
             [
              0.3333333333333333,
              "#9c179e"
             ],
             [
              0.4444444444444444,
              "#bd3786"
             ],
             [
              0.5555555555555556,
              "#d8576b"
             ],
             [
              0.6666666666666666,
              "#ed7953"
             ],
             [
              0.7777777777777778,
              "#fb9f3a"
             ],
             [
              0.8888888888888888,
              "#fdca26"
             ],
             [
              1,
              "#f0f921"
             ]
            ],
            "type": "heatmapgl"
           }
          ],
          "histogram": [
           {
            "marker": {
             "pattern": {
              "fillmode": "overlay",
              "size": 10,
              "solidity": 0.2
             }
            },
            "type": "histogram"
           }
          ],
          "histogram2d": [
           {
            "colorbar": {
             "outlinewidth": 0,
             "ticks": ""
            },
            "colorscale": [
             [
              0,
              "#0d0887"
             ],
             [
              0.1111111111111111,
              "#46039f"
             ],
             [
              0.2222222222222222,
              "#7201a8"
             ],
             [
              0.3333333333333333,
              "#9c179e"
             ],
             [
              0.4444444444444444,
              "#bd3786"
             ],
             [
              0.5555555555555556,
              "#d8576b"
             ],
             [
              0.6666666666666666,
              "#ed7953"
             ],
             [
              0.7777777777777778,
              "#fb9f3a"
             ],
             [
              0.8888888888888888,
              "#fdca26"
             ],
             [
              1,
              "#f0f921"
             ]
            ],
            "type": "histogram2d"
           }
          ],
          "histogram2dcontour": [
           {
            "colorbar": {
             "outlinewidth": 0,
             "ticks": ""
            },
            "colorscale": [
             [
              0,
              "#0d0887"
             ],
             [
              0.1111111111111111,
              "#46039f"
             ],
             [
              0.2222222222222222,
              "#7201a8"
             ],
             [
              0.3333333333333333,
              "#9c179e"
             ],
             [
              0.4444444444444444,
              "#bd3786"
             ],
             [
              0.5555555555555556,
              "#d8576b"
             ],
             [
              0.6666666666666666,
              "#ed7953"
             ],
             [
              0.7777777777777778,
              "#fb9f3a"
             ],
             [
              0.8888888888888888,
              "#fdca26"
             ],
             [
              1,
              "#f0f921"
             ]
            ],
            "type": "histogram2dcontour"
           }
          ],
          "mesh3d": [
           {
            "colorbar": {
             "outlinewidth": 0,
             "ticks": ""
            },
            "type": "mesh3d"
           }
          ],
          "parcoords": [
           {
            "line": {
             "colorbar": {
              "outlinewidth": 0,
              "ticks": ""
             }
            },
            "type": "parcoords"
           }
          ],
          "pie": [
           {
            "automargin": true,
            "type": "pie"
           }
          ],
          "scatter": [
           {
            "fillpattern": {
             "fillmode": "overlay",
             "size": 10,
             "solidity": 0.2
            },
            "type": "scatter"
           }
          ],
          "scatter3d": [
           {
            "line": {
             "colorbar": {
              "outlinewidth": 0,
              "ticks": ""
             }
            },
            "marker": {
             "colorbar": {
              "outlinewidth": 0,
              "ticks": ""
             }
            },
            "type": "scatter3d"
           }
          ],
          "scattercarpet": [
           {
            "marker": {
             "colorbar": {
              "outlinewidth": 0,
              "ticks": ""
             }
            },
            "type": "scattercarpet"
           }
          ],
          "scattergeo": [
           {
            "marker": {
             "colorbar": {
              "outlinewidth": 0,
              "ticks": ""
             }
            },
            "type": "scattergeo"
           }
          ],
          "scattergl": [
           {
            "marker": {
             "colorbar": {
              "outlinewidth": 0,
              "ticks": ""
             }
            },
            "type": "scattergl"
           }
          ],
          "scattermapbox": [
           {
            "marker": {
             "colorbar": {
              "outlinewidth": 0,
              "ticks": ""
             }
            },
            "type": "scattermapbox"
           }
          ],
          "scatterpolar": [
           {
            "marker": {
             "colorbar": {
              "outlinewidth": 0,
              "ticks": ""
             }
            },
            "type": "scatterpolar"
           }
          ],
          "scatterpolargl": [
           {
            "marker": {
             "colorbar": {
              "outlinewidth": 0,
              "ticks": ""
             }
            },
            "type": "scatterpolargl"
           }
          ],
          "scatterternary": [
           {
            "marker": {
             "colorbar": {
              "outlinewidth": 0,
              "ticks": ""
             }
            },
            "type": "scatterternary"
           }
          ],
          "surface": [
           {
            "colorbar": {
             "outlinewidth": 0,
             "ticks": ""
            },
            "colorscale": [
             [
              0,
              "#0d0887"
             ],
             [
              0.1111111111111111,
              "#46039f"
             ],
             [
              0.2222222222222222,
              "#7201a8"
             ],
             [
              0.3333333333333333,
              "#9c179e"
             ],
             [
              0.4444444444444444,
              "#bd3786"
             ],
             [
              0.5555555555555556,
              "#d8576b"
             ],
             [
              0.6666666666666666,
              "#ed7953"
             ],
             [
              0.7777777777777778,
              "#fb9f3a"
             ],
             [
              0.8888888888888888,
              "#fdca26"
             ],
             [
              1,
              "#f0f921"
             ]
            ],
            "type": "surface"
           }
          ],
          "table": [
           {
            "cells": {
             "fill": {
              "color": "#EBF0F8"
             },
             "line": {
              "color": "white"
             }
            },
            "header": {
             "fill": {
              "color": "#C8D4E3"
             },
             "line": {
              "color": "white"
             }
            },
            "type": "table"
           }
          ]
         },
         "layout": {
          "annotationdefaults": {
           "arrowcolor": "#2a3f5f",
           "arrowhead": 0,
           "arrowwidth": 1
          },
          "autotypenumbers": "strict",
          "coloraxis": {
           "colorbar": {
            "outlinewidth": 0,
            "ticks": ""
           }
          },
          "colorscale": {
           "diverging": [
            [
             0,
             "#8e0152"
            ],
            [
             0.1,
             "#c51b7d"
            ],
            [
             0.2,
             "#de77ae"
            ],
            [
             0.3,
             "#f1b6da"
            ],
            [
             0.4,
             "#fde0ef"
            ],
            [
             0.5,
             "#f7f7f7"
            ],
            [
             0.6,
             "#e6f5d0"
            ],
            [
             0.7,
             "#b8e186"
            ],
            [
             0.8,
             "#7fbc41"
            ],
            [
             0.9,
             "#4d9221"
            ],
            [
             1,
             "#276419"
            ]
           ],
           "sequential": [
            [
             0,
             "#0d0887"
            ],
            [
             0.1111111111111111,
             "#46039f"
            ],
            [
             0.2222222222222222,
             "#7201a8"
            ],
            [
             0.3333333333333333,
             "#9c179e"
            ],
            [
             0.4444444444444444,
             "#bd3786"
            ],
            [
             0.5555555555555556,
             "#d8576b"
            ],
            [
             0.6666666666666666,
             "#ed7953"
            ],
            [
             0.7777777777777778,
             "#fb9f3a"
            ],
            [
             0.8888888888888888,
             "#fdca26"
            ],
            [
             1,
             "#f0f921"
            ]
           ],
           "sequentialminus": [
            [
             0,
             "#0d0887"
            ],
            [
             0.1111111111111111,
             "#46039f"
            ],
            [
             0.2222222222222222,
             "#7201a8"
            ],
            [
             0.3333333333333333,
             "#9c179e"
            ],
            [
             0.4444444444444444,
             "#bd3786"
            ],
            [
             0.5555555555555556,
             "#d8576b"
            ],
            [
             0.6666666666666666,
             "#ed7953"
            ],
            [
             0.7777777777777778,
             "#fb9f3a"
            ],
            [
             0.8888888888888888,
             "#fdca26"
            ],
            [
             1,
             "#f0f921"
            ]
           ]
          },
          "colorway": [
           "#636efa",
           "#EF553B",
           "#00cc96",
           "#ab63fa",
           "#FFA15A",
           "#19d3f3",
           "#FF6692",
           "#B6E880",
           "#FF97FF",
           "#FECB52"
          ],
          "font": {
           "color": "#2a3f5f"
          },
          "geo": {
           "bgcolor": "white",
           "lakecolor": "white",
           "landcolor": "#E5ECF6",
           "showlakes": true,
           "showland": true,
           "subunitcolor": "white"
          },
          "hoverlabel": {
           "align": "left"
          },
          "hovermode": "closest",
          "mapbox": {
           "style": "light"
          },
          "paper_bgcolor": "white",
          "plot_bgcolor": "#E5ECF6",
          "polar": {
           "angularaxis": {
            "gridcolor": "white",
            "linecolor": "white",
            "ticks": ""
           },
           "bgcolor": "#E5ECF6",
           "radialaxis": {
            "gridcolor": "white",
            "linecolor": "white",
            "ticks": ""
           }
          },
          "scene": {
           "xaxis": {
            "backgroundcolor": "#E5ECF6",
            "gridcolor": "white",
            "gridwidth": 2,
            "linecolor": "white",
            "showbackground": true,
            "ticks": "",
            "zerolinecolor": "white"
           },
           "yaxis": {
            "backgroundcolor": "#E5ECF6",
            "gridcolor": "white",
            "gridwidth": 2,
            "linecolor": "white",
            "showbackground": true,
            "ticks": "",
            "zerolinecolor": "white"
           },
           "zaxis": {
            "backgroundcolor": "#E5ECF6",
            "gridcolor": "white",
            "gridwidth": 2,
            "linecolor": "white",
            "showbackground": true,
            "ticks": "",
            "zerolinecolor": "white"
           }
          },
          "shapedefaults": {
           "line": {
            "color": "#2a3f5f"
           }
          },
          "ternary": {
           "aaxis": {
            "gridcolor": "white",
            "linecolor": "white",
            "ticks": ""
           },
           "baxis": {
            "gridcolor": "white",
            "linecolor": "white",
            "ticks": ""
           },
           "bgcolor": "#E5ECF6",
           "caxis": {
            "gridcolor": "white",
            "linecolor": "white",
            "ticks": ""
           }
          },
          "title": {
           "x": 0.05
          },
          "xaxis": {
           "automargin": true,
           "gridcolor": "white",
           "linecolor": "white",
           "ticks": "",
           "title": {
            "standoff": 15
           },
           "zerolinecolor": "white",
           "zerolinewidth": 2
          },
          "yaxis": {
           "automargin": true,
           "gridcolor": "white",
           "linecolor": "white",
           "ticks": "",
           "title": {
            "standoff": 15
           },
           "zerolinecolor": "white",
           "zerolinewidth": 2
          }
         }
        }
       }
      },
      "text/html": [
       "<div>                            <div id=\"f7d7eb33-6e1d-4206-9e9a-2368bede9ce8\" class=\"plotly-graph-div\" style=\"height:525px; width:100%;\"></div>            <script type=\"text/javascript\">                require([\"plotly\"], function(Plotly) {                    window.PLOTLYENV=window.PLOTLYENV || {};                                    if (document.getElementById(\"f7d7eb33-6e1d-4206-9e9a-2368bede9ce8\")) {                    Plotly.newPlot(                        \"f7d7eb33-6e1d-4206-9e9a-2368bede9ce8\",                        [{\"hovertemplate\":\"labels=0\\u003cbr\\u003ex=%{x}\\u003cbr\\u003ey=%{y}\\u003cbr\\u003ez=%{z}\\u003cextra\\u003e\\u003c\\u002fextra\\u003e\",\"legendgroup\":\"0\",\"marker\":{\"color\":\"#FF97FF\",\"symbol\":\"circle\",\"size\":3},\"mode\":\"markers\",\"name\":\"0\",\"scene\":\"scene\",\"showlegend\":true,\"x\":[4.847788333892822,-35.69442367553711,-4.349939823150635,28.322134017944336,25.126079559326172,36.161136627197266,23.930822372436523,40.27290344238281,-6.269071578979492,-8.158689498901367,-16.01317596435547,-14.274580955505371,44.73948287963867,46.987884521484375,-11.133796691894531,-16.826711654663086,15.032267570495605,41.20282745361328,-24.747364044189453,-19.890172958374023,21.00339698791504,23.39035987854004,24.785865783691406,-10.598492622375488,-13.759468078613281,-2.497572422027588,-2.6720128059387207,13.077224731445312,-13.258543014526367,6.217354774475098,13.063130378723145,-21.932538986206055,-31.397201538085938,-6.2818732261657715,-5.000309467315674,-1.6608059406280518,16.514827728271484,-7.27691125869751,0.7708743810653687,-25.56708335876465,4.553509712219238,-7.635847091674805,-39.24711608886719,12.327657699584961,-16.181461334228516,-11.720539093017578,18.572954177856445,-28.853849411010742,42.38881301879883,23.6212158203125,52.1619758605957,44.67768478393555,-3.0765490531921387,18.778823852539062,21.657163619995117,-25.181442260742188,9.441740036010742,-8.423705101013184,10.114212989807129,15.122477531433105,12.052000045776367,8.088383674621582,-6.280879497528076,-5.6892008781433105,-23.086854934692383,-18.07082748413086,17.87601661682129,50.07770538330078,30.497581481933594,40.359039306640625,14.065826416015625,-5.806037425994873,1.0813463926315308,-8.531262397766113,36.49163055419922,133.48924255371094,6.395807266235352,-1.3769164085388184,-3.574648141860962,3.324523687362671,8.503820419311523,1.7178089618682861,-34.62761306762695,9.613137245178223,-8.111502647399902,-0.2806178331375122,-0.8498786091804504,-22.398395538330078,-14.981337547302246,-11.461868286132812,-27.892629623413086,-16.912172317504883,-23.64200210571289,-1.3926969766616821,7.302053928375244,6.2049880027771,34.120365142822266,-15.44548225402832,-18.863433837890625,0.7440484166145325,2.6845128536224365,20.166255950927734,13.360343933105469,32.1555290222168,34.52323532104492,36.93757629394531,-7.619266510009766,-22.502471923828125,-0.08584505319595337,20.13347053527832,2.831663131713867,34.109439849853516,39.887996673583984,36.85049057006836,-5.5695109367370605,5.332685947418213,24.805259704589844,17.6812801361084,14.534612655639648,40.47652053833008,21.59786033630371,11.641596794128418,-19.17684555053711,-15.735213279724121],\"y\":[-24.595054626464844,-17.069984436035156,-21.88945198059082,-35.95265197753906,-23.94269561767578,-24.587297439575195,-13.639083862304688,-7.079642295837402,49.43861770629883,55.59722900390625,-24.63927459716797,-49.6539421081543,-3.6716771125793457,1.0180082321166992,32.42982864379883,32.65965270996094,-38.4746208190918,-17.231149673461914,10.914072036743164,12.543783187866211,-16.962646484375,-15.249650955200195,17.00156021118164,23.441736221313477,21.499174118041992,23.69378662109375,33.97164535522461,-42.2297477722168,40.63223648071289,10.22613525390625,-39.59315872192383,7.382259845733643,-31.71975326538086,3.976604461669922,-12.18477725982666,8.644625663757324,-27.719552993774414,43.58980178833008,-55.631778717041016,-41.237327575683594,-14.71413516998291,-9.758635520935059,25.068801879882812,234.78199768066406,-10.719207763671875,-13.571747779846191,10.240702629089355,-25.67152214050293,5.396232604980469,-1.6670788526535034,-35.737545013427734,-34.38389205932617,-17.669021606445312,-34.37409973144531,-35.435665130615234,-6.336927890777588,-25.67385482788086,-27.493444442749023,-4.78162956237793,-39.57566833496094,-45.076595306396484,-41.432334899902344,-17.700422286987305,-18.29385757446289,-14.034223556518555,-15.562422752380371,23.975854873657227,-8.190619468688965,-9.523587226867676,4.7343902587890625,30.740684509277344,-33.174530029296875,50.90443801879883,-23.692522048950195,-5.355345726013184,-5.85181188583374,36.18669509887695,37.86793518066406,17.174869537353516,-4.894627094268799,20.793609619140625,12.489654541015625,-16.909440994262695,22.939701080322266,22.43171501159668,52.001731872558594,28.431076049804688,38.89296340942383,28.237375259399414,21.252885818481445,-24.57988166809082,12.07808780670166,21.686874389648438,50.40977478027344,-28.95775032043457,-24.04157829284668,-27.053295135498047,22.159704208374023,29.259950637817383,-15.849357604980469,3.4235665798187256,6.788008689880371,0.41411831974983215,-5.649417400360107,-42.48631286621094,-2.4357500076293945,-27.606584548950195,29.446104049682617,2.3159472942352295,23.14828109741211,-15.464055061340332,34.153228759765625,-13.680670738220215,-2.442561149597168,-8.765046119689941,-6.779118061065674,29.456756591796875,22.198326110839844,9.737915992736816,-10.118613243103027,26.497634887695312,-44.97457504272461,-34.71718215942383,-36.57033157348633],\"z\":[3.513742446899414,-10.015493392944336,-36.2960205078125,17.557344436645508,-7.677515506744385,14.220634460449219,6.1707682609558105,7.385320663452148,-0.546782910823822,2.961280584335327,-35.26509475708008,9.898512840270996,26.851318359375,31.240915298461914,13.715726852416992,9.304195404052734,-33.53888702392578,23.010095596313477,31.725852966308594,35.45067596435547,-25.983930587768555,-33.70976257324219,1.4241126775741577,31.20130157470703,26.22690773010254,38.655670166015625,43.09562683105469,15.832649230957031,40.35483932495117,16.26741600036621,43.20018005371094,4.155272960662842,-15.672797203063965,-29.63519287109375,-45.435916900634766,-48.03709411621094,-2.1975579261779785,12.846290588378906,-4.99700927734375,-29.11900520324707,-34.336605072021484,-13.242658615112305,9.901005744934082,0.5216898322105408,-45.429168701171875,-34.81292724609375,15.38644790649414,6.623966693878174,-31.86944007873535,7.851666450500488,-0.032052185386419296,6.149343490600586,-27.89157485961914,-38.99283218383789,-12.851244926452637,44.294898986816406,-22.49188232421875,-47.89389419555664,-25.80731964111328,-26.959457397460938,-37.832054138183594,-21.769271850585938,-18.81241798400879,-0.9908435940742493,-29.438772201538086,-13.066659927368164,23.369707107543945,-4.764786243438721,-7.163286209106445,29.363786697387695,17.859663009643555,-29.527551651000977,-26.443391799926758,-15.449005126953125,32.4879150390625,-4.845126152038574,12.967015266418457,22.3839111328125,14.584085464477539,0.05863258242607117,-24.28401756286621,-22.303083419799805,-31.441171646118164,-16.526159286499023,-34.850154876708984,-0.18528050184249878,-20.9947566986084,-12.50790786743164,36.74496841430664,-8.450626373291016,15.307251930236816,-5.447835445404053,6.124880313873291,-8.872283935546875,-12.164102554321289,-8.952176094055176,-16.633394241333008,-15.640625,-22.865854263305664,12.221245765686035,-21.428667068481445,-34.747344970703125,-16.138629913330078,15.409886360168457,-18.938505172729492,-36.37358856201172,-24.46721076965332,-8.289407730102539,-14.161515235900879,-37.95072555541992,-17.182340621948242,-30.764009475708008,34.35378646850586,-26.629432678222656,37.53887176513672,-12.746744155883789,-23.968252182006836,-25.395946502685547,-7.98062801361084,26.98611068725586,-48.9832763671875,31.311126708984375,-8.873024940490723,-15.173027992248535],\"type\":\"scatter3d\"},{\"hovertemplate\":\"labels=4\\u003cbr\\u003ex=%{x}\\u003cbr\\u003ey=%{y}\\u003cbr\\u003ez=%{z}\\u003cextra\\u003e\\u003c\\u002fextra\\u003e\",\"legendgroup\":\"4\",\"marker\":{\"color\":\"#FECB52\",\"symbol\":\"circle\",\"size\":3},\"mode\":\"markers\",\"name\":\"4\",\"scene\":\"scene\",\"showlegend\":true,\"x\":[-30.507238388061523,-69.9476089477539,-40.997230529785156,-68.31950378417969,-36.13169860839844,-34.19281005859375,-41.17214584350586,-66.85691833496094,-0.726085364818573,-3.323347806930542,-8.847331047058105,-11.564839363098145,-17.415390014648438,-30.63214111328125,-34.123287200927734,-38.68342971801758,-53.967437744140625,-56.41201400756836,-46.31835174560547,-60.5110969543457,-40.18523406982422,-42.6502799987793,-49.68332290649414,-52.4155387878418,-46.954532623291016,-62.62584686279297,-19.541719436645508,-31.271484375,-40.499122619628906,-22.847766876220703,-48.527870178222656,-54.43651580810547,-62.75837326049805,-11.933321952819824,-26.27654266357422,-31.935630798339844,-44.37548065185547,-61.490333557128906,-58.143306732177734,-68.79597473144531,-51.253448486328125,-52.3125114440918,-39.536651611328125,-38.14714431762695,5.700438022613525,-42.044368743896484,-62.098758697509766,-67.78461456298828,-42.88692855834961,-50.44370651245117,-4.216606140136719,-36.71343231201172,-15.259908676147461,-50.28175354003906,-12.445475578308105,-10.570173263549805,-9.686747550964355,-32.001564025878906,-59.83259582519531,-10.267142295837402,-57.9847526550293,-10.130627632141113,-9.389530181884766,-52.17106628417969,-51.43235397338867,-6.232733726501465],\"y\":[-36.61738586425781,6.468997955322266,-15.417135238647461,-0.9745987057685852,-4.665507793426514,-19.864953994750977,3.970097541809082,-9.216531753540039,13.706704139709473,19.56044578552246,10.253473281860352,2.9930357933044434,2.350666046142578,7.350218772888184,-2.0268003940582275,-5.747539043426514,-18.281702041625977,-13.072226524353027,-17.76267433166504,-3.458559989929199,5.4883646965026855,3.858363628387451,0.018872704356908798,0.7972238063812256,5.708621978759766,6.914546012878418,-2.1880578994750977,-2.9689295291900635,-2.8130850791931152,3.676353931427002,-3.234605073928833,1.279168725013733,-7.806393146514893,-4.115540504455566,-12.478853225708008,3.6946146488189697,-7.052219390869141,5.123827934265137,9.202367782592773,-16.72245216369629,15.98663330078125,14.697576522827148,-32.47392272949219,7.614520072937012,36.616172790527344,-26.714872360229492,2.528203248977661,-1.2817009687423706,-20.266042709350586,-24.82485008239746,20.89269256591797,-17.505781173706055,11.250431060791016,-19.033376693725586,21.424654006958008,12.150311470031738,10.06550407409668,22.14342498779297,-21.140684127807617,15.951549530029297,-15.572416305541992,1.1290279626846313,-5.904200077056885,-3.9690158367156982,-7.559209823608398,-8.760945320129395],\"z\":[11.441871643066406,4.005914688110352,-18.317306518554688,0.7572661638259888,-10.853978157043457,3.0682578086853027,-9.593564987182617,0.9079944491386414,31.06990623474121,23.808088302612305,25.448974609375,14.87580680847168,9.606647491455078,6.924663066864014,-0.08373545855283737,6.398244380950928,-8.011445999145508,-4.800440788269043,-3.7795352935791016,0.3914981782436371,21.19438362121582,15.938172340393066,-19.407413482666016,-0.8613203167915344,-16.66153335571289,-5.564324855804443,-29.377416610717773,-25.463939666748047,-15.620657920837402,-18.47215461730957,-6.696903705596924,-7.7824835777282715,15.451991081237793,-17.622026443481445,-2.2322797775268555,-10.237963676452637,-1.4963204860687256,17.898033142089844,13.70709228515625,13.178322792053223,-2.638716459274292,3.0781311988830566,5.004143238067627,-18.064149856567383,-6.119384765625,-6.723022937774658,7.571082592010498,9.572540283203125,2.199289560317993,15.318817138671875,-25.143468856811523,-38.24584197998047,20.642230987548828,10.944062232971191,1.9955276250839233,-10.273519515991211,-2.8205058574676514,2.574071168899536,6.328893184661865,-23.68269157409668,8.41689682006836,-1.951097846031189,3.444906711578369,10.317288398742676,15.302024841308594,-3.0672693252563477],\"type\":\"scatter3d\"},{\"hovertemplate\":\"labels=7\\u003cbr\\u003ex=%{x}\\u003cbr\\u003ey=%{y}\\u003cbr\\u003ez=%{z}\\u003cextra\\u003e\\u003c\\u002fextra\\u003e\",\"legendgroup\":\"7\",\"marker\":{\"color\":\"#636efa\",\"symbol\":\"circle\",\"size\":3},\"mode\":\"markers\",\"name\":\"7\",\"scene\":\"scene\",\"showlegend\":true,\"x\":[-30.307743072509766,30.821683883666992,26.278825759887695,-9.685332298278809,-60.80403137207031,-38.39024353027344,-36.64992904663086,24.672103881835938,-37.07975769042969,12.260001182556152,18.766124725341797,18.49078369140625,12.054892539978027,21.935569763183594,23.99065589904785,32.21405029296875,35.42252731323242,40.73190689086914,36.48749542236328,35.999603271484375,35.120304107666016,25.873889923095703],\"y\":[-36.688201904296875,37.20840835571289,42.044857025146484,43.146305084228516,-8.15198802947998,-10.54506778717041,-15.524606704711914,21.743669509887695,-18.268871307373047,12.522530555725098,25.507375717163086,38.04873275756836,51.98795700073242,37.014896392822266,20.8761043548584,41.39838790893555,45.43159484863281,30.679826736450195,31.475419998168945,46.8043098449707,28.929275512695312,28.07461166381836],\"z\":[19.53059959411621,19.612422943115234,16.7991943359375,31.36001205444336,-10.057747840881348,14.21148681640625,27.83329200744629,15.500608444213867,22.2537899017334,4.08875846862793,3.1996912956237793,1.6448031663894653,-17.105684280395508,29.480314254760742,-12.363710403442383,8.13870906829834,11.669865608215332,2.2117562294006348,-3.382082939147949,-1.1324868202209473,-17.469188690185547,6.575275897979736],\"type\":\"scatter3d\"},{\"hovertemplate\":\"labels=1\\u003cbr\\u003ex=%{x}\\u003cbr\\u003ey=%{y}\\u003cbr\\u003ez=%{z}\\u003cextra\\u003e\\u003c\\u002fextra\\u003e\",\"legendgroup\":\"1\",\"marker\":{\"color\":\"#EF553B\",\"symbol\":\"circle\",\"size\":3},\"mode\":\"markers\",\"name\":\"1\",\"scene\":\"scene\",\"showlegend\":true,\"x\":[-25.47593116760254,-20.109434127807617,13.415507316589355,11.886750221252441,16.286367416381836,-21.52979850769043,-8.74240493774414,-0.26722121238708496,8.136862754821777,3.8935701847076416,-20.674299240112305,14.5611572265625,-2.2674641609191895,12.745542526245117,-2.4032301902770996,5.999416828155518,3.5060324668884277,-3.4268569946289062,9.81068229675293,5.443772315979004,46.155216217041016,41.39723205566406,-15.822961807250977,7.615267276763916,-24.169330596923828,31.049072265625,-18.29416847229004,-26.863859176635742,-21.194917678833008,-31.744064331054688,-25.065597534179688,-28.225658416748047,-26.76236343383789,-22.904788970947266,47.270835876464844,-1.5979653596878052,-6.33150053024292,-3.0082433223724365,-9.913955688476562,-3.0353500843048096,1.9503257274627686,13.81943130493164,-37.727317810058594,-37.461830139160156,51.382530212402344,10.512187004089355,12.989625930786133,2.96702241897583,15.212040901184082,1.9551525115966797,9.99770450592041,0.5099968314170837,-15.24109172821045,-15.70523738861084,6.351576805114746,14.961956977844238,7.350905895233154,20.128435134887695,24.009859085083008,25.675748825073242,12.648552894592285,12.653894424438477,-11.801424980163574,14.92379093170166,-3.739973545074463,-10.528800964355469,-20.00022315979004,-29.18820571899414,-22.820951461791992,-2.9683966636657715,3.6382875442504883,9.03670597076416,20.93904685974121,-11.863836288452148,4.799563884735107,17.640851974487305,11.090898513793945,29.19923973083496,26.92366600036621,28.438682556152344,12.512611389160156,5.209105968475342,8.394133567810059,24.2714900970459,-27.006574630737305,21.362070083618164,2.1859428882598877,4.247012615203857,48.717445373535156,44.00905990600586,26.754642486572266,28.395610809326172,-3.212808847427368,14.626715660095215,35.94661331176758,19.928760528564453,24.013294219970703,4.596375465393066,25.062292098999023,-16.054906845092773,7.811877727508545,-4.092330455780029,-12.00694751739502,-4.181469917297363],\"y\":[4.88416051864624,9.749197959899902,52.00290298461914,-8.748968124389648,-13.868136405944824,-3.5574402809143066,-50.009742736816406,8.45020580291748,12.277288436889648,19.525142669677734,-18.099653244018555,-34.074100494384766,-39.97032928466797,-14.987383842468262,29.0396785736084,30.68448257446289,38.457672119140625,40.597774505615234,21.115406036376953,-1.9014227390289307,-13.365382194519043,-12.87645149230957,-31.65753173828125,-30.65438461303711,6.110438823699951,-9.986700057983398,-1.8897273540496826,-25.75457763671875,-3.259110927581787,-21.769405364990234,-8.269484519958496,-18.943374633789062,-12.197356224060059,9.10689640045166,-24.634288787841797,-10.355728149414062,4.380620002746582,-53.74674987792969,-8.06739330291748,-8.87280559539795,-17.328577041625977,6.072849750518799,-26.033103942871094,-42.0014533996582,-36.45891189575195,-36.14401626586914,9.615418434143066,-38.160526275634766,3.510824203491211,2.120473861694336,-1.2734285593032837,0.8944536447525024,-18.703012466430664,-21.75560188293457,27.5755558013916,37.8797492980957,49.4267463684082,47.981117248535156,50.724761962890625,44.04204559326172,16.34018325805664,24.368051528930664,-20.704124450683594,32.835838317871094,20.423755645751953,30.61429786682129,26.010929107666016,32.880245208740234,-26.582366943359375,24.600099563598633,34.23261642456055,-19.459081649780273,37.548892974853516,31.472883224487305,34.47002029418945,24.489084243774414,34.418643951416016,-21.908920288085938,0.5919010639190674,-28.357316970825195,30.93341636657715,30.21135711669922,9.081811904907227,-10.578371047973633,22.607805252075195,43.308162689208984,5.371448040008545,7.517651557922363,44.240848541259766,39.83300018310547,12.06656551361084,-2.0774216651916504,36.53609848022461,-26.665199279785156,25.314207077026367,13.561365127563477,20.49871063232422,15.568380355834961,20.692392349243164,-26.700439453125,-34.15877914428711,-33.3402099609375,-40.493446350097656,-29.85692596435547],\"z\":[-40.38883590698242,-42.01564025878906,16.690168380737305,3.403425455093384,-13.537137031555176,27.043588638305664,-30.208438873291016,-36.10647964477539,27.947404861450195,29.949325561523438,2.5104591846466064,11.416666984558105,4.037424087524414,-5.197048664093018,31.757476806640625,31.889432907104492,44.659698486328125,41.4759635925293,38.170082092285156,11.566305160522461,-25.754714965820312,-20.149932861328125,4.4130449295043945,45.591949462890625,17.004663467407227,6.495121955871582,2.853940486907959,-9.92662525177002,-5.8096513748168945,-16.751352310180664,-26.027040481567383,-9.8644380569458,-16.197044372558594,-21.560331344604492,8.035271644592285,-36.952266693115234,-45.09760665893555,-9.233159065246582,-37.71175003051758,-27.612462997436523,21.55560874938965,5.580575466156006,13.816690444946289,-7.548680305480957,6.430123805999756,-39.797637939453125,-47.75957107543945,-17.720672607421875,-50.6826171875,-40.27250671386719,-38.72966766357422,-49.1078987121582,-23.397216796875,-10.268037796020508,11.104211807250977,-11.775796890258789,-22.481542587280273,-5.96851110458374,0.6111546754837036,-2.6347317695617676,-18.365751266479492,-2.242429256439209,48.949100494384766,30.935396194458008,3.0246405601501465,2.3265814781188965,-2.7455718517303467,-3.536501884460449,-25.320396423339844,-14.027621269226074,-33.123985290527344,-45.431251525878906,-22.96295166015625,-9.0169095993042,-24.638671875,-15.425644874572754,-29.91703224182129,-13.66723346710205,-16.34684181213379,28.49478530883789,-21.46722984313965,-41.155452728271484,-26.07682228088379,15.302356719970703,-11.374223709106445,-31.078304290771484,-6.506108283996582,-13.280741691589355,-0.1811404973268509,2.357572317123413,-23.332456588745117,-27.960981369018555,8.707501411437988,29.504892349243164,-33.34156799316406,-27.788667678833008,-28.259151458740234,-5.71815299987793,-44.677066802978516,-17.12698745727539,38.17383575439453,52.67477035522461,27.152450561523438,45.118526458740234],\"type\":\"scatter3d\"},{\"hovertemplate\":\"labels=2\\u003cbr\\u003ex=%{x}\\u003cbr\\u003ey=%{y}\\u003cbr\\u003ez=%{z}\\u003cextra\\u003e\\u003c\\u002fextra\\u003e\",\"legendgroup\":\"2\",\"marker\":{\"color\":\"#00cc96\",\"symbol\":\"circle\",\"size\":3},\"mode\":\"markers\",\"name\":\"2\",\"scene\":\"scene\",\"showlegend\":true,\"x\":[37.44010925292969,39.928558349609375,22.768741607666016,13.213089942932129,14.024173736572266,15.813998222351074,40.951507568359375,2.127655267715454,-12.863296508789062,25.671558380126953,1.7701654434204102,-8.183237075805664,3.9651403427124023,15.338204383850098,0.417468398809433,-9.692205429077148,-1.534281611442566,22.44791603088379,18.24578094482422,21.39019012451172,30.929668426513672,4.311286926269531,20.502317428588867,21.17385482788086,-14.584488868713379,20.74680519104004,39.365692138671875,16.584056854248047,20.524900436401367,32.17637634277344,20.41362953186035,36.941593170166016,30.595630645751953,2.084205150604248,6.465278625488281,3.074693441390991,-6.420165538787842,-4.8614277839660645,-9.73280143737793,28.031103134155273,-11.641573905944824,8.36618423461914,13.992568969726562,3.078065872192383,28.267658233642578,34.982879638671875,30.237550735473633,34.127037048339844,-3.4775707721710205,35.022560119628906,11.656401634216309,-15.130666732788086],\"y\":[-39.632286071777344,-38.277015686035156,-45.96648406982422,-17.810203552246094,-20.511415481567383,-9.462779998779297,-24.3142147064209,-43.68986892700195,32.46864700317383,-14.407797813415527,-13.728736877441406,-8.461650848388672,15.560166358947754,-37.23371887207031,0.47362783551216125,-15.646928787231445,6.11096715927124,-25.18700408935547,-25.32028579711914,-28.846843719482422,-41.300472259521484,-18.88846778869629,-43.675567626953125,-15.866599082946777,13.104601860046387,-38.531394958496094,-28.934524536132812,-20.01362419128418,17.970745086669922,-19.714399337768555,-3.3444159030914307,-32.3684196472168,-20.01032066345215,-26.426929473876953,-26.68675422668457,-15.501084327697754,-17.002643585205078,-22.740461349487305,-26.189672470092773,-36.16411209106445,32.36044692993164,11.808506965637207,-3.9355149269104004,-35.72785949707031,-8.179524421691895,3.163771390914917,-23.75936508178711,-5.191065311431885,-13.78369426727295,-26.19463539123535,-37.857120513916016,-39.6229133605957],\"z\":[11.528787612915039,20.121055603027344,0.06041291728615761,9.293259620666504,18.853734970092773,54.5853271484375,26.806758880615234,37.545448303222656,23.81378173828125,-21.44141960144043,0.5466631650924683,18.02062225341797,39.42097091674805,19.713403701782227,15.014955520629883,6.866418838500977,5.867386817932129,3.035909414291382,37.19575119018555,41.94380187988281,6.465672492980957,28.326448440551758,-6.085978031158447,50.884281158447266,9.104026794433594,28.70602798461914,-3.757690906524658,53.282264709472656,28.34857177734375,24.299997329711914,-7.609705448150635,36.575801849365234,32.34236145019531,17.54201889038086,21.929630279541016,47.549598693847656,51.562049865722656,26.036535263061523,16.471153259277344,1.144185185432434,-22.491546630859375,-33.81074905395508,22.52833366394043,27.00031852722168,-14.777532577514648,-38.535186767578125,42.0710563659668,-21.138118743896484,32.709556579589844,32.578224182128906,33.6148681640625,32.44013595581055],\"type\":\"scatter3d\"},{\"hovertemplate\":\"labels=3\\u003cbr\\u003ex=%{x}\\u003cbr\\u003ey=%{y}\\u003cbr\\u003ez=%{z}\\u003cextra\\u003e\\u003c\\u002fextra\\u003e\",\"legendgroup\":\"3\",\"marker\":{\"color\":\"#ab63fa\",\"symbol\":\"circle\",\"size\":3},\"mode\":\"markers\",\"name\":\"3\",\"scene\":\"scene\",\"showlegend\":true,\"x\":[34.495155334472656,35.72770309448242,5.895382404327393,48.61304473876953,-10.4180269241333,30.51792335510254,-5.8827900886535645,5.639721870422363,2.4000561237335205,7.4733476638793945,6.855834007263184,-18.832019805908203,0.11583410948514938,-22.062467575073242,-16.080942153930664,-24.802162170410156,-18.476974487304688,10.83407211303711,-32.86598205566406,24.657041549682617,17.07339859008789,28.36509132385254,33.61227798461914,38.197105407714844,25.153255462646484,-5.6495866775512695,-18.101654052734375,43.204002380371094,-13.96181583404541,8.304570198059082,37.054935455322266,29.675273895263672,-6.3590087890625,-0.17850276827812195],\"y\":[-23.89557647705078,-18.345155715942383,-5.216451168060303,-15.86855411529541,24.78156852722168,-22.653942108154297,10.315738677978516,1.1566232442855835,-39.17864990234375,-19.169767379760742,-46.22765350341797,35.43224334716797,-4.298207759857178,-6.9515485763549805,-18.72005844116211,22.82500457763672,26.650468826293945,-11.258679389953613,-31.893465042114258,-26.623918533325195,-11.631567001342773,-17.579727172851562,-48.596710205078125,-43.5549201965332,-40.21614456176758,-26.826040267944336,-20.289852142333984,-15.626826286315918,0.758755624294281,-10.386470794677734,0.9473706483840942,3.7861080169677734,-32.76579284667969,-22.485326766967773],\"z\":[1.6857751607894897,10.008179664611816,46.433448791503906,18.28179359436035,12.647052764892578,-30.091289520263672,36.45216369628906,33.553958892822266,-0.14965803921222687,40.156463623046875,14.341415405273438,21.519678115844727,22.573856353759766,12.859701156616211,23.100120544433594,19.263689041137695,15.872390747070312,37.202327728271484,-0.21075032651424408,11.473226547241211,35.29641342163086,10.585826873779297,10.199460983276367,-0.28224483132362366,37.7315673828125,-5.005398273468018,32.21026611328125,-8.094502449035645,28.6300106048584,23.215452194213867,-14.295913696289062,-3.38445782661438,39.56113052368164,39.0560188293457],\"type\":\"scatter3d\"},{\"hovertemplate\":\"labels=5\\u003cbr\\u003ex=%{x}\\u003cbr\\u003ey=%{y}\\u003cbr\\u003ez=%{z}\\u003cextra\\u003e\\u003c\\u002fextra\\u003e\",\"legendgroup\":\"5\",\"marker\":{\"color\":\"#FFA15A\",\"symbol\":\"circle\",\"size\":3},\"mode\":\"markers\",\"name\":\"5\",\"scene\":\"scene\",\"showlegend\":true,\"x\":[-35.0152587890625,-33.830230712890625,-30.315061569213867,-36.946266174316406,4.427459239959717,-38.99311447143555,1.6347111463546753,5.688564300537109,-27.886274337768555,-31.804828643798828,-20.968585968017578,-37.97777557373047,-35.39252471923828],\"y\":[35.05440139770508,25.913312911987305,31.880990982055664,32.75782775878906,18.503646850585938,31.352128982543945,30.861347198486328,42.29991912841797,44.94506072998047,44.627315521240234,36.72383117675781,41.52170944213867,46.19983673095703],\"z\":[26.942916870117188,33.064857482910156,34.782562255859375,35.06073760986328,21.843835830688477,10.65118408203125,18.0221004486084,24.450536727905273,11.265576362609863,15.822834014892578,-2.8354718685150146,2.1813035011291504,-0.4450112581253052],\"type\":\"scatter3d\"},{\"hovertemplate\":\"labels=6\\u003cbr\\u003ex=%{x}\\u003cbr\\u003ey=%{y}\\u003cbr\\u003ez=%{z}\\u003cextra\\u003e\\u003c\\u002fextra\\u003e\",\"legendgroup\":\"6\",\"marker\":{\"color\":\"#19d3f3\",\"symbol\":\"circle\",\"size\":3},\"mode\":\"markers\",\"name\":\"6\",\"scene\":\"scene\",\"showlegend\":true,\"x\":[21.482168197631836,15.837800979614258,26.848356246948242,10.605575561523438,31.490764617919922,34.44402313232422,33.74049758911133,51.4251823425293,7.550304412841797,29.103973388671875,33.401336669921875,41.348262786865234,42.10689163208008,35.0390510559082,41.85457229614258,42.969757080078125,41.05146789550781,47.68972396850586,43.03761672973633,49.47954177856445],\"y\":[39.45481491088867,46.14973831176758,44.552040100097656,28.91839599609375,62.083580017089844,59.54115295410156,49.966026306152344,42.469181060791016,19.987154006958008,31.393470764160156,36.435951232910156,42.98210144042969,43.10919952392578,36.439598083496094,37.2071418762207,24.4804744720459,28.621267318725586,29.48944664001465,33.60646057128906,30.397571563720703],\"z\":[-8.796469688415527,-14.52822208404541,-13.623839378356934,-6.354089736938477,-0.09778168052434921,4.75715446472168,-10.510943412780762,-22.782163619995117,-36.260406494140625,-4.805985927581787,-10.402762413024902,-7.216660976409912,-19.78054428100586,-22.518341064453125,-26.623794555664062,-17.872915267944336,-24.46222686767578,-12.364073753356934,-17.002578735351562,-21.27310562133789],\"type\":\"scatter3d\"}],                        {\"template\":{\"data\":{\"histogram2dcontour\":[{\"type\":\"histogram2dcontour\",\"colorbar\":{\"outlinewidth\":0,\"ticks\":\"\"},\"colorscale\":[[0.0,\"#0d0887\"],[0.1111111111111111,\"#46039f\"],[0.2222222222222222,\"#7201a8\"],[0.3333333333333333,\"#9c179e\"],[0.4444444444444444,\"#bd3786\"],[0.5555555555555556,\"#d8576b\"],[0.6666666666666666,\"#ed7953\"],[0.7777777777777778,\"#fb9f3a\"],[0.8888888888888888,\"#fdca26\"],[1.0,\"#f0f921\"]]}],\"choropleth\":[{\"type\":\"choropleth\",\"colorbar\":{\"outlinewidth\":0,\"ticks\":\"\"}}],\"histogram2d\":[{\"type\":\"histogram2d\",\"colorbar\":{\"outlinewidth\":0,\"ticks\":\"\"},\"colorscale\":[[0.0,\"#0d0887\"],[0.1111111111111111,\"#46039f\"],[0.2222222222222222,\"#7201a8\"],[0.3333333333333333,\"#9c179e\"],[0.4444444444444444,\"#bd3786\"],[0.5555555555555556,\"#d8576b\"],[0.6666666666666666,\"#ed7953\"],[0.7777777777777778,\"#fb9f3a\"],[0.8888888888888888,\"#fdca26\"],[1.0,\"#f0f921\"]]}],\"heatmap\":[{\"type\":\"heatmap\",\"colorbar\":{\"outlinewidth\":0,\"ticks\":\"\"},\"colorscale\":[[0.0,\"#0d0887\"],[0.1111111111111111,\"#46039f\"],[0.2222222222222222,\"#7201a8\"],[0.3333333333333333,\"#9c179e\"],[0.4444444444444444,\"#bd3786\"],[0.5555555555555556,\"#d8576b\"],[0.6666666666666666,\"#ed7953\"],[0.7777777777777778,\"#fb9f3a\"],[0.8888888888888888,\"#fdca26\"],[1.0,\"#f0f921\"]]}],\"heatmapgl\":[{\"type\":\"heatmapgl\",\"colorbar\":{\"outlinewidth\":0,\"ticks\":\"\"},\"colorscale\":[[0.0,\"#0d0887\"],[0.1111111111111111,\"#46039f\"],[0.2222222222222222,\"#7201a8\"],[0.3333333333333333,\"#9c179e\"],[0.4444444444444444,\"#bd3786\"],[0.5555555555555556,\"#d8576b\"],[0.6666666666666666,\"#ed7953\"],[0.7777777777777778,\"#fb9f3a\"],[0.8888888888888888,\"#fdca26\"],[1.0,\"#f0f921\"]]}],\"contourcarpet\":[{\"type\":\"contourcarpet\",\"colorbar\":{\"outlinewidth\":0,\"ticks\":\"\"}}],\"contour\":[{\"type\":\"contour\",\"colorbar\":{\"outlinewidth\":0,\"ticks\":\"\"},\"colorscale\":[[0.0,\"#0d0887\"],[0.1111111111111111,\"#46039f\"],[0.2222222222222222,\"#7201a8\"],[0.3333333333333333,\"#9c179e\"],[0.4444444444444444,\"#bd3786\"],[0.5555555555555556,\"#d8576b\"],[0.6666666666666666,\"#ed7953\"],[0.7777777777777778,\"#fb9f3a\"],[0.8888888888888888,\"#fdca26\"],[1.0,\"#f0f921\"]]}],\"surface\":[{\"type\":\"surface\",\"colorbar\":{\"outlinewidth\":0,\"ticks\":\"\"},\"colorscale\":[[0.0,\"#0d0887\"],[0.1111111111111111,\"#46039f\"],[0.2222222222222222,\"#7201a8\"],[0.3333333333333333,\"#9c179e\"],[0.4444444444444444,\"#bd3786\"],[0.5555555555555556,\"#d8576b\"],[0.6666666666666666,\"#ed7953\"],[0.7777777777777778,\"#fb9f3a\"],[0.8888888888888888,\"#fdca26\"],[1.0,\"#f0f921\"]]}],\"mesh3d\":[{\"type\":\"mesh3d\",\"colorbar\":{\"outlinewidth\":0,\"ticks\":\"\"}}],\"scatter\":[{\"fillpattern\":{\"fillmode\":\"overlay\",\"size\":10,\"solidity\":0.2},\"type\":\"scatter\"}],\"parcoords\":[{\"type\":\"parcoords\",\"line\":{\"colorbar\":{\"outlinewidth\":0,\"ticks\":\"\"}}}],\"scatterpolargl\":[{\"type\":\"scatterpolargl\",\"marker\":{\"colorbar\":{\"outlinewidth\":0,\"ticks\":\"\"}}}],\"bar\":[{\"error_x\":{\"color\":\"#2a3f5f\"},\"error_y\":{\"color\":\"#2a3f5f\"},\"marker\":{\"line\":{\"color\":\"#E5ECF6\",\"width\":0.5},\"pattern\":{\"fillmode\":\"overlay\",\"size\":10,\"solidity\":0.2}},\"type\":\"bar\"}],\"scattergeo\":[{\"type\":\"scattergeo\",\"marker\":{\"colorbar\":{\"outlinewidth\":0,\"ticks\":\"\"}}}],\"scatterpolar\":[{\"type\":\"scatterpolar\",\"marker\":{\"colorbar\":{\"outlinewidth\":0,\"ticks\":\"\"}}}],\"histogram\":[{\"marker\":{\"pattern\":{\"fillmode\":\"overlay\",\"size\":10,\"solidity\":0.2}},\"type\":\"histogram\"}],\"scattergl\":[{\"type\":\"scattergl\",\"marker\":{\"colorbar\":{\"outlinewidth\":0,\"ticks\":\"\"}}}],\"scatter3d\":[{\"type\":\"scatter3d\",\"line\":{\"colorbar\":{\"outlinewidth\":0,\"ticks\":\"\"}},\"marker\":{\"colorbar\":{\"outlinewidth\":0,\"ticks\":\"\"}}}],\"scattermapbox\":[{\"type\":\"scattermapbox\",\"marker\":{\"colorbar\":{\"outlinewidth\":0,\"ticks\":\"\"}}}],\"scatterternary\":[{\"type\":\"scatterternary\",\"marker\":{\"colorbar\":{\"outlinewidth\":0,\"ticks\":\"\"}}}],\"scattercarpet\":[{\"type\":\"scattercarpet\",\"marker\":{\"colorbar\":{\"outlinewidth\":0,\"ticks\":\"\"}}}],\"carpet\":[{\"aaxis\":{\"endlinecolor\":\"#2a3f5f\",\"gridcolor\":\"white\",\"linecolor\":\"white\",\"minorgridcolor\":\"white\",\"startlinecolor\":\"#2a3f5f\"},\"baxis\":{\"endlinecolor\":\"#2a3f5f\",\"gridcolor\":\"white\",\"linecolor\":\"white\",\"minorgridcolor\":\"white\",\"startlinecolor\":\"#2a3f5f\"},\"type\":\"carpet\"}],\"table\":[{\"cells\":{\"fill\":{\"color\":\"#EBF0F8\"},\"line\":{\"color\":\"white\"}},\"header\":{\"fill\":{\"color\":\"#C8D4E3\"},\"line\":{\"color\":\"white\"}},\"type\":\"table\"}],\"barpolar\":[{\"marker\":{\"line\":{\"color\":\"#E5ECF6\",\"width\":0.5},\"pattern\":{\"fillmode\":\"overlay\",\"size\":10,\"solidity\":0.2}},\"type\":\"barpolar\"}],\"pie\":[{\"automargin\":true,\"type\":\"pie\"}]},\"layout\":{\"autotypenumbers\":\"strict\",\"colorway\":[\"#636efa\",\"#EF553B\",\"#00cc96\",\"#ab63fa\",\"#FFA15A\",\"#19d3f3\",\"#FF6692\",\"#B6E880\",\"#FF97FF\",\"#FECB52\"],\"font\":{\"color\":\"#2a3f5f\"},\"hovermode\":\"closest\",\"hoverlabel\":{\"align\":\"left\"},\"paper_bgcolor\":\"white\",\"plot_bgcolor\":\"#E5ECF6\",\"polar\":{\"bgcolor\":\"#E5ECF6\",\"angularaxis\":{\"gridcolor\":\"white\",\"linecolor\":\"white\",\"ticks\":\"\"},\"radialaxis\":{\"gridcolor\":\"white\",\"linecolor\":\"white\",\"ticks\":\"\"}},\"ternary\":{\"bgcolor\":\"#E5ECF6\",\"aaxis\":{\"gridcolor\":\"white\",\"linecolor\":\"white\",\"ticks\":\"\"},\"baxis\":{\"gridcolor\":\"white\",\"linecolor\":\"white\",\"ticks\":\"\"},\"caxis\":{\"gridcolor\":\"white\",\"linecolor\":\"white\",\"ticks\":\"\"}},\"coloraxis\":{\"colorbar\":{\"outlinewidth\":0,\"ticks\":\"\"}},\"colorscale\":{\"sequential\":[[0.0,\"#0d0887\"],[0.1111111111111111,\"#46039f\"],[0.2222222222222222,\"#7201a8\"],[0.3333333333333333,\"#9c179e\"],[0.4444444444444444,\"#bd3786\"],[0.5555555555555556,\"#d8576b\"],[0.6666666666666666,\"#ed7953\"],[0.7777777777777778,\"#fb9f3a\"],[0.8888888888888888,\"#fdca26\"],[1.0,\"#f0f921\"]],\"sequentialminus\":[[0.0,\"#0d0887\"],[0.1111111111111111,\"#46039f\"],[0.2222222222222222,\"#7201a8\"],[0.3333333333333333,\"#9c179e\"],[0.4444444444444444,\"#bd3786\"],[0.5555555555555556,\"#d8576b\"],[0.6666666666666666,\"#ed7953\"],[0.7777777777777778,\"#fb9f3a\"],[0.8888888888888888,\"#fdca26\"],[1.0,\"#f0f921\"]],\"diverging\":[[0,\"#8e0152\"],[0.1,\"#c51b7d\"],[0.2,\"#de77ae\"],[0.3,\"#f1b6da\"],[0.4,\"#fde0ef\"],[0.5,\"#f7f7f7\"],[0.6,\"#e6f5d0\"],[0.7,\"#b8e186\"],[0.8,\"#7fbc41\"],[0.9,\"#4d9221\"],[1,\"#276419\"]]},\"xaxis\":{\"gridcolor\":\"white\",\"linecolor\":\"white\",\"ticks\":\"\",\"title\":{\"standoff\":15},\"zerolinecolor\":\"white\",\"automargin\":true,\"zerolinewidth\":2},\"yaxis\":{\"gridcolor\":\"white\",\"linecolor\":\"white\",\"ticks\":\"\",\"title\":{\"standoff\":15},\"zerolinecolor\":\"white\",\"automargin\":true,\"zerolinewidth\":2},\"scene\":{\"xaxis\":{\"backgroundcolor\":\"#E5ECF6\",\"gridcolor\":\"white\",\"linecolor\":\"white\",\"showbackground\":true,\"ticks\":\"\",\"zerolinecolor\":\"white\",\"gridwidth\":2},\"yaxis\":{\"backgroundcolor\":\"#E5ECF6\",\"gridcolor\":\"white\",\"linecolor\":\"white\",\"showbackground\":true,\"ticks\":\"\",\"zerolinecolor\":\"white\",\"gridwidth\":2},\"zaxis\":{\"backgroundcolor\":\"#E5ECF6\",\"gridcolor\":\"white\",\"linecolor\":\"white\",\"showbackground\":true,\"ticks\":\"\",\"zerolinecolor\":\"white\",\"gridwidth\":2}},\"shapedefaults\":{\"line\":{\"color\":\"#2a3f5f\"}},\"annotationdefaults\":{\"arrowcolor\":\"#2a3f5f\",\"arrowhead\":0,\"arrowwidth\":1},\"geo\":{\"bgcolor\":\"white\",\"landcolor\":\"#E5ECF6\",\"subunitcolor\":\"white\",\"showland\":true,\"showlakes\":true,\"lakecolor\":\"white\"},\"title\":{\"x\":0.05},\"mapbox\":{\"style\":\"light\"}}},\"scene\":{\"domain\":{\"x\":[0.0,1.0],\"y\":[0.0,1.0]},\"xaxis\":{\"title\":{\"text\":\"x\"}},\"yaxis\":{\"title\":{\"text\":\"y\"}},\"zaxis\":{\"title\":{\"text\":\"z\"}}},\"legend\":{\"title\":{\"text\":\"labels\"},\"tracegroupgap\":0},\"margin\":{\"t\":60}},                        {\"responsive\": true}                    ).then(function(){\n",
       "                            \n",
       "var gd = document.getElementById('f7d7eb33-6e1d-4206-9e9a-2368bede9ce8');\n",
       "var x = new MutationObserver(function (mutations, observer) {{\n",
       "        var display = window.getComputedStyle(gd).display;\n",
       "        if (!display || display === 'none') {{\n",
       "            console.log([gd, 'removed!']);\n",
       "            Plotly.purge(gd);\n",
       "            observer.disconnect();\n",
       "        }}\n",
       "}});\n",
       "\n",
       "// Listen for the removal of the full notebook cells\n",
       "var notebookContainer = gd.closest('#notebook-container');\n",
       "if (notebookContainer) {{\n",
       "    x.observe(notebookContainer, {childList: true});\n",
       "}}\n",
       "\n",
       "// Listen for the clearing of the current output cell\n",
       "var outputEl = gd.closest('.output');\n",
       "if (outputEl) {{\n",
       "    x.observe(outputEl, {childList: true});\n",
       "}}\n",
       "\n",
       "                        })                };                });            </script>        </div>"
      ]
     },
     "metadata": {},
     "output_type": "display_data"
    }
   ],
   "source": [
    "\n",
    "#plot k_means\n",
    "fig = px.scatter_3d(df, x='x', y='y', z='z', color=\"kmeans\", color_discrete_map=kmeans_color_map)\n",
    "fig.update_traces(marker_size=3)\n",
    "fig.show()\n",
    "\n",
    "#plot real label\n",
    "fig = px.scatter_3d(df, x='x', y='y', z='z', color=\"labels\", color_discrete_map=kmeans_color_map)\n",
    "fig.update_traces(marker_size=3)\n",
    "fig.show()"
   ]
  },
  {
   "cell_type": "code",
   "execution_count": 16,
   "metadata": {},
   "outputs": [
    {
     "data": {
      "image/png": "[encoded data removed]",
      "text/plain": [
       "<Figure size 640x480 with 1 Axes>"
      ]
     },
     "metadata": {},
     "output_type": "display_data"
    }
   ],
   "source": [
    "cmap = ListedColormap(['gray', 'orange', 'black', 'red', 'green', 'olive', 'purple', 'blue'])\n",
    "legend_handles = [plt.Line2D([0], [0], marker='o', color='w', markerfacecolor=cmap(i),  markersize=10, label=desc) \n",
    "                for i, desc in enumerate(LABELS)]\n",
    "\n",
    "# scatter plot of X values\n",
    "plt.scatter(X[:, 0], X[:, 1], c=labels, cmap=cmap, s=50)\n",
    "# Add the legend\n",
    "plt.legend(handles=legend_handles, loc='upper left', bbox_to_anchor=(1, 1))\n",
    "\n",
    "plt.show()"
   ]
  },
  {
   "cell_type": "markdown",
   "metadata": {},
   "source": [
    "# Plot using UMAP"
   ]
  },
  {
   "cell_type": "code",
   "execution_count": 59,
   "metadata": {},
   "outputs": [
    {
     "name": "stdout",
     "output_type": "stream",
     "text": [
      "Index(['x', 'y', 'z', 'kmeans', 'labels'], dtype='object')\n"
     ]
    },
    {
     "name": "stderr",
     "output_type": "stream",
     "text": [
      "/Users/andreavannozzi/GithubProjects/Multimodal-Egocentric-Action-Recognition/env/lib/python3.8/site-packages/umap/umap_.py:1945: UserWarning:\n",
      "\n",
      "n_jobs value 1 overridden to 1 by setting random_state. Use no seed for parallelism.\n",
      "\n",
      "OMP: Info #276: omp_set_nested routine deprecated, please use omp_set_max_active_levels instead.\n"
     ]
    },
    {
     "ename": "KeyError",
     "evalue": "('x', 'y', 'z')",
     "output_type": "error",
     "traceback": [
      "\u001b[0;31m---------------------------------------------------------------------------\u001b[0m",
      "\u001b[0;31mKeyError\u001b[0m                                  Traceback (most recent call last)",
      "File \u001b[0;32m~/GithubProjects/Multimodal-Egocentric-Action-Recognition/env/lib/python3.8/site-packages/pandas/core/indexes/base.py:3653\u001b[0m, in \u001b[0;36mIndex.get_loc\u001b[0;34m(self, key)\u001b[0m\n\u001b[1;32m   3652\u001b[0m \u001b[38;5;28;01mtry\u001b[39;00m:\n\u001b[0;32m-> 3653\u001b[0m     \u001b[38;5;28;01mreturn\u001b[39;00m \u001b[38;5;28;43mself\u001b[39;49m\u001b[38;5;241;43m.\u001b[39;49m\u001b[43m_engine\u001b[49m\u001b[38;5;241;43m.\u001b[39;49m\u001b[43mget_loc\u001b[49m\u001b[43m(\u001b[49m\u001b[43mcasted_key\u001b[49m\u001b[43m)\u001b[49m\n\u001b[1;32m   3654\u001b[0m \u001b[38;5;28;01mexcept\u001b[39;00m \u001b[38;5;167;01mKeyError\u001b[39;00m \u001b[38;5;28;01mas\u001b[39;00m err:\n",
      "File \u001b[0;32m~/GithubProjects/Multimodal-Egocentric-Action-Recognition/env/lib/python3.8/site-packages/pandas/_libs/index.pyx:147\u001b[0m, in \u001b[0;36mpandas._libs.index.IndexEngine.get_loc\u001b[0;34m()\u001b[0m\n",
      "File \u001b[0;32m~/GithubProjects/Multimodal-Egocentric-Action-Recognition/env/lib/python3.8/site-packages/pandas/_libs/index.pyx:176\u001b[0m, in \u001b[0;36mpandas._libs.index.IndexEngine.get_loc\u001b[0;34m()\u001b[0m\n",
      "File \u001b[0;32mpandas/_libs/hashtable_class_helper.pxi:7080\u001b[0m, in \u001b[0;36mpandas._libs.hashtable.PyObjectHashTable.get_item\u001b[0;34m()\u001b[0m\n",
      "File \u001b[0;32mpandas/_libs/hashtable_class_helper.pxi:7088\u001b[0m, in \u001b[0;36mpandas._libs.hashtable.PyObjectHashTable.get_item\u001b[0;34m()\u001b[0m\n",
      "\u001b[0;31mKeyError\u001b[0m: ('x', 'y', 'z')",
      "\nThe above exception was the direct cause of the following exception:\n",
      "\u001b[0;31mKeyError\u001b[0m                                  Traceback (most recent call last)",
      "Cell \u001b[0;32mIn[59], line 6\u001b[0m\n\u001b[1;32m      4\u001b[0m \u001b[38;5;28mprint\u001b[39m(df\u001b[38;5;241m.\u001b[39mkeys())\n\u001b[1;32m      5\u001b[0m proj_2d \u001b[38;5;241m=\u001b[39m umap_2d\u001b[38;5;241m.\u001b[39mfit_transform(df)\n\u001b[0;32m----> 6\u001b[0m proj_3d \u001b[38;5;241m=\u001b[39m umap_3d\u001b[38;5;241m.\u001b[39mfit_transform(\u001b[43mdf\u001b[49m\u001b[43m[\u001b[49m\u001b[38;5;124;43m\"\u001b[39;49m\u001b[38;5;124;43mx\u001b[39;49m\u001b[38;5;124;43m\"\u001b[39;49m\u001b[43m,\u001b[49m\u001b[43m \u001b[49m\u001b[38;5;124;43m\"\u001b[39;49m\u001b[38;5;124;43my\u001b[39;49m\u001b[38;5;124;43m\"\u001b[39;49m\u001b[43m,\u001b[49m\u001b[43m \u001b[49m\u001b[38;5;124;43m\"\u001b[39;49m\u001b[38;5;124;43mz\u001b[39;49m\u001b[38;5;124;43m\"\u001b[39;49m\u001b[43m]\u001b[49m )\n\u001b[1;32m      8\u001b[0m fig_2d \u001b[38;5;241m=\u001b[39m px\u001b[38;5;241m.\u001b[39mscatter(\n\u001b[1;32m      9\u001b[0m     proj_2d, x\u001b[38;5;241m=\u001b[39m\u001b[38;5;241m0\u001b[39m, y\u001b[38;5;241m=\u001b[39m\u001b[38;5;241m1\u001b[39m,\n\u001b[1;32m     10\u001b[0m     color\u001b[38;5;241m=\u001b[39mdf\u001b[38;5;241m.\u001b[39mlabels, labels\u001b[38;5;241m=\u001b[39mlabels\n\u001b[1;32m     11\u001b[0m )\n\u001b[1;32m     12\u001b[0m fig_3d \u001b[38;5;241m=\u001b[39m px\u001b[38;5;241m.\u001b[39mscatter_3d(\n\u001b[1;32m     13\u001b[0m     proj_3d, x\u001b[38;5;241m=\u001b[39m\u001b[38;5;241m0\u001b[39m, y\u001b[38;5;241m=\u001b[39m\u001b[38;5;241m1\u001b[39m, z\u001b[38;5;241m=\u001b[39m\u001b[38;5;241m2\u001b[39m,\n\u001b[1;32m     14\u001b[0m     color\u001b[38;5;241m=\u001b[39mdf\u001b[38;5;241m.\u001b[39mlabels, labels\u001b[38;5;241m=\u001b[39mlabels\n\u001b[1;32m     15\u001b[0m )\n",
      "File \u001b[0;32m~/GithubProjects/Multimodal-Egocentric-Action-Recognition/env/lib/python3.8/site-packages/pandas/core/frame.py:3761\u001b[0m, in \u001b[0;36mDataFrame.__getitem__\u001b[0;34m(self, key)\u001b[0m\n\u001b[1;32m   3759\u001b[0m \u001b[38;5;28;01mif\u001b[39;00m \u001b[38;5;28mself\u001b[39m\u001b[38;5;241m.\u001b[39mcolumns\u001b[38;5;241m.\u001b[39mnlevels \u001b[38;5;241m>\u001b[39m \u001b[38;5;241m1\u001b[39m:\n\u001b[1;32m   3760\u001b[0m     \u001b[38;5;28;01mreturn\u001b[39;00m \u001b[38;5;28mself\u001b[39m\u001b[38;5;241m.\u001b[39m_getitem_multilevel(key)\n\u001b[0;32m-> 3761\u001b[0m indexer \u001b[38;5;241m=\u001b[39m \u001b[38;5;28;43mself\u001b[39;49m\u001b[38;5;241;43m.\u001b[39;49m\u001b[43mcolumns\u001b[49m\u001b[38;5;241;43m.\u001b[39;49m\u001b[43mget_loc\u001b[49m\u001b[43m(\u001b[49m\u001b[43mkey\u001b[49m\u001b[43m)\u001b[49m\n\u001b[1;32m   3762\u001b[0m \u001b[38;5;28;01mif\u001b[39;00m is_integer(indexer):\n\u001b[1;32m   3763\u001b[0m     indexer \u001b[38;5;241m=\u001b[39m [indexer]\n",
      "File \u001b[0;32m~/GithubProjects/Multimodal-Egocentric-Action-Recognition/env/lib/python3.8/site-packages/pandas/core/indexes/base.py:3655\u001b[0m, in \u001b[0;36mIndex.get_loc\u001b[0;34m(self, key)\u001b[0m\n\u001b[1;32m   3653\u001b[0m     \u001b[38;5;28;01mreturn\u001b[39;00m \u001b[38;5;28mself\u001b[39m\u001b[38;5;241m.\u001b[39m_engine\u001b[38;5;241m.\u001b[39mget_loc(casted_key)\n\u001b[1;32m   3654\u001b[0m \u001b[38;5;28;01mexcept\u001b[39;00m \u001b[38;5;167;01mKeyError\u001b[39;00m \u001b[38;5;28;01mas\u001b[39;00m err:\n\u001b[0;32m-> 3655\u001b[0m     \u001b[38;5;28;01mraise\u001b[39;00m \u001b[38;5;167;01mKeyError\u001b[39;00m(key) \u001b[38;5;28;01mfrom\u001b[39;00m \u001b[38;5;21;01merr\u001b[39;00m\n\u001b[1;32m   3656\u001b[0m \u001b[38;5;28;01mexcept\u001b[39;00m \u001b[38;5;167;01mTypeError\u001b[39;00m:\n\u001b[1;32m   3657\u001b[0m     \u001b[38;5;66;03m# If we have a listlike key, _check_indexing_error will raise\u001b[39;00m\n\u001b[1;32m   3658\u001b[0m     \u001b[38;5;66;03m#  InvalidIndexError. Otherwise we fall through and re-raise\u001b[39;00m\n\u001b[1;32m   3659\u001b[0m     \u001b[38;5;66;03m#  the TypeError.\u001b[39;00m\n\u001b[1;32m   3660\u001b[0m     \u001b[38;5;28mself\u001b[39m\u001b[38;5;241m.\u001b[39m_check_indexing_error(key)\n",
      "\u001b[0;31mKeyError\u001b[0m: ('x', 'y', 'z')"
     ]
    }
   ],
   "source": [
    "features = df.loc[:, :'z']\n",
    "\n",
    "umap_2d = UMAP(n_components=2, init='random', random_state=0)\n",
    "umap_3d = UMAP(n_components=3, init='random', random_state=0)\n",
    "\n",
    "print(df.keys())\n",
    "proj_2d = umap_2d.fit_transform(features)\n",
    "proj_3d = umap_3d.fit_transform(features)\n",
    "\n",
    "fig_2d = px.scatter(\n",
    "    proj_2d, x=0, y=1,\n",
    "    color=df.labels, labels=labels\n",
    ")\n",
    "fig_3d = px.scatter_3d(\n",
    "    proj_3d, x=0, y=1, z=2,\n",
    "    color=df.labels, labels=labels\n",
    ")\n",
    "fig_3d.update_traces(marker_size=5)\n",
    "\n",
    "fig_2d.show()\n",
    "fig_3d.show()"
   ]
  },
  {
   "cell_type": "markdown",
   "metadata": {},
   "source": [
    "## PROVA"
   ]
  },
  {
   "cell_type": "code",
   "execution_count": 10,
   "metadata": {},
   "outputs": [
    {
     "name": "stdout",
     "output_type": "stream",
     "text": [
      "Output: Using device: cpu\n",
      "\n",
      "Command failed with return code 1\n"
     ]
    }
   ],
   "source": [
    "if False:\n",
    "    # Comando da eseguire\n",
    "    command = [\n",
    "        'python', 'save_feat.py',\n",
    "        'config=configs/I3D_save_feat.yaml',\n",
    "        'dataset.shift=D1-D1',\n",
    "        'dataset.RGB.data_path=D:/ek_data/frames',\n",
    "        'save.dense_sampling.RGB=false',\n",
    "        f'save.num_frames_per_clip.RGB=16',\n",
    "        f'name=PROVA'\n",
    "    ]\n",
    "\n",
    "    # Esegui il comando\n",
    "    result = subprocess.run(command, capture_output=True, text=True)\n",
    "\n",
    "    # Stampa l'output e l'errore\n",
    "    print('Output:', result.stdout)\n",
    "    #print('Error:', result.stderr)\n",
    "\n",
    "    # Verifica il codice di uscita\n",
    "    if result.returncode != 0:\n",
    "        print(f'Command failed with return code {result.returncode}')"
   ]
  }
 ],
 "metadata": {
  "kernelspec": {
   "display_name": "Python 3 (ipykernel)",
   "language": "python",
   "name": "python3"
  },
  "language_info": {
   "codemirror_mode": {
    "name": "ipython",
    "version": 3
   },
   "file_extension": ".py",
   "mimetype": "text/x-python",
   "name": "python",
   "nbconvert_exporter": "python",
   "pygments_lexer": "ipython3",
   "version": "3.8.19"
  }
 },
 "nbformat": 4,
 "nbformat_minor": 2
}
