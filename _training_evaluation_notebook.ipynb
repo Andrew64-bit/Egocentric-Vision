{
 "cells": [
  {
   "cell_type": "code",
   "execution_count": null,
   "metadata": {},
   "outputs": [],
   "source": [
    "import subprocess\n",
    "import os"
   ]
  },
  {
   "cell_type": "code",
   "execution_count": null,
   "metadata": {},
   "outputs": [],
   "source": [
    "from transformers import ViTConfig, ViTModel"
   ]
  },
  {
   "cell_type": "markdown",
   "metadata": {},
   "source": [
    "# Training MLP"
   ]
  },
  {
   "cell_type": "markdown",
   "metadata": {},
   "source": [
    "### Training"
   ]
  },
  {
   "cell_type": "code",
   "execution_count": null,
   "metadata": {},
   "outputs": [],
   "source": [
    "command = [\n",
    "    'python', 'train_final_classifier.py',\n",
    "    'model=MLP',\n",
    "    'name=final_classifierMLP',\n",
    "    'logname=I3D_10_dense_D1',\n",
    "    'action=train',\n",
    "    'features_file=./saved_features/saved_feat_I3D_10_dense_D1'\n",
    "]\n",
    "\n",
    "# Esegui il comando\n",
    "result = subprocess.run(command, capture_output=True, text=True)\n",
    "\n",
    "# Stampa l'output e l'errore\n",
    "print('Output:', result.stdout)\n",
    "print('Error:', result.stderr)\n",
    "\n",
    "# Verifica il codice di uscita\n",
    "if result.returncode != 0:\n",
    "    print(f'Command failed with return code {result.returncode}')"
   ]
  },
  {
   "cell_type": "markdown",
   "metadata": {},
   "source": [
    "### Evaluation"
   ]
  },
  {
   "cell_type": "code",
   "execution_count": null,
   "metadata": {},
   "outputs": [],
   "source": [
    "command = [\n",
    "    'python', 'eval_final_classifier.py',\n",
    "    'model=MLP',\n",
    "    'name=final_evaluationMLP',\n",
    "    'logname=I3D_10_dense_D1',\n",
    "    'action=test',\n",
    "    'features_file=./saved_features/saved_feat_I3D_10_dense_D1'\n",
    "]\n",
    "\n",
    "# Esegui il comando\n",
    "result = subprocess.run(command, capture_output=True, text=True)\n",
    "\n",
    "# Stampa l'output e l'errore\n",
    "print('Output:', result.stdout)\n",
    "print('Error:', result.stderr)\n",
    "\n",
    "# Verifica il codice di uscita\n",
    "if result.returncode != 0:\n",
    "    print(f'Command failed with return code {result.returncode}')"
   ]
  },
  {
   "cell_type": "markdown",
   "metadata": {},
   "source": [
    "# Training MLP with Dropout"
   ]
  },
  {
   "cell_type": "code",
   "execution_count": null,
   "metadata": {},
   "outputs": [],
   "source": [
    "import subprocess\n",
    "import os\n",
    "\n",
    "command = [\n",
    "    'python', 'train_final_classifier.py',\n",
    "    'model=MLPWithDropout',\n",
    "    'name=final_classifierMLPDropout',\n",
    "    'logname=I3D_5_uniform_D1',\n",
    "    'action=train',\n",
    "    'features_file=./saved_features/saved_feat_I3D_5_uniform_D1',\n",
    "    'lr=0.001',\n",
    "    'epochs=25',\n",
    "]\n",
    "\n",
    "# Esegui il comando\n",
    "result = subprocess.run(command, capture_output=True, text=True)\n",
    "\n",
    "# Stampa l'output e l'errore\n",
    "print('Output:', result.stdout)\n",
    "print('Error:', result.stderr)\n",
    "\n",
    "# Verifica il codice di uscita\n",
    "if result.returncode != 0:\n",
    "    print(f'Command failed with return code {result.returncode}')"
   ]
  },
  {
   "cell_type": "code",
   "execution_count": null,
   "metadata": {},
   "outputs": [],
   "source": [
    "command = [\n",
    "    'python', 'eval_final_classifier.py',\n",
    "    'model=MLPWithDropout',\n",
    "    'name=final_evaluationMLPDropout',\n",
    "    'logname=I3D_10_dense_D1',\n",
    "    'action=test',\n",
    "    'features_file=./saved_features/saved_feat_I3D_10_dense_D1'\n",
    "]\n",
    "\n",
    "# Esegui il comando\n",
    "result = subprocess.run(command, capture_output=True, text=True)\n",
    "\n",
    "# Stampa l'output e l'errore\n",
    "print('Output:', result.stdout)\n",
    "print('Error:', result.stderr)\n",
    "\n",
    "# Verifica il codice di uscita\n",
    "if result.returncode != 0:\n",
    "    print(f'Command failed with return code {result.returncode}')"
   ]
  },
  {
   "cell_type": "markdown",
   "metadata": {},
   "source": [
    "# Transformer\n"
   ]
  },
  {
   "cell_type": "code",
   "execution_count": null,
   "metadata": {},
   "outputs": [],
   "source": [
    "!pip3 install transformers"
   ]
  },
  {
   "cell_type": "code",
   "execution_count": 1,
   "metadata": {},
   "outputs": [],
   "source": [
    "import subprocess\n",
    "import os\n",
    "\n",
    "\n",
    "command = [\n",
    "    'python', 'train_final_classifier.py',\n",
    "    'model=TransformerClassifier',\n",
    "    'name=final_classifierTransformer',\n",
    "    'logname=I3D_5_dense_D1',\n",
    "    'action=train',\n",
    "    'features_file=./saved_features/saved_feat_I3D_5_dense_D1',\n",
    "    'lr=0.0001',\n",
    "    'epochs=25',\n",
    "]\n",
    "\n",
    "# Esegui il comando\n",
    "result = subprocess.run(command, capture_output=True, text=True)\n",
    "\n",
    "# Stampa l'output e l'errore\n",
    "print('Output:', result.stdout)\n",
    "print('Error:', result.stderr)\n",
    "\n",
    "# Verifica il codice di uscita\n",
    "if result.returncode != 0:\n",
    "    print(f'Command failed with return code {result.returncode}')"
   ]
  },
  {
   "cell_type": "code",
   "execution_count": null,
   "metadata": {},
   "outputs": [],
   "source": [
    "command = [\n",
    "    'python', 'eval_final_classifier.py',\n",
    "    'model=TransformerClassifier',\n",
    "    'name=final_evaluationTransformer',\n",
    "    'logname=I3D_25_dense_D1',\n",
    "    'action=test',\n",
    "    'features_file=./saved_features/saved_feat_I3D_25_dense_D1'\n",
    "]\n",
    "\n",
    "# Esegui il comando\n",
    "result = subprocess.run(command, capture_output=True, text=True)\n",
    "\n",
    "# Stampa l'output e l'errore\n",
    "print('Output:', result.stdout)\n",
    "print('Error:', result.stderr)\n",
    "\n",
    "# Verifica il codice di uscita\n",
    "if result.returncode != 0:\n",
    "    print(f'Command failed with return code {result.returncode}')"
   ]
  },
  {
   "cell_type": "markdown",
   "metadata": {},
   "source": [
    "## LSTM"
   ]
  },
  {
   "cell_type": "code",
   "execution_count": null,
   "metadata": {},
   "outputs": [],
   "source": [
    "command = [\n",
    "    'python', 'train_final_classifier.py',\n",
    "    'model=LSTMClassifier',\n",
    "    'name=final_classifierLSTM',\n",
    "    'logname=I3D_5_uniform_D1',\n",
    "    'action=train',\n",
    "    'features_file=./saved_features/saved_feat_I3D_5_uniform_D1',\n",
    "    'lr=0.001',\n",
    "    'epochs=25',\n",
    "]\n",
    "\n",
    "# Esegui il comando\n",
    "result = subprocess.run(command, capture_output=True, text=True)\n",
    "\n",
    "# Stampa l'output e l'errore\n",
    "print('Output:', result.stdout)\n",
    "print('Error:', result.stderr)\n",
    "\n",
    "# Verifica il codice di uscita\n",
    "if result.returncode != 0:\n",
    "    print(f'Command failed with return code {result.returncode}')"
   ]
  },
  {
   "cell_type": "code",
   "execution_count": null,
   "metadata": {},
   "outputs": [],
   "source": [
    "command = [\n",
    "    'python', 'eval_final_classifier.py',\n",
    "    'model=LSTMClassifier',\n",
    "    'name=final_evaluationLSTM',\n",
    "    'logname=I3D_25_dense_D1',\n",
    "    'action=test',\n",
    "    'features_file=./saved_features/saved_feat_I3D_25_dense_D1',\n",
    "    'epoch=30'\n",
    "]\n",
    "\n",
    "# Esegui il comando\n",
    "result = subprocess.run(command, capture_output=True, text=True)\n",
    "\n",
    "# Stampa l'output e l'errore\n",
    "print('Output:', result.stdout)\n",
    "print('Error:', result.stderr)\n",
    "\n",
    "# Verifica il codice di uscita\n",
    "if result.returncode != 0:\n",
    "    print(f'Command failed with return code {result.returncode}')"
   ]
  },
  {
   "cell_type": "markdown",
   "metadata": {},
   "source": [
    "# TRN "
   ]
  },
  {
   "cell_type": "code",
   "execution_count": null,
   "metadata": {},
   "outputs": [],
   "source": [
    "command = [\n",
    "    'python', 'train_final_classifier.py',\n",
    "    'model=TRNClassifier',\n",
    "    'name=final_classifierTRN',\n",
    "    'logname=I3D_5_uniform_D1',\n",
    "    'action=train',\n",
    "    'features_file=./saved_features/saved_feat_I3D_5_uniform_D1',\n",
    "    'lr=0.001',\n",
    "    'epochs=25',\n",
    "]\n",
    "\n",
    "# Esegui il comando\n",
    "result = subprocess.run(command, capture_output=True, text=True)\n",
    "\n",
    "# Stampa l'output e l'errore\n",
    "print('Output:', result.stdout)\n",
    "print('Error:', result.stderr)\n",
    "\n",
    "# Verifica il codice di uscita\n",
    "if result.returncode != 0:\n",
    "    print(f'Command failed with return code {result.returncode}')"
   ]
  },
  {
   "cell_type": "code",
   "execution_count": null,
   "metadata": {},
   "outputs": [],
   "source": [
    "command = [\n",
    "    'python', 'eval_final_classifier.py',\n",
    "    'model=TRNClassifier',\n",
    "    'name=final_evaluationTRN',\n",
    "    'logname=I3D_25_dense_D1',\n",
    "    'action=test',\n",
    "    'features_file=./saved_features/saved_feat_I3D_25_dense_D1',\n",
    "    'epoch=50'\n",
    "]\n",
    "\n",
    "# Esegui il comando\n",
    "result = subprocess.run(command, capture_output=True, text=True)\n",
    "\n",
    "# Stampa l'output e l'errore\n",
    "print('Output:', result.stdout)\n",
    "print('Error:', result.stderr)\n",
    "\n",
    "# Verifica il codice di uscita\n",
    "if result.returncode != 0:\n",
    "    print(f'Command failed with return code {result.returncode}')"
   ]
  },
  {
   "cell_type": "markdown",
   "metadata": {},
   "source": [
    "# Train Cross Modal Variational Auto Encoder (RGB to EMG)"
   ]
  },
  {
   "cell_type": "code",
   "execution_count": null,
   "metadata": {},
   "outputs": [],
   "source": [
    "command = [\n",
    "    'python', 'train_vae.py',\n",
    "    'name=CrossModal_VAE',\n",
    "    'logname=CrosModal_VAE_training',\n",
    "]\n",
    "\n",
    "# Esegui il comando\n",
    "result = subprocess.run(command, capture_output=True, text=True)\n",
    "\n",
    "# Stampa l'output e l'errore\n",
    "print('Output:', result.stdout)\n",
    "print('Error:', result.stderr)\n",
    "\n",
    "# Verifica il codice di uscita\n",
    "if result.returncode != 0:\n",
    "    print(f'Command failed with return code {result.returncode}')"
   ]
  },
  {
   "cell_type": "markdown",
   "metadata": {},
   "source": [
    "# Train EMG classifiers"
   ]
  },
  {
   "cell_type": "code",
   "execution_count": 9,
   "metadata": {},
   "outputs": [
    {
     "name": "stdout",
     "output_type": "stream",
     "text": [
      "25\n",
      "torch.Size([25])\n"
     ]
    }
   ],
   "source": [
    "import pandas as pd\n",
    "import numpy as np\n",
    "from utils.loaders import FeaturesDataset\n",
    "from torch.utils.data import DataLoader\n",
    "import subprocess\n",
    "\n",
    "train_dataset = FeaturesDataset(\"saved_features/saved_feat_I3D_25_dense_D1\", \"train\")\n",
    "train_loader = DataLoader(train_dataset, batch_size=25, shuffle=True, num_workers=4, drop_last=True)\n",
    "\n",
    "\n",
    "for i, (features, label) in enumerate(train_loader):\n",
    "    print(len(features))\n",
    "    print(label.shape)\n",
    "    break\n",
    "\n",
    "\n",
    "\n",
    "\n"
   ]
  },
  {
   "cell_type": "code",
   "execution_count": 10,
   "metadata": {},
   "outputs": [
    {
     "name": "stdout",
     "output_type": "stream",
     "text": [
      "torch.Size([25, 5, 1024])\n",
      "torch.Size([25])\n"
     ]
    }
   ],
   "source": [
    "for i_val,(x, y) in enumerate(train_loader):\n",
    "    print(x.shape)\n",
    "    print(y.shape)\n",
    "    break\n"
   ]
  },
  {
   "cell_type": "code",
   "execution_count": 2,
   "metadata": {},
   "outputs": [
    {
     "name": "stdout",
     "output_type": "stream",
     "text": [
      "Output: \n",
      "Error: /Users/andreavannozzi/GithubProjects/Egocentric-Vision/env/lib/python3.8/site-packages/torchvision/io/image.py:13: UserWarning: Failed to load image Python extension: dlopen(/Users/andreavannozzi/GithubProjects/Egocentric-Vision/env/lib/python3.8/site-packages/torchvision/image.so, 0x0006): Symbol not found: __ZN3c1017RegisterOperatorsD1Ev\n",
      "  Referenced from: <0EB69795-4559-3C98-9EA1-35B6A988BB99> /Users/andreavannozzi/GithubProjects/Egocentric-Vision/env/lib/python3.8/site-packages/torchvision/image.so\n",
      "  Expected in:     <E4E2FFCA-031E-3974-A7B0-45408D7F4956> /Users/andreavannozzi/GithubProjects/Egocentric-Vision/env/lib/python3.8/site-packages/torch/lib/libtorch_cpu.dylib\n",
      "  warn(f\"Failed to load image Python extension: {e}\")\n",
      "2024-06-11 13:47:21 LOG INFO ------ USING APPLE SILICON GPU ------\n",
      "/Users/andreavannozzi/GithubProjects/Egocentric-Vision/env/lib/python3.8/site-packages/torch/nn/modules/transformer.py:306: UserWarning: enable_nested_tensor is True, but self.use_nested_tensor is False because encoder_layer.self_attn.batch_first was not True(use batch_first for better inference performance)\n",
      "  warnings.warn(f\"enable_nested_tensor is True, but self.use_nested_tensor is False because {why_not_sparsity_fast_path}\")\n",
      "2024-06-11 13:47:21 LOG INFO Model: TransformerClassifier(\n",
      "  (positional_encoding): PositionalEncoding()\n",
      "  (transformer_encoder): TransformerEncoder(\n",
      "    (layers): ModuleList(\n",
      "      (0-3): 4 x TransformerEncoderLayer(\n",
      "        (self_attn): MultiheadAttention(\n",
      "          (out_proj): NonDynamicallyQuantizableLinear(in_features=64, out_features=64, bias=True)\n",
      "        )\n",
      "        (linear1): Linear(in_features=64, out_features=128, bias=True)\n",
      "        (dropout): Dropout(p=0.3, inplace=False)\n",
      "        (linear2): Linear(in_features=128, out_features=64, bias=True)\n",
      "        (norm1): LayerNorm((64,), eps=1e-05, elementwise_affine=True)\n",
      "        (norm2): LayerNorm((64,), eps=1e-05, elementwise_affine=True)\n",
      "        (dropout1): Dropout(p=0.3, inplace=False)\n",
      "        (dropout2): Dropout(p=0.3, inplace=False)\n",
      "      )\n",
      "    )\n",
      "  )\n",
      "  (fc): Linear(in_features=64, out_features=32, bias=True)\n",
      "  (fc2): Linear(in_features=32, out_features=8, bias=True)\n",
      "  (dropout): Dropout(p=0.3, inplace=False)\n",
      ")\n",
      "2024-06-11 13:47:21 LOG INFO len train_dataset: 1543\n",
      "2024-06-11 13:47:21 LOG INFO len train_loader: 48\n",
      "\n",
      "0it [00:00, ?it/s]\n",
      "0it [00:03, ?it/s]/Users/andreavannozzi/GithubProjects/Egocentric-Vision/env/lib/python3.8/site-packages/torchvision/io/image.py:13: UserWarning: Failed to load image Python extension: dlopen(/Users/andreavannozzi/GithubProjects/Egocentric-Vision/env/lib/python3.8/site-packages/torchvision/image.so, 0x0006): Symbol not found: __ZN3c1017RegisterOperatorsD1Ev\n",
      "  Referenced from: <0EB69795-4559-3C98-9EA1-35B6A988BB99> /Users/andreavannozzi/GithubProjects/Egocentric-Vision/env/lib/python3.8/site-packages/torchvision/image.so\n",
      "  Expected in:     <E4E2FFCA-031E-3974-A7B0-45408D7F4956> /Users/andreavannozzi/GithubProjects/Egocentric-Vision/env/lib/python3.8/site-packages/torch/lib/libtorch_cpu.dylib\n",
      "  warn(f\"Failed to load image Python extension: {e}\")\n",
      "/Users/andreavannozzi/GithubProjects/Egocentric-Vision/env/lib/python3.8/site-packages/torchvision/io/image.py:13: UserWarning: Failed to load image Python extension: dlopen(/Users/andreavannozzi/GithubProjects/Egocentric-Vision/env/lib/python3.8/site-packages/torchvision/image.so, 0x0006): Symbol not found: __ZN3c1017RegisterOperatorsD1Ev\n",
      "  Referenced from: <0EB69795-4559-3C98-9EA1-35B6A988BB99> /Users/andreavannozzi/GithubProjects/Egocentric-Vision/env/lib/python3.8/site-packages/torchvision/image.so\n",
      "  Expected in:     <E4E2FFCA-031E-3974-A7B0-45408D7F4956> /Users/andreavannozzi/GithubProjects/Egocentric-Vision/env/lib/python3.8/site-packages/torch/lib/libtorch_cpu.dylib\n",
      "  warn(f\"Failed to load image Python extension: {e}\")\n",
      "/Users/andreavannozzi/GithubProjects/Egocentric-Vision/env/lib/python3.8/site-packages/torchvision/io/image.py:13: UserWarning: Failed to load image Python extension: dlopen(/Users/andreavannozzi/GithubProjects/Egocentric-Vision/env/lib/python3.8/site-packages/torchvision/image.so, 0x0006): Symbol not found: __ZN3c1017RegisterOperatorsD1Ev\n",
      "  Referenced from: <0EB69795-4559-3C98-9EA1-35B6A988BB99> /Users/andreavannozzi/GithubProjects/Egocentric-Vision/env/lib/python3.8/site-packages/torchvision/image.so\n",
      "  Expected in:     <E4E2FFCA-031E-3974-A7B0-45408D7F4956> /Users/andreavannozzi/GithubProjects/Egocentric-Vision/env/lib/python3.8/site-packages/torch/lib/libtorch_cpu.dylib\n",
      "  warn(f\"Failed to load image Python extension: {e}\")\n",
      "/Users/andreavannozzi/GithubProjects/Egocentric-Vision/env/lib/python3.8/site-packages/torchvision/io/image.py:13: UserWarning: Failed to load image Python extension: dlopen(/Users/andreavannozzi/GithubProjects/Egocentric-Vision/env/lib/python3.8/site-packages/torchvision/image.so, 0x0006): Symbol not found: __ZN3c1017RegisterOperatorsD1Ev\n",
      "  Referenced from: <0EB69795-4559-3C98-9EA1-35B6A988BB99> /Users/andreavannozzi/GithubProjects/Egocentric-Vision/env/lib/python3.8/site-packages/torchvision/image.so\n",
      "  Expected in:     <E4E2FFCA-031E-3974-A7B0-45408D7F4956> /Users/andreavannozzi/GithubProjects/Egocentric-Vision/env/lib/python3.8/site-packages/torch/lib/libtorch_cpu.dylib\n",
      "  warn(f\"Failed to load image Python extension: {e}\")\n",
      "\n",
      "2024-06-11 13:47:49 LOG ERROR Uncaught exception\n",
      "Traceback (most recent call last):\n",
      "  File \"train_final_classifier.py\", line 140, in <module>\n",
      "    loss = criterion(outputs, y.long())\n",
      "  File \"/Users/andreavannozzi/GithubProjects/Egocentric-Vision/env/lib/python3.8/site-packages/torch/nn/modules/module.py\", line 1532, in _wrapped_call_impl\n",
      "    return self._call_impl(*args, **kwargs)\n",
      "  File \"/Users/andreavannozzi/GithubProjects/Egocentric-Vision/env/lib/python3.8/site-packages/torch/nn/modules/module.py\", line 1541, in _call_impl\n",
      "    return forward_call(*args, **kwargs)\n",
      "  File \"/Users/andreavannozzi/GithubProjects/Egocentric-Vision/env/lib/python3.8/site-packages/torch/nn/modules/loss.py\", line 1185, in forward\n",
      "    return F.cross_entropy(input, target, weight=self.weight,\n",
      "  File \"/Users/andreavannozzi/GithubProjects/Egocentric-Vision/env/lib/python3.8/site-packages/torch/nn/functional.py\", line 3086, in cross_entropy\n",
      "    return torch._C._nn.cross_entropy_loss(input, target, weight, _Reduction.get_enum(reduction), ignore_index, label_smoothing)\n",
      "RuntimeError: 0D or 1D target tensor expected, multi-target not supported\n",
      "\n",
      "Command failed with return code 1\n"
     ]
    }
   ],
   "source": [
    "command = [\n",
    "    'python', 'train_final_classifier.py',\n",
    "    'emg=True',\n",
    "    'model=TransformerClassifier',\n",
    "    'name=EMG_Transformer',\n",
    "    'logname=Transformer_EMG_25_dense_D1',\n",
    "    'action=train',\n",
    "    'features_file=./saved_features/EPIC_KITCHENS_EMG_25_dense_D1',\n",
    "    'lr=0.001',\n",
    "    'epochs=25',\n",
    "]\n",
    "\n",
    "# Esegui il comando\n",
    "result = subprocess.run(command, capture_output=True, text=True)\n",
    "\n",
    "# Stampa l'output e l'errore\n",
    "print('Output:', result.stdout)\n",
    "print('Error:', result.stderr)\n",
    "\n",
    "# Verifica il codice di uscita\n",
    "if result.returncode != 0:\n",
    "    print(f'Command failed with return code {result.returncode}')"
   ]
  }
 ],
 "metadata": {
  "kernelspec": {
   "display_name": "Python 3 (ipykernel)",
   "language": "python",
   "name": "python3"
  },
  "language_info": {
   "codemirror_mode": {
    "name": "ipython",
    "version": 3
   },
   "file_extension": ".py",
   "mimetype": "text/x-python",
   "name": "python",
   "nbconvert_exporter": "python",
   "pygments_lexer": "ipython3",
   "version": "3.8.19"
  }
 },
 "nbformat": 4,
 "nbformat_minor": 4
}
