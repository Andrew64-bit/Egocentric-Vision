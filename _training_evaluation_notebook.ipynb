{
 "cells": [
  {
   "cell_type": "code",
   "execution_count": 1,
   "metadata": {},
   "outputs": [],
   "source": [
    "import subprocess\n",
    "import os"
   ]
  },
  {
   "cell_type": "code",
   "execution_count": null,
   "metadata": {},
   "outputs": [],
   "source": [
    "from transformers import ViTConfig, ViTModel"
   ]
  },
  {
   "cell_type": "markdown",
   "metadata": {},
   "source": [
    "# Training MLP"
   ]
  },
  {
   "cell_type": "markdown",
   "metadata": {},
   "source": [
    "### Training"
   ]
  },
  {
   "cell_type": "code",
   "execution_count": null,
   "metadata": {},
   "outputs": [],
   "source": [
    "command = [\n",
    "    'python', 'train_final_classifier.py',\n",
    "    'model=MLP',\n",
    "    'name=final_classifierMLP',\n",
    "    'logname=I3D_10_dense_D1',\n",
    "    'action=train',\n",
    "    'features_file=./saved_features/saved_feat_I3D_10_dense_D1'\n",
    "]\n",
    "\n",
    "# Esegui il comando\n",
    "result = subprocess.run(command, capture_output=True, text=True)\n",
    "\n",
    "# Stampa l'output e l'errore\n",
    "print('Output:', result.stdout)\n",
    "print('Error:', result.stderr)\n",
    "\n",
    "# Verifica il codice di uscita\n",
    "if result.returncode != 0:\n",
    "    print(f'Command failed with return code {result.returncode}')"
   ]
  },
  {
   "cell_type": "markdown",
   "metadata": {},
   "source": [
    "### Evaluation"
   ]
  },
  {
   "cell_type": "code",
   "execution_count": null,
   "metadata": {},
   "outputs": [],
   "source": [
    "command = [\n",
    "    'python', 'eval_final_classifier.py',\n",
    "    'model=MLP',\n",
    "    'name=final_evaluationMLP',\n",
    "    'logname=I3D_10_dense_D1',\n",
    "    'action=test',\n",
    "    'features_file=./saved_features/saved_feat_I3D_10_dense_D1'\n",
    "]\n",
    "\n",
    "# Esegui il comando\n",
    "result = subprocess.run(command, capture_output=True, text=True)\n",
    "\n",
    "# Stampa l'output e l'errore\n",
    "print('Output:', result.stdout)\n",
    "print('Error:', result.stderr)\n",
    "\n",
    "# Verifica il codice di uscita\n",
    "if result.returncode != 0:\n",
    "    print(f'Command failed with return code {result.returncode}')"
   ]
  },
  {
   "cell_type": "markdown",
   "metadata": {},
   "source": [
    "# Training MLP with Dropout"
   ]
  },
  {
   "cell_type": "code",
   "execution_count": null,
   "metadata": {},
   "outputs": [],
   "source": [
    "import subprocess\n",
    "import os\n",
    "\n",
    "command = [\n",
    "    'python', 'train_final_classifier.py',\n",
    "    'model=MLPWithDropout',\n",
    "    'name=final_classifierMLPDropout',\n",
    "    'logname=I3D_5_uniform_D1',\n",
    "    'action=train',\n",
    "    'features_file=./saved_features/saved_feat_I3D_5_uniform_D1',\n",
    "    'lr=0.001',\n",
    "    'epochs=25',\n",
    "]\n",
    "\n",
    "# Esegui il comando\n",
    "result = subprocess.run(command, capture_output=True, text=True)\n",
    "\n",
    "# Stampa l'output e l'errore\n",
    "print('Output:', result.stdout)\n",
    "print('Error:', result.stderr)\n",
    "\n",
    "# Verifica il codice di uscita\n",
    "if result.returncode != 0:\n",
    "    print(f'Command failed with return code {result.returncode}')"
   ]
  },
  {
   "cell_type": "code",
   "execution_count": null,
   "metadata": {},
   "outputs": [],
   "source": [
    "command = [\n",
    "    'python', 'eval_final_classifier.py',\n",
    "    'model=MLPWithDropout',\n",
    "    'name=final_evaluationMLPDropout',\n",
    "    'logname=I3D_10_dense_D1',\n",
    "    'action=test',\n",
    "    'features_file=./saved_features/saved_feat_I3D_10_dense_D1'\n",
    "]\n",
    "\n",
    "# Esegui il comando\n",
    "result = subprocess.run(command, capture_output=True, text=True)\n",
    "\n",
    "# Stampa l'output e l'errore\n",
    "print('Output:', result.stdout)\n",
    "print('Error:', result.stderr)\n",
    "\n",
    "# Verifica il codice di uscita\n",
    "if result.returncode != 0:\n",
    "    print(f'Command failed with return code {result.returncode}')"
   ]
  },
  {
   "cell_type": "markdown",
   "metadata": {},
   "source": [
    "# Transformer\n"
   ]
  },
  {
   "cell_type": "code",
   "execution_count": null,
   "metadata": {},
   "outputs": [],
   "source": [
    "!pip3 install transformers"
   ]
  },
  {
   "cell_type": "code",
   "execution_count": 1,
   "metadata": {},
   "outputs": [],
   "source": [
    "import subprocess\n",
    "import os\n",
    "\n",
    "\n",
    "command = [\n",
    "    'python', 'train_final_classifier.py',\n",
    "    'model=TransformerClassifier',\n",
    "    'name=final_classifierTransformer',\n",
    "    'logname=I3D_5_dense_D1',\n",
    "    'action=train',\n",
    "    'features_file=./saved_features/saved_feat_I3D_5_dense_D1',\n",
    "    'lr=0.0001',\n",
    "    'epochs=25',\n",
    "]\n",
    "\n",
    "# Esegui il comando\n",
    "result = subprocess.run(command, capture_output=True, text=True)\n",
    "\n",
    "# Stampa l'output e l'errore\n",
    "print('Output:', result.stdout)\n",
    "print('Error:', result.stderr)\n",
    "\n",
    "# Verifica il codice di uscita\n",
    "if result.returncode != 0:\n",
    "    print(f'Command failed with return code {result.returncode}')"
   ]
  },
  {
   "cell_type": "code",
   "execution_count": null,
   "metadata": {},
   "outputs": [],
   "source": [
    "command = [\n",
    "    'python', 'eval_final_classifier.py',\n",
    "    'model=TransformerClassifier',\n",
    "    'name=final_evaluationTransformer',\n",
    "    'logname=I3D_25_dense_D1',\n",
    "    'action=test',\n",
    "    'features_file=./saved_features/saved_feat_I3D_25_dense_D1'\n",
    "]\n",
    "\n",
    "# Esegui il comando\n",
    "result = subprocess.run(command, capture_output=True, text=True)\n",
    "\n",
    "# Stampa l'output e l'errore\n",
    "print('Output:', result.stdout)\n",
    "print('Error:', result.stderr)\n",
    "\n",
    "# Verifica il codice di uscita\n",
    "if result.returncode != 0:\n",
    "    print(f'Command failed with return code {result.returncode}')"
   ]
  },
  {
   "cell_type": "markdown",
   "metadata": {},
   "source": [
    "## LSTM"
   ]
  },
  {
   "cell_type": "code",
   "execution_count": null,
   "metadata": {},
   "outputs": [],
   "source": [
    "command = [\n",
    "    'python', 'train_final_classifier.py',\n",
    "    'model=LSTMClassifier',\n",
    "    'name=final_classifierLSTM',\n",
    "    'logname=I3D_5_uniform_D1',\n",
    "    'action=train',\n",
    "    'features_file=./saved_features/saved_feat_I3D_5_uniform_D1',\n",
    "    'lr=0.001',\n",
    "    'epochs=25',\n",
    "]\n",
    "\n",
    "# Esegui il comando\n",
    "result = subprocess.run(command, capture_output=True, text=True)\n",
    "\n",
    "# Stampa l'output e l'errore\n",
    "print('Output:', result.stdout)\n",
    "print('Error:', result.stderr)\n",
    "\n",
    "# Verifica il codice di uscita\n",
    "if result.returncode != 0:\n",
    "    print(f'Command failed with return code {result.returncode}')"
   ]
  },
  {
   "cell_type": "code",
   "execution_count": null,
   "metadata": {},
   "outputs": [],
   "source": [
    "command = [\n",
    "    'python', 'eval_final_classifier.py',\n",
    "    'model=LSTMClassifier',\n",
    "    'name=final_evaluationLSTM',\n",
    "    'logname=I3D_25_dense_D1',\n",
    "    'action=test',\n",
    "    'features_file=./saved_features/saved_feat_I3D_25_dense_D1',\n",
    "    'epoch=30'\n",
    "]\n",
    "\n",
    "# Esegui il comando\n",
    "result = subprocess.run(command, capture_output=True, text=True)\n",
    "\n",
    "# Stampa l'output e l'errore\n",
    "print('Output:', result.stdout)\n",
    "print('Error:', result.stderr)\n",
    "\n",
    "# Verifica il codice di uscita\n",
    "if result.returncode != 0:\n",
    "    print(f'Command failed with return code {result.returncode}')"
   ]
  },
  {
   "cell_type": "markdown",
   "metadata": {},
   "source": [
    "# TRN "
   ]
  },
  {
   "cell_type": "code",
   "execution_count": null,
   "metadata": {},
   "outputs": [],
   "source": [
    "command = [\n",
    "    'python', 'train_final_classifier.py',\n",
    "    'model=TRNClassifier',\n",
    "    'name=final_classifierTRN',\n",
    "    'logname=I3D_5_uniform_D1',\n",
    "    'action=train',\n",
    "    'features_file=./saved_features/saved_feat_I3D_5_uniform_D1',\n",
    "    'lr=0.001',\n",
    "    'epochs=25',\n",
    "]\n",
    "\n",
    "# Esegui il comando\n",
    "result = subprocess.run(command, capture_output=True, text=True)\n",
    "\n",
    "# Stampa l'output e l'errore\n",
    "print('Output:', result.stdout)\n",
    "print('Error:', result.stderr)\n",
    "\n",
    "# Verifica il codice di uscita\n",
    "if result.returncode != 0:\n",
    "    print(f'Command failed with return code {result.returncode}')"
   ]
  },
  {
   "cell_type": "code",
   "execution_count": null,
   "metadata": {},
   "outputs": [],
   "source": [
    "command = [\n",
    "    'python', 'eval_final_classifier.py',\n",
    "    'model=TRNClassifier',\n",
    "    'name=final_evaluationTRN',\n",
    "    'logname=I3D_25_dense_D1',\n",
    "    'action=test',\n",
    "    'features_file=./saved_features/saved_feat_I3D_25_dense_D1',\n",
    "    'epoch=50'\n",
    "]\n",
    "\n",
    "# Esegui il comando\n",
    "result = subprocess.run(command, capture_output=True, text=True)\n",
    "\n",
    "# Stampa l'output e l'errore\n",
    "print('Output:', result.stdout)\n",
    "print('Error:', result.stderr)\n",
    "\n",
    "# Verifica il codice di uscita\n",
    "if result.returncode != 0:\n",
    "    print(f'Command failed with return code {result.returncode}')"
   ]
  },
  {
   "cell_type": "markdown",
   "metadata": {},
   "source": [
    "# Train Cross Modal Variational Auto Encoder (RGB to EMG)"
   ]
  },
  {
   "cell_type": "code",
   "execution_count": null,
   "metadata": {},
   "outputs": [],
   "source": [
    "command = [\n",
    "    'python', 'train_vae.py',\n",
    "    'name=CrossModal_VAE',\n",
    "    'logname=CrosModal_VAE_training',\n",
    "]\n",
    "\n",
    "# Esegui il comando\n",
    "result = subprocess.run(command, capture_output=True, text=True)\n",
    "\n",
    "# Stampa l'output e l'errore\n",
    "print('Output:', result.stdout)\n",
    "print('Error:', result.stderr)\n",
    "\n",
    "# Verifica il codice di uscita\n",
    "if result.returncode != 0:\n",
    "    print(f'Command failed with return code {result.returncode}')"
   ]
  },
  {
   "cell_type": "markdown",
   "metadata": {},
   "source": [
    "# Train EMG classifiers"
   ]
  },
  {
   "cell_type": "code",
   "execution_count": 1,
   "metadata": {},
   "outputs": [
    {
     "name": "stdout",
     "output_type": "stream",
     "text": [
      "25\n",
      "torch.Size([25])\n"
     ]
    }
   ],
   "source": [
    "import pandas as pd\n",
    "import numpy as np\n",
    "from utils.loaders import FeaturesDataset\n",
    "from torch.utils.data import DataLoader\n",
    "import subprocess\n",
    "\n",
    "train_dataset = FeaturesDataset(\"saved_features/EPIC_KITCHENS_EMG_25_dense_D1\", \"train\", True)\n",
    "train_loader = DataLoader(train_dataset, batch_size=25, shuffle=True, num_workers=4, drop_last=True)\n",
    "\n",
    "\n",
    "for i, (features, label) in enumerate(train_loader):\n",
    "    print(len(features))\n",
    "    print(label.shape)\n",
    "    break\n",
    "\n",
    "\n",
    "\n",
    "\n"
   ]
  },
  {
   "cell_type": "code",
   "execution_count": 2,
   "metadata": {},
   "outputs": [
    {
     "name": "stdout",
     "output_type": "stream",
     "text": [
      "torch.Size([25, 5, 64])\n",
      "torch.Size([25])\n"
     ]
    }
   ],
   "source": [
    "for i_val,(x, y) in enumerate(train_loader):\n",
    "    print(x.shape)\n",
    "    print(y.shape)\n",
    "    break\n"
   ]
  },
  {
   "cell_type": "markdown",
   "metadata": {},
   "source": [
    "## Transformer"
   ]
  },
  {
   "cell_type": "code",
   "execution_count": 3,
   "metadata": {},
   "outputs": [],
   "source": [
    "command = [\n",
    "    'python', 'train_final_classifier.py',\n",
    "    'emg=True',\n",
    "    'model=TransformerClassifier',\n",
    "    'name=EMG_Transformer',\n",
    "    'logname=Transformer_EMG_25_dense_D1',\n",
    "    'action=train',\n",
    "    'features_file=./saved_features/EPIC_KITCHENS_EMG_25_dense_D1',\n",
    "    'lr=0.0001',\n",
    "    'epochs=25',\n",
    "]\n",
    "\n",
    "# Esegui il comando\n",
    "result = subprocess.run(command, capture_output=True, text=True)\n",
    "\n",
    "# Stampa l'output e l'errore\n",
    "print('Output:', result.stdout)\n",
    "print('Error:', result.stderr)\n",
    "\n",
    "# Verifica il codice di uscita\n",
    "if result.returncode != 0:\n",
    "    print(f'Command failed with return code {result.returncode}')"
   ]
  },
  {
   "cell_type": "markdown",
   "metadata": {},
   "source": [
    "## MLP"
   ]
  },
  {
   "cell_type": "code",
   "execution_count": null,
   "metadata": {},
   "outputs": [],
   "source": [
    "command = [\n",
    "    'python', 'train_final_classifier.py',\n",
    "    'emg=True',\n",
    "    'model=MLPWithDropout',\n",
    "    'name=EMG_MLPDropout',\n",
    "    'logname=MLPDropout_EMG_25_dense_D1',\n",
    "    'action=train',\n",
    "    'features_file=./saved_features/EPIC_KITCHENS_EMG_25_dense_D1',\n",
    "    'lr=0.01',\n",
    "    'epochs=25',\n",
    "]\n",
    "\n",
    "# Esegui il comando\n",
    "result = subprocess.run(command, capture_output=True, text=True)\n",
    "\n",
    "# Stampa l'output e l'errore\n",
    "print('Output:', result.stdout)\n",
    "print('Error:', result.stderr)\n",
    "\n",
    "# Verifica il codice di uscita\n",
    "if result.returncode != 0:\n",
    "    print(f'Command failed with return code {result.returncode}')"
   ]
  }
 ],
 "metadata": {
  "kernelspec": {
   "display_name": "Python 3 (ipykernel)",
   "language": "python",
   "name": "python3"
  },
  "language_info": {
   "codemirror_mode": {
    "name": "ipython",
    "version": 3
   },
   "file_extension": ".py",
   "mimetype": "text/x-python",
   "name": "python",
   "nbconvert_exporter": "python",
   "pygments_lexer": "ipython3",
   "version": "3.11.9"
  }
 },
 "nbformat": 4,
 "nbformat_minor": 4
}
